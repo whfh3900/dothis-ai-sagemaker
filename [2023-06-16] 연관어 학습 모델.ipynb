{
 "cells": [
  {
   "cell_type": "code",
   "execution_count": 1,
   "id": "94fc2463",
   "metadata": {},
   "outputs": [
    {
     "name": "stdout",
     "output_type": "stream",
     "text": [
      "Looking in indexes: https://pypi.org/simple, https://pip.repos.neuron.amazonaws.com\n",
      "Requirement already satisfied: sagemaker in /home/ec2-user/anaconda3/envs/python3/lib/python3.10/site-packages (2.155.0)\n",
      "Collecting sagemaker\n",
      "  Downloading sagemaker-2.165.0.tar.gz (803 kB)\n",
      "\u001b[2K     \u001b[90m━━━━━━━━━━━━━━━━━━━━━━━━━━━━━━━━━━━━━━\u001b[0m \u001b[32m803.4/803.4 kB\u001b[0m \u001b[31m20.9 MB/s\u001b[0m eta \u001b[36m0:00:00\u001b[0m00:01\u001b[0m\n",
      "\u001b[?25h  Preparing metadata (setup.py) ... \u001b[?25ldone\n",
      "\u001b[?25hCollecting attrs<24,>=23.1.0 (from sagemaker)\n",
      "  Using cached attrs-23.1.0-py3-none-any.whl (61 kB)\n",
      "Requirement already satisfied: boto3<2.0,>=1.26.131 in /home/ec2-user/anaconda3/envs/python3/lib/python3.10/site-packages (from sagemaker) (1.26.144)\n",
      "Requirement already satisfied: cloudpickle==2.2.1 in /home/ec2-user/anaconda3/envs/python3/lib/python3.10/site-packages (from sagemaker) (2.2.1)\n",
      "Requirement already satisfied: google-pasta in /home/ec2-user/anaconda3/envs/python3/lib/python3.10/site-packages (from sagemaker) (0.2.0)\n",
      "Requirement already satisfied: numpy<2.0,>=1.9.0 in /home/ec2-user/anaconda3/envs/python3/lib/python3.10/site-packages (from sagemaker) (1.22.3)\n",
      "Requirement already satisfied: protobuf<4.0,>=3.1 in /home/ec2-user/anaconda3/envs/python3/lib/python3.10/site-packages (from sagemaker) (3.20.3)\n",
      "Requirement already satisfied: protobuf3-to-dict<1.0,>=0.1.5 in /home/ec2-user/anaconda3/envs/python3/lib/python3.10/site-packages (from sagemaker) (0.1.5)\n",
      "Requirement already satisfied: smdebug_rulesconfig==1.0.1 in /home/ec2-user/anaconda3/envs/python3/lib/python3.10/site-packages (from sagemaker) (1.0.1)\n",
      "Requirement already satisfied: importlib-metadata<5.0,>=1.4.0 in /home/ec2-user/anaconda3/envs/python3/lib/python3.10/site-packages (from sagemaker) (4.13.0)\n",
      "Requirement already satisfied: packaging>=20.0 in /home/ec2-user/anaconda3/envs/python3/lib/python3.10/site-packages (from sagemaker) (21.3)\n",
      "Requirement already satisfied: pandas in /home/ec2-user/anaconda3/envs/python3/lib/python3.10/site-packages (from sagemaker) (2.0.1)\n",
      "Requirement already satisfied: pathos in /home/ec2-user/anaconda3/envs/python3/lib/python3.10/site-packages (from sagemaker) (0.3.0)\n",
      "Requirement already satisfied: schema in /home/ec2-user/anaconda3/envs/python3/lib/python3.10/site-packages (from sagemaker) (0.7.5)\n",
      "Collecting PyYAML==6.0 (from sagemaker)\n",
      "  Using cached PyYAML-6.0-cp310-cp310-manylinux_2_5_x86_64.manylinux1_x86_64.manylinux_2_12_x86_64.manylinux2010_x86_64.whl (682 kB)\n",
      "Requirement already satisfied: jsonschema in /home/ec2-user/anaconda3/envs/python3/lib/python3.10/site-packages (from sagemaker) (3.2.0)\n",
      "Requirement already satisfied: platformdirs in /home/ec2-user/anaconda3/envs/python3/lib/python3.10/site-packages (from sagemaker) (3.5.0)\n",
      "Requirement already satisfied: tblib==1.7.0 in /home/ec2-user/anaconda3/envs/python3/lib/python3.10/site-packages (from sagemaker) (1.7.0)\n",
      "Requirement already satisfied: botocore<1.30.0,>=1.29.144 in /home/ec2-user/anaconda3/envs/python3/lib/python3.10/site-packages (from boto3<2.0,>=1.26.131->sagemaker) (1.29.144)\n",
      "Requirement already satisfied: jmespath<2.0.0,>=0.7.1 in /home/ec2-user/anaconda3/envs/python3/lib/python3.10/site-packages (from boto3<2.0,>=1.26.131->sagemaker) (1.0.1)\n",
      "Requirement already satisfied: s3transfer<0.7.0,>=0.6.0 in /home/ec2-user/anaconda3/envs/python3/lib/python3.10/site-packages (from boto3<2.0,>=1.26.131->sagemaker) (0.6.1)\n",
      "Requirement already satisfied: zipp>=0.5 in /home/ec2-user/anaconda3/envs/python3/lib/python3.10/site-packages (from importlib-metadata<5.0,>=1.4.0->sagemaker) (3.15.0)\n",
      "Requirement already satisfied: pyparsing!=3.0.5,>=2.0.2 in /home/ec2-user/anaconda3/envs/python3/lib/python3.10/site-packages (from packaging>=20.0->sagemaker) (3.0.9)\n",
      "Requirement already satisfied: six in /home/ec2-user/anaconda3/envs/python3/lib/python3.10/site-packages (from protobuf3-to-dict<1.0,>=0.1.5->sagemaker) (1.16.0)\n",
      "Requirement already satisfied: pyrsistent>=0.14.0 in /home/ec2-user/anaconda3/envs/python3/lib/python3.10/site-packages (from jsonschema->sagemaker) (0.19.3)\n",
      "Requirement already satisfied: setuptools in /home/ec2-user/anaconda3/envs/python3/lib/python3.10/site-packages (from jsonschema->sagemaker) (67.7.2)\n",
      "Requirement already satisfied: python-dateutil>=2.8.2 in /home/ec2-user/anaconda3/envs/python3/lib/python3.10/site-packages (from pandas->sagemaker) (2.8.2)\n",
      "Requirement already satisfied: pytz>=2020.1 in /home/ec2-user/anaconda3/envs/python3/lib/python3.10/site-packages (from pandas->sagemaker) (2023.3)\n",
      "Requirement already satisfied: tzdata>=2022.1 in /home/ec2-user/anaconda3/envs/python3/lib/python3.10/site-packages (from pandas->sagemaker) (2023.3)\n",
      "Requirement already satisfied: ppft>=1.7.6.6 in /home/ec2-user/anaconda3/envs/python3/lib/python3.10/site-packages (from pathos->sagemaker) (1.7.6.6)\n",
      "Requirement already satisfied: dill>=0.3.6 in /home/ec2-user/anaconda3/envs/python3/lib/python3.10/site-packages (from pathos->sagemaker) (0.3.6)\n",
      "Requirement already satisfied: pox>=0.3.2 in /home/ec2-user/anaconda3/envs/python3/lib/python3.10/site-packages (from pathos->sagemaker) (0.3.2)\n",
      "Requirement already satisfied: multiprocess>=0.70.14 in /home/ec2-user/anaconda3/envs/python3/lib/python3.10/site-packages (from pathos->sagemaker) (0.70.14)\n",
      "Requirement already satisfied: contextlib2>=0.5.5 in /home/ec2-user/anaconda3/envs/python3/lib/python3.10/site-packages (from schema->sagemaker) (21.6.0)\n",
      "Requirement already satisfied: urllib3<1.27,>=1.25.4 in /home/ec2-user/anaconda3/envs/python3/lib/python3.10/site-packages (from botocore<1.30.0,>=1.29.144->boto3<2.0,>=1.26.131->sagemaker) (1.26.8)\n",
      "Building wheels for collected packages: sagemaker\n",
      "  Building wheel for sagemaker (setup.py) ... \u001b[?25ldone\n",
      "\u001b[?25h  Created wheel for sagemaker: filename=sagemaker-2.165.0-py2.py3-none-any.whl size=1082430 sha256=a64ee89e45a43d3d6f3c66917089eae5cf2d253b8d97c90648177c8c99e9faf6\n",
      "  Stored in directory: /home/ec2-user/.cache/pip/wheels/a1/fe/a8/22f3ba84480fbe8002da7043e9c7f2ad73e2d0949bf9a11e58\n",
      "Successfully built sagemaker\n",
      "Installing collected packages: PyYAML, attrs, sagemaker\n",
      "  Attempting uninstall: PyYAML\n",
      "    Found existing installation: PyYAML 5.4.1\n",
      "    Uninstalling PyYAML-5.4.1:\n",
      "      Successfully uninstalled PyYAML-5.4.1\n",
      "  Attempting uninstall: attrs\n",
      "    Found existing installation: attrs 22.2.0\n",
      "    Uninstalling attrs-22.2.0:\n",
      "      Successfully uninstalled attrs-22.2.0\n",
      "  Attempting uninstall: sagemaker\n",
      "    Found existing installation: sagemaker 2.155.0\n",
      "    Uninstalling sagemaker-2.155.0:\n",
      "      Successfully uninstalled sagemaker-2.155.0\n",
      "\u001b[31mERROR: pip's dependency resolver does not currently take into account all the packages that are installed. This behaviour is the source of the following dependency conflicts.\n",
      "awscli 1.27.144 requires PyYAML<5.5,>=3.10, but you have pyyaml 6.0 which is incompatible.\n",
      "docker-compose 1.29.2 requires PyYAML<6,>=3.10, but you have pyyaml 6.0 which is incompatible.\n",
      "jupyterlab-server 2.22.1 requires jsonschema>=4.17.3, but you have jsonschema 3.2.0 which is incompatible.\n",
      "sparkmagic 0.20.5 requires nest-asyncio==1.5.5, but you have nest-asyncio 1.5.6 which is incompatible.\n",
      "sparkmagic 0.20.5 requires pandas<2.0.0,>=0.17.1, but you have pandas 2.0.1 which is incompatible.\u001b[0m\u001b[31m\n",
      "\u001b[0mSuccessfully installed PyYAML-6.0 attrs-23.1.0 sagemaker-2.165.0\n",
      "Looking in indexes: https://pypi.org/simple, https://pip.repos.neuron.amazonaws.com\n",
      "Collecting gensim\n",
      "  Downloading gensim-4.3.1-cp310-cp310-manylinux_2_17_x86_64.manylinux2014_x86_64.whl (26.4 MB)\n",
      "\u001b[2K     \u001b[90m━━━━━━━━━━━━━━━━━━━━━━━━━━━━━━━━━━━━━━━━\u001b[0m \u001b[32m26.4/26.4 MB\u001b[0m \u001b[31m37.4 MB/s\u001b[0m eta \u001b[36m0:00:00\u001b[0m00:01\u001b[0m00:01\u001b[0m\n",
      "\u001b[?25hRequirement already satisfied: numpy>=1.18.5 in /home/ec2-user/anaconda3/envs/python3/lib/python3.10/site-packages (from gensim) (1.22.3)\n",
      "Requirement already satisfied: scipy>=1.7.0 in /home/ec2-user/anaconda3/envs/python3/lib/python3.10/site-packages (from gensim) (1.10.1)\n",
      "Collecting smart-open>=1.8.1 (from gensim)\n",
      "  Downloading smart_open-6.3.0-py3-none-any.whl (56 kB)\n",
      "\u001b[2K     \u001b[90m━━━━━━━━━━━━━━━━━━━━━━━━━━━━━━━━━━━━━━━\u001b[0m \u001b[32m56.8/56.8 kB\u001b[0m \u001b[31m788.8 kB/s\u001b[0m eta \u001b[36m0:00:00\u001b[0ma \u001b[36m0:00:01\u001b[0m\n",
      "\u001b[?25hInstalling collected packages: smart-open, gensim\n"
     ]
    },
    {
     "name": "stdout",
     "output_type": "stream",
     "text": [
      "Successfully installed gensim-4.3.1 smart-open-6.3.0\r\n"
     ]
    }
   ],
   "source": [
    "!pip install --upgrade sagemaker\n",
    "!pip install gensim"
   ]
  },
  {
   "cell_type": "code",
   "execution_count": 2,
   "id": "6ac90eb6",
   "metadata": {},
   "outputs": [],
   "source": [
    "import sagemaker\n",
    "from sagemaker import get_execution_role\n",
    "from sagemaker.amazon.amazon_estimator import get_image_uri\n",
    "from sagemaker.estimator import Estimator\n",
    "from sagemaker.session import s3_input\n",
    "import boto3"
   ]
  },
  {
   "cell_type": "code",
   "execution_count": 3,
   "id": "ace8fff6",
   "metadata": {},
   "outputs": [],
   "source": [
    "# SageMaker 실행 역할 가져오기\n",
    "role = get_execution_role()\n",
    "\n",
    "# SageMaker 세션 생성\n",
    "sagemaker_session = sagemaker.Session()\n"
   ]
  },
  {
   "cell_type": "code",
   "execution_count": null,
   "id": "95ad711e",
   "metadata": {},
   "outputs": [],
   "source": []
  },
  {
   "cell_type": "code",
   "execution_count": null,
   "id": "a08c68d5",
   "metadata": {},
   "outputs": [],
   "source": []
  },
  {
   "cell_type": "code",
   "execution_count": null,
   "id": "1a561fe6",
   "metadata": {},
   "outputs": [],
   "source": []
  },
  {
   "cell_type": "code",
   "execution_count": 4,
   "id": "a1fed359",
   "metadata": {},
   "outputs": [
    {
     "name": "stderr",
     "output_type": "stream",
     "text": [
      "The method get_image_uri has been renamed in sagemaker>=2.\n",
      "See: https://sagemaker.readthedocs.io/en/stable/v2.html for details.\n",
      "Defaulting to the only supported framework/algorithm version: 1. Ignoring framework/algorithm version: latest.\n",
      "train_instance_count has been renamed in sagemaker>=2.\n",
      "See: https://sagemaker.readthedocs.io/en/stable/v2.html for details.\n",
      "train_instance_type has been renamed in sagemaker>=2.\n",
      "See: https://sagemaker.readthedocs.io/en/stable/v2.html for details.\n",
      "train_max_run has been renamed in sagemaker>=2.\n",
      "See: https://sagemaker.readthedocs.io/en/stable/v2.html for details.\n",
      "train_use_spot_instances has been renamed in sagemaker>=2.\n",
      "See: https://sagemaker.readthedocs.io/en/stable/v2.html for details.\n",
      "train_max_wait has been renamed in sagemaker>=2.\n",
      "See: https://sagemaker.readthedocs.io/en/stable/v2.html for details.\n",
      "train_volume_size has been renamed in sagemaker>=2.\n",
      "See: https://sagemaker.readthedocs.io/en/stable/v2.html for details.\n"
     ]
    },
    {
     "name": "stdout",
     "output_type": "stream",
     "text": [
      "Using SageMaker BlazingText container: 306986355934.dkr.ecr.ap-northeast-2.amazonaws.com/blazingtext:1 (ap-northeast-2)\n"
     ]
    }
   ],
   "source": [
    "# BlazingText 학습을 위한 데이터 경로\n",
    "region_name = boto3.Session().region_name\n",
    "train_data = 's3://dothis-ai-test/data/video_data_20230414.txt'\n",
    "s3_output_location = 's3://dothis-ai-test/models'\n",
    "container = sagemaker.amazon.amazon_estimator.get_image_uri(region_name, \"blazingtext\", \"latest\")\n",
    "# 유효한 trainingJobName으로 변경\n",
    "training_job_name = 'BlazingText-cbow-job'\n",
    "print('Using SageMaker BlazingText container: {} ({})'.format(container, region_name))\n",
    "\n",
    "train_use_spot_instances = True\n",
    "train_max_run = 3600\n",
    "train_max_wait = 3600 if train_use_spot_instances else None\n",
    "\n",
    "\n",
    "\n",
    "bt_model = sagemaker.estimator.Estimator(container,\n",
    "                                         role, \n",
    "                                         train_instance_count=1, # 학습 인스턴스의 수입니다. 병렬 학습을 위해 여러 인스턴스를 사용할 수 있습니다.\n",
    "                                         train_instance_type='ml.m5.xlarge', # 학습 인스턴스의 유형입니다. 인스턴스 유형은 학습 작업에 사용되는 리소스의 크기와 성\n",
    "                                         train_volume_size=5, # 학습 인스턴스의 EBS 볼륨 크기입니다. 학습 데이터 및 모델 아티팩트를 저장하기 위해 필요한 디스크 공간을 지정합니다.\n",
    "                                         input_mode='File', # 입력 데이터의 형식을 지정하는 옵션입니다. 여기서는 \"File\"을 사용하여 파일 형식의 데이터를 지정합니다.\n",
    "                                         output_path=s3_output_location, # 학습된 모델 아티팩트의 저장 위치입니다. 학습 작업이 완료된 후, 모델 아티팩트는 지정된 S3 경로에 저장됩니다.\n",
    "                                         train_max_run=train_max_run, # 학습 작업의 최대 실행 시간(초)입니다. 지정된 시간을 초과하면 학습 작업이 중지됩니다.\n",
    "                                         sagemaker_session=sagemaker_session,\n",
    "                                         train_use_spot_instances=train_use_spot_instances,\n",
    "                                         train_max_wait=train_max_wait,\n",
    "                                         base_job_name=training_job_name\n",
    "                                        )\n",
    "\n",
    "bt_model.set_hyperparameters(mode=\"cbow\",\n",
    "                             epochs=5,\n",
    "                             min_count=5,\n",
    "                             sampling_threshold=0.0001,\n",
    "                             learning_rate=0.05,\n",
    "                             window_size=5,\n",
    "                             vector_dim=100,\n",
    "                             negative_samples=5,\n",
    "                             batch_size=11, #  = (2*window_size + 1) (Preferred. Used only if mode is batch_skipgram)\n",
    "                             evaluation=False,# Perform similarity evaluation on WS-353 dataset at the end of training\n",
    "                             subwords=False) # Subword embedding learning is not supported by batch_skipgram"
   ]
  },
  {
   "cell_type": "code",
   "execution_count": 5,
   "id": "2c541e64",
   "metadata": {},
   "outputs": [
    {
     "name": "stderr",
     "output_type": "stream",
     "text": [
      "The class sagemaker.session.s3_input has been renamed in sagemaker>=2.\n",
      "See: https://sagemaker.readthedocs.io/en/stable/v2.html for details.\n"
     ]
    }
   ],
   "source": [
    "train_data = sagemaker.session.s3_input(train_data, distribution='FullyReplicated', \n",
    "                        content_type='text/plain', s3_data_type='S3Prefix')\n",
    "data_channels = {'train': train_data}"
   ]
  },
  {
   "cell_type": "code",
   "execution_count": 6,
   "id": "86192a15",
   "metadata": {},
   "outputs": [
    {
     "name": "stderr",
     "output_type": "stream",
     "text": [
      "INFO:sagemaker:Creating training-job with name: BlazingText-cbow-job-2023-06-16-06-54-56-454\n"
     ]
    },
    {
     "name": "stdout",
     "output_type": "stream",
     "text": [
      "2023-06-16 06:54:56 Starting - Starting the training job...\n",
      "2023-06-16 06:55:12 Starting - Preparing the instances for training......\n",
      "2023-06-16 06:56:07 Downloading - Downloading input data...\n",
      "2023-06-16 06:56:38 Training - Training image download completed. Training in progress..\u001b[34mArguments: train\u001b[0m\n",
      "\u001b[34m[06/16/2023 06:56:48 WARNING 139965656786752] Loggers have already been setup.\u001b[0m\n",
      "\u001b[34m[06/16/2023 06:56:48 WARNING 139965656786752] Loggers have already been setup.\u001b[0m\n",
      "\u001b[34m[06/16/2023 06:56:48 INFO 139965656786752] nvidia-smi took: 0.07536935806274414 secs to identify 0 gpus\u001b[0m\n",
      "\u001b[34m[06/16/2023 06:56:48 INFO 139965656786752] Running single machine CPU BlazingText training using cbow mode.\u001b[0m\n",
      "\u001b[34mNumber of CPU sockets found in instance is  1\u001b[0m\n",
      "\u001b[34m[06/16/2023 06:56:48 INFO 139965656786752] Processing /opt/ml/input/data/train/video_data_20230414.txt . File size: 433.05553245544434 MB\u001b[0m\n",
      "\u001b[34mRead 10M words\u001b[0m\n",
      "\u001b[34mRead 20M words\u001b[0m\n",
      "\u001b[34mRead 30M words\u001b[0m\n",
      "\u001b[34mRead 40M words\u001b[0m\n",
      "\u001b[34mRead 45M words\u001b[0m\n",
      "\u001b[34mNumber of words:  349278\u001b[0m\n",
      "\u001b[34m##### Alpha: 0.0490  Progress: 2.02%  Million Words/sec: 1.14 #####\u001b[0m\n",
      "\u001b[34m##### Alpha: 0.0465  Progress: 7.03%  Million Words/sec: 1.30 #####\u001b[0m\n",
      "\u001b[34m##### Alpha: 0.0440  Progress: 12.05%  Million Words/sec: 1.38 #####\u001b[0m\n",
      "\u001b[34m##### Alpha: 0.0415  Progress: 17.06%  Million Words/sec: 1.41 #####\u001b[0m\n",
      "\u001b[34m##### Alpha: 0.0389  Progress: 22.12%  Million Words/sec: 1.43 #####\u001b[0m\n",
      "\u001b[34m##### Alpha: 0.0364  Progress: 27.12%  Million Words/sec: 1.44 #####\u001b[0m\n",
      "\u001b[34m##### Alpha: 0.0339  Progress: 32.13%  Million Words/sec: 1.45 #####\u001b[0m\n",
      "\u001b[34m##### Alpha: 0.0314  Progress: 37.18%  Million Words/sec: 1.46 #####\u001b[0m\n",
      "\u001b[34m##### Alpha: 0.0289  Progress: 42.23%  Million Words/sec: 1.46 #####\u001b[0m\n",
      "\u001b[34m##### Alpha: 0.0264  Progress: 47.29%  Million Words/sec: 1.45 #####\u001b[0m\n",
      "\u001b[34m##### Alpha: 0.0238  Progress: 52.34%  Million Words/sec: 1.45 #####\u001b[0m\n",
      "\u001b[34m##### Alpha: 0.0213  Progress: 57.34%  Million Words/sec: 1.45 #####\u001b[0m\n",
      "\u001b[34m##### Alpha: 0.0188  Progress: 62.40%  Million Words/sec: 1.46 #####\u001b[0m\n",
      "\u001b[34m##### Alpha: 0.0163  Progress: 67.44%  Million Words/sec: 1.46 #####\u001b[0m\n",
      "\u001b[34m##### Alpha: 0.0138  Progress: 72.47%  Million Words/sec: 1.46 #####\u001b[0m\n",
      "\u001b[34m##### Alpha: 0.0113  Progress: 77.50%  Million Words/sec: 1.46 #####\u001b[0m\n",
      "\u001b[34m##### Alpha: 0.0087  Progress: 82.52%  Million Words/sec: 1.46 #####\u001b[0m\n",
      "\u001b[34m##### Alpha: 0.0062  Progress: 87.57%  Million Words/sec: 1.46 #####\u001b[0m\n",
      "\u001b[34m##### Alpha: 0.0037  Progress: 92.57%  Million Words/sec: 1.46 #####\u001b[0m\n",
      "\u001b[34m##### Alpha: 0.0012  Progress: 97.61%  Million Words/sec: 1.46 #####\u001b[0m\n",
      "\u001b[34m##### Alpha: 0.0000  Progress: 100.00%  Million Words/sec: 1.46 #####\u001b[0m\n",
      "\n",
      "2023-06-16 06:59:54 Uploading - Uploading generated training model\u001b[34mTraining finished.\u001b[0m\n",
      "\u001b[34mAverage throughput in Million words/sec: 1.46\u001b[0m\n",
      "\u001b[34mTotal training time in seconds: 154.26\u001b[0m\n",
      "\n",
      "2023-06-16 07:01:44 Completed - Training job completed\n",
      "Training seconds: 337\n",
      "Billable seconds: 90\n",
      "Managed Spot Training savings: 73.3%\n"
     ]
    }
   ],
   "source": [
    "bt_model.fit(inputs=data_channels, logs=True)"
   ]
  },
  {
   "cell_type": "code",
   "execution_count": 7,
   "id": "e87418fe",
   "metadata": {},
   "outputs": [
    {
     "data": {
      "text/plain": [
       "'s3://dothis-ai-test/models/BlazingText-cbow-job-2023-06-16-06-54-56-454/output/model.tar.gz'"
      ]
     },
     "execution_count": 7,
     "metadata": {},
     "output_type": "execute_result"
    }
   ],
   "source": [
    "bt_model.model_data"
   ]
  },
  {
   "cell_type": "code",
   "execution_count": 12,
   "id": "cf093b7d",
   "metadata": {},
   "outputs": [],
   "source": [
    "bucket = 'dothis-ai-test'  # Replace with your own bucket name if needed\n",
    "key = bt_model.model_data[bt_model.model_data.find(\"/\", 5)+1:]\n",
    "\n",
    "# S3에 액세스할 수 있는 클라이언트 생성\n",
    "s3 = boto3.client('s3')\n",
    "s3.download_file(bucket, key, 'models/related/model.tar.gz')"
   ]
  },
  {
   "cell_type": "code",
   "execution_count": 13,
   "id": "50bc7a33",
   "metadata": {},
   "outputs": [
    {
     "name": "stdout",
     "output_type": "stream",
     "text": [
      "vectors.bin\n",
      "vectors.txt\n"
     ]
    }
   ],
   "source": [
    "!tar -xvzf models/related/model.tar.gz"
   ]
  },
  {
   "cell_type": "code",
   "execution_count": 17,
   "id": "246fa06f",
   "metadata": {},
   "outputs": [
    {
     "name": "stderr",
     "output_type": "stream",
     "text": [
      "INFO:gensim.models.keyedvectors:loading projection weights from models/related/vectors.txt\n",
      "INFO:gensim.utils:KeyedVectors lifecycle event {'msg': 'loaded (349278, 100) matrix of type float32 from models/related/vectors.txt', 'binary': False, 'encoding': 'utf-8', 'datetime': '2023-06-16T07:12:44.730442', 'gensim': '4.3.1', 'python': '3.10.10 | packaged by conda-forge | (main, Mar 24 2023, 20:08:06) [GCC 11.3.0]', 'platform': 'Linux-5.10.178-162.673.amzn2.x86_64-x86_64-with-glibc2.26', 'event': 'load_word2vec_format'}\n"
     ]
    }
   ],
   "source": [
    "from gensim.models import KeyedVectors\n",
    "word_vectors = KeyedVectors.load_word2vec_format('models/related/vectors.txt', binary=False, encoding='utf-8')"
   ]
  },
  {
   "cell_type": "code",
   "execution_count": 39,
   "id": "003d4925",
   "metadata": {},
   "outputs": [
    {
     "data": {
      "text/plain": [
       "['소셜미디어']"
      ]
     },
     "execution_count": 39,
     "metadata": {},
     "output_type": "execute_result"
    }
   ],
   "source": [
    "word = \"소셜네트워크\"\n",
    "\n",
    "# 키워드의 앞글자로 시작하는 것만\n",
    "[i[0] for i in word_vectors.most_similar(word, topn=10) if i[0].startswith(word[0])]"
   ]
  },
  {
   "cell_type": "code",
   "execution_count": null,
   "id": "3793c217",
   "metadata": {},
   "outputs": [],
   "source": []
  }
 ],
 "metadata": {
  "kernelspec": {
   "display_name": "conda_python3",
   "language": "python",
   "name": "conda_python3"
  },
  "language_info": {
   "codemirror_mode": {
    "name": "ipython",
    "version": 3
   },
   "file_extension": ".py",
   "mimetype": "text/x-python",
   "name": "python",
   "nbconvert_exporter": "python",
   "pygments_lexer": "ipython3",
   "version": "3.10.10"
  }
 },
 "nbformat": 4,
 "nbformat_minor": 5
}
