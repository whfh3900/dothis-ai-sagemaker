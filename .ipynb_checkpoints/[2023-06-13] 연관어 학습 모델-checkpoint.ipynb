{
 "cells": [
  {
   "cell_type": "code",
   "execution_count": 1,
   "id": "94fc2463",
   "metadata": {},
   "outputs": [
    {
     "name": "stdout",
     "output_type": "stream",
     "text": [
      "Looking in indexes: https://pypi.org/simple, https://pip.repos.neuron.amazonaws.com\n",
      "Requirement already satisfied: sagemaker in /home/ec2-user/anaconda3/envs/python3/lib/python3.10/site-packages (2.164.0)\n",
      "Requirement already satisfied: pandas in /home/ec2-user/anaconda3/envs/python3/lib/python3.10/site-packages (from sagemaker) (1.5.2)\n",
      "Requirement already satisfied: numpy<2.0,>=1.9.0 in /home/ec2-user/anaconda3/envs/python3/lib/python3.10/site-packages (from sagemaker) (1.22.3)\n",
      "Requirement already satisfied: protobuf3-to-dict<1.0,>=0.1.5 in /home/ec2-user/anaconda3/envs/python3/lib/python3.10/site-packages (from sagemaker) (0.1.5)\n",
      "Requirement already satisfied: jsonschema in /home/ec2-user/anaconda3/envs/python3/lib/python3.10/site-packages (from sagemaker) (3.2.0)\n",
      "Requirement already satisfied: pathos in /home/ec2-user/anaconda3/envs/python3/lib/python3.10/site-packages (from sagemaker) (0.3.0)\n",
      "Requirement already satisfied: PyYAML==6.0 in /home/ec2-user/anaconda3/envs/python3/lib/python3.10/site-packages (from sagemaker) (6.0)\n",
      "Requirement already satisfied: packaging>=20.0 in /home/ec2-user/anaconda3/envs/python3/lib/python3.10/site-packages (from sagemaker) (21.3)\n",
      "Requirement already satisfied: importlib-metadata<5.0,>=1.4.0 in /home/ec2-user/anaconda3/envs/python3/lib/python3.10/site-packages (from sagemaker) (4.13.0)\n",
      "Requirement already satisfied: tblib==1.7.0 in /home/ec2-user/anaconda3/envs/python3/lib/python3.10/site-packages (from sagemaker) (1.7.0)\n",
      "Requirement already satisfied: google-pasta in /home/ec2-user/anaconda3/envs/python3/lib/python3.10/site-packages (from sagemaker) (0.2.0)\n",
      "Requirement already satisfied: protobuf<4.0,>=3.1 in /home/ec2-user/anaconda3/envs/python3/lib/python3.10/site-packages (from sagemaker) (3.20.3)\n",
      "Requirement already satisfied: schema in /home/ec2-user/anaconda3/envs/python3/lib/python3.10/site-packages (from sagemaker) (0.7.5)\n",
      "Requirement already satisfied: platformdirs in /home/ec2-user/anaconda3/envs/python3/lib/python3.10/site-packages (from sagemaker) (2.6.2)\n",
      "Requirement already satisfied: smdebug-rulesconfig==1.0.1 in /home/ec2-user/anaconda3/envs/python3/lib/python3.10/site-packages (from sagemaker) (1.0.1)\n",
      "Requirement already satisfied: boto3<2.0,>=1.26.131 in /home/ec2-user/anaconda3/envs/python3/lib/python3.10/site-packages (from sagemaker) (1.26.152)\n",
      "Requirement already satisfied: attrs<24,>=23.1.0 in /home/ec2-user/anaconda3/envs/python3/lib/python3.10/site-packages (from sagemaker) (23.1.0)\n",
      "Requirement already satisfied: cloudpickle==2.2.1 in /home/ec2-user/anaconda3/envs/python3/lib/python3.10/site-packages (from sagemaker) (2.2.1)\n",
      "Requirement already satisfied: jmespath<2.0.0,>=0.7.1 in /home/ec2-user/anaconda3/envs/python3/lib/python3.10/site-packages (from boto3<2.0,>=1.26.131->sagemaker) (1.0.1)\n",
      "Requirement already satisfied: s3transfer<0.7.0,>=0.6.0 in /home/ec2-user/anaconda3/envs/python3/lib/python3.10/site-packages (from boto3<2.0,>=1.26.131->sagemaker) (0.6.0)\n",
      "Requirement already satisfied: botocore<1.30.0,>=1.29.152 in /home/ec2-user/anaconda3/envs/python3/lib/python3.10/site-packages (from boto3<2.0,>=1.26.131->sagemaker) (1.29.152)\n",
      "Requirement already satisfied: zipp>=0.5 in /home/ec2-user/anaconda3/envs/python3/lib/python3.10/site-packages (from importlib-metadata<5.0,>=1.4.0->sagemaker) (3.11.0)\n",
      "Requirement already satisfied: pyparsing!=3.0.5,>=2.0.2 in /home/ec2-user/anaconda3/envs/python3/lib/python3.10/site-packages (from packaging>=20.0->sagemaker) (3.0.9)\n",
      "Requirement already satisfied: six in /home/ec2-user/anaconda3/envs/python3/lib/python3.10/site-packages (from protobuf3-to-dict<1.0,>=0.1.5->sagemaker) (1.16.0)\n",
      "Requirement already satisfied: pyrsistent>=0.14.0 in /home/ec2-user/anaconda3/envs/python3/lib/python3.10/site-packages (from jsonschema->sagemaker) (0.19.3)\n",
      "Requirement already satisfied: setuptools in /home/ec2-user/anaconda3/envs/python3/lib/python3.10/site-packages (from jsonschema->sagemaker) (65.6.3)\n",
      "Requirement already satisfied: python-dateutil>=2.8.1 in /home/ec2-user/anaconda3/envs/python3/lib/python3.10/site-packages (from pandas->sagemaker) (2.8.2)\n",
      "Requirement already satisfied: pytz>=2020.1 in /home/ec2-user/anaconda3/envs/python3/lib/python3.10/site-packages (from pandas->sagemaker) (2022.7)\n",
      "Requirement already satisfied: ppft>=1.7.6.6 in /home/ec2-user/anaconda3/envs/python3/lib/python3.10/site-packages (from pathos->sagemaker) (1.7.6.6)\n",
      "Requirement already satisfied: pox>=0.3.2 in /home/ec2-user/anaconda3/envs/python3/lib/python3.10/site-packages (from pathos->sagemaker) (0.3.2)\n",
      "Requirement already satisfied: multiprocess>=0.70.14 in /home/ec2-user/anaconda3/envs/python3/lib/python3.10/site-packages (from pathos->sagemaker) (0.70.14)\n",
      "Requirement already satisfied: dill>=0.3.6 in /home/ec2-user/anaconda3/envs/python3/lib/python3.10/site-packages (from pathos->sagemaker) (0.3.6)\n",
      "Requirement already satisfied: contextlib2>=0.5.5 in /home/ec2-user/anaconda3/envs/python3/lib/python3.10/site-packages (from schema->sagemaker) (21.6.0)\n",
      "Requirement already satisfied: urllib3<1.27,>=1.25.4 in /home/ec2-user/anaconda3/envs/python3/lib/python3.10/site-packages (from botocore<1.30.0,>=1.29.152->boto3<2.0,>=1.26.131->sagemaker) (1.26.8)\n",
      "Looking in indexes: https://pypi.org/simple, https://pip.repos.neuron.amazonaws.com\n",
      "Requirement already satisfied: gensim in /home/ec2-user/anaconda3/envs/python3/lib/python3.10/site-packages (4.3.1)\n",
      "Requirement already satisfied: scipy>=1.7.0 in /home/ec2-user/anaconda3/envs/python3/lib/python3.10/site-packages (from gensim) (1.10.0)\n",
      "Requirement already satisfied: smart-open>=1.8.1 in /home/ec2-user/anaconda3/envs/python3/lib/python3.10/site-packages (from gensim) (6.3.0)\n",
      "Requirement already satisfied: numpy>=1.18.5 in /home/ec2-user/anaconda3/envs/python3/lib/python3.10/site-packages (from gensim) (1.22.3)\n"
     ]
    }
   ],
   "source": [
    "!pip install --upgrade sagemaker\n",
    "!pip install gensim"
   ]
  },
  {
   "cell_type": "code",
   "execution_count": 2,
   "id": "6ac90eb6",
   "metadata": {},
   "outputs": [],
   "source": [
    "import sagemaker\n",
    "from sagemaker import get_execution_role\n",
    "from sagemaker.amazon.amazon_estimator import get_image_uri\n",
    "from sagemaker.estimator import Estimator\n",
    "from sagemaker.session import s3_input\n",
    "import boto3"
   ]
  },
  {
   "cell_type": "code",
   "execution_count": 3,
   "id": "ace8fff6",
   "metadata": {},
   "outputs": [],
   "source": [
    "# SageMaker 실행 역할 가져오기\n",
    "role = get_execution_role()\n",
    "\n",
    "# SageMaker 세션 생성\n",
    "sagemaker_session = sagemaker.Session()\n"
   ]
  },
  {
   "cell_type": "code",
   "execution_count": null,
   "id": "95ad711e",
   "metadata": {},
   "outputs": [],
   "source": []
  },
  {
   "cell_type": "code",
   "execution_count": null,
   "id": "a08c68d5",
   "metadata": {},
   "outputs": [],
   "source": []
  },
  {
   "cell_type": "code",
   "execution_count": null,
   "id": "1a561fe6",
   "metadata": {},
   "outputs": [],
   "source": []
  },
  {
   "cell_type": "code",
   "execution_count": 4,
   "id": "a1fed359",
   "metadata": {},
   "outputs": [
    {
     "name": "stderr",
     "output_type": "stream",
     "text": [
      "The method get_image_uri has been renamed in sagemaker>=2.\n",
      "See: https://sagemaker.readthedocs.io/en/stable/v2.html for details.\n",
      "Defaulting to the only supported framework/algorithm version: 1. Ignoring framework/algorithm version: latest.\n",
      "train_instance_count has been renamed in sagemaker>=2.\n",
      "See: https://sagemaker.readthedocs.io/en/stable/v2.html for details.\n",
      "train_instance_type has been renamed in sagemaker>=2.\n",
      "See: https://sagemaker.readthedocs.io/en/stable/v2.html for details.\n",
      "train_max_run has been renamed in sagemaker>=2.\n",
      "See: https://sagemaker.readthedocs.io/en/stable/v2.html for details.\n",
      "train_use_spot_instances has been renamed in sagemaker>=2.\n",
      "See: https://sagemaker.readthedocs.io/en/stable/v2.html for details.\n",
      "train_max_wait has been renamed in sagemaker>=2.\n",
      "See: https://sagemaker.readthedocs.io/en/stable/v2.html for details.\n",
      "train_volume_size has been renamed in sagemaker>=2.\n",
      "See: https://sagemaker.readthedocs.io/en/stable/v2.html for details.\n"
     ]
    },
    {
     "name": "stdout",
     "output_type": "stream",
     "text": [
      "Using SageMaker BlazingText container: 306986355934.dkr.ecr.ap-northeast-2.amazonaws.com/blazingtext:1 (ap-northeast-2)\n"
     ]
    }
   ],
   "source": [
    "# BlazingText 학습을 위한 데이터 경로\n",
    "region_name = boto3.Session().region_name\n",
    "train_data = 's3://dothis-ai-test/data/video_data_20230414.txt'\n",
    "s3_output_location = 's3://dothis-ai-test/models'\n",
    "container = sagemaker.amazon.amazon_estimator.get_image_uri(region_name, \"blazingtext\", \"latest\")\n",
    "# 유효한 trainingJobName으로 변경\n",
    "training_job_name = 'BlazingText-job-skipgram'\n",
    "print('Using SageMaker BlazingText container: {} ({})'.format(container, region_name))\n",
    "\n",
    "train_use_spot_instances = True\n",
    "train_max_run = 3600\n",
    "train_max_wait = 3600 if train_use_spot_instances else None\n",
    "\n",
    "\n",
    "\n",
    "bt_model = sagemaker.estimator.Estimator(container,\n",
    "                                         role, \n",
    "                                         train_instance_count=1, # 학습 인스턴스의 수입니다. 병렬 학습을 위해 여러 인스턴스를 사용할 수 있습니다.\n",
    "                                         train_instance_type='ml.m5.xlarge', # 학습 인스턴스의 유형입니다. 인스턴스 유형은 학습 작업에 사용되는 리소스의 크기와 성\n",
    "                                         train_volume_size=5, # 학습 인스턴스의 EBS 볼륨 크기입니다. 학습 데이터 및 모델 아티팩트를 저장하기 위해 필요한 디스크 공간을 지정합니다.\n",
    "                                         input_mode='File', # 입력 데이터의 형식을 지정하는 옵션입니다. 여기서는 \"File\"을 사용하여 파일 형식의 데이터를 지정합니다.\n",
    "                                         output_path=s3_output_location, # 학습된 모델 아티팩트의 저장 위치입니다. 학습 작업이 완료된 후, 모델 아티팩트는 지정된 S3 경로에 저장됩니다.\n",
    "                                         train_max_run=train_max_run, # 학습 작업의 최대 실행 시간(초)입니다. 지정된 시간을 초과하면 학습 작업이 중지됩니다.\n",
    "                                         sagemaker_session=sagemaker_session,\n",
    "                                         train_use_spot_instances=train_use_spot_instances,\n",
    "                                         train_max_wait=train_max_wait,\n",
    "                                         base_job_name=training_job_name\n",
    "                                        )\n",
    "\n",
    "bt_model.set_hyperparameters(mode=\"skipgram\",\n",
    "                             epochs=5,\n",
    "                             min_count=5,\n",
    "                             sampling_threshold=0.0001,\n",
    "                             learning_rate=0.05,\n",
    "                             window_size=5,\n",
    "                             vector_dim=100,\n",
    "                             negative_samples=5,\n",
    "                             batch_size=11, #  = (2*window_size + 1) (Preferred. Used only if mode is batch_skipgram)\n",
    "                             evaluation=False,# Perform similarity evaluation on WS-353 dataset at the end of training\n",
    "                             subwords=False) # Subword embedding learning is not supported by batch_skipgram"
   ]
  },
  {
   "cell_type": "code",
   "execution_count": 5,
   "id": "2c541e64",
   "metadata": {},
   "outputs": [
    {
     "name": "stderr",
     "output_type": "stream",
     "text": [
      "The class sagemaker.session.s3_input has been renamed in sagemaker>=2.\n",
      "See: https://sagemaker.readthedocs.io/en/stable/v2.html for details.\n"
     ]
    }
   ],
   "source": [
    "train_data = sagemaker.session.s3_input(train_data, distribution='FullyReplicated', \n",
    "                        content_type='text/plain', s3_data_type='S3Prefix')\n",
    "data_channels = {'train': train_data}"
   ]
  },
  {
   "cell_type": "code",
   "execution_count": 6,
   "id": "86192a15",
   "metadata": {},
   "outputs": [
    {
     "name": "stderr",
     "output_type": "stream",
     "text": [
      "INFO:sagemaker:Creating training-job with name: BlazingText-job-skipgram-2023-06-13-02-41-22-038\n"
     ]
    },
    {
     "name": "stdout",
     "output_type": "stream",
     "text": [
      "2023-06-13 02:41:22 Starting - Starting the training job......\n",
      "2023-06-13 02:41:58 Starting - Preparing the instances for training...\n",
      "2023-06-13 02:42:49 Downloading - Downloading input data...\n",
      "2023-06-13 02:43:20 Training - Training image download completed. Training in progress.....\u001b[34mArguments: train\u001b[0m\n",
      "\u001b[34m[06/13/2023 02:43:32 WARNING 140048191964992] Loggers have already been setup.\u001b[0m\n",
      "\u001b[34m[06/13/2023 02:43:32 WARNING 140048191964992] Loggers have already been setup.\u001b[0m\n",
      "\u001b[34m[06/13/2023 02:43:32 INFO 140048191964992] nvidia-smi took: 0.05026364326477051 secs to identify 0 gpus\u001b[0m\n",
      "\u001b[34m[06/13/2023 02:43:32 INFO 140048191964992] Running single machine CPU BlazingText training using skipgram mode.\u001b[0m\n",
      "\u001b[34mNumber of CPU sockets found in instance is  1\u001b[0m\n",
      "\u001b[34m[06/13/2023 02:43:32 INFO 140048191964992] Processing /opt/ml/input/data/train/video_data_20230414.txt . File size: 433.05553245544434 MB\u001b[0m\n",
      "\u001b[34mRead 10M words\u001b[0m\n",
      "\u001b[34mRead 20M words\u001b[0m\n",
      "\u001b[34mRead 30M words\u001b[0m\n",
      "\u001b[34mRead 40M words\u001b[0m\n",
      "\u001b[34mRead 45M words\u001b[0m\n",
      "\u001b[34mNumber of words:  349278\u001b[0m\n",
      "\u001b[34m##### Alpha: 0.0490  Progress: 2.00%  Million Words/sec: 0.41 #####\u001b[0m\n",
      "\u001b[34m##### Alpha: 0.0465  Progress: 7.02%  Million Words/sec: 0.42 #####\u001b[0m\n",
      "\u001b[34m##### Alpha: 0.0440  Progress: 12.04%  Million Words/sec: 0.43 #####\u001b[0m\n",
      "\u001b[34m##### Alpha: 0.0415  Progress: 17.04%  Million Words/sec: 0.43 #####\u001b[0m\n",
      "\u001b[34m##### Alpha: 0.0390  Progress: 22.04%  Million Words/sec: 0.43 #####\u001b[0m\n",
      "\u001b[34m##### Alpha: 0.0365  Progress: 27.05%  Million Words/sec: 0.43 #####\u001b[0m\n",
      "\u001b[34m##### Alpha: 0.0340  Progress: 32.07%  Million Words/sec: 0.43 #####\u001b[0m\n",
      "\u001b[34m##### Alpha: 0.0315  Progress: 37.07%  Million Words/sec: 0.42 #####\u001b[0m\n",
      "\u001b[34m##### Alpha: 0.0290  Progress: 42.08%  Million Words/sec: 0.42 #####\u001b[0m\n",
      "\u001b[34m##### Alpha: 0.0265  Progress: 47.09%  Million Words/sec: 0.42 #####\u001b[0m\n",
      "\u001b[34m##### Alpha: 0.0240  Progress: 52.10%  Million Words/sec: 0.42 #####\u001b[0m\n",
      "\u001b[34m##### Alpha: 0.0214  Progress: 57.11%  Million Words/sec: 0.43 #####\u001b[0m\n",
      "\u001b[34m##### Alpha: 0.0189  Progress: 62.12%  Million Words/sec: 0.43 #####\u001b[0m\n",
      "\u001b[34m##### Alpha: 0.0164  Progress: 67.12%  Million Words/sec: 0.43 #####\u001b[0m\n",
      "\u001b[34m##### Alpha: 0.0139  Progress: 72.13%  Million Words/sec: 0.43 #####\u001b[0m\n",
      "\u001b[34m##### Alpha: 0.0114  Progress: 77.14%  Million Words/sec: 0.43 #####\u001b[0m\n",
      "\u001b[34m##### Alpha: 0.0089  Progress: 82.16%  Million Words/sec: 0.43 #####\u001b[0m\n",
      "\u001b[34m##### Alpha: 0.0064  Progress: 87.18%  Million Words/sec: 0.43 #####\u001b[0m\n",
      "\u001b[34m##### Alpha: 0.0039  Progress: 92.18%  Million Words/sec: 0.43 #####\u001b[0m\n",
      "\u001b[34m##### Alpha: 0.0014  Progress: 97.18%  Million Words/sec: 0.43 #####\u001b[0m\n",
      "\u001b[34m##### Alpha: 0.0000  Progress: 100.00%  Million Words/sec: 0.43 #####\u001b[0m\n",
      "\u001b[34mTraining finished.\u001b[0m\n",
      "\u001b[34mAverage throughput in Million words/sec: 0.43\u001b[0m\n",
      "\u001b[34mTotal training time in seconds: 522.93\u001b[0m\n",
      "\n",
      "2023-06-13 02:52:43 Uploading - Uploading generated training model\n",
      "2023-06-13 02:54:29 Completed - Training job completed\n",
      "Training seconds: 700\n",
      "Billable seconds: 187\n",
      "Managed Spot Training savings: 73.3%\n"
     ]
    }
   ],
   "source": [
    "bt_model.fit(inputs=data_channels, logs=True)"
   ]
  },
  {
   "cell_type": "code",
   "execution_count": 19,
   "id": "e87418fe",
   "metadata": {},
   "outputs": [
    {
     "data": {
      "text/plain": [
       "'s3://dothis-ai-test/models/BlazingText-job-skipgram-2023-06-13-02-41-22-038/output/model.tar.gz'"
      ]
     },
     "execution_count": 19,
     "metadata": {},
     "output_type": "execute_result"
    }
   ],
   "source": [
    "bt_model.model_data"
   ]
  },
  {
   "cell_type": "code",
   "execution_count": 7,
   "id": "cf093b7d",
   "metadata": {},
   "outputs": [
    {
     "name": "stderr",
     "output_type": "stream",
     "text": [
      "INFO:botocore.credentials:Found credentials from IAM Role: BaseNotebookInstanceEc2InstanceRole\n"
     ]
    }
   ],
   "source": [
    "bucket = 'dothis-ai-test'  # Replace with your own bucket name if needed\n",
    "\n",
    "s3 = boto3.resource('s3')\n",
    "key = bt_model.model_data[bt_model.model_data.find(\"/\", 5)+1:]\n",
    "s3.Bucket(bucket).download_file(key, 'model.tar.gz')"
   ]
  },
  {
   "cell_type": "code",
   "execution_count": 8,
   "id": "50bc7a33",
   "metadata": {},
   "outputs": [
    {
     "name": "stdout",
     "output_type": "stream",
     "text": [
      "vectors.txt\n",
      "vectors.bin\n"
     ]
    }
   ],
   "source": [
    "!tar -xvzf model.tar.gz"
   ]
  },
  {
   "cell_type": "code",
   "execution_count": 9,
   "id": "246fa06f",
   "metadata": {},
   "outputs": [
    {
     "name": "stderr",
     "output_type": "stream",
     "text": [
      "INFO:gensim.models.keyedvectors:loading projection weights from vectors.txt\n",
      "INFO:gensim.utils:KeyedVectors lifecycle event {'msg': 'loaded (349278, 100) matrix of type float32 from vectors.txt', 'binary': False, 'encoding': 'utf-8', 'datetime': '2023-06-13T02:55:22.213410', 'gensim': '4.3.1', 'python': '3.10.8 | packaged by conda-forge | (main, Nov 22 2022, 08:26:04) [GCC 10.4.0]', 'platform': 'Linux-5.10.157-139.675.amzn2.x86_64-x86_64-with-glibc2.26', 'event': 'load_word2vec_format'}\n"
     ]
    },
    {
     "data": {
      "text/plain": [
       "[('엠갤러리', 0.6206796169281006),\n",
       " ('소피텔', 0.5910489559173584),\n",
       " ('서울벚꽃', 0.5787157416343689),\n",
       " ('에비뉴엘', 0.5724790096282959),\n",
       " ('인터컨', 0.5693978667259216),\n",
       " ('코엑스몰', 0.5510305762290955),\n",
       " ('서울불꽃축제', 0.5491561889648438),\n",
       " ('긴자', 0.5473495721817017),\n",
       " ('합정역', 0.5470298528671265),\n",
       " ('서울세계불꽃축제', 0.5457656979560852)]"
      ]
     },
     "execution_count": 9,
     "metadata": {},
     "output_type": "execute_result"
    }
   ],
   "source": [
    "from gensim.models import KeyedVectors\n",
    "word_vectors = KeyedVectors.load_word2vec_format('vectors.txt', binary=False, encoding='utf-8')\n",
    "word_vectors.most_similar(positive=['서울', '도쿄'], negative=['한국'])"
   ]
  },
  {
   "cell_type": "code",
   "execution_count": 10,
   "id": "003d4925",
   "metadata": {},
   "outputs": [
    {
     "data": {
      "text/plain": [
       "[('우버택시', 0.8518080711364746),\n",
       " ('택시티비', 0.8410633206367493),\n",
       " ('막까파TV', 0.8402019143104553),\n",
       " ('막가파', 0.8248759508132935),\n",
       " ('승차난', 0.822329044342041),\n",
       " ('부제해제', 0.8217628598213196),\n",
       " ('카카오t블루', 0.8184545040130615),\n",
       " ('사납금', 0.8119112849235535),\n",
       " ('막까파', 0.8114938735961914),\n",
       " ('막가파TV', 0.8083483576774597)]"
      ]
     },
     "execution_count": 10,
     "metadata": {},
     "output_type": "execute_result"
    }
   ],
   "source": [
    "word_vectors.most_similar('택시')"
   ]
  },
  {
   "cell_type": "code",
   "execution_count": 26,
   "id": "9ad54a1c",
   "metadata": {},
   "outputs": [
    {
     "data": {
      "text/plain": [
       "'models/BlazingText-job-skipgram-2023-06-13-02-41-22-038/output/model.tar.gz'"
      ]
     },
     "execution_count": 26,
     "metadata": {},
     "output_type": "execute_result"
    }
   ],
   "source": [
    "key"
   ]
  },
  {
   "cell_type": "code",
   "execution_count": 28,
   "id": "a9f01912",
   "metadata": {},
   "outputs": [],
   "source": [
    "bucket = 'dothis-ai-test'  # Replace with your own bucket name if needed\n",
    "s3 = boto3.resource('s3')\n",
    "key = 'models/BlazingText-job-skipgram-2023-06-13-02-09-19-137/output/model.tar.gz'\n",
    "s3.Bucket(bucket).download_file(key, 'model.tar.gz')"
   ]
  },
  {
   "cell_type": "code",
   "execution_count": 29,
   "id": "d3b3f146",
   "metadata": {},
   "outputs": [
    {
     "name": "stdout",
     "output_type": "stream",
     "text": [
      "vectors.bin\n",
      "vectors.txt\n"
     ]
    }
   ],
   "source": [
    "!tar -xvzf model.tar.gz"
   ]
  },
  {
   "cell_type": "code",
   "execution_count": 30,
   "id": "38f88139",
   "metadata": {},
   "outputs": [
    {
     "name": "stderr",
     "output_type": "stream",
     "text": [
      "INFO:gensim.models.keyedvectors:loading projection weights from vectors.txt\n",
      "INFO:gensim.utils:KeyedVectors lifecycle event {'msg': 'loaded (349278, 100) matrix of type float32 from vectors.txt', 'binary': False, 'encoding': 'utf-8', 'datetime': '2023-06-13T03:08:43.433846', 'gensim': '4.3.1', 'python': '3.10.8 | packaged by conda-forge | (main, Nov 22 2022, 08:26:04) [GCC 10.4.0]', 'platform': 'Linux-5.10.157-139.675.amzn2.x86_64-x86_64-with-glibc2.26', 'event': 'load_word2vec_format'}\n"
     ]
    },
    {
     "data": {
      "text/plain": [
       "[('잠실역', 0.5522750020027161),\n",
       " ('사당역', 0.5393338799476624),\n",
       " ('빈드', 0.5191420316696167),\n",
       " ('신사역', 0.5098044872283936),\n",
       " ('잠실', 0.5079963803291321),\n",
       " ('서울숲', 0.5060157179832458),\n",
       " ('우이동', 0.5046820044517517),\n",
       " ('문정동', 0.5037183165550232),\n",
       " ('상계동', 0.5033244490623474),\n",
       " ('올림픽공원', 0.5030790567398071)]"
      ]
     },
     "execution_count": 30,
     "metadata": {},
     "output_type": "execute_result"
    }
   ],
   "source": [
    "from gensim.models import KeyedVectors\n",
    "word_vectors = KeyedVectors.load_word2vec_format('vectors.txt', binary=False, encoding='utf-8')\n",
    "word_vectors.most_similar(positive=['서울', '도쿄'], negative=['한국'])"
   ]
  },
  {
   "cell_type": "code",
   "execution_count": 31,
   "id": "7b6da0ef",
   "metadata": {},
   "outputs": [
    {
     "data": {
      "text/plain": [
       "[('택시호출', 0.7801095247268677),\n",
       " ('택시비', 0.7335453033447266),\n",
       " ('기본요금', 0.7140587568283081),\n",
       " ('카카오택시', 0.7060292363166809),\n",
       " ('막까파TV', 0.6872467398643494),\n",
       " ('마카롱택시', 0.6766425371170044),\n",
       " ('막가파', 0.6697238683700562),\n",
       " ('택시기사', 0.6683712601661682),\n",
       " ('타다금지법', 0.6601734757423401),\n",
       " ('할증', 0.6584334969520569)]"
      ]
     },
     "execution_count": 31,
     "metadata": {},
     "output_type": "execute_result"
    }
   ],
   "source": [
    "word_vectors.most_similar('택시')"
   ]
  },
  {
   "cell_type": "code",
   "execution_count": null,
   "id": "3793c217",
   "metadata": {},
   "outputs": [],
   "source": []
  }
 ],
 "metadata": {
  "kernelspec": {
   "display_name": "conda_python3",
   "language": "python",
   "name": "conda_python3"
  },
  "language_info": {
   "codemirror_mode": {
    "name": "ipython",
    "version": 3
   },
   "file_extension": ".py",
   "mimetype": "text/x-python",
   "name": "python",
   "nbconvert_exporter": "python",
   "pygments_lexer": "ipython3",
   "version": "3.10.8"
  }
 },
 "nbformat": 4,
 "nbformat_minor": 5
}
