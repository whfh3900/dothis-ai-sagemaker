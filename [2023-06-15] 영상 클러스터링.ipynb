{
 "cells": [
  {
   "cell_type": "code",
   "execution_count": 1,
   "id": "8b2eefbe",
   "metadata": {},
   "outputs": [
    {
     "name": "stdout",
     "output_type": "stream",
     "text": [
      "Looking in indexes: https://pypi.org/simple, https://pip.repos.neuron.amazonaws.com\n",
      "Collecting sentence-transformers\n",
      "  Downloading sentence-transformers-2.2.2.tar.gz (85 kB)\n",
      "\u001b[2K     \u001b[90m━━━━━━━━━━━━━━━━━━━━━━━━━━━━━━━━━━━━━━━━\u001b[0m \u001b[32m86.0/86.0 kB\u001b[0m \u001b[31m4.2 MB/s\u001b[0m eta \u001b[36m0:00:00\u001b[0m\n",
      "\u001b[?25h  Preparing metadata (setup.py) ... \u001b[?25ldone\n",
      "\u001b[?25hCollecting transformers<5.0.0,>=4.6.0\n",
      "  Downloading transformers-4.30.2-py3-none-any.whl (7.2 MB)\n",
      "\u001b[2K     \u001b[90m━━━━━━━━━━━━━━━━━━━━━━━━━━━━━━━━━━━━━━━━\u001b[0m \u001b[32m7.2/7.2 MB\u001b[0m \u001b[31m26.1 MB/s\u001b[0m eta \u001b[36m0:00:00\u001b[0m:00:01\u001b[0m00:01\u001b[0m\n",
      "\u001b[?25hRequirement already satisfied: tqdm in /home/ec2-user/anaconda3/envs/python3/lib/python3.10/site-packages (from sentence-transformers) (4.64.1)\n",
      "Collecting torch>=1.6.0\n",
      "  Downloading torch-2.0.1-cp310-cp310-manylinux1_x86_64.whl (619.9 MB)\n",
      "\u001b[2K     \u001b[90m━━━━━━━━━━━━━━━━━━━━━━━━━━━━━━━━━━━━━\u001b[0m \u001b[32m619.9/619.9 MB\u001b[0m \u001b[31m514.5 kB/s\u001b[0m eta \u001b[36m0:00:00\u001b[0m00:01\u001b[0m00:01\u001b[0m\n",
      "\u001b[?25hCollecting torchvision\n",
      "  Downloading torchvision-0.15.2-cp310-cp310-manylinux1_x86_64.whl (6.0 MB)\n",
      "\u001b[2K     \u001b[90m━━━━━━━━━━━━━━━━━━━━━━━━━━━━━━━━━━━━━━━━\u001b[0m \u001b[32m6.0/6.0 MB\u001b[0m \u001b[31m23.4 MB/s\u001b[0m eta \u001b[36m0:00:00\u001b[0m:00:01\u001b[0m00:01\u001b[0m\n",
      "\u001b[?25hRequirement already satisfied: numpy in /home/ec2-user/anaconda3/envs/python3/lib/python3.10/site-packages (from sentence-transformers) (1.22.3)\n",
      "Requirement already satisfied: scikit-learn in /home/ec2-user/anaconda3/envs/python3/lib/python3.10/site-packages (from sentence-transformers) (1.2.0)\n",
      "Requirement already satisfied: scipy in /home/ec2-user/anaconda3/envs/python3/lib/python3.10/site-packages (from sentence-transformers) (1.10.0)\n",
      "Requirement already satisfied: nltk in /home/ec2-user/anaconda3/envs/python3/lib/python3.10/site-packages (from sentence-transformers) (3.8.1)\n",
      "Collecting sentencepiece\n",
      "  Downloading sentencepiece-0.1.99-cp310-cp310-manylinux_2_17_x86_64.manylinux2014_x86_64.whl (1.3 MB)\n",
      "\u001b[2K     \u001b[90m━━━━━━━━━━━━━━━━━━━━━━━━━━━━━━━━━━━━━━━━\u001b[0m \u001b[32m1.3/1.3 MB\u001b[0m \u001b[31m12.4 MB/s\u001b[0m eta \u001b[36m0:00:00\u001b[0m00:01\u001b[0m\n",
      "\u001b[?25hCollecting huggingface-hub>=0.4.0\n",
      "  Downloading huggingface_hub-0.15.1-py3-none-any.whl (236 kB)\n",
      "\u001b[2K     \u001b[90m━━━━━━━━━━━━━━━━━━━━━━━━━━━━━━━━━━━━━━\u001b[0m \u001b[32m236.8/236.8 kB\u001b[0m \u001b[31m19.4 MB/s\u001b[0m eta \u001b[36m0:00:00\u001b[0m\n",
      "\u001b[?25hRequirement already satisfied: packaging>=20.9 in /home/ec2-user/anaconda3/envs/python3/lib/python3.10/site-packages (from huggingface-hub>=0.4.0->sentence-transformers) (21.3)\n",
      "Requirement already satisfied: typing-extensions>=3.7.4.3 in /home/ec2-user/anaconda3/envs/python3/lib/python3.10/site-packages (from huggingface-hub>=0.4.0->sentence-transformers) (4.4.0)\n",
      "Requirement already satisfied: fsspec in /home/ec2-user/anaconda3/envs/python3/lib/python3.10/site-packages (from huggingface-hub>=0.4.0->sentence-transformers) (2022.11.0)\n",
      "Requirement already satisfied: pyyaml>=5.1 in /home/ec2-user/anaconda3/envs/python3/lib/python3.10/site-packages (from huggingface-hub>=0.4.0->sentence-transformers) (5.4.1)\n",
      "Requirement already satisfied: filelock in /home/ec2-user/anaconda3/envs/python3/lib/python3.10/site-packages (from huggingface-hub>=0.4.0->sentence-transformers) (3.9.0)\n",
      "Requirement already satisfied: requests in /home/ec2-user/anaconda3/envs/python3/lib/python3.10/site-packages (from huggingface-hub>=0.4.0->sentence-transformers) (2.28.1)\n",
      "Collecting nvidia-cudnn-cu11==8.5.0.96\n",
      "  Downloading nvidia_cudnn_cu11-8.5.0.96-2-py3-none-manylinux1_x86_64.whl (557.1 MB)\n",
      "\u001b[2K     \u001b[90m━━━━━━━━━━━━━━━━━━━━━━━━━━━━━━━━━━━━━\u001b[0m \u001b[32m557.1/557.1 MB\u001b[0m \u001b[31m540.9 kB/s\u001b[0m eta \u001b[36m0:00:00\u001b[0m00:01\u001b[0m00:01\u001b[0m\n",
      "\u001b[?25hRequirement already satisfied: jinja2 in /home/ec2-user/anaconda3/envs/python3/lib/python3.10/site-packages (from torch>=1.6.0->sentence-transformers) (3.1.2)\n",
      "Collecting nvidia-cuda-cupti-cu11==11.7.101\n",
      "  Downloading nvidia_cuda_cupti_cu11-11.7.101-py3-none-manylinux1_x86_64.whl (11.8 MB)\n",
      "\u001b[2K     \u001b[90m━━━━━━━━━━━━━━━━━━━━━━━━━━━━━━━━━━━━━━━━\u001b[0m \u001b[32m11.8/11.8 MB\u001b[0m \u001b[31m29.3 MB/s\u001b[0m eta \u001b[36m0:00:00\u001b[0m00:01\u001b[0m00:01\u001b[0m\n",
      "\u001b[?25hCollecting nvidia-cublas-cu11==11.10.3.66\n",
      "  Downloading nvidia_cublas_cu11-11.10.3.66-py3-none-manylinux1_x86_64.whl (317.1 MB)\n",
      "\u001b[2K     \u001b[90m━━━━━━━━━━━━━━━━━━━━━━━━━━━━━━━━━━━━━━━\u001b[0m \u001b[32m317.1/317.1 MB\u001b[0m \u001b[31m1.1 MB/s\u001b[0m eta \u001b[36m0:00:00\u001b[0m00:01\u001b[0m00:01\u001b[0m\n",
      "\u001b[?25hCollecting nvidia-cufft-cu11==10.9.0.58\n",
      "  Downloading nvidia_cufft_cu11-10.9.0.58-py3-none-manylinux1_x86_64.whl (168.4 MB)\n",
      "\u001b[2K     \u001b[90m━━━━━━━━━━━━━━━━━━━━━━━━━━━━━━━━━━━━━━━\u001b[0m \u001b[32m168.4/168.4 MB\u001b[0m \u001b[31m1.4 MB/s\u001b[0m eta \u001b[36m0:00:00\u001b[0m00:01\u001b[0m00:01\u001b[0m\n",
      "\u001b[?25hCollecting nvidia-curand-cu11==10.2.10.91\n",
      "  Downloading nvidia_curand_cu11-10.2.10.91-py3-none-manylinux1_x86_64.whl (54.6 MB)\n",
      "\u001b[2K     \u001b[90m━━━━━━━━━━━━━━━━━━━━━━━━━━━━━━━━━━━━━━━━\u001b[0m \u001b[32m54.6/54.6 MB\u001b[0m \u001b[31m16.5 MB/s\u001b[0m eta \u001b[36m0:00:00\u001b[0m00:01\u001b[0m00:01\u001b[0m\n",
      "\u001b[?25hCollecting nvidia-nvtx-cu11==11.7.91\n",
      "  Downloading nvidia_nvtx_cu11-11.7.91-py3-none-manylinux1_x86_64.whl (98 kB)\n",
      "\u001b[2K     \u001b[90m━━━━━━━━━━━━━━━━━━━━━━━━━━━━━━━━━━━━━━━━\u001b[0m \u001b[32m98.6/98.6 kB\u001b[0m \u001b[31m11.8 MB/s\u001b[0m eta \u001b[36m0:00:00\u001b[0m\n",
      "\u001b[?25hRequirement already satisfied: networkx in /home/ec2-user/anaconda3/envs/python3/lib/python3.10/site-packages (from torch>=1.6.0->sentence-transformers) (3.0)\n",
      "Collecting nvidia-nccl-cu11==2.14.3\n",
      "  Downloading nvidia_nccl_cu11-2.14.3-py3-none-manylinux1_x86_64.whl (177.1 MB)\n",
      "\u001b[2K     \u001b[90m━━━━━━━━━━━━━━━━━━━━━━━━━━━━━━━━━━━━━━━\u001b[0m \u001b[32m177.1/177.1 MB\u001b[0m \u001b[31m1.4 MB/s\u001b[0m eta \u001b[36m0:00:00\u001b[0m00:01\u001b[0m00:01\u001b[0m\n",
      "\u001b[?25hCollecting triton==2.0.0\n",
      "  Downloading triton-2.0.0-1-cp310-cp310-manylinux2014_x86_64.manylinux_2_17_x86_64.whl (63.3 MB)\n",
      "\u001b[2K     \u001b[90m━━━━━━━━━━━━━━━━━━━━━━━━━━━━━━━━━━━━━━━━\u001b[0m \u001b[32m63.3/63.3 MB\u001b[0m \u001b[31m8.9 MB/s\u001b[0m eta \u001b[36m0:00:00\u001b[0m:00:01\u001b[0m00:01\u001b[0m\n",
      "\u001b[?25hCollecting nvidia-cusolver-cu11==11.4.0.1\n",
      "  Downloading nvidia_cusolver_cu11-11.4.0.1-2-py3-none-manylinux1_x86_64.whl (102.6 MB)\n",
      "\u001b[2K     \u001b[90m━━━━━━━━━━━━━━━━━━━━━━━━━━━━━━━━━━━━━━━\u001b[0m \u001b[32m102.6/102.6 MB\u001b[0m \u001b[31m4.3 MB/s\u001b[0m eta \u001b[36m0:00:00\u001b[0m00:01\u001b[0m00:01\u001b[0m\n",
      "\u001b[?25hCollecting nvidia-cusparse-cu11==11.7.4.91\n",
      "  Downloading nvidia_cusparse_cu11-11.7.4.91-py3-none-manylinux1_x86_64.whl (173.2 MB)\n",
      "\u001b[2K     \u001b[90m━━━━━━━━━━━━━━━━━━━━━━━━━━━━━━━━━━━━━━━\u001b[0m \u001b[32m173.2/173.2 MB\u001b[0m \u001b[31m1.6 MB/s\u001b[0m eta \u001b[36m0:00:00\u001b[0m00:01\u001b[0m00:01\u001b[0m\n",
      "\u001b[?25hRequirement already satisfied: sympy in /home/ec2-user/anaconda3/envs/python3/lib/python3.10/site-packages (from torch>=1.6.0->sentence-transformers) (1.11.1)\n",
      "Collecting nvidia-cuda-nvrtc-cu11==11.7.99\n",
      "  Downloading nvidia_cuda_nvrtc_cu11-11.7.99-2-py3-none-manylinux1_x86_64.whl (21.0 MB)\n",
      "\u001b[2K     \u001b[90m━━━━━━━━━━━━━━━━━━━━━━━━━━━━━━━━━━━━━━━━\u001b[0m \u001b[32m21.0/21.0 MB\u001b[0m \u001b[31m17.7 MB/s\u001b[0m eta \u001b[36m0:00:00\u001b[0m00:01\u001b[0m00:01\u001b[0m\n",
      "\u001b[?25hCollecting nvidia-cuda-runtime-cu11==11.7.99\n",
      "  Downloading nvidia_cuda_runtime_cu11-11.7.99-py3-none-manylinux1_x86_64.whl (849 kB)\n",
      "\u001b[2K     \u001b[90m━━━━━━━━━━━━━━━━━━━━━━━━━━━━━━━━━━━━━━\u001b[0m \u001b[32m849.3/849.3 kB\u001b[0m \u001b[31m42.9 MB/s\u001b[0m eta \u001b[36m0:00:00\u001b[0m\n",
      "\u001b[?25hRequirement already satisfied: setuptools in /home/ec2-user/anaconda3/envs/python3/lib/python3.10/site-packages (from nvidia-cublas-cu11==11.10.3.66->torch>=1.6.0->sentence-transformers) (65.6.3)\n",
      "Requirement already satisfied: wheel in /home/ec2-user/anaconda3/envs/python3/lib/python3.10/site-packages (from nvidia-cublas-cu11==11.10.3.66->torch>=1.6.0->sentence-transformers) (0.38.4)\n",
      "Collecting lit\n",
      "  Downloading lit-16.0.6.tar.gz (153 kB)\n",
      "\u001b[2K     \u001b[90m━━━━━━━━━━━━━━━━━━━━━━━━━━━━━━━━━━━━━━\u001b[0m \u001b[32m153.7/153.7 kB\u001b[0m \u001b[31m24.3 MB/s\u001b[0m eta \u001b[36m0:00:00\u001b[0m\n",
      "\u001b[?25h  Installing build dependencies ... \u001b[?25ldone\n",
      "\u001b[?25h  Getting requirements to build wheel ... \u001b[?25ldone\n",
      "\u001b[?25h  Installing backend dependencies ... \u001b[?25ldone\n",
      "\u001b[?25h  Preparing metadata (pyproject.toml) ... \u001b[?25ldone\n",
      "\u001b[?25hCollecting cmake\n",
      "  Downloading cmake-3.26.4-py2.py3-none-manylinux2014_x86_64.manylinux_2_17_x86_64.whl (24.0 MB)\n",
      "\u001b[2K     \u001b[90m━━━━━━━━━━━━━━━━━━━━━━━━━━━━━━━━━━━━━━━━\u001b[0m \u001b[32m24.0/24.0 MB\u001b[0m \u001b[31m38.0 MB/s\u001b[0m eta \u001b[36m0:00:00\u001b[0m00:01\u001b[0m00:01\u001b[0m\n",
      "\u001b[?25hRequirement already satisfied: regex!=2019.12.17 in /home/ec2-user/anaconda3/envs/python3/lib/python3.10/site-packages (from transformers<5.0.0,>=4.6.0->sentence-transformers) (2022.10.31)\n"
     ]
    },
    {
     "name": "stdout",
     "output_type": "stream",
     "text": [
      "Collecting safetensors>=0.3.1\n",
      "  Downloading safetensors-0.3.1-cp310-cp310-manylinux_2_17_x86_64.manylinux2014_x86_64.whl (1.3 MB)\n",
      "\u001b[2K     \u001b[90m━━━━━━━━━━━━━━━━━━━━━━━━━━━━━━━━━━━━━━━━\u001b[0m \u001b[32m1.3/1.3 MB\u001b[0m \u001b[31m66.8 MB/s\u001b[0m eta \u001b[36m0:00:00\u001b[0m\n",
      "\u001b[?25hCollecting tokenizers!=0.11.3,<0.14,>=0.11.1\n",
      "  Downloading tokenizers-0.13.3-cp310-cp310-manylinux_2_17_x86_64.manylinux2014_x86_64.whl (7.8 MB)\n",
      "\u001b[2K     \u001b[90m━━━━━━━━━━━━━━━━━━━━━━━━━━━━━━━━━━━━━━━━\u001b[0m \u001b[32m7.8/7.8 MB\u001b[0m \u001b[31m64.0 MB/s\u001b[0m eta \u001b[36m0:00:00\u001b[0m:00:01\u001b[0m00:01\u001b[0m\n",
      "\u001b[?25hRequirement already satisfied: joblib in /home/ec2-user/anaconda3/envs/python3/lib/python3.10/site-packages (from nltk->sentence-transformers) (1.2.0)\n",
      "Requirement already satisfied: click in /home/ec2-user/anaconda3/envs/python3/lib/python3.10/site-packages (from nltk->sentence-transformers) (8.1.3)\n",
      "Requirement already satisfied: threadpoolctl>=2.0.0 in /home/ec2-user/anaconda3/envs/python3/lib/python3.10/site-packages (from scikit-learn->sentence-transformers) (3.1.0)\n",
      "Requirement already satisfied: pillow!=8.3.*,>=5.3.0 in /home/ec2-user/anaconda3/envs/python3/lib/python3.10/site-packages (from torchvision->sentence-transformers) (9.4.0)\n",
      "Requirement already satisfied: pyparsing!=3.0.5,>=2.0.2 in /home/ec2-user/anaconda3/envs/python3/lib/python3.10/site-packages (from packaging>=20.9->huggingface-hub>=0.4.0->sentence-transformers) (3.0.9)\n",
      "Requirement already satisfied: MarkupSafe>=2.0 in /home/ec2-user/anaconda3/envs/python3/lib/python3.10/site-packages (from jinja2->torch>=1.6.0->sentence-transformers) (2.1.1)\n",
      "Requirement already satisfied: urllib3<1.27,>=1.21.1 in /home/ec2-user/anaconda3/envs/python3/lib/python3.10/site-packages (from requests->huggingface-hub>=0.4.0->sentence-transformers) (1.26.8)\n",
      "Requirement already satisfied: charset-normalizer<3,>=2 in /home/ec2-user/anaconda3/envs/python3/lib/python3.10/site-packages (from requests->huggingface-hub>=0.4.0->sentence-transformers) (2.1.1)\n",
      "Requirement already satisfied: certifi>=2017.4.17 in /home/ec2-user/anaconda3/envs/python3/lib/python3.10/site-packages (from requests->huggingface-hub>=0.4.0->sentence-transformers) (2022.12.7)\n",
      "Requirement already satisfied: idna<4,>=2.5 in /home/ec2-user/anaconda3/envs/python3/lib/python3.10/site-packages (from requests->huggingface-hub>=0.4.0->sentence-transformers) (3.4)\n",
      "Requirement already satisfied: mpmath>=0.19 in /home/ec2-user/anaconda3/envs/python3/lib/python3.10/site-packages (from sympy->torch>=1.6.0->sentence-transformers) (1.2.1)\n",
      "Building wheels for collected packages: sentence-transformers, lit\n",
      "  Building wheel for sentence-transformers (setup.py) ... \u001b[?25ldone\n",
      "\u001b[?25h  Created wheel for sentence-transformers: filename=sentence_transformers-2.2.2-py3-none-any.whl size=125925 sha256=22a5e1dc8606eae7f43e492e7a58d6d9fab56a2d37d3f9bded31bda66e67260e\n",
      "  Stored in directory: /home/ec2-user/.cache/pip/wheels/0a/f5/dd/9d00836c4e9e279c2a59d5b0ab72dafa66cbc626a327c550dd\n",
      "  Building wheel for lit (pyproject.toml) ... \u001b[?25ldone\n",
      "\u001b[?25h  Created wheel for lit: filename=lit-16.0.6-py3-none-any.whl size=93582 sha256=9d652aa98ce2d22a7febee1c4df7e61820d7a666b6bb9db7aec68fbb91a504ea\n",
      "  Stored in directory: /home/ec2-user/.cache/pip/wheels/1a/56/14/294a6c208bce35b0fc3170fe1049b2fd3f61ce6495fc3870b3\n",
      "Successfully built sentence-transformers lit\n",
      "Installing collected packages: tokenizers, sentencepiece, safetensors, lit, cmake, nvidia-nvtx-cu11, nvidia-nccl-cu11, nvidia-cusparse-cu11, nvidia-curand-cu11, nvidia-cufft-cu11, nvidia-cuda-runtime-cu11, nvidia-cuda-nvrtc-cu11, nvidia-cuda-cupti-cu11, nvidia-cublas-cu11, nvidia-cusolver-cu11, nvidia-cudnn-cu11, huggingface-hub, transformers, triton, torch, torchvision, sentence-transformers\n",
      "Successfully installed cmake-3.26.4 huggingface-hub-0.15.1 lit-16.0.6 nvidia-cublas-cu11-11.10.3.66 nvidia-cuda-cupti-cu11-11.7.101 nvidia-cuda-nvrtc-cu11-11.7.99 nvidia-cuda-runtime-cu11-11.7.99 nvidia-cudnn-cu11-8.5.0.96 nvidia-cufft-cu11-10.9.0.58 nvidia-curand-cu11-10.2.10.91 nvidia-cusolver-cu11-11.4.0.1 nvidia-cusparse-cu11-11.7.4.91 nvidia-nccl-cu11-2.14.3 nvidia-nvtx-cu11-11.7.91 safetensors-0.3.1 sentence-transformers-2.2.2 sentencepiece-0.1.99 tokenizers-0.13.3 torch-2.0.1 torchvision-0.15.2 transformers-4.30.2 triton-2.0.0\n"
     ]
    }
   ],
   "source": [
    "!pip install sentence-transformers"
   ]
  },
  {
   "cell_type": "code",
   "execution_count": 102,
   "id": "debf7b38",
   "metadata": {},
   "outputs": [],
   "source": [
    "import sagemaker\n",
    "from sagemaker import get_execution_role\n",
    "from sagemaker.amazon.amazon_estimator import get_image_uri\n",
    "from sagemaker.estimator import Estimator\n",
    "from sagemaker.session import s3_input\n",
    "from sagemaker import KMeans\n",
    "import boto3\n",
    "from tqdm import tqdm\n",
    "from sentence_transformers import SentenceTransformer\n",
    "import numpy as np\n",
    "from sklearn.decomposition import TruncatedSVD\n",
    "import os\n",
    "import json"
   ]
  },
  {
   "cell_type": "code",
   "execution_count": 3,
   "id": "f0ba0e29",
   "metadata": {},
   "outputs": [],
   "source": [
    "# SageMaker 실행 역할 가져오기\n",
    "role = get_execution_role()\n",
    "\n",
    "# SageMaker 세션 생성\n",
    "sagemaker_session = sagemaker.Session()\n"
   ]
  },
  {
   "cell_type": "code",
   "execution_count": 65,
   "id": "0673a83b",
   "metadata": {},
   "outputs": [],
   "source": [
    "# S3에 액세스할 수 있는 클라이언트 생성\n",
    "s3 = boto3.client('s3')\n",
    "bucket = 'dothis-ai-test'\n",
    "data_key = 'data/video_data_20230414.txt'\n",
    "\n",
    "# S3에서 파일 가져오기\n",
    "response = s3.get_object(Bucket=bucket, Key=data_key)\n",
    "\n",
    "# 파일 내용 읽기\n",
    "file_content = response['Body'].read().decode('utf-8')\n",
    "\n",
    "# 파일 내용 출력\n",
    "train_data = file_content[1:].split(\"\\r\\n\")[:200]\n",
    "test_data = file_content[1:].split(\"\\r\\n\")[200:300]"
   ]
  },
  {
   "cell_type": "code",
   "execution_count": null,
   "id": "2f9fa89e",
   "metadata": {},
   "outputs": [],
   "source": []
  },
  {
   "cell_type": "code",
   "execution_count": null,
   "id": "dc385b3c",
   "metadata": {},
   "outputs": [],
   "source": [
    "# SentenceTransformer을 사용한 문장 임베딩\n",
    "embedding_name = \"jhgan\"\n",
    "sentence_model = SentenceTransformer('jhgan/ko-sroberta-multitask')"
   ]
  },
  {
   "cell_type": "code",
   "execution_count": 66,
   "id": "c128752d",
   "metadata": {},
   "outputs": [
    {
     "name": "stderr",
     "output_type": "stream",
     "text": [
      "INFO:sentence_transformers.SentenceTransformer:Load pretrained SentenceTransformer: jhgan/ko-sroberta-multitask\n",
      "INFO:sentence_transformers.SentenceTransformer:Use pytorch device: cpu\n"
     ]
    },
    {
     "data": {
      "application/vnd.jupyter.widget-view+json": {
       "model_id": "5d225d7eb431499cbeaf2b87ae704a0d",
       "version_major": 2,
       "version_minor": 0
      },
      "text/plain": [
       "Batches:   0%|          | 0/1 [00:00<?, ?it/s]"
      ]
     },
     "metadata": {},
     "output_type": "display_data"
    },
    {
     "data": {
      "application/vnd.jupyter.widget-view+json": {
       "model_id": "eaee51dcf210489cb7232a22ce2a4cad",
       "version_major": 2,
       "version_minor": 0
      },
      "text/plain": [
       "Batches:   0%|          | 0/1 [00:00<?, ?it/s]"
      ]
     },
     "metadata": {},
     "output_type": "display_data"
    },
    {
     "data": {
      "application/vnd.jupyter.widget-view+json": {
       "model_id": "71681a2f0b9a43d4a80120dd1f1d4b19",
       "version_major": 2,
       "version_minor": 0
      },
      "text/plain": [
       "Batches:   0%|          | 0/1 [00:00<?, ?it/s]"
      ]
     },
     "metadata": {},
     "output_type": "display_data"
    },
    {
     "data": {
      "application/vnd.jupyter.widget-view+json": {
       "model_id": "7fa659bdbdb34f28aa25b586131a8381",
       "version_major": 2,
       "version_minor": 0
      },
      "text/plain": [
       "Batches:   0%|          | 0/1 [00:00<?, ?it/s]"
      ]
     },
     "metadata": {},
     "output_type": "display_data"
    },
    {
     "data": {
      "application/vnd.jupyter.widget-view+json": {
       "model_id": "306203eb26c646749a4004e0f4a060d5",
       "version_major": 2,
       "version_minor": 0
      },
      "text/plain": [
       "Batches:   0%|          | 0/1 [00:00<?, ?it/s]"
      ]
     },
     "metadata": {},
     "output_type": "display_data"
    },
    {
     "data": {
      "application/vnd.jupyter.widget-view+json": {
       "model_id": "d0c4d524339848e29cbb397188a17a0e",
       "version_major": 2,
       "version_minor": 0
      },
      "text/plain": [
       "Batches:   0%|          | 0/1 [00:00<?, ?it/s]"
      ]
     },
     "metadata": {},
     "output_type": "display_data"
    },
    {
     "data": {
      "application/vnd.jupyter.widget-view+json": {
       "model_id": "b72f5411c4624c6686ab95eff2a93210",
       "version_major": 2,
       "version_minor": 0
      },
      "text/plain": [
       "Batches:   0%|          | 0/1 [00:00<?, ?it/s]"
      ]
     },
     "metadata": {},
     "output_type": "display_data"
    },
    {
     "data": {
      "application/vnd.jupyter.widget-view+json": {
       "model_id": "63118cea863444d4bd796988a769fb64",
       "version_major": 2,
       "version_minor": 0
      },
      "text/plain": [
       "Batches:   0%|          | 0/1 [00:00<?, ?it/s]"
      ]
     },
     "metadata": {},
     "output_type": "display_data"
    },
    {
     "data": {
      "application/vnd.jupyter.widget-view+json": {
       "model_id": "f189e698270042a3b44e36f5b988ad49",
       "version_major": 2,
       "version_minor": 0
      },
      "text/plain": [
       "Batches:   0%|          | 0/1 [00:00<?, ?it/s]"
      ]
     },
     "metadata": {},
     "output_type": "display_data"
    },
    {
     "data": {
      "application/vnd.jupyter.widget-view+json": {
       "model_id": "25936734b6de42a88a37819112d9cb03",
       "version_major": 2,
       "version_minor": 0
      },
      "text/plain": [
       "Batches:   0%|          | 0/1 [00:00<?, ?it/s]"
      ]
     },
     "metadata": {},
     "output_type": "display_data"
    },
    {
     "data": {
      "application/vnd.jupyter.widget-view+json": {
       "model_id": "7ce316c6fb1f4a9fb5b3f9435a31da85",
       "version_major": 2,
       "version_minor": 0
      },
      "text/plain": [
       "Batches:   0%|          | 0/1 [00:00<?, ?it/s]"
      ]
     },
     "metadata": {},
     "output_type": "display_data"
    },
    {
     "data": {
      "application/vnd.jupyter.widget-view+json": {
       "model_id": "5b7e96cd7b5043ec912859d99142a574",
       "version_major": 2,
       "version_minor": 0
      },
      "text/plain": [
       "Batches:   0%|          | 0/1 [00:00<?, ?it/s]"
      ]
     },
     "metadata": {},
     "output_type": "display_data"
    },
    {
     "data": {
      "application/vnd.jupyter.widget-view+json": {
       "model_id": "de9e5aeb402546e0a9da8d198ce30242",
       "version_major": 2,
       "version_minor": 0
      },
      "text/plain": [
       "Batches:   0%|          | 0/1 [00:00<?, ?it/s]"
      ]
     },
     "metadata": {},
     "output_type": "display_data"
    },
    {
     "data": {
      "application/vnd.jupyter.widget-view+json": {
       "model_id": "d744f99aff254fff89686f37337d092c",
       "version_major": 2,
       "version_minor": 0
      },
      "text/plain": [
       "Batches:   0%|          | 0/1 [00:00<?, ?it/s]"
      ]
     },
     "metadata": {},
     "output_type": "display_data"
    },
    {
     "data": {
      "application/vnd.jupyter.widget-view+json": {
       "model_id": "70638e8b3b914143a6ad49c9c5f4adbb",
       "version_major": 2,
       "version_minor": 0
      },
      "text/plain": [
       "Batches:   0%|          | 0/1 [00:00<?, ?it/s]"
      ]
     },
     "metadata": {},
     "output_type": "display_data"
    },
    {
     "data": {
      "application/vnd.jupyter.widget-view+json": {
       "model_id": "2f651bbcd30345c7af2f671824d6c21e",
       "version_major": 2,
       "version_minor": 0
      },
      "text/plain": [
       "Batches:   0%|          | 0/1 [00:00<?, ?it/s]"
      ]
     },
     "metadata": {},
     "output_type": "display_data"
    },
    {
     "data": {
      "application/vnd.jupyter.widget-view+json": {
       "model_id": "a2a162c4d2c64d88a2d0523ecaf95abd",
       "version_major": 2,
       "version_minor": 0
      },
      "text/plain": [
       "Batches:   0%|          | 0/1 [00:00<?, ?it/s]"
      ]
     },
     "metadata": {},
     "output_type": "display_data"
    },
    {
     "data": {
      "application/vnd.jupyter.widget-view+json": {
       "model_id": "5603636318fe4139945b341544d0fe2f",
       "version_major": 2,
       "version_minor": 0
      },
      "text/plain": [
       "Batches:   0%|          | 0/1 [00:00<?, ?it/s]"
      ]
     },
     "metadata": {},
     "output_type": "display_data"
    },
    {
     "data": {
      "application/vnd.jupyter.widget-view+json": {
       "model_id": "e9e5290599bc4e0fafeffbde2f36b4e4",
       "version_major": 2,
       "version_minor": 0
      },
      "text/plain": [
       "Batches:   0%|          | 0/1 [00:00<?, ?it/s]"
      ]
     },
     "metadata": {},
     "output_type": "display_data"
    },
    {
     "data": {
      "application/vnd.jupyter.widget-view+json": {
       "model_id": "42d32f46625840b09887d34d49be554c",
       "version_major": 2,
       "version_minor": 0
      },
      "text/plain": [
       "Batches:   0%|          | 0/1 [00:00<?, ?it/s]"
      ]
     },
     "metadata": {},
     "output_type": "display_data"
    },
    {
     "data": {
      "application/vnd.jupyter.widget-view+json": {
       "model_id": "06f3b5dce02647dd9a43b4c0a3c8113c",
       "version_major": 2,
       "version_minor": 0
      },
      "text/plain": [
       "Batches:   0%|          | 0/1 [00:00<?, ?it/s]"
      ]
     },
     "metadata": {},
     "output_type": "display_data"
    },
    {
     "data": {
      "application/vnd.jupyter.widget-view+json": {
       "model_id": "b80a71a5229440f7b9c166de2a3cd445",
       "version_major": 2,
       "version_minor": 0
      },
      "text/plain": [
       "Batches:   0%|          | 0/1 [00:00<?, ?it/s]"
      ]
     },
     "metadata": {},
     "output_type": "display_data"
    },
    {
     "data": {
      "application/vnd.jupyter.widget-view+json": {
       "model_id": "4c2dab1122c44a1baabc305a142e0b9b",
       "version_major": 2,
       "version_minor": 0
      },
      "text/plain": [
       "Batches:   0%|          | 0/1 [00:00<?, ?it/s]"
      ]
     },
     "metadata": {},
     "output_type": "display_data"
    },
    {
     "data": {
      "application/vnd.jupyter.widget-view+json": {
       "model_id": "406ecac31f844004b3b5b2b1fb9221d3",
       "version_major": 2,
       "version_minor": 0
      },
      "text/plain": [
       "Batches:   0%|          | 0/1 [00:00<?, ?it/s]"
      ]
     },
     "metadata": {},
     "output_type": "display_data"
    },
    {
     "data": {
      "application/vnd.jupyter.widget-view+json": {
       "model_id": "1eff345c9a3b4923a45cf538175b6b53",
       "version_major": 2,
       "version_minor": 0
      },
      "text/plain": [
       "Batches:   0%|          | 0/1 [00:00<?, ?it/s]"
      ]
     },
     "metadata": {},
     "output_type": "display_data"
    },
    {
     "data": {
      "application/vnd.jupyter.widget-view+json": {
       "model_id": "83edfc652465411896ed401b18c00a2f",
       "version_major": 2,
       "version_minor": 0
      },
      "text/plain": [
       "Batches:   0%|          | 0/1 [00:00<?, ?it/s]"
      ]
     },
     "metadata": {},
     "output_type": "display_data"
    },
    {
     "data": {
      "application/vnd.jupyter.widget-view+json": {
       "model_id": "18ef67d9b9284d2caeab933e599a0e87",
       "version_major": 2,
       "version_minor": 0
      },
      "text/plain": [
       "Batches:   0%|          | 0/1 [00:00<?, ?it/s]"
      ]
     },
     "metadata": {},
     "output_type": "display_data"
    },
    {
     "data": {
      "application/vnd.jupyter.widget-view+json": {
       "model_id": "13595b9879004c85999bcb34cc29e9e0",
       "version_major": 2,
       "version_minor": 0
      },
      "text/plain": [
       "Batches:   0%|          | 0/1 [00:00<?, ?it/s]"
      ]
     },
     "metadata": {},
     "output_type": "display_data"
    },
    {
     "data": {
      "application/vnd.jupyter.widget-view+json": {
       "model_id": "1cb7144a49b7464eb4ffff612422f851",
       "version_major": 2,
       "version_minor": 0
      },
      "text/plain": [
       "Batches:   0%|          | 0/1 [00:00<?, ?it/s]"
      ]
     },
     "metadata": {},
     "output_type": "display_data"
    },
    {
     "data": {
      "application/vnd.jupyter.widget-view+json": {
       "model_id": "a627bc99a2344c6fa9c139813c06988f",
       "version_major": 2,
       "version_minor": 0
      },
      "text/plain": [
       "Batches:   0%|          | 0/1 [00:00<?, ?it/s]"
      ]
     },
     "metadata": {},
     "output_type": "display_data"
    },
    {
     "data": {
      "application/vnd.jupyter.widget-view+json": {
       "model_id": "f25735d3249f4c54aae45cb77c87c32c",
       "version_major": 2,
       "version_minor": 0
      },
      "text/plain": [
       "Batches:   0%|          | 0/1 [00:00<?, ?it/s]"
      ]
     },
     "metadata": {},
     "output_type": "display_data"
    },
    {
     "data": {
      "application/vnd.jupyter.widget-view+json": {
       "model_id": "09816f24b8c540938a0b3b867c3843e7",
       "version_major": 2,
       "version_minor": 0
      },
      "text/plain": [
       "Batches:   0%|          | 0/1 [00:00<?, ?it/s]"
      ]
     },
     "metadata": {},
     "output_type": "display_data"
    },
    {
     "data": {
      "application/vnd.jupyter.widget-view+json": {
       "model_id": "a87f27b1e1824011abe4c8e53bf7362f",
       "version_major": 2,
       "version_minor": 0
      },
      "text/plain": [
       "Batches:   0%|          | 0/1 [00:00<?, ?it/s]"
      ]
     },
     "metadata": {},
     "output_type": "display_data"
    },
    {
     "data": {
      "application/vnd.jupyter.widget-view+json": {
       "model_id": "fe25cab226a243dea76522dd7f6f5326",
       "version_major": 2,
       "version_minor": 0
      },
      "text/plain": [
       "Batches:   0%|          | 0/1 [00:00<?, ?it/s]"
      ]
     },
     "metadata": {},
     "output_type": "display_data"
    },
    {
     "data": {
      "application/vnd.jupyter.widget-view+json": {
       "model_id": "be73f877dbbd4e7e98681a14b91fb042",
       "version_major": 2,
       "version_minor": 0
      },
      "text/plain": [
       "Batches:   0%|          | 0/1 [00:00<?, ?it/s]"
      ]
     },
     "metadata": {},
     "output_type": "display_data"
    },
    {
     "data": {
      "application/vnd.jupyter.widget-view+json": {
       "model_id": "bdd54f6d0f494b0a8561fe49816f5b2c",
       "version_major": 2,
       "version_minor": 0
      },
      "text/plain": [
       "Batches:   0%|          | 0/1 [00:00<?, ?it/s]"
      ]
     },
     "metadata": {},
     "output_type": "display_data"
    },
    {
     "data": {
      "application/vnd.jupyter.widget-view+json": {
       "model_id": "ff90afa20fcd44cf95218f0fee04f0c8",
       "version_major": 2,
       "version_minor": 0
      },
      "text/plain": [
       "Batches:   0%|          | 0/1 [00:00<?, ?it/s]"
      ]
     },
     "metadata": {},
     "output_type": "display_data"
    },
    {
     "data": {
      "application/vnd.jupyter.widget-view+json": {
       "model_id": "32ddbb6aa7eb4beb97797270d0d7c238",
       "version_major": 2,
       "version_minor": 0
      },
      "text/plain": [
       "Batches:   0%|          | 0/1 [00:00<?, ?it/s]"
      ]
     },
     "metadata": {},
     "output_type": "display_data"
    },
    {
     "data": {
      "application/vnd.jupyter.widget-view+json": {
       "model_id": "32fca00090d54ea699ca8412f9b73f99",
       "version_major": 2,
       "version_minor": 0
      },
      "text/plain": [
       "Batches:   0%|          | 0/1 [00:00<?, ?it/s]"
      ]
     },
     "metadata": {},
     "output_type": "display_data"
    },
    {
     "data": {
      "application/vnd.jupyter.widget-view+json": {
       "model_id": "fa08f48e2cfa4780ad5470dd4c23757b",
       "version_major": 2,
       "version_minor": 0
      },
      "text/plain": [
       "Batches:   0%|          | 0/1 [00:00<?, ?it/s]"
      ]
     },
     "metadata": {},
     "output_type": "display_data"
    },
    {
     "data": {
      "application/vnd.jupyter.widget-view+json": {
       "model_id": "03060af26768469cb22ddd0ca0c6dbc7",
       "version_major": 2,
       "version_minor": 0
      },
      "text/plain": [
       "Batches:   0%|          | 0/1 [00:00<?, ?it/s]"
      ]
     },
     "metadata": {},
     "output_type": "display_data"
    },
    {
     "data": {
      "application/vnd.jupyter.widget-view+json": {
       "model_id": "a4ce0745469b44599ac8622a34d82eb3",
       "version_major": 2,
       "version_minor": 0
      },
      "text/plain": [
       "Batches:   0%|          | 0/1 [00:00<?, ?it/s]"
      ]
     },
     "metadata": {},
     "output_type": "display_data"
    },
    {
     "data": {
      "application/vnd.jupyter.widget-view+json": {
       "model_id": "ee28439596d748b6ab8acc73950501ed",
       "version_major": 2,
       "version_minor": 0
      },
      "text/plain": [
       "Batches:   0%|          | 0/1 [00:00<?, ?it/s]"
      ]
     },
     "metadata": {},
     "output_type": "display_data"
    },
    {
     "data": {
      "application/vnd.jupyter.widget-view+json": {
       "model_id": "4b1ea5610d5c4b33a2f786a9a89b9bd1",
       "version_major": 2,
       "version_minor": 0
      },
      "text/plain": [
       "Batches:   0%|          | 0/1 [00:00<?, ?it/s]"
      ]
     },
     "metadata": {},
     "output_type": "display_data"
    },
    {
     "data": {
      "application/vnd.jupyter.widget-view+json": {
       "model_id": "febd527d3b36488d86acfbdf101dabb5",
       "version_major": 2,
       "version_minor": 0
      },
      "text/plain": [
       "Batches:   0%|          | 0/1 [00:00<?, ?it/s]"
      ]
     },
     "metadata": {},
     "output_type": "display_data"
    },
    {
     "data": {
      "application/vnd.jupyter.widget-view+json": {
       "model_id": "8c732408f1744b11b2fb5399b86ee3ff",
       "version_major": 2,
       "version_minor": 0
      },
      "text/plain": [
       "Batches:   0%|          | 0/1 [00:00<?, ?it/s]"
      ]
     },
     "metadata": {},
     "output_type": "display_data"
    },
    {
     "data": {
      "application/vnd.jupyter.widget-view+json": {
       "model_id": "b759fd9874a3484babbcde51245458f7",
       "version_major": 2,
       "version_minor": 0
      },
      "text/plain": [
       "Batches:   0%|          | 0/1 [00:00<?, ?it/s]"
      ]
     },
     "metadata": {},
     "output_type": "display_data"
    },
    {
     "data": {
      "application/vnd.jupyter.widget-view+json": {
       "model_id": "5da615c9625c498d8470942edc1c3194",
       "version_major": 2,
       "version_minor": 0
      },
      "text/plain": [
       "Batches:   0%|          | 0/1 [00:00<?, ?it/s]"
      ]
     },
     "metadata": {},
     "output_type": "display_data"
    },
    {
     "data": {
      "application/vnd.jupyter.widget-view+json": {
       "model_id": "ad1a97c6b804462fb622a939b800b5d3",
       "version_major": 2,
       "version_minor": 0
      },
      "text/plain": [
       "Batches:   0%|          | 0/1 [00:00<?, ?it/s]"
      ]
     },
     "metadata": {},
     "output_type": "display_data"
    },
    {
     "data": {
      "application/vnd.jupyter.widget-view+json": {
       "model_id": "b0b45b1a066f4a44b633f21812995005",
       "version_major": 2,
       "version_minor": 0
      },
      "text/plain": [
       "Batches:   0%|          | 0/1 [00:00<?, ?it/s]"
      ]
     },
     "metadata": {},
     "output_type": "display_data"
    },
    {
     "data": {
      "application/vnd.jupyter.widget-view+json": {
       "model_id": "d7a3e8d40d2a4f7cb3f8894fe12445c4",
       "version_major": 2,
       "version_minor": 0
      },
      "text/plain": [
       "Batches:   0%|          | 0/1 [00:00<?, ?it/s]"
      ]
     },
     "metadata": {},
     "output_type": "display_data"
    },
    {
     "data": {
      "application/vnd.jupyter.widget-view+json": {
       "model_id": "f8d48fc2a80a4dd5b355fd034b766a4c",
       "version_major": 2,
       "version_minor": 0
      },
      "text/plain": [
       "Batches:   0%|          | 0/1 [00:00<?, ?it/s]"
      ]
     },
     "metadata": {},
     "output_type": "display_data"
    },
    {
     "data": {
      "application/vnd.jupyter.widget-view+json": {
       "model_id": "92c5ba8bd60842a685439c36a57ea6b7",
       "version_major": 2,
       "version_minor": 0
      },
      "text/plain": [
       "Batches:   0%|          | 0/1 [00:00<?, ?it/s]"
      ]
     },
     "metadata": {},
     "output_type": "display_data"
    },
    {
     "data": {
      "application/vnd.jupyter.widget-view+json": {
       "model_id": "8929c7220e5d458aa89d2cc52a63860c",
       "version_major": 2,
       "version_minor": 0
      },
      "text/plain": [
       "Batches:   0%|          | 0/1 [00:00<?, ?it/s]"
      ]
     },
     "metadata": {},
     "output_type": "display_data"
    },
    {
     "data": {
      "application/vnd.jupyter.widget-view+json": {
       "model_id": "d5916f5828e84e16a7b1e726f10bc603",
       "version_major": 2,
       "version_minor": 0
      },
      "text/plain": [
       "Batches:   0%|          | 0/1 [00:00<?, ?it/s]"
      ]
     },
     "metadata": {},
     "output_type": "display_data"
    },
    {
     "data": {
      "application/vnd.jupyter.widget-view+json": {
       "model_id": "7558cbf30b1e4d07a8d230c6effce36b",
       "version_major": 2,
       "version_minor": 0
      },
      "text/plain": [
       "Batches:   0%|          | 0/1 [00:00<?, ?it/s]"
      ]
     },
     "metadata": {},
     "output_type": "display_data"
    },
    {
     "data": {
      "application/vnd.jupyter.widget-view+json": {
       "model_id": "8101f5caae9f47edbe9c5e112b93429c",
       "version_major": 2,
       "version_minor": 0
      },
      "text/plain": [
       "Batches:   0%|          | 0/1 [00:00<?, ?it/s]"
      ]
     },
     "metadata": {},
     "output_type": "display_data"
    },
    {
     "data": {
      "application/vnd.jupyter.widget-view+json": {
       "model_id": "c4d84e7479194097850f35c70f38e7d9",
       "version_major": 2,
       "version_minor": 0
      },
      "text/plain": [
       "Batches:   0%|          | 0/1 [00:00<?, ?it/s]"
      ]
     },
     "metadata": {},
     "output_type": "display_data"
    },
    {
     "data": {
      "application/vnd.jupyter.widget-view+json": {
       "model_id": "59d1f9eb473349d8b981ca20631127a1",
       "version_major": 2,
       "version_minor": 0
      },
      "text/plain": [
       "Batches:   0%|          | 0/1 [00:00<?, ?it/s]"
      ]
     },
     "metadata": {},
     "output_type": "display_data"
    },
    {
     "data": {
      "application/vnd.jupyter.widget-view+json": {
       "model_id": "d6c30b06d1fb4560997b6fce02b44086",
       "version_major": 2,
       "version_minor": 0
      },
      "text/plain": [
       "Batches:   0%|          | 0/1 [00:00<?, ?it/s]"
      ]
     },
     "metadata": {},
     "output_type": "display_data"
    },
    {
     "data": {
      "application/vnd.jupyter.widget-view+json": {
       "model_id": "ebd502643ee846eeb2094b17128a5e76",
       "version_major": 2,
       "version_minor": 0
      },
      "text/plain": [
       "Batches:   0%|          | 0/1 [00:00<?, ?it/s]"
      ]
     },
     "metadata": {},
     "output_type": "display_data"
    },
    {
     "data": {
      "application/vnd.jupyter.widget-view+json": {
       "model_id": "74b9ea51ff9c458ab486922a212adfce",
       "version_major": 2,
       "version_minor": 0
      },
      "text/plain": [
       "Batches:   0%|          | 0/1 [00:00<?, ?it/s]"
      ]
     },
     "metadata": {},
     "output_type": "display_data"
    },
    {
     "data": {
      "application/vnd.jupyter.widget-view+json": {
       "model_id": "bb482e308cbf4b3c826503404554ddf8",
       "version_major": 2,
       "version_minor": 0
      },
      "text/plain": [
       "Batches:   0%|          | 0/1 [00:00<?, ?it/s]"
      ]
     },
     "metadata": {},
     "output_type": "display_data"
    },
    {
     "data": {
      "application/vnd.jupyter.widget-view+json": {
       "model_id": "cbf75255adaa476ca9689c1bdbc9a369",
       "version_major": 2,
       "version_minor": 0
      },
      "text/plain": [
       "Batches:   0%|          | 0/1 [00:00<?, ?it/s]"
      ]
     },
     "metadata": {},
     "output_type": "display_data"
    },
    {
     "data": {
      "application/vnd.jupyter.widget-view+json": {
       "model_id": "36bcbb63445543898c7eab7d79499304",
       "version_major": 2,
       "version_minor": 0
      },
      "text/plain": [
       "Batches:   0%|          | 0/1 [00:00<?, ?it/s]"
      ]
     },
     "metadata": {},
     "output_type": "display_data"
    },
    {
     "data": {
      "application/vnd.jupyter.widget-view+json": {
       "model_id": "f931943b8cd148d59c008ef56dacb995",
       "version_major": 2,
       "version_minor": 0
      },
      "text/plain": [
       "Batches:   0%|          | 0/1 [00:00<?, ?it/s]"
      ]
     },
     "metadata": {},
     "output_type": "display_data"
    },
    {
     "data": {
      "application/vnd.jupyter.widget-view+json": {
       "model_id": "dbd4f721eda846eaac0bc62a4b19c9db",
       "version_major": 2,
       "version_minor": 0
      },
      "text/plain": [
       "Batches:   0%|          | 0/1 [00:00<?, ?it/s]"
      ]
     },
     "metadata": {},
     "output_type": "display_data"
    },
    {
     "data": {
      "application/vnd.jupyter.widget-view+json": {
       "model_id": "5301fd900a404615b084399bc954b8d5",
       "version_major": 2,
       "version_minor": 0
      },
      "text/plain": [
       "Batches:   0%|          | 0/1 [00:00<?, ?it/s]"
      ]
     },
     "metadata": {},
     "output_type": "display_data"
    },
    {
     "data": {
      "application/vnd.jupyter.widget-view+json": {
       "model_id": "38b53d51f8654bf6b89e1f1dc09f7a68",
       "version_major": 2,
       "version_minor": 0
      },
      "text/plain": [
       "Batches:   0%|          | 0/1 [00:00<?, ?it/s]"
      ]
     },
     "metadata": {},
     "output_type": "display_data"
    },
    {
     "data": {
      "application/vnd.jupyter.widget-view+json": {
       "model_id": "add958e02bcf41e4a58fd23d062b872e",
       "version_major": 2,
       "version_minor": 0
      },
      "text/plain": [
       "Batches:   0%|          | 0/1 [00:00<?, ?it/s]"
      ]
     },
     "metadata": {},
     "output_type": "display_data"
    },
    {
     "data": {
      "application/vnd.jupyter.widget-view+json": {
       "model_id": "40750e5f3e934a24a17df217ebba81d9",
       "version_major": 2,
       "version_minor": 0
      },
      "text/plain": [
       "Batches:   0%|          | 0/1 [00:00<?, ?it/s]"
      ]
     },
     "metadata": {},
     "output_type": "display_data"
    },
    {
     "data": {
      "application/vnd.jupyter.widget-view+json": {
       "model_id": "b7abe84f46d74010b456051b02b2755c",
       "version_major": 2,
       "version_minor": 0
      },
      "text/plain": [
       "Batches:   0%|          | 0/1 [00:00<?, ?it/s]"
      ]
     },
     "metadata": {},
     "output_type": "display_data"
    },
    {
     "data": {
      "application/vnd.jupyter.widget-view+json": {
       "model_id": "45d250ef5deb40a6ad034c8e4d43d804",
       "version_major": 2,
       "version_minor": 0
      },
      "text/plain": [
       "Batches:   0%|          | 0/1 [00:00<?, ?it/s]"
      ]
     },
     "metadata": {},
     "output_type": "display_data"
    },
    {
     "data": {
      "application/vnd.jupyter.widget-view+json": {
       "model_id": "9078c41d8179483e9fa9b9f48294164d",
       "version_major": 2,
       "version_minor": 0
      },
      "text/plain": [
       "Batches:   0%|          | 0/1 [00:00<?, ?it/s]"
      ]
     },
     "metadata": {},
     "output_type": "display_data"
    },
    {
     "data": {
      "application/vnd.jupyter.widget-view+json": {
       "model_id": "902def54ce4f45628a4b678135f9df77",
       "version_major": 2,
       "version_minor": 0
      },
      "text/plain": [
       "Batches:   0%|          | 0/1 [00:00<?, ?it/s]"
      ]
     },
     "metadata": {},
     "output_type": "display_data"
    },
    {
     "data": {
      "application/vnd.jupyter.widget-view+json": {
       "model_id": "965cb2be23b6453a8c33c71e72a1af5c",
       "version_major": 2,
       "version_minor": 0
      },
      "text/plain": [
       "Batches:   0%|          | 0/1 [00:00<?, ?it/s]"
      ]
     },
     "metadata": {},
     "output_type": "display_data"
    },
    {
     "data": {
      "application/vnd.jupyter.widget-view+json": {
       "model_id": "3548d876c90d41a6bad3b79dffba1a0d",
       "version_major": 2,
       "version_minor": 0
      },
      "text/plain": [
       "Batches:   0%|          | 0/1 [00:00<?, ?it/s]"
      ]
     },
     "metadata": {},
     "output_type": "display_data"
    },
    {
     "data": {
      "application/vnd.jupyter.widget-view+json": {
       "model_id": "76875cb88a3f4ee6b6d643fcda5f4d30",
       "version_major": 2,
       "version_minor": 0
      },
      "text/plain": [
       "Batches:   0%|          | 0/1 [00:00<?, ?it/s]"
      ]
     },
     "metadata": {},
     "output_type": "display_data"
    },
    {
     "data": {
      "application/vnd.jupyter.widget-view+json": {
       "model_id": "c2978d05699f40e1b14a1d6c80f20b42",
       "version_major": 2,
       "version_minor": 0
      },
      "text/plain": [
       "Batches:   0%|          | 0/1 [00:00<?, ?it/s]"
      ]
     },
     "metadata": {},
     "output_type": "display_data"
    },
    {
     "data": {
      "application/vnd.jupyter.widget-view+json": {
       "model_id": "67b007835bf648fdae7956ebf637469c",
       "version_major": 2,
       "version_minor": 0
      },
      "text/plain": [
       "Batches:   0%|          | 0/1 [00:00<?, ?it/s]"
      ]
     },
     "metadata": {},
     "output_type": "display_data"
    },
    {
     "data": {
      "application/vnd.jupyter.widget-view+json": {
       "model_id": "94f98644408b417290c46679f14d348c",
       "version_major": 2,
       "version_minor": 0
      },
      "text/plain": [
       "Batches:   0%|          | 0/1 [00:00<?, ?it/s]"
      ]
     },
     "metadata": {},
     "output_type": "display_data"
    },
    {
     "data": {
      "application/vnd.jupyter.widget-view+json": {
       "model_id": "fee42981595a43479b385f2b289653dd",
       "version_major": 2,
       "version_minor": 0
      },
      "text/plain": [
       "Batches:   0%|          | 0/1 [00:00<?, ?it/s]"
      ]
     },
     "metadata": {},
     "output_type": "display_data"
    },
    {
     "data": {
      "application/vnd.jupyter.widget-view+json": {
       "model_id": "15b5793fe0c54f2dbe5eb7106de46641",
       "version_major": 2,
       "version_minor": 0
      },
      "text/plain": [
       "Batches:   0%|          | 0/1 [00:00<?, ?it/s]"
      ]
     },
     "metadata": {},
     "output_type": "display_data"
    },
    {
     "data": {
      "application/vnd.jupyter.widget-view+json": {
       "model_id": "00388ea608644801bf2b867ca5e2bdbd",
       "version_major": 2,
       "version_minor": 0
      },
      "text/plain": [
       "Batches:   0%|          | 0/1 [00:00<?, ?it/s]"
      ]
     },
     "metadata": {},
     "output_type": "display_data"
    },
    {
     "data": {
      "application/vnd.jupyter.widget-view+json": {
       "model_id": "d6a9fce40adf437699fe5896748aceaa",
       "version_major": 2,
       "version_minor": 0
      },
      "text/plain": [
       "Batches:   0%|          | 0/1 [00:00<?, ?it/s]"
      ]
     },
     "metadata": {},
     "output_type": "display_data"
    },
    {
     "data": {
      "application/vnd.jupyter.widget-view+json": {
       "model_id": "8db84a76414340209b60c99eb0b81f7e",
       "version_major": 2,
       "version_minor": 0
      },
      "text/plain": [
       "Batches:   0%|          | 0/1 [00:00<?, ?it/s]"
      ]
     },
     "metadata": {},
     "output_type": "display_data"
    },
    {
     "data": {
      "application/vnd.jupyter.widget-view+json": {
       "model_id": "142158011a6746458d23985eb196e8fb",
       "version_major": 2,
       "version_minor": 0
      },
      "text/plain": [
       "Batches:   0%|          | 0/1 [00:00<?, ?it/s]"
      ]
     },
     "metadata": {},
     "output_type": "display_data"
    },
    {
     "data": {
      "application/vnd.jupyter.widget-view+json": {
       "model_id": "5a7c38d71123467d882348703a8dfca0",
       "version_major": 2,
       "version_minor": 0
      },
      "text/plain": [
       "Batches:   0%|          | 0/1 [00:00<?, ?it/s]"
      ]
     },
     "metadata": {},
     "output_type": "display_data"
    },
    {
     "data": {
      "application/vnd.jupyter.widget-view+json": {
       "model_id": "f16271b844ee478c85d180e6ab24fb47",
       "version_major": 2,
       "version_minor": 0
      },
      "text/plain": [
       "Batches:   0%|          | 0/1 [00:00<?, ?it/s]"
      ]
     },
     "metadata": {},
     "output_type": "display_data"
    },
    {
     "data": {
      "application/vnd.jupyter.widget-view+json": {
       "model_id": "c2be0bfef85f4a7fb8db3feba87e464d",
       "version_major": 2,
       "version_minor": 0
      },
      "text/plain": [
       "Batches:   0%|          | 0/1 [00:00<?, ?it/s]"
      ]
     },
     "metadata": {},
     "output_type": "display_data"
    },
    {
     "data": {
      "application/vnd.jupyter.widget-view+json": {
       "model_id": "269648775bf94d61b725b95fe894899b",
       "version_major": 2,
       "version_minor": 0
      },
      "text/plain": [
       "Batches:   0%|          | 0/1 [00:00<?, ?it/s]"
      ]
     },
     "metadata": {},
     "output_type": "display_data"
    },
    {
     "data": {
      "application/vnd.jupyter.widget-view+json": {
       "model_id": "aa0917886c644f5886960f04fb69bcd9",
       "version_major": 2,
       "version_minor": 0
      },
      "text/plain": [
       "Batches:   0%|          | 0/1 [00:00<?, ?it/s]"
      ]
     },
     "metadata": {},
     "output_type": "display_data"
    },
    {
     "data": {
      "application/vnd.jupyter.widget-view+json": {
       "model_id": "f1204382b55a47609721ca17be93cdbe",
       "version_major": 2,
       "version_minor": 0
      },
      "text/plain": [
       "Batches:   0%|          | 0/1 [00:00<?, ?it/s]"
      ]
     },
     "metadata": {},
     "output_type": "display_data"
    },
    {
     "data": {
      "application/vnd.jupyter.widget-view+json": {
       "model_id": "2da4f561b3594a1ba8d3c283ee00f5ac",
       "version_major": 2,
       "version_minor": 0
      },
      "text/plain": [
       "Batches:   0%|          | 0/1 [00:00<?, ?it/s]"
      ]
     },
     "metadata": {},
     "output_type": "display_data"
    },
    {
     "data": {
      "application/vnd.jupyter.widget-view+json": {
       "model_id": "5fb4c4539c214bd596388934a18541a1",
       "version_major": 2,
       "version_minor": 0
      },
      "text/plain": [
       "Batches:   0%|          | 0/1 [00:00<?, ?it/s]"
      ]
     },
     "metadata": {},
     "output_type": "display_data"
    },
    {
     "data": {
      "application/vnd.jupyter.widget-view+json": {
       "model_id": "e01bab04f38a435fbf93fef7b28feaed",
       "version_major": 2,
       "version_minor": 0
      },
      "text/plain": [
       "Batches:   0%|          | 0/1 [00:00<?, ?it/s]"
      ]
     },
     "metadata": {},
     "output_type": "display_data"
    },
    {
     "data": {
      "application/vnd.jupyter.widget-view+json": {
       "model_id": "0bf2724b262644dea93b6942e3729a9b",
       "version_major": 2,
       "version_minor": 0
      },
      "text/plain": [
       "Batches:   0%|          | 0/1 [00:00<?, ?it/s]"
      ]
     },
     "metadata": {},
     "output_type": "display_data"
    },
    {
     "data": {
      "application/vnd.jupyter.widget-view+json": {
       "model_id": "ba603de633884157891277df2cef79fa",
       "version_major": 2,
       "version_minor": 0
      },
      "text/plain": [
       "Batches:   0%|          | 0/1 [00:00<?, ?it/s]"
      ]
     },
     "metadata": {},
     "output_type": "display_data"
    },
    {
     "data": {
      "application/vnd.jupyter.widget-view+json": {
       "model_id": "96f66f9803fd4e72a4c32263053117d1",
       "version_major": 2,
       "version_minor": 0
      },
      "text/plain": [
       "Batches:   0%|          | 0/1 [00:00<?, ?it/s]"
      ]
     },
     "metadata": {},
     "output_type": "display_data"
    },
    {
     "data": {
      "application/vnd.jupyter.widget-view+json": {
       "model_id": "ad61d381dd1a4df39dc37f80097964c8",
       "version_major": 2,
       "version_minor": 0
      },
      "text/plain": [
       "Batches:   0%|          | 0/1 [00:00<?, ?it/s]"
      ]
     },
     "metadata": {},
     "output_type": "display_data"
    },
    {
     "data": {
      "application/vnd.jupyter.widget-view+json": {
       "model_id": "44ad5def70bf466086263fc89aabad38",
       "version_major": 2,
       "version_minor": 0
      },
      "text/plain": [
       "Batches:   0%|          | 0/1 [00:00<?, ?it/s]"
      ]
     },
     "metadata": {},
     "output_type": "display_data"
    },
    {
     "data": {
      "application/vnd.jupyter.widget-view+json": {
       "model_id": "e0daad19b440401a8f0961d1f2889668",
       "version_major": 2,
       "version_minor": 0
      },
      "text/plain": [
       "Batches:   0%|          | 0/1 [00:00<?, ?it/s]"
      ]
     },
     "metadata": {},
     "output_type": "display_data"
    },
    {
     "data": {
      "application/vnd.jupyter.widget-view+json": {
       "model_id": "7e58153616ab4cc4a46268960051c131",
       "version_major": 2,
       "version_minor": 0
      },
      "text/plain": [
       "Batches:   0%|          | 0/1 [00:00<?, ?it/s]"
      ]
     },
     "metadata": {},
     "output_type": "display_data"
    },
    {
     "data": {
      "application/vnd.jupyter.widget-view+json": {
       "model_id": "b0cf4341f4ed491bb7bf9bdff7b380f1",
       "version_major": 2,
       "version_minor": 0
      },
      "text/plain": [
       "Batches:   0%|          | 0/1 [00:00<?, ?it/s]"
      ]
     },
     "metadata": {},
     "output_type": "display_data"
    },
    {
     "data": {
      "application/vnd.jupyter.widget-view+json": {
       "model_id": "51d9d6571de943168516570f621a6ae0",
       "version_major": 2,
       "version_minor": 0
      },
      "text/plain": [
       "Batches:   0%|          | 0/1 [00:00<?, ?it/s]"
      ]
     },
     "metadata": {},
     "output_type": "display_data"
    },
    {
     "data": {
      "application/vnd.jupyter.widget-view+json": {
       "model_id": "ebaf4a110b664f058da271d4c67ec8ec",
       "version_major": 2,
       "version_minor": 0
      },
      "text/plain": [
       "Batches:   0%|          | 0/1 [00:00<?, ?it/s]"
      ]
     },
     "metadata": {},
     "output_type": "display_data"
    },
    {
     "data": {
      "application/vnd.jupyter.widget-view+json": {
       "model_id": "6e34b2be37ab4b928cc7d0a1b15c38f6",
       "version_major": 2,
       "version_minor": 0
      },
      "text/plain": [
       "Batches:   0%|          | 0/1 [00:00<?, ?it/s]"
      ]
     },
     "metadata": {},
     "output_type": "display_data"
    },
    {
     "data": {
      "application/vnd.jupyter.widget-view+json": {
       "model_id": "714bd5ece6654e8d97a58672d70cc73f",
       "version_major": 2,
       "version_minor": 0
      },
      "text/plain": [
       "Batches:   0%|          | 0/1 [00:00<?, ?it/s]"
      ]
     },
     "metadata": {},
     "output_type": "display_data"
    },
    {
     "data": {
      "application/vnd.jupyter.widget-view+json": {
       "model_id": "e3a7a46a1d0443969fa5f7a3878d8627",
       "version_major": 2,
       "version_minor": 0
      },
      "text/plain": [
       "Batches:   0%|          | 0/1 [00:00<?, ?it/s]"
      ]
     },
     "metadata": {},
     "output_type": "display_data"
    },
    {
     "data": {
      "application/vnd.jupyter.widget-view+json": {
       "model_id": "0ffd79fc5d464b15937cf1c553e24f43",
       "version_major": 2,
       "version_minor": 0
      },
      "text/plain": [
       "Batches:   0%|          | 0/1 [00:00<?, ?it/s]"
      ]
     },
     "metadata": {},
     "output_type": "display_data"
    },
    {
     "data": {
      "application/vnd.jupyter.widget-view+json": {
       "model_id": "7a8028337ec44b8399359b857a125db3",
       "version_major": 2,
       "version_minor": 0
      },
      "text/plain": [
       "Batches:   0%|          | 0/1 [00:00<?, ?it/s]"
      ]
     },
     "metadata": {},
     "output_type": "display_data"
    },
    {
     "data": {
      "application/vnd.jupyter.widget-view+json": {
       "model_id": "aec0db6e7961440186b5b4785c8cff20",
       "version_major": 2,
       "version_minor": 0
      },
      "text/plain": [
       "Batches:   0%|          | 0/1 [00:00<?, ?it/s]"
      ]
     },
     "metadata": {},
     "output_type": "display_data"
    },
    {
     "data": {
      "application/vnd.jupyter.widget-view+json": {
       "model_id": "b867d95753874811861a83eaf07d2699",
       "version_major": 2,
       "version_minor": 0
      },
      "text/plain": [
       "Batches:   0%|          | 0/1 [00:00<?, ?it/s]"
      ]
     },
     "metadata": {},
     "output_type": "display_data"
    },
    {
     "data": {
      "application/vnd.jupyter.widget-view+json": {
       "model_id": "bb93e37fc3b843e39010728125707f39",
       "version_major": 2,
       "version_minor": 0
      },
      "text/plain": [
       "Batches:   0%|          | 0/1 [00:00<?, ?it/s]"
      ]
     },
     "metadata": {},
     "output_type": "display_data"
    },
    {
     "data": {
      "application/vnd.jupyter.widget-view+json": {
       "model_id": "55978d7970c046aaa4db419451e923fe",
       "version_major": 2,
       "version_minor": 0
      },
      "text/plain": [
       "Batches:   0%|          | 0/1 [00:00<?, ?it/s]"
      ]
     },
     "metadata": {},
     "output_type": "display_data"
    },
    {
     "data": {
      "application/vnd.jupyter.widget-view+json": {
       "model_id": "8b7d9fb1db614a93948e46bd31e0dfde",
       "version_major": 2,
       "version_minor": 0
      },
      "text/plain": [
       "Batches:   0%|          | 0/1 [00:00<?, ?it/s]"
      ]
     },
     "metadata": {},
     "output_type": "display_data"
    },
    {
     "data": {
      "application/vnd.jupyter.widget-view+json": {
       "model_id": "942a6460fc644bb79b1883571dbed171",
       "version_major": 2,
       "version_minor": 0
      },
      "text/plain": [
       "Batches:   0%|          | 0/1 [00:00<?, ?it/s]"
      ]
     },
     "metadata": {},
     "output_type": "display_data"
    },
    {
     "data": {
      "application/vnd.jupyter.widget-view+json": {
       "model_id": "a565ef7ff3fd449494037c1e7ad0a8dc",
       "version_major": 2,
       "version_minor": 0
      },
      "text/plain": [
       "Batches:   0%|          | 0/1 [00:00<?, ?it/s]"
      ]
     },
     "metadata": {},
     "output_type": "display_data"
    },
    {
     "data": {
      "application/vnd.jupyter.widget-view+json": {
       "model_id": "6cb5911af1da435da7acab210bf0371a",
       "version_major": 2,
       "version_minor": 0
      },
      "text/plain": [
       "Batches:   0%|          | 0/1 [00:00<?, ?it/s]"
      ]
     },
     "metadata": {},
     "output_type": "display_data"
    },
    {
     "data": {
      "application/vnd.jupyter.widget-view+json": {
       "model_id": "f6db13ec78744e84896e0fb77ff5aa09",
       "version_major": 2,
       "version_minor": 0
      },
      "text/plain": [
       "Batches:   0%|          | 0/1 [00:00<?, ?it/s]"
      ]
     },
     "metadata": {},
     "output_type": "display_data"
    },
    {
     "data": {
      "application/vnd.jupyter.widget-view+json": {
       "model_id": "55e2635b605248f8a4f74f7adfdf2d98",
       "version_major": 2,
       "version_minor": 0
      },
      "text/plain": [
       "Batches:   0%|          | 0/1 [00:00<?, ?it/s]"
      ]
     },
     "metadata": {},
     "output_type": "display_data"
    },
    {
     "data": {
      "application/vnd.jupyter.widget-view+json": {
       "model_id": "23ff30657009426eac153a88edfba959",
       "version_major": 2,
       "version_minor": 0
      },
      "text/plain": [
       "Batches:   0%|          | 0/1 [00:00<?, ?it/s]"
      ]
     },
     "metadata": {},
     "output_type": "display_data"
    },
    {
     "data": {
      "application/vnd.jupyter.widget-view+json": {
       "model_id": "02b1ca36315c451fa35ad3ad2a7d95a6",
       "version_major": 2,
       "version_minor": 0
      },
      "text/plain": [
       "Batches:   0%|          | 0/1 [00:00<?, ?it/s]"
      ]
     },
     "metadata": {},
     "output_type": "display_data"
    },
    {
     "data": {
      "application/vnd.jupyter.widget-view+json": {
       "model_id": "a5c4f025b9d544dca0903301434b84f7",
       "version_major": 2,
       "version_minor": 0
      },
      "text/plain": [
       "Batches:   0%|          | 0/1 [00:00<?, ?it/s]"
      ]
     },
     "metadata": {},
     "output_type": "display_data"
    },
    {
     "data": {
      "application/vnd.jupyter.widget-view+json": {
       "model_id": "1da16f15472141b98f03861572244120",
       "version_major": 2,
       "version_minor": 0
      },
      "text/plain": [
       "Batches:   0%|          | 0/1 [00:00<?, ?it/s]"
      ]
     },
     "metadata": {},
     "output_type": "display_data"
    },
    {
     "data": {
      "application/vnd.jupyter.widget-view+json": {
       "model_id": "e8141b665cb945fd82dfe80d15ef2caf",
       "version_major": 2,
       "version_minor": 0
      },
      "text/plain": [
       "Batches:   0%|          | 0/1 [00:00<?, ?it/s]"
      ]
     },
     "metadata": {},
     "output_type": "display_data"
    },
    {
     "data": {
      "application/vnd.jupyter.widget-view+json": {
       "model_id": "08c5fadeed4c4b35bd6041a4dec26f96",
       "version_major": 2,
       "version_minor": 0
      },
      "text/plain": [
       "Batches:   0%|          | 0/1 [00:00<?, ?it/s]"
      ]
     },
     "metadata": {},
     "output_type": "display_data"
    },
    {
     "data": {
      "application/vnd.jupyter.widget-view+json": {
       "model_id": "ec2035bf4cac4258a7a295d84443accf",
       "version_major": 2,
       "version_minor": 0
      },
      "text/plain": [
       "Batches:   0%|          | 0/1 [00:00<?, ?it/s]"
      ]
     },
     "metadata": {},
     "output_type": "display_data"
    },
    {
     "data": {
      "application/vnd.jupyter.widget-view+json": {
       "model_id": "8eca13f46406453289c66812d426933f",
       "version_major": 2,
       "version_minor": 0
      },
      "text/plain": [
       "Batches:   0%|          | 0/1 [00:00<?, ?it/s]"
      ]
     },
     "metadata": {},
     "output_type": "display_data"
    },
    {
     "data": {
      "application/vnd.jupyter.widget-view+json": {
       "model_id": "9fecda6eea044ad796ef9a9ff446456b",
       "version_major": 2,
       "version_minor": 0
      },
      "text/plain": [
       "Batches:   0%|          | 0/1 [00:00<?, ?it/s]"
      ]
     },
     "metadata": {},
     "output_type": "display_data"
    },
    {
     "data": {
      "application/vnd.jupyter.widget-view+json": {
       "model_id": "6e54fd3355f444a8a4e29e94459fe7a3",
       "version_major": 2,
       "version_minor": 0
      },
      "text/plain": [
       "Batches:   0%|          | 0/1 [00:00<?, ?it/s]"
      ]
     },
     "metadata": {},
     "output_type": "display_data"
    },
    {
     "data": {
      "application/vnd.jupyter.widget-view+json": {
       "model_id": "f967998aef0446bc99da424bd9b359c1",
       "version_major": 2,
       "version_minor": 0
      },
      "text/plain": [
       "Batches:   0%|          | 0/1 [00:00<?, ?it/s]"
      ]
     },
     "metadata": {},
     "output_type": "display_data"
    },
    {
     "data": {
      "application/vnd.jupyter.widget-view+json": {
       "model_id": "ef83f59b09de427da59693decd4ca18f",
       "version_major": 2,
       "version_minor": 0
      },
      "text/plain": [
       "Batches:   0%|          | 0/1 [00:00<?, ?it/s]"
      ]
     },
     "metadata": {},
     "output_type": "display_data"
    },
    {
     "data": {
      "application/vnd.jupyter.widget-view+json": {
       "model_id": "da81e60fb5ea4f748b4b81b08e4ca279",
       "version_major": 2,
       "version_minor": 0
      },
      "text/plain": [
       "Batches:   0%|          | 0/1 [00:00<?, ?it/s]"
      ]
     },
     "metadata": {},
     "output_type": "display_data"
    },
    {
     "data": {
      "application/vnd.jupyter.widget-view+json": {
       "model_id": "5b45728c05f3449d941afe0896a3d5f1",
       "version_major": 2,
       "version_minor": 0
      },
      "text/plain": [
       "Batches:   0%|          | 0/1 [00:00<?, ?it/s]"
      ]
     },
     "metadata": {},
     "output_type": "display_data"
    },
    {
     "data": {
      "application/vnd.jupyter.widget-view+json": {
       "model_id": "e5d1ee2d9eab407cad6df17a1708dc80",
       "version_major": 2,
       "version_minor": 0
      },
      "text/plain": [
       "Batches:   0%|          | 0/1 [00:00<?, ?it/s]"
      ]
     },
     "metadata": {},
     "output_type": "display_data"
    },
    {
     "data": {
      "application/vnd.jupyter.widget-view+json": {
       "model_id": "06d6f5d0e2794654be9353b68a9de174",
       "version_major": 2,
       "version_minor": 0
      },
      "text/plain": [
       "Batches:   0%|          | 0/1 [00:00<?, ?it/s]"
      ]
     },
     "metadata": {},
     "output_type": "display_data"
    },
    {
     "data": {
      "application/vnd.jupyter.widget-view+json": {
       "model_id": "db164f74334840a0aa2d21622227fa36",
       "version_major": 2,
       "version_minor": 0
      },
      "text/plain": [
       "Batches:   0%|          | 0/1 [00:00<?, ?it/s]"
      ]
     },
     "metadata": {},
     "output_type": "display_data"
    },
    {
     "data": {
      "application/vnd.jupyter.widget-view+json": {
       "model_id": "492f780061104a28afe16edcab59b061",
       "version_major": 2,
       "version_minor": 0
      },
      "text/plain": [
       "Batches:   0%|          | 0/1 [00:00<?, ?it/s]"
      ]
     },
     "metadata": {},
     "output_type": "display_data"
    },
    {
     "data": {
      "application/vnd.jupyter.widget-view+json": {
       "model_id": "fdf2bdc21fb74bcd8f4a84dccab6a19f",
       "version_major": 2,
       "version_minor": 0
      },
      "text/plain": [
       "Batches:   0%|          | 0/1 [00:00<?, ?it/s]"
      ]
     },
     "metadata": {},
     "output_type": "display_data"
    },
    {
     "data": {
      "application/vnd.jupyter.widget-view+json": {
       "model_id": "63350705f6394648a1738d4f8b5c57d2",
       "version_major": 2,
       "version_minor": 0
      },
      "text/plain": [
       "Batches:   0%|          | 0/1 [00:00<?, ?it/s]"
      ]
     },
     "metadata": {},
     "output_type": "display_data"
    },
    {
     "data": {
      "application/vnd.jupyter.widget-view+json": {
       "model_id": "461caacc502e4d169ca68913de21381f",
       "version_major": 2,
       "version_minor": 0
      },
      "text/plain": [
       "Batches:   0%|          | 0/1 [00:00<?, ?it/s]"
      ]
     },
     "metadata": {},
     "output_type": "display_data"
    },
    {
     "data": {
      "application/vnd.jupyter.widget-view+json": {
       "model_id": "e52571e9b57b45f1930c13c96b52093f",
       "version_major": 2,
       "version_minor": 0
      },
      "text/plain": [
       "Batches:   0%|          | 0/1 [00:00<?, ?it/s]"
      ]
     },
     "metadata": {},
     "output_type": "display_data"
    },
    {
     "data": {
      "application/vnd.jupyter.widget-view+json": {
       "model_id": "7be4bd94495c4eba97b8e5dd0364fcd4",
       "version_major": 2,
       "version_minor": 0
      },
      "text/plain": [
       "Batches:   0%|          | 0/1 [00:00<?, ?it/s]"
      ]
     },
     "metadata": {},
     "output_type": "display_data"
    },
    {
     "data": {
      "application/vnd.jupyter.widget-view+json": {
       "model_id": "f5cdf66aeeda424aa1c23b39ebb9853c",
       "version_major": 2,
       "version_minor": 0
      },
      "text/plain": [
       "Batches:   0%|          | 0/1 [00:00<?, ?it/s]"
      ]
     },
     "metadata": {},
     "output_type": "display_data"
    },
    {
     "data": {
      "application/vnd.jupyter.widget-view+json": {
       "model_id": "8f5bbc6dc4c94cc291ef15fcb5325201",
       "version_major": 2,
       "version_minor": 0
      },
      "text/plain": [
       "Batches:   0%|          | 0/1 [00:00<?, ?it/s]"
      ]
     },
     "metadata": {},
     "output_type": "display_data"
    },
    {
     "data": {
      "application/vnd.jupyter.widget-view+json": {
       "model_id": "6f16d94cdd614e4185bd78c06e57ee22",
       "version_major": 2,
       "version_minor": 0
      },
      "text/plain": [
       "Batches:   0%|          | 0/1 [00:00<?, ?it/s]"
      ]
     },
     "metadata": {},
     "output_type": "display_data"
    },
    {
     "data": {
      "application/vnd.jupyter.widget-view+json": {
       "model_id": "e83c139cdb9e46728d295f4ded839ff2",
       "version_major": 2,
       "version_minor": 0
      },
      "text/plain": [
       "Batches:   0%|          | 0/1 [00:00<?, ?it/s]"
      ]
     },
     "metadata": {},
     "output_type": "display_data"
    },
    {
     "data": {
      "application/vnd.jupyter.widget-view+json": {
       "model_id": "8f764e73d7c54554aa606135d4df92bf",
       "version_major": 2,
       "version_minor": 0
      },
      "text/plain": [
       "Batches:   0%|          | 0/1 [00:00<?, ?it/s]"
      ]
     },
     "metadata": {},
     "output_type": "display_data"
    },
    {
     "data": {
      "application/vnd.jupyter.widget-view+json": {
       "model_id": "dc68663380e0423eb43f7b5b020f7f52",
       "version_major": 2,
       "version_minor": 0
      },
      "text/plain": [
       "Batches:   0%|          | 0/1 [00:00<?, ?it/s]"
      ]
     },
     "metadata": {},
     "output_type": "display_data"
    },
    {
     "data": {
      "application/vnd.jupyter.widget-view+json": {
       "model_id": "4dd76974b2b745109d8cd2a5add86dd5",
       "version_major": 2,
       "version_minor": 0
      },
      "text/plain": [
       "Batches:   0%|          | 0/1 [00:00<?, ?it/s]"
      ]
     },
     "metadata": {},
     "output_type": "display_data"
    },
    {
     "data": {
      "application/vnd.jupyter.widget-view+json": {
       "model_id": "ebb4dcf120674279a6a3d1b27f077880",
       "version_major": 2,
       "version_minor": 0
      },
      "text/plain": [
       "Batches:   0%|          | 0/1 [00:00<?, ?it/s]"
      ]
     },
     "metadata": {},
     "output_type": "display_data"
    },
    {
     "data": {
      "application/vnd.jupyter.widget-view+json": {
       "model_id": "86659f5eaa374502991ff78b1fb482fa",
       "version_major": 2,
       "version_minor": 0
      },
      "text/plain": [
       "Batches:   0%|          | 0/1 [00:00<?, ?it/s]"
      ]
     },
     "metadata": {},
     "output_type": "display_data"
    },
    {
     "data": {
      "application/vnd.jupyter.widget-view+json": {
       "model_id": "6b35a6b0a724483d9879c911f22dcb36",
       "version_major": 2,
       "version_minor": 0
      },
      "text/plain": [
       "Batches:   0%|          | 0/1 [00:00<?, ?it/s]"
      ]
     },
     "metadata": {},
     "output_type": "display_data"
    },
    {
     "data": {
      "application/vnd.jupyter.widget-view+json": {
       "model_id": "3ec02bfb73e14db59dfba65452f95222",
       "version_major": 2,
       "version_minor": 0
      },
      "text/plain": [
       "Batches:   0%|          | 0/1 [00:00<?, ?it/s]"
      ]
     },
     "metadata": {},
     "output_type": "display_data"
    },
    {
     "data": {
      "application/vnd.jupyter.widget-view+json": {
       "model_id": "8b947c74d62842a29f9b5c8d61a4f5e1",
       "version_major": 2,
       "version_minor": 0
      },
      "text/plain": [
       "Batches:   0%|          | 0/1 [00:00<?, ?it/s]"
      ]
     },
     "metadata": {},
     "output_type": "display_data"
    },
    {
     "data": {
      "application/vnd.jupyter.widget-view+json": {
       "model_id": "292e0a39ff6540eda3cad12f15172b0b",
       "version_major": 2,
       "version_minor": 0
      },
      "text/plain": [
       "Batches:   0%|          | 0/1 [00:00<?, ?it/s]"
      ]
     },
     "metadata": {},
     "output_type": "display_data"
    },
    {
     "data": {
      "application/vnd.jupyter.widget-view+json": {
       "model_id": "999c91448430480f8007298d8203bdfa",
       "version_major": 2,
       "version_minor": 0
      },
      "text/plain": [
       "Batches:   0%|          | 0/1 [00:00<?, ?it/s]"
      ]
     },
     "metadata": {},
     "output_type": "display_data"
    },
    {
     "data": {
      "application/vnd.jupyter.widget-view+json": {
       "model_id": "c19dcd5969864b8c98d31c78b82c90df",
       "version_major": 2,
       "version_minor": 0
      },
      "text/plain": [
       "Batches:   0%|          | 0/1 [00:00<?, ?it/s]"
      ]
     },
     "metadata": {},
     "output_type": "display_data"
    },
    {
     "data": {
      "application/vnd.jupyter.widget-view+json": {
       "model_id": "c2da32374e9f433d84ae66fd8d6fa803",
       "version_major": 2,
       "version_minor": 0
      },
      "text/plain": [
       "Batches:   0%|          | 0/1 [00:00<?, ?it/s]"
      ]
     },
     "metadata": {},
     "output_type": "display_data"
    },
    {
     "data": {
      "application/vnd.jupyter.widget-view+json": {
       "model_id": "354e36e21a594133be7748f0889dfaff",
       "version_major": 2,
       "version_minor": 0
      },
      "text/plain": [
       "Batches:   0%|          | 0/1 [00:00<?, ?it/s]"
      ]
     },
     "metadata": {},
     "output_type": "display_data"
    },
    {
     "data": {
      "application/vnd.jupyter.widget-view+json": {
       "model_id": "556086a0e0be44a499e52ef14cc78330",
       "version_major": 2,
       "version_minor": 0
      },
      "text/plain": [
       "Batches:   0%|          | 0/1 [00:00<?, ?it/s]"
      ]
     },
     "metadata": {},
     "output_type": "display_data"
    },
    {
     "data": {
      "application/vnd.jupyter.widget-view+json": {
       "model_id": "dec966ed968642abaf2aed9e4f2cb9e1",
       "version_major": 2,
       "version_minor": 0
      },
      "text/plain": [
       "Batches:   0%|          | 0/1 [00:00<?, ?it/s]"
      ]
     },
     "metadata": {},
     "output_type": "display_data"
    },
    {
     "data": {
      "application/vnd.jupyter.widget-view+json": {
       "model_id": "319a1a1a76f04191abc6b4c879fca1ff",
       "version_major": 2,
       "version_minor": 0
      },
      "text/plain": [
       "Batches:   0%|          | 0/1 [00:00<?, ?it/s]"
      ]
     },
     "metadata": {},
     "output_type": "display_data"
    },
    {
     "data": {
      "application/vnd.jupyter.widget-view+json": {
       "model_id": "ed2282ae576c4546bf1d0cbf54110420",
       "version_major": 2,
       "version_minor": 0
      },
      "text/plain": [
       "Batches:   0%|          | 0/1 [00:00<?, ?it/s]"
      ]
     },
     "metadata": {},
     "output_type": "display_data"
    },
    {
     "data": {
      "application/vnd.jupyter.widget-view+json": {
       "model_id": "0d2b4021209043e6bc2985578b692e7c",
       "version_major": 2,
       "version_minor": 0
      },
      "text/plain": [
       "Batches:   0%|          | 0/1 [00:00<?, ?it/s]"
      ]
     },
     "metadata": {},
     "output_type": "display_data"
    },
    {
     "data": {
      "application/vnd.jupyter.widget-view+json": {
       "model_id": "ed78ef9b8fda4170976eb7024fc0ad28",
       "version_major": 2,
       "version_minor": 0
      },
      "text/plain": [
       "Batches:   0%|          | 0/1 [00:00<?, ?it/s]"
      ]
     },
     "metadata": {},
     "output_type": "display_data"
    },
    {
     "data": {
      "application/vnd.jupyter.widget-view+json": {
       "model_id": "7b4a4d44b5fd4d84b0967b36326e0076",
       "version_major": 2,
       "version_minor": 0
      },
      "text/plain": [
       "Batches:   0%|          | 0/1 [00:00<?, ?it/s]"
      ]
     },
     "metadata": {},
     "output_type": "display_data"
    },
    {
     "data": {
      "application/vnd.jupyter.widget-view+json": {
       "model_id": "2d30f5f72d74438389aa11aaf4f7a044",
       "version_major": 2,
       "version_minor": 0
      },
      "text/plain": [
       "Batches:   0%|          | 0/1 [00:00<?, ?it/s]"
      ]
     },
     "metadata": {},
     "output_type": "display_data"
    },
    {
     "data": {
      "application/vnd.jupyter.widget-view+json": {
       "model_id": "19ac6898608d49099667a74fdad7ef9d",
       "version_major": 2,
       "version_minor": 0
      },
      "text/plain": [
       "Batches:   0%|          | 0/1 [00:00<?, ?it/s]"
      ]
     },
     "metadata": {},
     "output_type": "display_data"
    },
    {
     "data": {
      "application/vnd.jupyter.widget-view+json": {
       "model_id": "0793b1f991ab467bbaeda0331353b0e2",
       "version_major": 2,
       "version_minor": 0
      },
      "text/plain": [
       "Batches:   0%|          | 0/1 [00:00<?, ?it/s]"
      ]
     },
     "metadata": {},
     "output_type": "display_data"
    },
    {
     "data": {
      "application/vnd.jupyter.widget-view+json": {
       "model_id": "07ea9b3bafb944caa6d075b5c49df6ff",
       "version_major": 2,
       "version_minor": 0
      },
      "text/plain": [
       "Batches:   0%|          | 0/1 [00:00<?, ?it/s]"
      ]
     },
     "metadata": {},
     "output_type": "display_data"
    },
    {
     "data": {
      "application/vnd.jupyter.widget-view+json": {
       "model_id": "eaab90d0f6ef42b4bbae05dab7815d84",
       "version_major": 2,
       "version_minor": 0
      },
      "text/plain": [
       "Batches:   0%|          | 0/1 [00:00<?, ?it/s]"
      ]
     },
     "metadata": {},
     "output_type": "display_data"
    },
    {
     "data": {
      "application/vnd.jupyter.widget-view+json": {
       "model_id": "b055fa65ce5d41a1b08e08033f743703",
       "version_major": 2,
       "version_minor": 0
      },
      "text/plain": [
       "Batches:   0%|          | 0/1 [00:00<?, ?it/s]"
      ]
     },
     "metadata": {},
     "output_type": "display_data"
    },
    {
     "data": {
      "application/vnd.jupyter.widget-view+json": {
       "model_id": "2c430bb7b34043b3bfcd817f390c4f31",
       "version_major": 2,
       "version_minor": 0
      },
      "text/plain": [
       "Batches:   0%|          | 0/1 [00:00<?, ?it/s]"
      ]
     },
     "metadata": {},
     "output_type": "display_data"
    },
    {
     "data": {
      "application/vnd.jupyter.widget-view+json": {
       "model_id": "8d64d03c05934f7b8519be8c900e9592",
       "version_major": 2,
       "version_minor": 0
      },
      "text/plain": [
       "Batches:   0%|          | 0/1 [00:00<?, ?it/s]"
      ]
     },
     "metadata": {},
     "output_type": "display_data"
    },
    {
     "data": {
      "application/vnd.jupyter.widget-view+json": {
       "model_id": "bcd5fbb7abdc4dd7a7877d5a8270fa4b",
       "version_major": 2,
       "version_minor": 0
      },
      "text/plain": [
       "Batches:   0%|          | 0/1 [00:00<?, ?it/s]"
      ]
     },
     "metadata": {},
     "output_type": "display_data"
    },
    {
     "data": {
      "application/vnd.jupyter.widget-view+json": {
       "model_id": "5fa674fa6ff34bbbb9e66262c7ff0181",
       "version_major": 2,
       "version_minor": 0
      },
      "text/plain": [
       "Batches:   0%|          | 0/1 [00:00<?, ?it/s]"
      ]
     },
     "metadata": {},
     "output_type": "display_data"
    },
    {
     "data": {
      "application/vnd.jupyter.widget-view+json": {
       "model_id": "1d8a02a7a1fc4f62866f056cec8e1faf",
       "version_major": 2,
       "version_minor": 0
      },
      "text/plain": [
       "Batches:   0%|          | 0/1 [00:00<?, ?it/s]"
      ]
     },
     "metadata": {},
     "output_type": "display_data"
    },
    {
     "data": {
      "application/vnd.jupyter.widget-view+json": {
       "model_id": "b6c4c4a1ffd842be8f641f9834e47fed",
       "version_major": 2,
       "version_minor": 0
      },
      "text/plain": [
       "Batches:   0%|          | 0/1 [00:00<?, ?it/s]"
      ]
     },
     "metadata": {},
     "output_type": "display_data"
    },
    {
     "data": {
      "application/vnd.jupyter.widget-view+json": {
       "model_id": "4924dfba21f145a2a94fbbc8c23725fd",
       "version_major": 2,
       "version_minor": 0
      },
      "text/plain": [
       "Batches:   0%|          | 0/1 [00:00<?, ?it/s]"
      ]
     },
     "metadata": {},
     "output_type": "display_data"
    },
    {
     "data": {
      "application/vnd.jupyter.widget-view+json": {
       "model_id": "6292a83bd91c49f1b318299b6be27206",
       "version_major": 2,
       "version_minor": 0
      },
      "text/plain": [
       "Batches:   0%|          | 0/1 [00:00<?, ?it/s]"
      ]
     },
     "metadata": {},
     "output_type": "display_data"
    },
    {
     "data": {
      "application/vnd.jupyter.widget-view+json": {
       "model_id": "eae248f1b0214b529b08822df37d6d98",
       "version_major": 2,
       "version_minor": 0
      },
      "text/plain": [
       "Batches:   0%|          | 0/1 [00:00<?, ?it/s]"
      ]
     },
     "metadata": {},
     "output_type": "display_data"
    },
    {
     "data": {
      "application/vnd.jupyter.widget-view+json": {
       "model_id": "a76b3fbf94274ff2a8f7250972bd5a5f",
       "version_major": 2,
       "version_minor": 0
      },
      "text/plain": [
       "Batches:   0%|          | 0/1 [00:00<?, ?it/s]"
      ]
     },
     "metadata": {},
     "output_type": "display_data"
    },
    {
     "data": {
      "application/vnd.jupyter.widget-view+json": {
       "model_id": "d446adb52773423589dd8b4e4a99b564",
       "version_major": 2,
       "version_minor": 0
      },
      "text/plain": [
       "Batches:   0%|          | 0/1 [00:00<?, ?it/s]"
      ]
     },
     "metadata": {},
     "output_type": "display_data"
    },
    {
     "data": {
      "application/vnd.jupyter.widget-view+json": {
       "model_id": "7db8cc713fe64d338c53c4895b2918a5",
       "version_major": 2,
       "version_minor": 0
      },
      "text/plain": [
       "Batches:   0%|          | 0/1 [00:00<?, ?it/s]"
      ]
     },
     "metadata": {},
     "output_type": "display_data"
    },
    {
     "data": {
      "application/vnd.jupyter.widget-view+json": {
       "model_id": "14fb5bd4db084da0bd04ff1f130e1990",
       "version_major": 2,
       "version_minor": 0
      },
      "text/plain": [
       "Batches:   0%|          | 0/1 [00:00<?, ?it/s]"
      ]
     },
     "metadata": {},
     "output_type": "display_data"
    },
    {
     "data": {
      "application/vnd.jupyter.widget-view+json": {
       "model_id": "552a60e149a843c8bf8519dcdbaa18b5",
       "version_major": 2,
       "version_minor": 0
      },
      "text/plain": [
       "Batches:   0%|          | 0/1 [00:00<?, ?it/s]"
      ]
     },
     "metadata": {},
     "output_type": "display_data"
    },
    {
     "data": {
      "application/vnd.jupyter.widget-view+json": {
       "model_id": "e6653a018808484687d93c1983e2980b",
       "version_major": 2,
       "version_minor": 0
      },
      "text/plain": [
       "Batches:   0%|          | 0/1 [00:00<?, ?it/s]"
      ]
     },
     "metadata": {},
     "output_type": "display_data"
    },
    {
     "data": {
      "application/vnd.jupyter.widget-view+json": {
       "model_id": "f464c0bb75004272a5edddb8f7b0a8ca",
       "version_major": 2,
       "version_minor": 0
      },
      "text/plain": [
       "Batches:   0%|          | 0/1 [00:00<?, ?it/s]"
      ]
     },
     "metadata": {},
     "output_type": "display_data"
    },
    {
     "data": {
      "application/vnd.jupyter.widget-view+json": {
       "model_id": "03ff249af864475fa1ed798009815724",
       "version_major": 2,
       "version_minor": 0
      },
      "text/plain": [
       "Batches:   0%|          | 0/1 [00:00<?, ?it/s]"
      ]
     },
     "metadata": {},
     "output_type": "display_data"
    },
    {
     "data": {
      "application/vnd.jupyter.widget-view+json": {
       "model_id": "62467011357c4477b43cc1ef0dc56f03",
       "version_major": 2,
       "version_minor": 0
      },
      "text/plain": [
       "Batches:   0%|          | 0/1 [00:00<?, ?it/s]"
      ]
     },
     "metadata": {},
     "output_type": "display_data"
    },
    {
     "data": {
      "application/vnd.jupyter.widget-view+json": {
       "model_id": "1511afb3a4f34ecd889bb8cbfce85177",
       "version_major": 2,
       "version_minor": 0
      },
      "text/plain": [
       "Batches:   0%|          | 0/1 [00:00<?, ?it/s]"
      ]
     },
     "metadata": {},
     "output_type": "display_data"
    },
    {
     "data": {
      "application/vnd.jupyter.widget-view+json": {
       "model_id": "922ca02cba1741ed9dcb03021053766e",
       "version_major": 2,
       "version_minor": 0
      },
      "text/plain": [
       "Batches:   0%|          | 0/1 [00:00<?, ?it/s]"
      ]
     },
     "metadata": {},
     "output_type": "display_data"
    },
    {
     "data": {
      "application/vnd.jupyter.widget-view+json": {
       "model_id": "8b956192b7464f6aaefbeda5cbd1fb01",
       "version_major": 2,
       "version_minor": 0
      },
      "text/plain": [
       "Batches:   0%|          | 0/1 [00:00<?, ?it/s]"
      ]
     },
     "metadata": {},
     "output_type": "display_data"
    },
    {
     "data": {
      "application/vnd.jupyter.widget-view+json": {
       "model_id": "05ec9a1f4a204b4b982bbbf04e5afe28",
       "version_major": 2,
       "version_minor": 0
      },
      "text/plain": [
       "Batches:   0%|          | 0/1 [00:00<?, ?it/s]"
      ]
     },
     "metadata": {},
     "output_type": "display_data"
    },
    {
     "data": {
      "application/vnd.jupyter.widget-view+json": {
       "model_id": "8291913abcfc43beab3e4e199ad8b79d",
       "version_major": 2,
       "version_minor": 0
      },
      "text/plain": [
       "Batches:   0%|          | 0/1 [00:00<?, ?it/s]"
      ]
     },
     "metadata": {},
     "output_type": "display_data"
    },
    {
     "data": {
      "application/vnd.jupyter.widget-view+json": {
       "model_id": "984f1d145bdb467eae41f42857e65a2b",
       "version_major": 2,
       "version_minor": 0
      },
      "text/plain": [
       "Batches:   0%|          | 0/1 [00:00<?, ?it/s]"
      ]
     },
     "metadata": {},
     "output_type": "display_data"
    },
    {
     "data": {
      "application/vnd.jupyter.widget-view+json": {
       "model_id": "65d73f7a35f44cc1a9cb482c3288c11b",
       "version_major": 2,
       "version_minor": 0
      },
      "text/plain": [
       "Batches:   0%|          | 0/1 [00:00<?, ?it/s]"
      ]
     },
     "metadata": {},
     "output_type": "display_data"
    },
    {
     "data": {
      "application/vnd.jupyter.widget-view+json": {
       "model_id": "e1004224333b49739c1d33b26891c82d",
       "version_major": 2,
       "version_minor": 0
      },
      "text/plain": [
       "Batches:   0%|          | 0/1 [00:00<?, ?it/s]"
      ]
     },
     "metadata": {},
     "output_type": "display_data"
    }
   ],
   "source": [
    "# vectors = [sentence_model.encode(vector) for vector in tqdm(train_data)]\n",
    "vectors = [sentence_model.encode(vector) for vector in train_data]\n",
    "sentence_vectors = np.vstack(vectors)"
   ]
  },
  {
   "cell_type": "code",
   "execution_count": null,
   "id": "9c844634",
   "metadata": {},
   "outputs": [],
   "source": []
  },
  {
   "cell_type": "code",
   "execution_count": 67,
   "id": "fccad9fd",
   "metadata": {},
   "outputs": [
    {
     "data": {
      "text/plain": [
       "(200, 100)"
      ]
     },
     "execution_count": 67,
     "metadata": {},
     "output_type": "execute_result"
    }
   ],
   "source": [
    "# lsa로 차원축소\n",
    "\n",
    "dim_name = \"lsa\"\n",
    "n_components = 100\n",
    "svd = TruncatedSVD(n_components=n_components)\n",
    "train_lsa_sentence_vectors = svd.fit_transform(sentence_vectors)\n",
    "train_lsa_sentence_vectors.shape"
   ]
  },
  {
   "cell_type": "code",
   "execution_count": null,
   "id": "457c1640",
   "metadata": {},
   "outputs": [],
   "source": []
  },
  {
   "cell_type": "code",
   "execution_count": null,
   "id": "69d60b0c",
   "metadata": {},
   "outputs": [],
   "source": []
  },
  {
   "cell_type": "code",
   "execution_count": 96,
   "id": "a3d7ff77",
   "metadata": {},
   "outputs": [
    {
     "name": "stderr",
     "output_type": "stream",
     "text": [
      "WARNING:sagemaker.deprecations:train_instance_count has been renamed in sagemaker>=2.\n",
      "See: https://sagemaker.readthedocs.io/en/stable/v2.html for details.\n",
      "WARNING:sagemaker.deprecations:train_instance_type has been renamed in sagemaker>=2.\n",
      "See: https://sagemaker.readthedocs.io/en/stable/v2.html for details.\n"
     ]
    }
   ],
   "source": [
    "# K-Means estimator 생성\n",
    "\n",
    "kmeans = KMeans(role=role,\n",
    "                train_instance_count=1,\n",
    "                train_instance_type='ml.m5.xlarge',\n",
    "                output_path='s3://{}/models'.format(bucket),\n",
    "                k=10,\n",
    "               feature_dim=n_components,\n",
    "               base_job_name='kmeans-test-1')"
   ]
  },
  {
   "cell_type": "code",
   "execution_count": 97,
   "id": "027bf52d",
   "metadata": {},
   "outputs": [
    {
     "name": "stderr",
     "output_type": "stream",
     "text": [
      "INFO:sagemaker.image_uris:Same images used for training and inference. Defaulting to image scope: inference.\n",
      "INFO:sagemaker.image_uris:Ignoring unnecessary instance type: None.\n",
      "INFO:sagemaker:Creating training-job with name: kmeans-test-1-2023-06-15-07-19-22-147\n"
     ]
    },
    {
     "name": "stdout",
     "output_type": "stream",
     "text": [
      "2023-06-15 07:19:24 Starting - Starting the training job...\n",
      "2023-06-15 07:19:39 Starting - Preparing the instances for training...\n",
      "2023-06-15 07:20:31 Downloading - Downloading input data...\n",
      "2023-06-15 07:20:51 Training - Downloading the training image......\n",
      "2023-06-15 07:21:51 Training - Training image download completed. Training in progress..\u001b[34mDocker entrypoint called with argument(s): train\u001b[0m\n",
      "\u001b[34mRunning default environment configuration script\u001b[0m\n",
      "\u001b[34m[06/15/2023 07:22:03 INFO 140230851786560] Reading default configuration from /opt/amazon/lib/python3.7/site-packages/algorithm/resources/default-input.json: {'init_method': 'random', 'mini_batch_size': '5000', 'epochs': '1', 'extra_center_factor': 'auto', 'local_lloyd_max_iter': '300', 'local_lloyd_tol': '0.0001', 'local_lloyd_init_method': 'kmeans++', 'local_lloyd_num_trials': 'auto', 'half_life_time_size': '0', 'eval_metrics': '[\"msd\"]', 'force_dense': 'true', '_disable_wait_to_read': 'false', '_enable_profiler': 'false', '_kvstore': 'auto', '_log_level': 'info', '_num_gpus': 'auto', '_num_kv_servers': '1', '_num_slices': '1', '_tuning_objective_metric': ''}\u001b[0m\n",
      "\u001b[34m[06/15/2023 07:22:03 INFO 140230851786560] Merging with provided configuration from /opt/ml/input/config/hyperparameters.json: {'feature_dim': '100', 'force_dense': 'True', 'k': '10'}\u001b[0m\n",
      "\u001b[34m[06/15/2023 07:22:03 INFO 140230851786560] Final configuration: {'init_method': 'random', 'mini_batch_size': '5000', 'epochs': '1', 'extra_center_factor': 'auto', 'local_lloyd_max_iter': '300', 'local_lloyd_tol': '0.0001', 'local_lloyd_init_method': 'kmeans++', 'local_lloyd_num_trials': 'auto', 'half_life_time_size': '0', 'eval_metrics': '[\"msd\"]', 'force_dense': 'True', '_disable_wait_to_read': 'false', '_enable_profiler': 'false', '_kvstore': 'auto', '_log_level': 'info', '_num_gpus': 'auto', '_num_kv_servers': '1', '_num_slices': '1', '_tuning_objective_metric': '', 'feature_dim': '100', 'k': '10'}\u001b[0m\n",
      "\u001b[34m[06/15/2023 07:22:04 WARNING 140230851786560] Loggers have already been setup.\u001b[0m\n",
      "\u001b[34m[06/15/2023 07:22:04 INFO 140230851786560] Final configuration: {'init_method': 'random', 'mini_batch_size': '5000', 'epochs': '1', 'extra_center_factor': 'auto', 'local_lloyd_max_iter': '300', 'local_lloyd_tol': '0.0001', 'local_lloyd_init_method': 'kmeans++', 'local_lloyd_num_trials': 'auto', 'half_life_time_size': '0', 'eval_metrics': '[\"msd\"]', 'force_dense': 'True', '_disable_wait_to_read': 'false', '_enable_profiler': 'false', '_kvstore': 'auto', '_log_level': 'info', '_num_gpus': 'auto', '_num_kv_servers': '1', '_num_slices': '1', '_tuning_objective_metric': '', 'feature_dim': '100', 'k': '10'}\u001b[0m\n",
      "\u001b[34m[06/15/2023 07:22:04 WARNING 140230851786560] Loggers have already been setup.\u001b[0m\n",
      "\u001b[34mProcess 7 is a worker.\u001b[0m\n",
      "\u001b[34m[06/15/2023 07:22:04 INFO 140230851786560] Using default worker.\u001b[0m\n",
      "\u001b[34m[06/15/2023 07:22:04 INFO 140230851786560] Loaded iterator creator application/x-recordio-protobuf for content type ('application/x-recordio-protobuf', '1.0')\u001b[0m\n",
      "\u001b[34m[06/15/2023 07:22:04 INFO 140230851786560] Create Store: local\u001b[0m\n",
      "\u001b[34m[06/15/2023 07:22:05 INFO 140230851786560] nvidia-smi: took 0.030 seconds to run.\u001b[0m\n",
      "\u001b[34m[06/15/2023 07:22:05 INFO 140230851786560] nvidia-smi identified 0 GPUs.\u001b[0m\n",
      "\u001b[34m[06/15/2023 07:22:05 INFO 140230851786560] Number of GPUs being used: 0\u001b[0m\n",
      "\u001b[34m[06/15/2023 07:22:05 INFO 140230851786560] Checkpoint loading and saving are disabled.\u001b[0m\n",
      "\u001b[34m[06/15/2023 07:22:05 INFO 140230851786560] Setting up with params: {'init_method': 'random', 'mini_batch_size': '5000', 'epochs': '1', 'extra_center_factor': 'auto', 'local_lloyd_max_iter': '300', 'local_lloyd_tol': '0.0001', 'local_lloyd_init_method': 'kmeans++', 'local_lloyd_num_trials': 'auto', 'half_life_time_size': '0', 'eval_metrics': '[\"msd\"]', 'force_dense': 'True', '_disable_wait_to_read': 'false', '_enable_profiler': 'false', '_kvstore': 'auto', '_log_level': 'info', '_num_gpus': 'auto', '_num_kv_servers': '1', '_num_slices': '1', '_tuning_objective_metric': '', 'feature_dim': '100', 'k': '10'}\u001b[0m\n",
      "\u001b[34m[06/15/2023 07:22:05 INFO 140230851786560] 'extra_center_factor' was set to 'auto', evaluated to 10.\u001b[0m\n",
      "\u001b[34m[06/15/2023 07:22:05 INFO 140230851786560] Number of GPUs being used: 0\u001b[0m\n",
      "\u001b[34m[06/15/2023 07:22:05 INFO 140230851786560] number of center slices 1\u001b[0m\n",
      "\u001b[34m[06/15/2023 07:22:05 WARNING 140230851786560] Batch size 5000 is bigger than the first batch data. Effective batch size used to initialize is 200\u001b[0m\n",
      "\u001b[34m#metrics {\"StartTime\": 1686813725.0436704, \"EndTime\": 1686813725.0437036, \"Dimensions\": {\"Algorithm\": \"AWS/KMeansWebscale\", \"Host\": \"algo-1\", \"Operation\": \"training\", \"Meta\": \"init_train_data_iter\"}, \"Metrics\": {\"Total Records Seen\": {\"sum\": 200.0, \"count\": 1, \"min\": 200, \"max\": 200}, \"Total Batches Seen\": {\"sum\": 1.0, \"count\": 1, \"min\": 1, \"max\": 1}, \"Max Records Seen Between Resets\": {\"sum\": 200.0, \"count\": 1, \"min\": 200, \"max\": 200}, \"Max Batches Seen Between Resets\": {\"sum\": 1.0, \"count\": 1, \"min\": 1, \"max\": 1}, \"Reset Count\": {\"sum\": 0.0, \"count\": 1, \"min\": 0, \"max\": 0}, \"Number of Records Since Last Reset\": {\"sum\": 200.0, \"count\": 1, \"min\": 200, \"max\": 200}, \"Number of Batches Since Last Reset\": {\"sum\": 1.0, \"count\": 1, \"min\": 1, \"max\": 1}}}\u001b[0m\n",
      "\u001b[34m[2023-06-15 07:22:05.043] [tensorio] [info] epoch_stats={\"data_pipeline\": \"/opt/ml/input/data/train\", \"epoch\": 0, \"duration\": 22, \"num_examples\": 1, \"num_bytes\": 85600}\u001b[0m\n",
      "\u001b[34m[2023-06-15 07:22:05.081] [tensorio] [info] epoch_stats={\"data_pipeline\": \"/opt/ml/input/data/train\", \"epoch\": 1, \"duration\": 36, \"num_examples\": 1, \"num_bytes\": 85600}\u001b[0m\n",
      "\u001b[34m[06/15/2023 07:22:05 INFO 140230851786560] processed a total of 200 examples\u001b[0m\n",
      "\u001b[34m[06/15/2023 07:22:05 INFO 140230851786560] #progress_metric: host=algo-1, completed 100.0 % of epochs\u001b[0m\n",
      "\u001b[34m#metrics {\"StartTime\": 1686813725.0440626, \"EndTime\": 1686813725.081948, \"Dimensions\": {\"Algorithm\": \"AWS/KMeansWebscale\", \"Host\": \"algo-1\", \"Operation\": \"training\", \"epoch\": 0, \"Meta\": \"training_data_iter\"}, \"Metrics\": {\"Total Records Seen\": {\"sum\": 400.0, \"count\": 1, \"min\": 400, \"max\": 400}, \"Total Batches Seen\": {\"sum\": 2.0, \"count\": 1, \"min\": 2, \"max\": 2}, \"Max Records Seen Between Resets\": {\"sum\": 200.0, \"count\": 1, \"min\": 200, \"max\": 200}, \"Max Batches Seen Between Resets\": {\"sum\": 1.0, \"count\": 1, \"min\": 1, \"max\": 1}, \"Reset Count\": {\"sum\": 1.0, \"count\": 1, \"min\": 1, \"max\": 1}, \"Number of Records Since Last Reset\": {\"sum\": 200.0, \"count\": 1, \"min\": 200, \"max\": 200}, \"Number of Batches Since Last Reset\": {\"sum\": 1.0, \"count\": 1, \"min\": 1, \"max\": 1}}}\u001b[0m\n",
      "\u001b[34m[06/15/2023 07:22:05 INFO 140230851786560] #throughput_metric: host=algo-1, train throughput=5261.921578712968 records/second\u001b[0m\n",
      "\u001b[34m[06/15/2023 07:22:05 WARNING 140230851786560] wait_for_all_workers will not sync workers since the kv store is not running distributed\u001b[0m\n",
      "\u001b[34m[06/15/2023 07:22:05 INFO 140230851786560] shrinking 100 centers into 10\u001b[0m\n",
      "\u001b[34m[06/15/2023 07:22:05 INFO 140230851786560] local kmeans attempt #0. Current mean square distance 43.124897\u001b[0m\n",
      "\u001b[34m[06/15/2023 07:22:05 INFO 140230851786560] local kmeans attempt #1. Current mean square distance 42.633892\u001b[0m\n",
      "\u001b[34m[06/15/2023 07:22:05 INFO 140230851786560] local kmeans attempt #2. Current mean square distance 41.110336\u001b[0m\n",
      "\u001b[34m[06/15/2023 07:22:05 INFO 140230851786560] local kmeans attempt #3. Current mean square distance 41.289295\u001b[0m\n",
      "\u001b[34m[06/15/2023 07:22:05 INFO 140230851786560] local kmeans attempt #4. Current mean square distance 42.437023\u001b[0m\n",
      "\u001b[34m[06/15/2023 07:22:05 INFO 140230851786560] local kmeans attempt #5. Current mean square distance 39.922810\u001b[0m\n",
      "\u001b[34m[06/15/2023 07:22:05 INFO 140230851786560] local kmeans attempt #6. Current mean square distance 42.635544\u001b[0m\n",
      "\u001b[34m[06/15/2023 07:22:05 INFO 140230851786560] local kmeans attempt #7. Current mean square distance 41.427166\u001b[0m\n",
      "\u001b[34m[06/15/2023 07:22:05 INFO 140230851786560] local kmeans attempt #8. Current mean square distance 42.478374\u001b[0m\n",
      "\u001b[34m[06/15/2023 07:22:05 INFO 140230851786560] local kmeans attempt #9. Current mean square distance 42.477955\u001b[0m\n",
      "\u001b[34m[06/15/2023 07:22:05 INFO 140230851786560] finished shrinking process. Mean Square Distance = 40\u001b[0m\n",
      "\u001b[34m[06/15/2023 07:22:05 INFO 140230851786560] #quality_metric: host=algo-1, train msd <loss>=39.92280960083008\u001b[0m\n",
      "\u001b[34m[06/15/2023 07:22:05 INFO 140230851786560] compute all data-center distances: inner product took: 55.7713%, (0.024217 secs)\u001b[0m\n",
      "\u001b[34m[06/15/2023 07:22:05 INFO 140230851786560] collect from kv store took: 15.1792%, (0.006591 secs)\u001b[0m\n",
      "\u001b[34m[06/15/2023 07:22:05 INFO 140230851786560] splitting centers key-value pair took: 14.9437%, (0.006489 secs)\u001b[0m\n",
      "\u001b[34m[06/15/2023 07:22:05 INFO 140230851786560] batch data loading with context took: 7.5388%, (0.003273 secs)\u001b[0m\n",
      "\u001b[34m[06/15/2023 07:22:05 INFO 140230851786560] gradient: cluster center took: 1.9086%, (0.000829 secs)\u001b[0m\n",
      "\u001b[34m[06/15/2023 07:22:05 INFO 140230851786560] update state and report convergance took: 1.1959%, (0.000519 secs)\u001b[0m\n",
      "\u001b[34m[06/15/2023 07:22:05 INFO 140230851786560] predict compute msd took: 1.1882%, (0.000516 secs)\u001b[0m\n",
      "\u001b[34m[06/15/2023 07:22:05 INFO 140230851786560] compute all data-center distances: point norm took: 0.7034%, (0.000305 secs)\u001b[0m\n",
      "\u001b[34m[06/15/2023 07:22:05 INFO 140230851786560] update set-up time took: 0.5030%, (0.000218 secs)\u001b[0m\n",
      "\u001b[34m[06/15/2023 07:22:05 INFO 140230851786560] gradient: cluster size  took: 0.4733%, (0.000206 secs)\u001b[0m\n",
      "\u001b[34m[06/15/2023 07:22:05 INFO 140230851786560] compute all data-center distances: center norm took: 0.3218%, (0.000140 secs)\u001b[0m\n",
      "\u001b[34m[06/15/2023 07:22:05 INFO 140230851786560] gradient: one_hot took: 0.2284%, (0.000099 secs)\u001b[0m\n",
      "\u001b[34m[06/15/2023 07:22:05 INFO 140230851786560] predict minus dist took: 0.0445%, (0.000019 secs)\u001b[0m\n",
      "\u001b[34m[06/15/2023 07:22:05 INFO 140230851786560] TOTAL took: 0.04342174530029297\u001b[0m\n",
      "\u001b[34m[06/15/2023 07:22:05 INFO 140230851786560] Number of GPUs being used: 0\u001b[0m\n",
      "\u001b[34m#metrics {\"StartTime\": 1686813725.0208395, \"EndTime\": 1686813725.3079956, \"Dimensions\": {\"Algorithm\": \"AWS/KMeansWebscale\", \"Host\": \"algo-1\", \"Operation\": \"training\"}, \"Metrics\": {\"initialize.time\": {\"sum\": 20.15209197998047, \"count\": 1, \"min\": 20.15209197998047, \"max\": 20.15209197998047}, \"epochs\": {\"sum\": 1.0, \"count\": 1, \"min\": 1, \"max\": 1}, \"update.time\": {\"sum\": 37.679195404052734, \"count\": 1, \"min\": 37.679195404052734, \"max\": 37.679195404052734}, \"_shrink.time\": {\"sum\": 223.99353981018066, \"count\": 1, \"min\": 223.99353981018066, \"max\": 223.99353981018066}, \"finalize.time\": {\"sum\": 225.51631927490234, \"count\": 1, \"min\": 225.51631927490234, \"max\": 225.51631927490234}, \"model.serialize.time\": {\"sum\": 0.1785755157470703, \"count\": 1, \"min\": 0.1785755157470703, \"max\": 0.1785755157470703}}}\u001b[0m\n",
      "\u001b[34m[06/15/2023 07:22:05 INFO 140230851786560] Test data is not provided.\u001b[0m\n",
      "\u001b[34m#metrics {\"StartTime\": 1686813725.3080971, \"EndTime\": 1686813725.3085322, \"Dimensions\": {\"Algorithm\": \"AWS/KMeansWebscale\", \"Host\": \"algo-1\", \"Operation\": \"training\"}, \"Metrics\": {\"setuptime\": {\"sum\": 3.2033920288085938, \"count\": 1, \"min\": 3.2033920288085938, \"max\": 3.2033920288085938}, \"totaltime\": {\"sum\": 335.2317810058594, \"count\": 1, \"min\": 335.2317810058594, \"max\": 335.2317810058594}}}\u001b[0m\n"
     ]
    },
    {
     "name": "stdout",
     "output_type": "stream",
     "text": [
      "\n",
      "2023-06-15 07:22:22 Uploading - Uploading generated training model\n",
      "2023-06-15 07:22:22 Completed - Training job completed\n",
      "Training seconds: 112\n",
      "Billable seconds: 112\n"
     ]
    }
   ],
   "source": [
    "# K-Means 모델 훈련\n",
    "\n",
    "# 학습 작업 실행\n",
    "kmeans.fit(kmeans.record_set(train_lsa_sentence_vectors))"
   ]
  },
  {
   "cell_type": "code",
   "execution_count": null,
   "id": "87a927f6",
   "metadata": {},
   "outputs": [],
   "source": []
  },
  {
   "cell_type": "code",
   "execution_count": null,
   "id": "b1069711",
   "metadata": {},
   "outputs": [],
   "source": []
  },
  {
   "cell_type": "code",
   "execution_count": 99,
   "id": "d80250b2",
   "metadata": {},
   "outputs": [
    {
     "name": "stderr",
     "output_type": "stream",
     "text": [
      "INFO:sagemaker.image_uris:Same images used for training and inference. Defaulting to image scope: inference.\n",
      "INFO:sagemaker.image_uris:Ignoring unnecessary instance type: None.\n",
      "INFO:sagemaker:Creating model with name: kmeans-test-1-2023-06-15-07-23-02-662\n",
      "INFO:sagemaker:Creating endpoint-config with name kmeans-test-1\n",
      "INFO:sagemaker:Creating endpoint with name kmeans-test-1\n"
     ]
    },
    {
     "name": "stdout",
     "output_type": "stream",
     "text": [
      "-----!"
     ]
    },
    {
     "data": {
      "text/plain": [
       "<sagemaker.amazon.kmeans.KMeansPredictor at 0x7fca7f57ef20>"
      ]
     },
     "execution_count": 99,
     "metadata": {},
     "output_type": "execute_result"
    }
   ],
   "source": [
    "# 추론 엔드포인트 생성\n",
    "endpoint_name = 'kmeans-test-1'  # SageMaker 엔드포인트 이름\n",
    "\n",
    "kmeans.deploy(initial_instance_count=1, \n",
    "              instance_type='ml.m5.xlarge',\n",
    "              endpoint_name=endpoint_name)"
   ]
  },
  {
   "cell_type": "code",
   "execution_count": 70,
   "id": "ecd8ce12",
   "metadata": {},
   "outputs": [
    {
     "data": {
      "application/vnd.jupyter.widget-view+json": {
       "model_id": "4c8953db3c414d3888ff1512ddfe374b",
       "version_major": 2,
       "version_minor": 0
      },
      "text/plain": [
       "Batches:   0%|          | 0/1 [00:00<?, ?it/s]"
      ]
     },
     "metadata": {},
     "output_type": "display_data"
    },
    {
     "data": {
      "application/vnd.jupyter.widget-view+json": {
       "model_id": "b90504d9f04942dd86eb7c305afe9644",
       "version_major": 2,
       "version_minor": 0
      },
      "text/plain": [
       "Batches:   0%|          | 0/1 [00:00<?, ?it/s]"
      ]
     },
     "metadata": {},
     "output_type": "display_data"
    },
    {
     "data": {
      "application/vnd.jupyter.widget-view+json": {
       "model_id": "b57312263c7640779e552e0d758a1db9",
       "version_major": 2,
       "version_minor": 0
      },
      "text/plain": [
       "Batches:   0%|          | 0/1 [00:00<?, ?it/s]"
      ]
     },
     "metadata": {},
     "output_type": "display_data"
    },
    {
     "data": {
      "application/vnd.jupyter.widget-view+json": {
       "model_id": "6b4594ed5cd849c396bb4c684427963c",
       "version_major": 2,
       "version_minor": 0
      },
      "text/plain": [
       "Batches:   0%|          | 0/1 [00:00<?, ?it/s]"
      ]
     },
     "metadata": {},
     "output_type": "display_data"
    },
    {
     "data": {
      "application/vnd.jupyter.widget-view+json": {
       "model_id": "a6a74c6f327d4f54a47a5dc85846cf47",
       "version_major": 2,
       "version_minor": 0
      },
      "text/plain": [
       "Batches:   0%|          | 0/1 [00:00<?, ?it/s]"
      ]
     },
     "metadata": {},
     "output_type": "display_data"
    },
    {
     "data": {
      "application/vnd.jupyter.widget-view+json": {
       "model_id": "9d592a749b754496a7b1413470f9b8af",
       "version_major": 2,
       "version_minor": 0
      },
      "text/plain": [
       "Batches:   0%|          | 0/1 [00:00<?, ?it/s]"
      ]
     },
     "metadata": {},
     "output_type": "display_data"
    },
    {
     "data": {
      "application/vnd.jupyter.widget-view+json": {
       "model_id": "5d11ec1743354881ac8ab3da772fd18c",
       "version_major": 2,
       "version_minor": 0
      },
      "text/plain": [
       "Batches:   0%|          | 0/1 [00:00<?, ?it/s]"
      ]
     },
     "metadata": {},
     "output_type": "display_data"
    },
    {
     "data": {
      "application/vnd.jupyter.widget-view+json": {
       "model_id": "dda5b6d9d77a4ef393e6dd72f1149f27",
       "version_major": 2,
       "version_minor": 0
      },
      "text/plain": [
       "Batches:   0%|          | 0/1 [00:00<?, ?it/s]"
      ]
     },
     "metadata": {},
     "output_type": "display_data"
    },
    {
     "data": {
      "application/vnd.jupyter.widget-view+json": {
       "model_id": "66101ae398e4450f82c4fc14dc9f89a6",
       "version_major": 2,
       "version_minor": 0
      },
      "text/plain": [
       "Batches:   0%|          | 0/1 [00:00<?, ?it/s]"
      ]
     },
     "metadata": {},
     "output_type": "display_data"
    },
    {
     "data": {
      "application/vnd.jupyter.widget-view+json": {
       "model_id": "cdbd3caa8dfd495fa54f8984c5a9bf92",
       "version_major": 2,
       "version_minor": 0
      },
      "text/plain": [
       "Batches:   0%|          | 0/1 [00:00<?, ?it/s]"
      ]
     },
     "metadata": {},
     "output_type": "display_data"
    },
    {
     "data": {
      "application/vnd.jupyter.widget-view+json": {
       "model_id": "e3996dbe1754451b86e1957c0f6f5253",
       "version_major": 2,
       "version_minor": 0
      },
      "text/plain": [
       "Batches:   0%|          | 0/1 [00:00<?, ?it/s]"
      ]
     },
     "metadata": {},
     "output_type": "display_data"
    },
    {
     "data": {
      "application/vnd.jupyter.widget-view+json": {
       "model_id": "2615b2b7adbd4b14ac68f6854d21b67c",
       "version_major": 2,
       "version_minor": 0
      },
      "text/plain": [
       "Batches:   0%|          | 0/1 [00:00<?, ?it/s]"
      ]
     },
     "metadata": {},
     "output_type": "display_data"
    },
    {
     "data": {
      "application/vnd.jupyter.widget-view+json": {
       "model_id": "5d2a8be69fcd4248a236a27200ba86fc",
       "version_major": 2,
       "version_minor": 0
      },
      "text/plain": [
       "Batches:   0%|          | 0/1 [00:00<?, ?it/s]"
      ]
     },
     "metadata": {},
     "output_type": "display_data"
    },
    {
     "data": {
      "application/vnd.jupyter.widget-view+json": {
       "model_id": "9d70b7354f254f1c84f472fbd0e0bbc4",
       "version_major": 2,
       "version_minor": 0
      },
      "text/plain": [
       "Batches:   0%|          | 0/1 [00:00<?, ?it/s]"
      ]
     },
     "metadata": {},
     "output_type": "display_data"
    },
    {
     "data": {
      "application/vnd.jupyter.widget-view+json": {
       "model_id": "8657c3659f7445469dbb7812bc932f8b",
       "version_major": 2,
       "version_minor": 0
      },
      "text/plain": [
       "Batches:   0%|          | 0/1 [00:00<?, ?it/s]"
      ]
     },
     "metadata": {},
     "output_type": "display_data"
    },
    {
     "data": {
      "application/vnd.jupyter.widget-view+json": {
       "model_id": "381a4843440548c881548ece2a88c36a",
       "version_major": 2,
       "version_minor": 0
      },
      "text/plain": [
       "Batches:   0%|          | 0/1 [00:00<?, ?it/s]"
      ]
     },
     "metadata": {},
     "output_type": "display_data"
    },
    {
     "data": {
      "application/vnd.jupyter.widget-view+json": {
       "model_id": "0dd1d5c86d0d42a4abb91ab726477308",
       "version_major": 2,
       "version_minor": 0
      },
      "text/plain": [
       "Batches:   0%|          | 0/1 [00:00<?, ?it/s]"
      ]
     },
     "metadata": {},
     "output_type": "display_data"
    },
    {
     "data": {
      "application/vnd.jupyter.widget-view+json": {
       "model_id": "5d1e08f81dad4f9ca81cabbccefe35eb",
       "version_major": 2,
       "version_minor": 0
      },
      "text/plain": [
       "Batches:   0%|          | 0/1 [00:00<?, ?it/s]"
      ]
     },
     "metadata": {},
     "output_type": "display_data"
    },
    {
     "data": {
      "application/vnd.jupyter.widget-view+json": {
       "model_id": "9b9874419ce045a99e1b5526a50e1888",
       "version_major": 2,
       "version_minor": 0
      },
      "text/plain": [
       "Batches:   0%|          | 0/1 [00:00<?, ?it/s]"
      ]
     },
     "metadata": {},
     "output_type": "display_data"
    },
    {
     "data": {
      "application/vnd.jupyter.widget-view+json": {
       "model_id": "27997fd942fd4c048ae0239691574fa9",
       "version_major": 2,
       "version_minor": 0
      },
      "text/plain": [
       "Batches:   0%|          | 0/1 [00:00<?, ?it/s]"
      ]
     },
     "metadata": {},
     "output_type": "display_data"
    },
    {
     "data": {
      "application/vnd.jupyter.widget-view+json": {
       "model_id": "b0c7d4d1496e4e59b2ac6c6162877e82",
       "version_major": 2,
       "version_minor": 0
      },
      "text/plain": [
       "Batches:   0%|          | 0/1 [00:00<?, ?it/s]"
      ]
     },
     "metadata": {},
     "output_type": "display_data"
    },
    {
     "data": {
      "application/vnd.jupyter.widget-view+json": {
       "model_id": "7ea9e29c390b4ac7a88d7b0c3574835e",
       "version_major": 2,
       "version_minor": 0
      },
      "text/plain": [
       "Batches:   0%|          | 0/1 [00:00<?, ?it/s]"
      ]
     },
     "metadata": {},
     "output_type": "display_data"
    },
    {
     "data": {
      "application/vnd.jupyter.widget-view+json": {
       "model_id": "66abcfd7b8594733bfc4ac76d30ce801",
       "version_major": 2,
       "version_minor": 0
      },
      "text/plain": [
       "Batches:   0%|          | 0/1 [00:00<?, ?it/s]"
      ]
     },
     "metadata": {},
     "output_type": "display_data"
    },
    {
     "data": {
      "application/vnd.jupyter.widget-view+json": {
       "model_id": "3a99bb10a63d42fdb982462744fd6992",
       "version_major": 2,
       "version_minor": 0
      },
      "text/plain": [
       "Batches:   0%|          | 0/1 [00:00<?, ?it/s]"
      ]
     },
     "metadata": {},
     "output_type": "display_data"
    },
    {
     "data": {
      "application/vnd.jupyter.widget-view+json": {
       "model_id": "28b32d7f2d544bbe97e6733928817666",
       "version_major": 2,
       "version_minor": 0
      },
      "text/plain": [
       "Batches:   0%|          | 0/1 [00:00<?, ?it/s]"
      ]
     },
     "metadata": {},
     "output_type": "display_data"
    },
    {
     "data": {
      "application/vnd.jupyter.widget-view+json": {
       "model_id": "861e713459e2410c99a43a81611f21fc",
       "version_major": 2,
       "version_minor": 0
      },
      "text/plain": [
       "Batches:   0%|          | 0/1 [00:00<?, ?it/s]"
      ]
     },
     "metadata": {},
     "output_type": "display_data"
    },
    {
     "data": {
      "application/vnd.jupyter.widget-view+json": {
       "model_id": "bd9aa728ca034be5ae3b7f6f18622ab3",
       "version_major": 2,
       "version_minor": 0
      },
      "text/plain": [
       "Batches:   0%|          | 0/1 [00:00<?, ?it/s]"
      ]
     },
     "metadata": {},
     "output_type": "display_data"
    },
    {
     "data": {
      "application/vnd.jupyter.widget-view+json": {
       "model_id": "e490fca50ad84dfbae8475d38e888f19",
       "version_major": 2,
       "version_minor": 0
      },
      "text/plain": [
       "Batches:   0%|          | 0/1 [00:00<?, ?it/s]"
      ]
     },
     "metadata": {},
     "output_type": "display_data"
    },
    {
     "data": {
      "application/vnd.jupyter.widget-view+json": {
       "model_id": "f7386550cf9b44baa401cd9e75673516",
       "version_major": 2,
       "version_minor": 0
      },
      "text/plain": [
       "Batches:   0%|          | 0/1 [00:00<?, ?it/s]"
      ]
     },
     "metadata": {},
     "output_type": "display_data"
    },
    {
     "data": {
      "application/vnd.jupyter.widget-view+json": {
       "model_id": "1eee32f64ced4ac48eacbf09da5d22d9",
       "version_major": 2,
       "version_minor": 0
      },
      "text/plain": [
       "Batches:   0%|          | 0/1 [00:00<?, ?it/s]"
      ]
     },
     "metadata": {},
     "output_type": "display_data"
    },
    {
     "data": {
      "application/vnd.jupyter.widget-view+json": {
       "model_id": "04e6db6c24e24d45a6c3884179470b5a",
       "version_major": 2,
       "version_minor": 0
      },
      "text/plain": [
       "Batches:   0%|          | 0/1 [00:00<?, ?it/s]"
      ]
     },
     "metadata": {},
     "output_type": "display_data"
    },
    {
     "data": {
      "application/vnd.jupyter.widget-view+json": {
       "model_id": "21ab3017e93c4eb080da4ce60e9fe211",
       "version_major": 2,
       "version_minor": 0
      },
      "text/plain": [
       "Batches:   0%|          | 0/1 [00:00<?, ?it/s]"
      ]
     },
     "metadata": {},
     "output_type": "display_data"
    },
    {
     "data": {
      "application/vnd.jupyter.widget-view+json": {
       "model_id": "e659a9e5a4914c029c545342c65c0bc6",
       "version_major": 2,
       "version_minor": 0
      },
      "text/plain": [
       "Batches:   0%|          | 0/1 [00:00<?, ?it/s]"
      ]
     },
     "metadata": {},
     "output_type": "display_data"
    },
    {
     "data": {
      "application/vnd.jupyter.widget-view+json": {
       "model_id": "7363bb2250364a84b3af3205cd7db11e",
       "version_major": 2,
       "version_minor": 0
      },
      "text/plain": [
       "Batches:   0%|          | 0/1 [00:00<?, ?it/s]"
      ]
     },
     "metadata": {},
     "output_type": "display_data"
    },
    {
     "data": {
      "application/vnd.jupyter.widget-view+json": {
       "model_id": "b21d7aa911e74bffa199b8a0d067fd8a",
       "version_major": 2,
       "version_minor": 0
      },
      "text/plain": [
       "Batches:   0%|          | 0/1 [00:00<?, ?it/s]"
      ]
     },
     "metadata": {},
     "output_type": "display_data"
    },
    {
     "data": {
      "application/vnd.jupyter.widget-view+json": {
       "model_id": "e64b77b9ac2549a9900927d38fd70be0",
       "version_major": 2,
       "version_minor": 0
      },
      "text/plain": [
       "Batches:   0%|          | 0/1 [00:00<?, ?it/s]"
      ]
     },
     "metadata": {},
     "output_type": "display_data"
    },
    {
     "data": {
      "application/vnd.jupyter.widget-view+json": {
       "model_id": "b7aa5a8cd23a4ad0902534c17157cd88",
       "version_major": 2,
       "version_minor": 0
      },
      "text/plain": [
       "Batches:   0%|          | 0/1 [00:00<?, ?it/s]"
      ]
     },
     "metadata": {},
     "output_type": "display_data"
    },
    {
     "data": {
      "application/vnd.jupyter.widget-view+json": {
       "model_id": "3dbfeaf19733439a8352bf5acedd3024",
       "version_major": 2,
       "version_minor": 0
      },
      "text/plain": [
       "Batches:   0%|          | 0/1 [00:00<?, ?it/s]"
      ]
     },
     "metadata": {},
     "output_type": "display_data"
    },
    {
     "data": {
      "application/vnd.jupyter.widget-view+json": {
       "model_id": "ed849df0aeee465ab63449b17e2fad2b",
       "version_major": 2,
       "version_minor": 0
      },
      "text/plain": [
       "Batches:   0%|          | 0/1 [00:00<?, ?it/s]"
      ]
     },
     "metadata": {},
     "output_type": "display_data"
    },
    {
     "data": {
      "application/vnd.jupyter.widget-view+json": {
       "model_id": "8a7aed7936124bf0ad2282b164fafc07",
       "version_major": 2,
       "version_minor": 0
      },
      "text/plain": [
       "Batches:   0%|          | 0/1 [00:00<?, ?it/s]"
      ]
     },
     "metadata": {},
     "output_type": "display_data"
    },
    {
     "data": {
      "application/vnd.jupyter.widget-view+json": {
       "model_id": "cb71bdd883c7494784af28d0c4fd8949",
       "version_major": 2,
       "version_minor": 0
      },
      "text/plain": [
       "Batches:   0%|          | 0/1 [00:00<?, ?it/s]"
      ]
     },
     "metadata": {},
     "output_type": "display_data"
    },
    {
     "data": {
      "application/vnd.jupyter.widget-view+json": {
       "model_id": "8d6aad729e2a4d76bf219056ce623c0f",
       "version_major": 2,
       "version_minor": 0
      },
      "text/plain": [
       "Batches:   0%|          | 0/1 [00:00<?, ?it/s]"
      ]
     },
     "metadata": {},
     "output_type": "display_data"
    },
    {
     "data": {
      "application/vnd.jupyter.widget-view+json": {
       "model_id": "7c1e18a2a38947f1b55c973336bd2efd",
       "version_major": 2,
       "version_minor": 0
      },
      "text/plain": [
       "Batches:   0%|          | 0/1 [00:00<?, ?it/s]"
      ]
     },
     "metadata": {},
     "output_type": "display_data"
    },
    {
     "data": {
      "application/vnd.jupyter.widget-view+json": {
       "model_id": "163576daa81f4b3ba031fec6f0210c2e",
       "version_major": 2,
       "version_minor": 0
      },
      "text/plain": [
       "Batches:   0%|          | 0/1 [00:00<?, ?it/s]"
      ]
     },
     "metadata": {},
     "output_type": "display_data"
    },
    {
     "data": {
      "application/vnd.jupyter.widget-view+json": {
       "model_id": "669cbedc089e4680a239b54c9c112a20",
       "version_major": 2,
       "version_minor": 0
      },
      "text/plain": [
       "Batches:   0%|          | 0/1 [00:00<?, ?it/s]"
      ]
     },
     "metadata": {},
     "output_type": "display_data"
    },
    {
     "data": {
      "application/vnd.jupyter.widget-view+json": {
       "model_id": "395f1386baa543b194e4ebaeaf0caaf9",
       "version_major": 2,
       "version_minor": 0
      },
      "text/plain": [
       "Batches:   0%|          | 0/1 [00:00<?, ?it/s]"
      ]
     },
     "metadata": {},
     "output_type": "display_data"
    },
    {
     "data": {
      "application/vnd.jupyter.widget-view+json": {
       "model_id": "aa80f83cbd234ecd8ef8f9ca7822afa7",
       "version_major": 2,
       "version_minor": 0
      },
      "text/plain": [
       "Batches:   0%|          | 0/1 [00:00<?, ?it/s]"
      ]
     },
     "metadata": {},
     "output_type": "display_data"
    },
    {
     "data": {
      "application/vnd.jupyter.widget-view+json": {
       "model_id": "bfd99cf8ccfd48dd8479cd1689c54a13",
       "version_major": 2,
       "version_minor": 0
      },
      "text/plain": [
       "Batches:   0%|          | 0/1 [00:00<?, ?it/s]"
      ]
     },
     "metadata": {},
     "output_type": "display_data"
    },
    {
     "data": {
      "application/vnd.jupyter.widget-view+json": {
       "model_id": "84ff40b9231341f4ae9d970d9be61ae3",
       "version_major": 2,
       "version_minor": 0
      },
      "text/plain": [
       "Batches:   0%|          | 0/1 [00:00<?, ?it/s]"
      ]
     },
     "metadata": {},
     "output_type": "display_data"
    },
    {
     "data": {
      "application/vnd.jupyter.widget-view+json": {
       "model_id": "629843bb19374ce4b2839a16f415d9bd",
       "version_major": 2,
       "version_minor": 0
      },
      "text/plain": [
       "Batches:   0%|          | 0/1 [00:00<?, ?it/s]"
      ]
     },
     "metadata": {},
     "output_type": "display_data"
    },
    {
     "data": {
      "application/vnd.jupyter.widget-view+json": {
       "model_id": "c539f2bf45954403ba65a9442106920a",
       "version_major": 2,
       "version_minor": 0
      },
      "text/plain": [
       "Batches:   0%|          | 0/1 [00:00<?, ?it/s]"
      ]
     },
     "metadata": {},
     "output_type": "display_data"
    },
    {
     "data": {
      "application/vnd.jupyter.widget-view+json": {
       "model_id": "52fcace37dd44401a9f0d57c528d8b43",
       "version_major": 2,
       "version_minor": 0
      },
      "text/plain": [
       "Batches:   0%|          | 0/1 [00:00<?, ?it/s]"
      ]
     },
     "metadata": {},
     "output_type": "display_data"
    },
    {
     "data": {
      "application/vnd.jupyter.widget-view+json": {
       "model_id": "9672be55c799410d807098ffc4583de4",
       "version_major": 2,
       "version_minor": 0
      },
      "text/plain": [
       "Batches:   0%|          | 0/1 [00:00<?, ?it/s]"
      ]
     },
     "metadata": {},
     "output_type": "display_data"
    },
    {
     "data": {
      "application/vnd.jupyter.widget-view+json": {
       "model_id": "99e157ba17c64b5bbebf8c9095289bd1",
       "version_major": 2,
       "version_minor": 0
      },
      "text/plain": [
       "Batches:   0%|          | 0/1 [00:00<?, ?it/s]"
      ]
     },
     "metadata": {},
     "output_type": "display_data"
    },
    {
     "data": {
      "application/vnd.jupyter.widget-view+json": {
       "model_id": "c6248f61ef0e4a69be88c383f0a23a7c",
       "version_major": 2,
       "version_minor": 0
      },
      "text/plain": [
       "Batches:   0%|          | 0/1 [00:00<?, ?it/s]"
      ]
     },
     "metadata": {},
     "output_type": "display_data"
    },
    {
     "data": {
      "application/vnd.jupyter.widget-view+json": {
       "model_id": "5281e36ef733429880610c738ed7295b",
       "version_major": 2,
       "version_minor": 0
      },
      "text/plain": [
       "Batches:   0%|          | 0/1 [00:00<?, ?it/s]"
      ]
     },
     "metadata": {},
     "output_type": "display_data"
    },
    {
     "data": {
      "application/vnd.jupyter.widget-view+json": {
       "model_id": "f7df08dafcd44299a4c20aade6c12e00",
       "version_major": 2,
       "version_minor": 0
      },
      "text/plain": [
       "Batches:   0%|          | 0/1 [00:00<?, ?it/s]"
      ]
     },
     "metadata": {},
     "output_type": "display_data"
    },
    {
     "data": {
      "application/vnd.jupyter.widget-view+json": {
       "model_id": "6edd2062712d4f1ebd108d494d01d28c",
       "version_major": 2,
       "version_minor": 0
      },
      "text/plain": [
       "Batches:   0%|          | 0/1 [00:00<?, ?it/s]"
      ]
     },
     "metadata": {},
     "output_type": "display_data"
    },
    {
     "data": {
      "application/vnd.jupyter.widget-view+json": {
       "model_id": "b41eef6330034679aa919770ef9d2378",
       "version_major": 2,
       "version_minor": 0
      },
      "text/plain": [
       "Batches:   0%|          | 0/1 [00:00<?, ?it/s]"
      ]
     },
     "metadata": {},
     "output_type": "display_data"
    },
    {
     "data": {
      "application/vnd.jupyter.widget-view+json": {
       "model_id": "a11cbe244b024af68124411e932b8be8",
       "version_major": 2,
       "version_minor": 0
      },
      "text/plain": [
       "Batches:   0%|          | 0/1 [00:00<?, ?it/s]"
      ]
     },
     "metadata": {},
     "output_type": "display_data"
    },
    {
     "data": {
      "application/vnd.jupyter.widget-view+json": {
       "model_id": "5dbf7bf4caf2420c9c0e859b0ca425b6",
       "version_major": 2,
       "version_minor": 0
      },
      "text/plain": [
       "Batches:   0%|          | 0/1 [00:00<?, ?it/s]"
      ]
     },
     "metadata": {},
     "output_type": "display_data"
    },
    {
     "data": {
      "application/vnd.jupyter.widget-view+json": {
       "model_id": "3557cf26c95e4188b938794fe8f3ef8c",
       "version_major": 2,
       "version_minor": 0
      },
      "text/plain": [
       "Batches:   0%|          | 0/1 [00:00<?, ?it/s]"
      ]
     },
     "metadata": {},
     "output_type": "display_data"
    },
    {
     "data": {
      "application/vnd.jupyter.widget-view+json": {
       "model_id": "e330a16c68bc4757868a5498ff817fbb",
       "version_major": 2,
       "version_minor": 0
      },
      "text/plain": [
       "Batches:   0%|          | 0/1 [00:00<?, ?it/s]"
      ]
     },
     "metadata": {},
     "output_type": "display_data"
    },
    {
     "data": {
      "application/vnd.jupyter.widget-view+json": {
       "model_id": "6ee68d9659a548c5bef878027568ef16",
       "version_major": 2,
       "version_minor": 0
      },
      "text/plain": [
       "Batches:   0%|          | 0/1 [00:00<?, ?it/s]"
      ]
     },
     "metadata": {},
     "output_type": "display_data"
    },
    {
     "data": {
      "application/vnd.jupyter.widget-view+json": {
       "model_id": "e3638f960e0844dba1c57ccc1015575b",
       "version_major": 2,
       "version_minor": 0
      },
      "text/plain": [
       "Batches:   0%|          | 0/1 [00:00<?, ?it/s]"
      ]
     },
     "metadata": {},
     "output_type": "display_data"
    },
    {
     "data": {
      "application/vnd.jupyter.widget-view+json": {
       "model_id": "ce6feee0d4ab46a484212c678e9fb2d2",
       "version_major": 2,
       "version_minor": 0
      },
      "text/plain": [
       "Batches:   0%|          | 0/1 [00:00<?, ?it/s]"
      ]
     },
     "metadata": {},
     "output_type": "display_data"
    },
    {
     "data": {
      "application/vnd.jupyter.widget-view+json": {
       "model_id": "8188a6c0ecd243779b71cc00ac278167",
       "version_major": 2,
       "version_minor": 0
      },
      "text/plain": [
       "Batches:   0%|          | 0/1 [00:00<?, ?it/s]"
      ]
     },
     "metadata": {},
     "output_type": "display_data"
    },
    {
     "data": {
      "application/vnd.jupyter.widget-view+json": {
       "model_id": "be7d096f6a4b48b6a08f7faf6d4cbb63",
       "version_major": 2,
       "version_minor": 0
      },
      "text/plain": [
       "Batches:   0%|          | 0/1 [00:00<?, ?it/s]"
      ]
     },
     "metadata": {},
     "output_type": "display_data"
    },
    {
     "data": {
      "application/vnd.jupyter.widget-view+json": {
       "model_id": "c9a50f36fecf4a9b83fc76c412331ea3",
       "version_major": 2,
       "version_minor": 0
      },
      "text/plain": [
       "Batches:   0%|          | 0/1 [00:00<?, ?it/s]"
      ]
     },
     "metadata": {},
     "output_type": "display_data"
    },
    {
     "data": {
      "application/vnd.jupyter.widget-view+json": {
       "model_id": "facbf0af5e2947d8ba8eaab03a45f16b",
       "version_major": 2,
       "version_minor": 0
      },
      "text/plain": [
       "Batches:   0%|          | 0/1 [00:00<?, ?it/s]"
      ]
     },
     "metadata": {},
     "output_type": "display_data"
    },
    {
     "data": {
      "application/vnd.jupyter.widget-view+json": {
       "model_id": "8d323abbe8fa4672a86b92c0c3f07d6a",
       "version_major": 2,
       "version_minor": 0
      },
      "text/plain": [
       "Batches:   0%|          | 0/1 [00:00<?, ?it/s]"
      ]
     },
     "metadata": {},
     "output_type": "display_data"
    },
    {
     "data": {
      "application/vnd.jupyter.widget-view+json": {
       "model_id": "fc8d99ac10b947999f77c86c19637e89",
       "version_major": 2,
       "version_minor": 0
      },
      "text/plain": [
       "Batches:   0%|          | 0/1 [00:00<?, ?it/s]"
      ]
     },
     "metadata": {},
     "output_type": "display_data"
    },
    {
     "data": {
      "application/vnd.jupyter.widget-view+json": {
       "model_id": "7dd39ea2db0e4024a0fc6203efcc4d53",
       "version_major": 2,
       "version_minor": 0
      },
      "text/plain": [
       "Batches:   0%|          | 0/1 [00:00<?, ?it/s]"
      ]
     },
     "metadata": {},
     "output_type": "display_data"
    },
    {
     "data": {
      "application/vnd.jupyter.widget-view+json": {
       "model_id": "f3e9f25175af45b8b08027a1cf7087eb",
       "version_major": 2,
       "version_minor": 0
      },
      "text/plain": [
       "Batches:   0%|          | 0/1 [00:00<?, ?it/s]"
      ]
     },
     "metadata": {},
     "output_type": "display_data"
    },
    {
     "data": {
      "application/vnd.jupyter.widget-view+json": {
       "model_id": "e90834493b774097bdf32adb46a6eefb",
       "version_major": 2,
       "version_minor": 0
      },
      "text/plain": [
       "Batches:   0%|          | 0/1 [00:00<?, ?it/s]"
      ]
     },
     "metadata": {},
     "output_type": "display_data"
    },
    {
     "data": {
      "application/vnd.jupyter.widget-view+json": {
       "model_id": "65a942cb4a154244ac99535ca37129a3",
       "version_major": 2,
       "version_minor": 0
      },
      "text/plain": [
       "Batches:   0%|          | 0/1 [00:00<?, ?it/s]"
      ]
     },
     "metadata": {},
     "output_type": "display_data"
    },
    {
     "data": {
      "application/vnd.jupyter.widget-view+json": {
       "model_id": "90d4e10b69a34ee7a87da0276a74d7ee",
       "version_major": 2,
       "version_minor": 0
      },
      "text/plain": [
       "Batches:   0%|          | 0/1 [00:00<?, ?it/s]"
      ]
     },
     "metadata": {},
     "output_type": "display_data"
    },
    {
     "data": {
      "application/vnd.jupyter.widget-view+json": {
       "model_id": "5fc37a4e9d1942bcba9c12234f1e0b37",
       "version_major": 2,
       "version_minor": 0
      },
      "text/plain": [
       "Batches:   0%|          | 0/1 [00:00<?, ?it/s]"
      ]
     },
     "metadata": {},
     "output_type": "display_data"
    },
    {
     "data": {
      "application/vnd.jupyter.widget-view+json": {
       "model_id": "121c4c2ae39d46dd9eaf6519e52ecafb",
       "version_major": 2,
       "version_minor": 0
      },
      "text/plain": [
       "Batches:   0%|          | 0/1 [00:00<?, ?it/s]"
      ]
     },
     "metadata": {},
     "output_type": "display_data"
    },
    {
     "data": {
      "application/vnd.jupyter.widget-view+json": {
       "model_id": "6d5bc5fbb51c466cbf53c5a9c9ea7afa",
       "version_major": 2,
       "version_minor": 0
      },
      "text/plain": [
       "Batches:   0%|          | 0/1 [00:00<?, ?it/s]"
      ]
     },
     "metadata": {},
     "output_type": "display_data"
    },
    {
     "data": {
      "application/vnd.jupyter.widget-view+json": {
       "model_id": "9c813487b1b849cdafd38e5da3bf19d9",
       "version_major": 2,
       "version_minor": 0
      },
      "text/plain": [
       "Batches:   0%|          | 0/1 [00:00<?, ?it/s]"
      ]
     },
     "metadata": {},
     "output_type": "display_data"
    },
    {
     "data": {
      "application/vnd.jupyter.widget-view+json": {
       "model_id": "88fe14c5c4d348c79b38ac5da99766b5",
       "version_major": 2,
       "version_minor": 0
      },
      "text/plain": [
       "Batches:   0%|          | 0/1 [00:00<?, ?it/s]"
      ]
     },
     "metadata": {},
     "output_type": "display_data"
    },
    {
     "data": {
      "application/vnd.jupyter.widget-view+json": {
       "model_id": "aa0fc08a26f94d739119cacc6ea0d7cb",
       "version_major": 2,
       "version_minor": 0
      },
      "text/plain": [
       "Batches:   0%|          | 0/1 [00:00<?, ?it/s]"
      ]
     },
     "metadata": {},
     "output_type": "display_data"
    },
    {
     "data": {
      "application/vnd.jupyter.widget-view+json": {
       "model_id": "d84b467023814c9188c016cfb917eb68",
       "version_major": 2,
       "version_minor": 0
      },
      "text/plain": [
       "Batches:   0%|          | 0/1 [00:00<?, ?it/s]"
      ]
     },
     "metadata": {},
     "output_type": "display_data"
    },
    {
     "data": {
      "application/vnd.jupyter.widget-view+json": {
       "model_id": "b70694d52bd34756adee19b0fecc70e8",
       "version_major": 2,
       "version_minor": 0
      },
      "text/plain": [
       "Batches:   0%|          | 0/1 [00:00<?, ?it/s]"
      ]
     },
     "metadata": {},
     "output_type": "display_data"
    },
    {
     "data": {
      "application/vnd.jupyter.widget-view+json": {
       "model_id": "474dbc146f9742a5bf143ada1597e6df",
       "version_major": 2,
       "version_minor": 0
      },
      "text/plain": [
       "Batches:   0%|          | 0/1 [00:00<?, ?it/s]"
      ]
     },
     "metadata": {},
     "output_type": "display_data"
    },
    {
     "data": {
      "application/vnd.jupyter.widget-view+json": {
       "model_id": "e1eab3421589467d98243f7729a1e364",
       "version_major": 2,
       "version_minor": 0
      },
      "text/plain": [
       "Batches:   0%|          | 0/1 [00:00<?, ?it/s]"
      ]
     },
     "metadata": {},
     "output_type": "display_data"
    },
    {
     "data": {
      "application/vnd.jupyter.widget-view+json": {
       "model_id": "0c6173b048974d669d1ed3bf47b6dc30",
       "version_major": 2,
       "version_minor": 0
      },
      "text/plain": [
       "Batches:   0%|          | 0/1 [00:00<?, ?it/s]"
      ]
     },
     "metadata": {},
     "output_type": "display_data"
    },
    {
     "data": {
      "application/vnd.jupyter.widget-view+json": {
       "model_id": "403503ba0ce24306859dd5efe7e34f24",
       "version_major": 2,
       "version_minor": 0
      },
      "text/plain": [
       "Batches:   0%|          | 0/1 [00:00<?, ?it/s]"
      ]
     },
     "metadata": {},
     "output_type": "display_data"
    },
    {
     "data": {
      "application/vnd.jupyter.widget-view+json": {
       "model_id": "bccd6804296d467da5d8f37dee20afd8",
       "version_major": 2,
       "version_minor": 0
      },
      "text/plain": [
       "Batches:   0%|          | 0/1 [00:00<?, ?it/s]"
      ]
     },
     "metadata": {},
     "output_type": "display_data"
    },
    {
     "data": {
      "application/vnd.jupyter.widget-view+json": {
       "model_id": "5c7c2070a2184d51b71e543f50258fca",
       "version_major": 2,
       "version_minor": 0
      },
      "text/plain": [
       "Batches:   0%|          | 0/1 [00:00<?, ?it/s]"
      ]
     },
     "metadata": {},
     "output_type": "display_data"
    },
    {
     "data": {
      "application/vnd.jupyter.widget-view+json": {
       "model_id": "99324af30c7c4bb39b63a47fc5d67c37",
       "version_major": 2,
       "version_minor": 0
      },
      "text/plain": [
       "Batches:   0%|          | 0/1 [00:00<?, ?it/s]"
      ]
     },
     "metadata": {},
     "output_type": "display_data"
    },
    {
     "data": {
      "application/vnd.jupyter.widget-view+json": {
       "model_id": "b6a811ab67164737a05907e0a82666cc",
       "version_major": 2,
       "version_minor": 0
      },
      "text/plain": [
       "Batches:   0%|          | 0/1 [00:00<?, ?it/s]"
      ]
     },
     "metadata": {},
     "output_type": "display_data"
    },
    {
     "data": {
      "application/vnd.jupyter.widget-view+json": {
       "model_id": "5271164b3a624aa29ca209788487b25e",
       "version_major": 2,
       "version_minor": 0
      },
      "text/plain": [
       "Batches:   0%|          | 0/1 [00:00<?, ?it/s]"
      ]
     },
     "metadata": {},
     "output_type": "display_data"
    },
    {
     "data": {
      "application/vnd.jupyter.widget-view+json": {
       "model_id": "b6c44880e5334d5fa7985a5fc204f1c3",
       "version_major": 2,
       "version_minor": 0
      },
      "text/plain": [
       "Batches:   0%|          | 0/1 [00:00<?, ?it/s]"
      ]
     },
     "metadata": {},
     "output_type": "display_data"
    },
    {
     "data": {
      "application/vnd.jupyter.widget-view+json": {
       "model_id": "5fe6c155bf1b4ab3a3cb112ef1f640ed",
       "version_major": 2,
       "version_minor": 0
      },
      "text/plain": [
       "Batches:   0%|          | 0/1 [00:00<?, ?it/s]"
      ]
     },
     "metadata": {},
     "output_type": "display_data"
    },
    {
     "data": {
      "application/vnd.jupyter.widget-view+json": {
       "model_id": "4f87d68cd3d14cd299e6c033111f2d22",
       "version_major": 2,
       "version_minor": 0
      },
      "text/plain": [
       "Batches:   0%|          | 0/1 [00:00<?, ?it/s]"
      ]
     },
     "metadata": {},
     "output_type": "display_data"
    },
    {
     "data": {
      "application/vnd.jupyter.widget-view+json": {
       "model_id": "9a34f027ec88473eafc61ce98eb32829",
       "version_major": 2,
       "version_minor": 0
      },
      "text/plain": [
       "Batches:   0%|          | 0/1 [00:00<?, ?it/s]"
      ]
     },
     "metadata": {},
     "output_type": "display_data"
    },
    {
     "data": {
      "application/vnd.jupyter.widget-view+json": {
       "model_id": "2db9db6955364c8483011b5fea7ebdd4",
       "version_major": 2,
       "version_minor": 0
      },
      "text/plain": [
       "Batches:   0%|          | 0/1 [00:00<?, ?it/s]"
      ]
     },
     "metadata": {},
     "output_type": "display_data"
    },
    {
     "data": {
      "application/vnd.jupyter.widget-view+json": {
       "model_id": "8820e988096448fca6f9c8152419a212",
       "version_major": 2,
       "version_minor": 0
      },
      "text/plain": [
       "Batches:   0%|          | 0/1 [00:00<?, ?it/s]"
      ]
     },
     "metadata": {},
     "output_type": "display_data"
    }
   ],
   "source": [
    "# 추론 수행\n",
    "\n",
    "# vectors = [sentence_model.encode(vector) for vector in tqdm(test_data)]\n",
    "vectors = [sentence_model.encode(vector) for vector in test_data]\n",
    "\n",
    "sentence_vectors = np.vstack(vectors)"
   ]
  },
  {
   "cell_type": "code",
   "execution_count": 71,
   "id": "e2676f64",
   "metadata": {},
   "outputs": [
    {
     "data": {
      "text/plain": [
       "(100, 100)"
      ]
     },
     "execution_count": 71,
     "metadata": {},
     "output_type": "execute_result"
    }
   ],
   "source": [
    "n_components = 100\n",
    "svd = TruncatedSVD(n_components=n_components)\n",
    "test_lsa_sentence_vectors = svd.fit_transform(sentence_vectors)\n",
    "test_lsa_sentence_vectors.shape"
   ]
  },
  {
   "cell_type": "code",
   "execution_count": null,
   "id": "375e8415",
   "metadata": {},
   "outputs": [],
   "source": []
  },
  {
   "cell_type": "code",
   "execution_count": null,
   "id": "f5f9dbd9",
   "metadata": {},
   "outputs": [],
   "source": []
  },
  {
   "cell_type": "code",
   "execution_count": 116,
   "id": "42328014",
   "metadata": {},
   "outputs": [
    {
     "data": {
      "text/plain": [
       "'7.3241773,-1.8803644,-0.41338643,-2.4825091,-0.16728756,-0.11367648,-0.20906824,0.33585262,-0.258572,-0.27967912,0.164852,-3.0562007,1.6303061,0.67225087,1.0634077,-0.6326853,0.8240596,1.1413313,-0.7644789,-0.7818035,-0.61597735,1.1892904,-0.6788063,-0.065096654,1.1187471,0.40876895,-0.78082305,-0.31056464,-1.2350929,0.121704996,0.6660565,0.43819004,0.07447849,0.75947404,-0.5940561,-0.85058945,0.4201797,-0.17102188,-0.81861794,1.3961356,-0.8763545,-0.90311885,-0.18704362,0.6047842,-0.26248395,0.3936023,-0.5862213,0.0811246,-0.88385594,0.19508834,0.48352748,-1.0606055,-0.21412392,-0.4545701,-0.21253635,1.5293517,0.111537084,-0.1926604,-0.24558862,0.7821809,-0.22580576,-0.9253751,-0.13124138,0.32152098,0.42657548,0.28310013,0.18145995,-0.49,0.13268894,0.113314316,-0.24723354,-0.36260766,-0.4324189,0.999928,0.16700456,-0.3652249,0.20846796,0.11328077,0.07868861,-0.70663,-0.095877156,1.5409133,-0.83478844,1.2781451,0.48226136,-0.31030422,0.12919551,0.75872564,-0.33996472,1.137219,0.25441107,0.087011546,-0.06098699,-0.15784872,-0.12688105,0.06449829,0.11934841,0.61122394,0.499475,0.7840887\\n7.4513955,-2.1874938,-0.35647595,-1.7109635,-1.1779963,-0.8483509,1.050509,-0.5985366,-0.52677447,-0.85457075,2.4127748,-1.2520112,-1.0315051,-0.5321859,0.29044676,1.7462984,0.12383717,0.065608606,-0.81421435,0.47653252,-0.032257125,0.74165404,-1.7906271,-1.228591,0.122866035,0.85107327,0.8426383,0.46054336,0.05216573,0.30886817,1.4697269,0.07472645,-0.22068773,-0.45753855,-0.51057154,0.1611918,0.08919266,-1.0668098,0.33794537,0.34581527,0.72484946,0.50530005,-1.1046844,0.85023034,1.0610209,-0.4555268,-0.5654515,-0.7909229,-0.7939744,-0.39764157,-0.07843852,-0.9857427,-0.5231434,0.86594373,-0.062446088,0.15333906,0.41595435,-0.058305092,0.012756363,-0.444466,0.35476533,0.257446,-1.222801,-0.104671545,-0.8837155,0.23118368,0.23586397,0.33746135,-0.2278655,0.36464566,0.9360905,-0.27698955,-0.1324459,0.5032628,0.2862584,-0.8167683,0.11332467,0.19611534,1.0938655,-0.42519704,0.03659457,-0.17562243,-0.50851315,-0.71972036,1.6202735,-0.29811102,-0.0880899,-1.1614962,0.23312576,0.033824176,0.9018016,-0.034423962,0.752213,-0.019211553,0.12760195,-0.43810788,-0.274923,-0.56895196,-0.54869246,-0.1825491\\n7.163411,0.29645652,-2.1899934,-1.2965994,-2.3303769,-2.818522,-0.70485735,-0.3745538,1.2482342,0.62934357,1.1138985,-0.7987251,1.1160071,-0.2990245,0.6841372,-0.41796458,2.7626705,-0.9546764,0.07354241,-1.1278921,-0.7912333,-0.8032696,0.6790248,-0.9819952,-0.45116898,0.71020305,-0.48430604,0.30670273,0.32065913,-0.32585105,0.8142947,-1.8210425,0.47058415,0.34896314,0.024090778,0.7001778,-0.6751146,-0.19352227,0.18067448,-1.151755,-0.3592351,0.19563398,-0.008895993,-0.16433492,-0.6724408,-0.12838925,0.9232876,1.1579266,-0.4797562,0.888589,0.36632568,-0.976255,1.622462,-0.52104235,-0.67283463,-0.086424455,0.22709757,-0.24269958,0.012670636,-0.25964946,-0.27823782,-0.42991686,0.33347386,0.88655114,-0.11187645,0.42399478,0.87404364,0.36517602,0.30777207,0.67195386,-0.27120706,-0.33935767,0.6035804,0.031305257,-0.24331732,0.22515613,0.0114963725,0.18072534,-0.5533165,-0.610763,-0.4409779,0.2982038,-0.21917678,-0.61793387,-0.5249036,0.12153762,0.22598791,0.013973892,-1.0979806,-0.1344579,-0.81009203,-0.33359784,1.2414151,-0.31434244,-0.7863354,0.18504608,-0.6819963,-0.8786582,0.089963794,-0.07938442\\n5.954067,1.9645723,-3.381299,-0.17943643,-1.1308975,-1.5710212,0.41710782,2.089844,0.07979143,1.4320762,0.055321418,2.3618548,0.24458075,0.50395113,-0.6044546,-0.4872714,-1.181366,-0.020577192,1.1609869,2.1740885,1.454306,0.7036384,-1.6801804,1.1328746,2.118306,-0.2286775,0.04569078,0.2185718,0.2743066,-0.54470235,-0.9043642,1.002051,0.011110142,0.43973485,-0.9864024,2.7372065,1.1922807,0.42142636,-0.67035246,-0.75115144,-0.21898228,0.055278465,-0.96878505,-0.6388457,0.31751123,-0.65728384,0.08487526,-0.508342,-0.15687215,-0.32480168,0.32178953,0.33825946,-0.34106505,0.0963162,0.75045633,0.47496578,-0.31704378,0.6254118,0.2428904,0.7484508,0.04816337,-0.024709232,-0.46606833,-0.75945807,1.1566923,0.5063054,0.54922277,-0.15906723,0.35784954,-1.0975468,0.27307916,1.0490052,-0.02104032,0.90408826,0.3669691,-0.64538276,-0.45822102,0.41283345,-0.2746192,0.7703786,-0.677905,0.77203345,0.70607346,-0.07681439,0.31557614,-0.5830906,0.91752446,-0.642424,-0.93306875,-0.21945308,-0.6757181,-0.084638104,-0.030305356,0.037621737,-0.32556152,-0.1545056,-0.13867033,0.030539706,-0.1395261,0.09153353\\n3.6751523,2.3644297,0.46310914,4.064781,0.5540904,4.640078,0.9803395,-2.5507755,-0.7292373,-2.4301982,0.5415536,1.5733805,0.939697,-0.79697573,-0.8583467,0.02824495,0.87462026,0.008164126,-0.47263247,-1.6196499,0.009424984,0.20508876,-0.2779255,-1.6630583,1.9822487,2.7363214,3.2775578,-1.2082872,-0.6994511,1.6825125,-1.2863268,-0.39030847,0.6420845,-0.39678574,-0.050272968,0.5828418,0.009056687,0.3070885,0.67219186,-0.82089174,1.36759,-1.0402464,0.47796196,-0.6296059,0.76590985,0.14170468,1.5616131,0.13739258,0.09705841,-0.5821047,-0.62099266,0.81302357,0.15069008,-0.22635359,0.37654984,1.7048998,0.84125566,-0.5582548,0.7418252,-0.8932525,0.010135844,-0.20361654,0.059488922,0.022551194,-0.23676752,0.2182414,-0.22970435,-0.21571693,1.6107249,-0.39488193,-0.26452637,-0.59398973,-0.16911887,0.4933713,0.7377257,-0.1566802,0.039561942,-0.17825988,0.6320307,0.20018525,-0.24294941,0.10619795,-0.208109,0.45005226,-0.17921461,0.3014797,0.3232809,0.16401228,0.30379897,0.34928292,-0.527858,0.2821418,0.33097142,0.17732912,-0.08722435,0.16000658,0.012648702,-0.13173866,-0.21332379,-0.14690053\\n4.2395763,0.040543467,-0.39993834,2.8433113,-1.0726225,0.23014718,-2.0285752,1.0003507,0.5968554,-3.3484483,0.8253367,-0.2882551,1.4533575,-0.7036384,-2.0058615,2.3061275,1.0156,-2.1980834,1.2445648,0.13092422,1.4118218,-1.9237945,-1.8988419,2.0321782,-0.5328764,-1.4517436,1.096111,2.7378073,1.9764156,1.5652337,-0.8320783,1.0882165,-1.2636807,0.844306,-0.39360395,-1.0698225,-1.6759958,1.0552132,-0.14883155,2.1501942,0.30986017,1.6946962,-0.15998244,1.6106657,-1.0729142,-1.4257305,1.0363407,-0.3508313,0.07478714,-0.6936035,0.97448486,0.9240972,-0.6431037,-0.37802464,-0.16736957,0.41237444,-0.5725242,-0.026141733,0.06032418,0.39088386,-0.026285857,-0.7818632,0.35733882,0.31914765,-0.25595784,0.5922797,0.65752846,0.40230635,1.0207673,0.22173572,0.77422476,-0.36624628,0.3839321,0.027303219,-0.47119468,0.0871346,-0.32250327,0.3943776,-0.20999187,-0.07838489,0.05310388,0.21711314,-0.19755942,0.14319709,-0.11264962,0.011780158,-0.3940242,-0.04385803,0.12790208,0.08506243,-0.18448177,0.04206656,0.08820823,-0.12603158,0.22960036,0.070062,0.020973757,0.074398644,0.14012548,0.04371564\\n4.605962,-0.3398231,1.1138906,4.9749985,2.788269,3.239454,-0.1531603,-1.1195532,0.57049114,-1.0321469,4.7223935,-0.56957746,-0.42109686,-1.4667764,1.516068,0.5803765,0.81813383,-0.2616128,0.22591062,1.4110436,-0.70997447,0.10735584,0.62371093,1.0199455,-0.37728912,1.2669849,-1.1113869,1.0421529,-1.4238483,-1.7127872,0.113512166,-1.1658043,0.52967227,1.3565879,-0.6387566,-0.30386108,0.4632846,-0.67953324,-1.2112099,0.45261103,-1.4180987,0.015154123,-0.20267357,0.68373734,0.05648239,0.31880215,-1.4985344,0.20505758,0.3728075,0.6990073,-0.37534845,-0.1864802,0.09989177,0.51469576,-0.06742722,-0.11424656,-1.6026824,0.016208872,-1.0644019,0.6901954,0.34592858,0.34564084,0.86010164,0.031333447,-0.23529258,1.1026523,-0.6090682,-0.9165235,0.77816826,-0.02056764,0.26034915,0.38115725,0.15968472,0.084394604,0.49835995,0.10547334,-0.5971855,-1.0834002,0.45038268,0.23170212,-0.26588237,-0.17830583,0.8853586,0.08465591,0.38094565,1.0037638,-0.30323207,-0.5319756,-0.33617082,0.057604164,-0.30204883,0.21684948,0.093138814,0.06704349,0.062000528,0.448854,-0.049018987,-0.13192397,0.20162481,0.025106795\\n5.8922844,0.069410324,3.309279,-0.48706615,-1.6901524,1.0867746,2.669129,0.091448724,-1.2741126,-0.03411009,-0.68172383,-1.6219692,-0.6336339,0.8933331,-2.3138828,-0.5250028,2.8587584,-1.2877301,1.0781882,-0.34071776,1.9922374,-1.4625847,1.1400409,0.14165664,1.0388483,-0.28725857,1.569011,0.75729257,-0.117521025,-0.11715233,2.3231122,0.9419182,-0.8415366,-0.88686234,-1.1829624,0.28225255,-0.6066064,-1.2392526,0.46873897,-0.10737896,0.20480919,-1.408829,0.38813657,0.24554878,-0.25381693,-0.6538603,-0.5737635,1.8855722,-0.34881544,-0.36359972,0.20123053,0.9394988,1.7276082,0.26255417,0.7514467,-0.09193359,-1.0649681,-0.97230446,0.07476112,1.4100865,0.21184242,1.297647,0.28960413,-1.3085608,0.825043,0.09454349,-0.04339862,-0.22456232,-1.0033625,-0.6719165,0.39481646,-0.06905985,-0.58175874,0.54832304,-0.21821563,0.6717514,0.44146475,0.1402185,-0.17534222,0.010981634,-0.17595494,0.036813706,-0.043332696,-0.10551167,0.0005269982,0.5197116,0.00030383468,-0.023008227,0.20281543,0.3423341,0.46458057,0.34101903,0.051912427,-0.33418068,-0.5769465,0.010090835,-0.09698567,0.16459255,-0.05770462,-0.46899047\\n5.4941835,1.1675476,-1.138119,0.14214271,-2.09608,-1.9653006,0.13731962,1.7809539,-0.19482145,3.9189122,0.19895765,0.93438935,1.9402891,-1.4471655,0.060183167,-0.80738807,2.1875255,0.6607952,0.49882352,0.19322771,1.6319137,1.6245275,0.35567766,2.3415616,3.47645,-0.62656856,0.65319663,-1.0964361,0.4289626,-0.03831628,-0.5813134,0.41621882,0.7343927,0.8334689,0.6563903,-0.65525424,0.37805188,-0.2896803,-0.84422666,0.007684201,0.23242559,-0.14175859,0.6636513,-0.7207936,0.79276454,-1.4023578,-1.7928702,0.45507962,1.441097,-0.6885767,-0.5557183,0.15392739,-0.106201366,0.6663412,0.24494082,1.1187592,-0.012428142,-0.8476496,-0.42508084,-0.9019463,0.90259457,-0.6281333,0.21379165,-0.7644109,-1.618444,0.33574414,0.37310696,0.6718998,-0.026251905,0.6754804,-0.5832835,-0.5530334,-0.329163,-0.5662029,-0.6611105,-0.26007453,0.14944172,-0.16298234,-0.44647652,-0.39607376,1.3428278,-0.31674844,0.46265686,0.048059322,0.14026776,0.2813173,-0.23998505,-0.1591051,0.0017199926,-0.039817214,0.057043612,0.07630929,0.35596237,0.026120126,-0.0041535795,0.11051357,0.15495822,-0.014085174,0.2535882,0.11799584\\n5.4376755,-2.237852,-0.44039744,-0.14059141,1.5974847,-3.53723,-1.9974597,-0.300278,-2.0185895,-3.0876315,-0.8796488,0.3453588,-0.3539933,0.24749604,-0.19128169,0.8519022,-2.0281754,-1.059267,0.25781193,-1.4080962,0.3005721,0.815291,2.4958134,-1.3736022,3.447262,1.7545167,-0.6407652,0.74071586,-0.21121716,0.34329718,-1.045691,0.038200036,-1.5162334,-0.7002164,1.5411165,-1.9281708,0.6274207,-0.37991053,-1.2749189,-0.13286704,-1.5982752,0.4078393,0.16772531,0.58953667,1.7825353,0.060070932,0.17507869,0.5011814,-0.12845066,0.21700007,1.2977527,-0.51739085,0.698146,-0.7566362,0.5285526,-0.76584786,0.047419995,0.76775014,1.5708141,-0.39206722,0.4792888,-0.22846118,-0.051452532,-1.4206152,0.6014014,0.26254743,-0.15157548,0.1918517,-0.4693042,0.39887488,0.30394962,-0.3931887,0.76497185,0.4714086,-0.29980725,0.3533614,-0.804963,-0.28921956,-0.16705129,0.51538235,0.42385775,0.47900736,0.2484084,-0.4900895,-0.14442621,0.2378954,-0.14690399,0.004367456,-0.017878063,0.109357744,-0.034645524,0.45316562,0.10384917,0.27649984,0.32040873,-0.11080025,0.060911298,-0.23547749,-0.016384482,0.16805527\\n6.3587246,1.7504418,-2.6433566,2.0392509,-3.3831043,-1.183108,-2.2969844,-0.45865068,0.95890385,-0.36553842,-0.3716858,1.227125,1.0954564,-1.2335078,-0.15410939,0.22381145,-0.536809,-0.76549256,0.46608296,1.4787621,1.0941105,-0.37243584,-0.13206628,-0.61185545,-0.0765406,-0.48530245,0.40698925,-1.1731317,-0.3874433,-1.1129637,0.14930955,-0.8598877,-1.5764749,-0.25263554,0.36117163,-0.3048965,0.49497777,-0.29777354,-0.9865635,0.42018038,0.6855595,0.002230905,1.0021551,0.44339955,1.7832203,2.4236085,1.5818365,-0.13315305,0.73858887,0.058782548,-1.6607742,-0.12331468,0.5684805,0.99543226,-0.3690276,0.36734366,0.25944668,0.08143015,0.067976326,0.35986507,-0.972934,0.74012536,0.93547696,-0.042649955,0.54546523,0.4406091,0.47100523,0.2501106,-1.0029123,1.0990064,1.288254,0.5548564,0.07899913,-0.27450487,0.8497863,0.78315085,0.02393803,0.10158187,0.074603155,-0.69344115,0.49531797,-0.4248797,-0.4118548,0.7738967,-0.10839501,-0.24490659,-0.08500076,-0.72603685,-0.09410781,0.18740052,-0.18663554,-0.1533653,-0.047507174,-0.5186808,-0.02626063,0.014347516,-0.09722501,0.697596,-0.20962481,0.29745406\\n6.865696,0.154371,-2.289111,-1.1181072,-2.4636965,-1.7154471,-0.7428994,0.028367966,-0.3447423,0.8564027,-0.0037779063,-1.3132046,2.1980045,-0.2899124,-0.51383215,-0.3392183,2.9237082,-0.9278092,0.27225694,-0.029682614,1.0355992,-0.22899982,0.2996192,1.5828575,-0.249159,2.2910106,-0.47417015,-0.5799862,0.7183149,-0.0044675544,-0.24064824,-0.5549813,1.3012741,0.22967024,-0.18495944,0.6247662,-0.08458419,0.6617989,-0.38559383,-1.0674124,-1.0262794,0.23011975,1.3151077,-0.34139535,0.3087284,1.4062827,0.6314166,-1.9218516,-0.42777598,0.024091527,1.537549,0.67604566,-0.22129966,-0.06342766,0.119993314,-0.2822768,-0.7613944,0.7140796,-0.060366936,-0.10441723,-0.16478568,0.8682083,-0.063174546,0.17891197,0.2719695,-0.28783506,-0.34631848,-0.3237489,-0.034590855,-0.7866986,-0.3911488,-0.8788801,-0.52849454,0.014277458,-0.083963975,-0.16199492,-0.81376487,-0.20134656,-0.23752752,0.5630984,-0.35143536,-0.42576793,0.27101648,0.5266749,0.12066573,0.10538462,-0.34751162,0.13751462,1.2277472,0.17235947,0.6513523,-0.7854122,-0.18605375,-0.81901324,0.331163,-0.0075804293,-0.38478297,-0.5720257,-0.44783646,0.6152679\\n6.7242336,1.4126416,-2.6663606,1.9752034,-1.1473758,-1.7316302,0.55399686,1.3094718,0.69823575,2.0178041,0.6572678,1.3573569,-1.9120495,-1.5522699,0.7971581,-0.38824517,-1.8352207,0.7858532,-1.5580356,0.7578606,0.3396052,0.65675217,-0.43865222,-1.3954008,1.206902,-0.097526066,1.0884545,1.1926136,0.32114717,-1.7351066,-0.7592176,-0.20718093,0.5723859,-1.5228369,0.61725426,-1.580584,-1.2142937,-0.527612,1.2550344,-0.138159,1.0601895,0.3109131,-0.30732882,2.1662142,0.57155836,0.24456337,-0.5085987,-1.6112967,-1.2431891,-0.09385614,0.48242232,0.54692113,0.61947346,-0.8418276,-0.27326187,0.30717346,1.3604963,0.1866399,-0.2668707,1.4017017,-0.0129040405,0.16418493,1.1066991,0.76358134,-0.2917614,0.89738077,-1.1925235,-0.3555363,0.36910108,-0.69803745,-0.8182603,0.4109618,-0.79347354,-0.27132446,-0.31239712,0.33335763,-0.048588444,0.23910701,-0.35863736,0.1525528,0.20515065,0.36787978,-0.11299227,-0.877138,-0.17723918,0.46504736,0.16084245,0.28977418,0.4236676,-0.11844386,0.37164298,-0.03683266,0.26296288,-0.25343597,-0.32207146,-0.1428137,-0.37813413,0.41629398,0.40523574,0.0044692755\\n6.054903,1.8139184,-2.6112053,-0.92188585,-3.404652,-0.8559215,-1.4050534,-0.11844342,1.5859115,1.0174228,1.5835105,-0.9327705,0.91719097,0.211013,0.92196625,0.032546036,1.3857749,-0.73513687,0.3395019,-0.9114007,-0.38501567,-0.29316127,0.11045231,0.09377545,-0.020381391,1.1609638,-0.09057186,0.054041862,0.39491856,0.5345192,0.49313456,-1.5217054,0.09955313,0.22874717,1.5538132,1.8645267,-1.7590017,0.13863686,-0.5070485,-0.9388114,-1.2177093,-0.07539452,-1.0333309,-0.31314877,0.22667477,0.2176253,-0.17469272,-0.19219984,-0.51119137,-0.10153606,1.286113,-0.8799642,0.96660954,-0.97606504,0.46155068,0.05744277,-0.07325654,0.03889039,0.0020263195,-0.79550064,1.1410185,-0.053635404,0.89962816,-0.41321594,0.123897694,-0.70371914,0.062487364,-0.6934395,1.0017418,-0.64445925,0.88920736,0.48659188,0.4632783,-0.740032,-0.1844917,0.27545148,0.9345223,-0.11426187,0.71040136,0.19766736,0.30488044,-0.20101403,-0.3415752,-0.0221925,0.5382913,-0.5925015,-0.29075453,-0.059090436,0.17216744,-0.115640685,0.018065117,0.06776173,-0.49984956,0.48293108,0.27380353,-0.1685234,0.39223418,1.0928679,0.36365533,-0.8730114\\n7.639412,0.27662873,-0.54694724,-0.7641166,0.35966668,1.737009,-0.39384127,0.9131292,-2.6565309,0.5142101,-1.4060597,1.3013897,-0.7736336,-0.78577685,0.33622426,-0.73571974,0.1406237,1.1019304,-0.43422472,0.21363768,0.9311521,-1.5660888,0.67028165,-1.0610956,-0.83515775,-0.38175532,0.89742136,0.37364727,1.0803232,-0.24773425,0.86695576,-1.1989136,1.134844,0.25791323,0.88026375,-1.7469515,-1.0561523,0.26065058,-0.1778661,-0.56863856,0.011808619,0.22861412,-0.7493062,0.037764937,-0.23202828,0.3472366,-0.21008156,-0.69303465,-0.71705943,-0.37987167,0.40829492,0.06302653,0.072867066,-0.22992937,0.14166117,-0.47246644,-0.80479664,-0.98384154,0.09013888,-1.1540782,0.33904773,1.0380615,0.27208674,-0.10767855,-0.527471,0.16404726,-0.03209138,0.33630127,0.011218414,0.60105,0.12826268,-0.006581366,-0.3672217,0.11595866,0.04968445,0.7812971,-0.88533676,0.7361745,0.101720706,-0.2614982,-0.92211837,-0.22714822,0.26546484,0.60350513,1.0562521,-0.7739245,0.672646,0.06552478,-0.099349245,-0.6602185,-0.35941845,0.79602057,-0.28457105,0.0074700713,-0.681201,0.27574575,1.1257701,-0.3787176,0.36860937,0.67436767\\n5.507454,2.6981988,4.5848475,-1.1822186,1.643004,-1.3261468,-1.068794,-1.0546693,1.9141419,1.062403,-0.65194196,1.4678674,-2.1165993,1.3405502,2.2866073,2.6425965,-0.5968317,0.40689933,1.4783413,0.88038516,1.7400261,0.6637174,-0.80140793,1.5640112,-1.4346595,0.3173221,1.1345947,-0.81433284,0.028214797,2.0426235,0.2706002,1.0655864,-0.30373403,1.0577154,-2.3325734,-0.69596267,-1.2434127,-0.09981586,-1.2767832,-0.991305,0.9602599,-1.2071646,0.7698723,0.20616338,0.50735843,2.2218037,-1.2116282,-1.0162264,0.07359865,0.13413665,0.28591847,-0.10049483,0.62348783,-1.3350097,-0.9882731,0.20609191,0.22842619,-0.5441015,0.6469131,-1.2914943,-0.13521752,-0.4624068,0.43919176,-0.22857076,0.8282462,-0.05215399,1.0236434,-0.016923837,0.08515818,0.1473853,-0.7469517,0.5330181,-0.13609552,0.75808257,-0.24501364,0.062125016,-0.4390353,-0.09823194,0.12371814,-0.17049003,-0.08283735,0.074465096,-0.13448247,-0.45937443,0.1301432,0.32771784,-0.59886485,-0.007438723,-0.32826126,-0.3464715,0.2627696,0.1815137,-0.16275266,-0.019309774,0.14537057,0.14368245,-0.26118746,-0.10519171,0.26775303,-0.15664878\\n4.998229,-0.37794417,-0.11281994,1.8271998,3.3731527,-2.6115997,-0.59348243,-0.61859167,1.293161,-0.5472844,-3.377069,-1.5774664,1.3516507,-1.9097927,-2.3005433,0.13743977,0.4503174,3.1640096,-0.36433044,-0.032699488,-2.7701244,-1.7280681,0.07199839,0.82083166,-0.8633427,0.13217792,0.8697938,0.91165113,-2.3990288,0.35205725,0.3452346,0.55553854,1.7014971,-0.17306694,0.5024987,2.370955,-0.39080006,-0.60303354,-1.1590528,-0.24998665,0.7849812,1.8741295,-0.4054051,1.4671711,1.43292,-0.7872883,-0.5252992,0.40335897,0.3865749,0.49714857,-0.34344476,0.9148452,-0.44804943,-1.4605265,-1.1773663,-0.106793135,0.46134263,0.66773325,-0.023987545,0.077436805,-0.012444012,0.65637565,1.1030686,-1.0813973,-0.029377298,0.10494787,1.0137234,0.7609232,-0.42776152,-0.26105186,-0.36921275,-0.01404199,-0.07466766,0.100595,0.15434995,0.1643604,0.6719891,-0.6651025,0.17587665,0.29472965,0.16807413,0.15573424,-0.14133476,0.37676483,0.2740237,-0.031496163,0.080073416,0.13576281,-0.044547975,-0.2623868,0.20907998,-0.11641547,-0.03915006,0.060128152,-0.2673276,-0.018560931,0.14466548,-0.20558608,-0.16674632,0.1644251\\n4.546073,-0.5782331,-2.3476768,1.6811717,0.6055775,2.1355712,-1.749726,-2.6716087,2.72109,1.3706698,-1.2188141,-1.3509662,-1.510931,0.33443797,-1.9908252,2.5708442,-0.084548324,1.400682,1.0001752,0.21871236,1.4348166,1.51965,-1.2765194,-0.2516852,0.5996912,0.23776847,-1.3470554,0.03267646,0.9261269,0.71682155,0.48612046,0.91369915,1.3220346,-0.28722775,0.70534194,0.3986475,-1.2181112,-0.18276446,-0.3432288,1.392469,-0.2577903,-0.5992713,-0.6192725,-0.16568479,-0.7077702,0.90966225,-0.05816683,0.17538506,-0.6557964,-0.11255068,1.4435998,-0.5235125,-0.5810946,-0.30132395,0.46883252,0.17027423,0.65048665,0.22407287,0.16883636,1.2675767,1.4742854,-0.23261815,-0.71851945,-0.46655357,-0.04351966,-0.73247445,-0.2499592,0.2627548,-1.0121583,0.044382162,-0.2793438,0.028579727,0.14113642,-0.37493134,1.6169598,0.033873588,-0.28775662,-0.4958511,-0.18959886,-0.8012678,0.4148683,-1.0447779,-0.13332343,0.22592653,-0.61036277,0.12924203,0.77244556,-0.2175494,0.34565145,0.085898675,-0.55366576,0.3545583,0.049831294,-0.020030662,-0.22130024,0.3501458,-0.14066796,-0.4570526,0.42050236,-0.13995266\\n6.2200823,0.51263857,-0.11998823,1.3295376,3.1084511,-2.6387649,2.6091027,-0.3664246,1.3701863,-0.28553647,-1.5486603,0.71431637,1.1517533,1.5879716,1.5987864,1.4477828,-0.9288304,1.2342724,0.04421252,-1.7444246,-0.44448268,-0.22953697,0.7162695,1.5464164,-0.09398368,0.81637084,-0.14939612,-0.30805048,0.5586982,0.24427964,-0.59892845,-0.7762028,-1.0174054,0.32320538,-0.7125925,-0.24891639,-1.0224967,-1.9087713,-0.052644342,-0.05608982,0.67204416,-0.7293088,-0.8443926,1.2204009,1.7918322,-1.06664,0.4691274,-0.14253952,-0.6945167,0.54796076,-0.7751827,0.37661242,0.05134493,0.012841046,1.6845987,-0.44400597,-0.9806891,-2.0176835,-0.9433949,0.21624988,0.79611313,-0.28675938,0.26781902,1.1761479,0.8135115,-0.22996186,-0.5521667,0.3745308,-0.50769997,-0.06619686,0.11418998,-0.9164236,0.41799682,-0.1988551,-0.088408515,-0.41843933,0.023675486,0.2329018,-0.061042577,-0.99426544,-0.2717499,0.07309924,0.784768,0.080471605,0.059806883,-0.48179963,0.47876233,-0.007507205,0.40939862,-0.036393628,-0.61788356,-0.92351246,-0.38048673,0.23539087,0.3402714,-0.094619274,-0.24171367,0.12363419,-0.19507389,0.033572875\\n5.8841543,1.6687624,-0.033187076,2.3290353,-2.2494388,1.6505678,-0.074044585,-2.4335308,-0.7102186,-0.12122833,0.23062801,-0.5844764,-1.8029089,2.5081534,-1.9401346,-0.5652995,1.6857889,-0.32552063,0.109709576,0.75023896,1.0736738,-0.34753567,0.06504497,0.20304006,-0.76536375,2.1992514,1.4769473,0.37486133,-2.0325632,0.19049993,0.44578576,1.7076449,-0.34588534,0.1858617,1.300005,0.1085746,2.1777182,1.0470316,1.7966847,-0.89571214,1.4882028,0.1668325,0.9493279,0.99439013,0.27768564,0.4888666,-1.1465421,0.0107478425,-0.9603795,-0.042616993,1.2323034,-0.66439754,0.085951164,0.250382,-0.03936828,-0.68272865,-0.19372095,-0.049453378,-0.4306761,0.86216944,-0.16756353,-1.8411528,0.3000943,0.26227796,-0.34911183,-0.075242445,-0.098585226,-0.42929393,-0.45121554,1.7117664,0.15109897,-0.10821659,0.06369349,-0.73305213,-0.3799835,-0.19334477,0.25406173,-0.23118,-0.41211104,0.5215761,0.14724998,0.22078669,0.4179697,0.044116028,0.3769864,-0.7407447,0.1844309,0.2646649,-0.41668355,-0.58516204,-0.20094608,-0.27150735,-0.56169975,0.39098412,0.103594534,0.04389435,-0.16173401,0.009428006,-0.21232095,0.18871865\\n5.2410154,-3.752694,4.906269,2.5317283,-1.682414,-2.3131676,-1.8089516,1.6480118,0.69291306,1.6363262,1.1941284,-1.0396516,-0.9900752,2.9562225,0.7622169,-0.9273236,-1.8498273,-0.16175777,0.30432987,1.2011788,-0.10025303,-0.8079622,-0.55870414,1.7839829,1.1018813,-0.6034696,-0.23133036,-1.8406695,0.16954988,-2.0429814,-0.5047703,0.20792928,2.2028189,-0.086115986,-0.23300259,-0.3293308,0.27820262,0.7257125,1.5621791,-0.94764847,0.05511564,1.2737073,0.4758231,0.55616975,-0.93559617,-0.6523696,1.3233242,0.34698594,0.089637935,-0.11879294,0.07216795,-0.3384347,0.2726912,0.4625724,-0.5763751,-0.58257794,0.4370404,-0.67474806,1.4412992,0.12012175,1.2209821,-0.83670145,0.8644549,-0.3953712,1.1523585,0.5145923,0.057005495,-0.2879873,0.41578373,-0.25075048,0.33274546,-0.441696,-0.6881103,-0.22858281,0.26669836,0.37721807,-0.07937524,-0.4952826,1.0022624,-0.890146,-0.14827292,-0.050778933,-0.20578977,0.33722246,-0.26971972,-0.082776494,-0.19550033,-0.094037324,0.14258374,0.22790506,-0.007548079,-0.04424733,0.056414485,0.42975554,-0.10654792,-0.38861218,0.40997303,-0.36283028,-0.4122014,0.06998575\\n6.754609,4.82708,-0.066254795,-0.7266828,0.5738612,-0.030473799,0.5427713,-1.4816945,-0.47708324,0.17588806,-0.13921979,-0.1290075,-0.7618556,4.1828356,-0.06646287,0.3826731,1.9978511,-0.68853945,-0.22069277,-0.05916126,0.0897816,1.3229432,0.95897686,0.0054327846,-0.9845322,-0.9292449,0.14359756,-0.35752422,-0.023663871,-0.2147631,-1.0513316,0.6430671,0.80465156,-0.31159222,-0.40356144,-0.65395623,-1.3411131,0.8669964,0.25136226,0.048766613,0.029209115,1.2749684,-0.8124672,-0.06347197,0.4629389,0.5898294,-0.02384089,0.6405628,0.3761246,-0.2362714,-0.6087997,-0.4206241,-0.47965112,0.5516534,-0.6621648,-0.592244,-0.122319594,0.022564858,-0.12221159,-0.12369633,-0.08688441,0.8689401,0.5280446,-0.50674546,-0.16164541,0.30608708,-0.053580567,0.08502368,0.52902144,-0.16948107,0.11943577,-0.59795916,1.5288225,-0.15461399,0.6878191,-0.3291074,-0.15368718,0.71879137,-0.24389876,0.56520206,-0.14030993,-0.43100557,0.34137338,0.22928832,-0.34779876,0.5208997,0.9798055,-0.0030010045,-0.29586172,0.5401648,1.2931651,-0.33241326,0.6855455,0.9592385,-0.08697074,-0.5286398,-0.048074692,0.4046985,0.394165,0.49598515\\n6.1933174,2.0639322,1.104161,-0.51207733,0.29812595,1.7672163,-3.1541762,-2.4164896,1.1335149,-1.6978829,1.2074418,-0.069020376,1.1635715,0.37607104,-0.5965478,-1.1347585,-0.5162506,1.6568731,-0.3150598,-0.5933041,0.35076302,-0.35518315,-0.061234873,-0.26576102,1.3220136,-0.60771716,-1.0911077,-0.07216667,0.5503073,0.38171566,3.2078533,-0.054160774,-0.10313587,-1.0932813,-0.13735433,-0.09014171,0.2933339,-0.8770944,-0.8050251,-1.4989235,0.4573394,0.08414139,0.7995379,0.71065855,-1.5801129,0.6043623,0.6052437,-0.037973925,0.49898136,0.031123668,-0.13809459,0.950212,-0.7077886,-0.043531172,0.02281408,0.34569502,0.32139987,0.42510903,1.2326512,0.3600085,0.116915494,0.381365,0.09347435,1.0724623,-0.017008033,0.12362072,-0.06580856,-0.5715963,-1.0600815,-0.57809997,0.28585786,-0.7092707,-0.32640123,0.23566486,-1.1779149,-1.2815351,0.38449436,0.39480206,0.46794868,0.524534,0.4108286,-0.469466,0.4088887,-0.52366877,0.02888979,0.23156694,-0.19069937,-0.5289653,-0.28663045,-0.1858213,-0.60610974,-0.648161,0.30528194,0.44919214,0.14591138,0.040314645,0.5882855,0.23184517,0.6750796,0.52553797\\n5.6373515,-3.407277,2.3508124,-2.132328,0.46905547,0.8606689,0.77052546,-0.49724904,0.30140114,0.9189321,1.0262504,2.2753127,4.467538,0.056055218,-0.57663953,-0.4626847,-0.93589914,0.35151303,-0.100976355,-0.598549,1.917839,-1.75228,-0.13840531,-0.717401,0.16034628,-0.92724246,0.7848052,-1.0854645,-0.59546435,0.5445828,-0.23308675,-0.6777339,1.0457118,-0.9968034,0.49472797,0.53588253,-0.42321458,-1.5070148,1.2957203,1.9589454,0.682719,0.6029287,-0.07833457,0.37072286,-0.37830564,1.0290619,1.1083763,0.5257357,1.0192549,0.35012448,1.6582296,-1.779604,-0.33225757,-0.056203812,0.20439725,0.90952814,-0.67646694,0.039618507,-0.6149602,0.034334183,-0.25336367,0.27415216,-0.4131669,-0.059167564,0.10701194,-0.34653163,0.20486706,0.6731503,0.14355129,0.63084215,-0.38448155,0.24455756,-0.027876854,0.044929296,-0.19199695,-0.1615242,-1.0717752,-1.1890239,0.62027705,0.20549992,-0.15307069,0.23295972,0.65455526,-0.7576786,-0.109719664,0.5221815,0.4720424,0.28212175,-0.38978308,-0.50451106,0.54393643,-0.41058406,-0.3071812,-0.19698876,-0.1545189,-0.15770215,0.09243137,0.59680724,-0.067481026,-0.10034555\\n5.8912354,2.948563,-0.5274714,2.4404693,-1.5458388,0.7700419,2.0117369,0.85575724,-2.2690525,3.5810785,-1.9032435,0.7034321,-1.1476597,-0.58496714,-0.3768308,1.3823297,-1.8851169,-2.4341164,-0.026036486,0.9488994,-0.9027693,-1.2942829,0.49939394,1.56905,-0.66737634,-0.21155193,-1.2652688,-0.01883027,-1.1731747,1.7843417,0.9832343,-0.2678996,-0.102564186,-0.75188273,-0.11041738,-2.1988337,0.56165516,-0.26034802,-0.24164827,0.42326206,-0.9490465,1.1464635,0.24935462,-0.064818114,-0.089150175,0.5079656,-0.790712,-0.13043895,-0.2320708,0.5329748,0.51813143,-0.89471877,-0.0017729998,-1.0604104,0.5517949,-0.009842254,0.39978874,-0.38113552,-0.075030565,-0.061712846,-0.09876733,0.9485117,-0.8910475,0.743975,-0.41979283,-0.2830479,0.59191227,0.14501345,0.2931345,-0.6105779,0.13047968,-0.935131,-0.29621193,-0.086474545,-0.01287961,-0.74219495,0.2605489,-0.414332,0.5568205,0.5117649,0.21656722,0.21882248,-0.07870997,0.29349238,-0.7293116,-0.2633469,-0.2396433,-0.37068665,-0.02269283,0.26501665,-0.39023075,0.18887798,0.34736696,0.4922755,-0.8836131,0.5519885,-0.13413352,0.5195703,-0.9390645,0.023065358\\n4.7490845,2.3505101,-0.70065993,-2.140205,4.621107,-1.4939287,-3.4269848,0.30899024,0.66391957,-1.3560019,1.186147,-1.8846681,0.060363322,-2.3019938,0.14026052,1.1064436,-0.80319715,-2.1670961,-1.7069789,-0.7033962,-0.17253882,-2.673305,-0.49060127,-1.949478,-1.2379524,0.7144874,0.5963613,-1.3440857,-0.4981597,-0.7127887,-1.1386604,1.614912,0.11646384,-0.14787227,-0.6685177,0.328608,0.47320747,0.12092811,0.52192724,-0.76762617,-0.9445299,1.165549,1.2154367,-1.2046003,-1.3446568,0.36577916,-1.456101,0.56773376,1.0373719,-0.9002451,-0.38489604,0.7572031,0.31314135,-0.07777348,2.246035,0.42882624,0.2789014,-0.8065291,0.21329422,0.38433486,0.97051907,-0.16698535,0.26892287,0.13366179,-0.098435,-0.1880198,-0.22855084,0.67502826,-0.1677573,-0.35989606,-0.41747734,-0.32232815,-0.22201857,-0.86307734,0.5613387,0.18194601,-0.83251905,0.28994167,-0.09480843,-0.21206003,0.13811754,0.4560337,-0.43546876,-0.15573063,0.28640813,-0.35966057,-0.15027484,-0.5458309,-0.43611908,-0.13243623,0.37414712,-0.15220293,-0.3302028,0.09945041,-0.25015554,-0.09319324,-0.47661513,0.22711942,0.19158557,0.17517352\\n6.2058067,-2.2808676,1.1436454,1.5367872,-0.71840703,-1.147784,-2.731679,-1.1199368,-2.3636456,1.3688548,-1.1403224,0.6999972,-2.483456,0.37893394,0.9360293,-0.041283824,-1.5670981,-0.5343397,1.1709962,-0.7129163,0.5094779,0.7796568,1.8575747,-0.50121105,-0.514505,0.13560778,0.71698093,-0.87797654,-0.7787057,-1.1529905,0.35848588,-1.7435558,1.2191334,0.9623697,1.5922478,0.22969858,0.054203093,-0.24504444,1.2011404,0.21338287,0.19724509,0.34913132,-0.94831175,0.46593487,-1.3306473,0.37880477,0.38654542,0.57328796,1.6828187,-0.4150839,-0.2623712,1.7002478,-0.13403343,-0.72091633,-0.7396283,0.28224307,0.20711814,-0.79218745,-0.014163524,0.492361,0.3807208,-0.22757955,-0.8779121,0.14282976,-0.5434599,-0.18583028,0.36111987,0.23197672,0.03026697,-0.5602645,1.2356092,0.32048967,1.0763726,1.1509395,0.0892832,-1.0375154,-0.16382502,0.21277753,-0.65371746,0.10966018,0.3685642,0.22257026,0.29603383,0.4855117,0.6534899,-0.23718122,-0.36423075,0.38814408,0.2607844,-0.05246813,0.31150508,-0.3048316,-0.26002008,-0.51319385,-0.0057582334,0.64204156,-0.6482805,0.025180668,0.29790914,-0.37084618\\n7.1540785,0.054427356,-2.6993692,-0.9526021,0.38013053,3.019987,-1.2502377,2.70804,-0.20167045,-1.5484719,-2.2316709,-0.22926515,1.1411831,0.524217,0.5182861,-2.0088704,0.42378303,-0.4898662,-0.29549628,0.371162,1.170557,0.56115836,-0.13553664,-0.81259483,-0.6555349,1.8609414,-1.4258094,0.24295184,0.7996038,-0.4680727,-0.5676329,0.3521195,0.406474,0.24719813,-1.239094,-0.5399132,-1.1110631,0.012154356,-0.70508635,-0.95561886,0.8595757,0.84138465,1.6092029,1.2119997,0.25994748,-0.9329684,0.39760712,-0.24091423,-0.22972852,-0.3220836,-0.77128196,0.3495435,0.021931544,-0.926293,-1.0651035,0.085683346,-1.0843035,-0.09590304,0.9486747,-0.30518287,0.2770819,0.16232853,-1.4697448,0.26775652,-1.4285415,0.33344185,0.05899266,-0.65613896,-1.0294251,-0.3503187,0.15702891,0.5286739,-0.20169848,-0.54495925,0.996083,-0.2719374,-0.09203981,-0.59784853,-0.02010256,-0.68016165,-0.06508243,-0.15748274,0.71412146,-0.4253528,0.008307248,-0.07054976,-0.28334308,0.94470084,-0.9077933,0.5637364,0.09477151,0.22338234,-0.2885522,0.1809322,-0.04473926,-0.3834107,-0.078805864,0.31403473,-0.4005165,-0.5493786\\n7.7903967,-0.41975808,-0.57161236,-1.3589046,-0.15928397,-0.59824544,1.633142,-0.9268392,-1.0295628,-0.717388,1.379469,2.1062784,-0.2974995,0.9004217,-0.10750379,-1.2372128,1.902653,0.549908,-0.084080845,-1.2450368,-1.4446143,-1.8738377,0.55324566,-0.28192517,-0.005475551,0.46061933,-0.427985,1.386821,0.30930477,-1.8244743,-0.30573604,0.3112446,-0.077261,-0.6944618,-0.70566785,-0.48744723,1.6962838,0.5948881,-0.76195616,0.20675772,0.97879124,-0.96723866,-0.66725945,1.1770408,-0.39169574,-1.1921233,-1.038314,-0.91895634,0.6634618,-0.23269784,-0.3416678,0.065867424,0.46804354,0.14238007,0.5390125,0.7403164,1.0501554,1.4101887,-0.08068458,-0.33451575,0.8071957,-0.17971987,-0.7960592,1.325111,1.7414874,-0.9069411,1.5858165,-0.30272526,0.4972579,0.10997784,-0.0065443814,-0.2830931,0.34059596,0.3441548,0.60926795,0.14674537,-0.46877918,-0.25588483,-0.27444965,-0.502757,0.40638733,-1.1565963,0.4666071,0.36025944,-0.39122772,-0.04613573,-0.5007416,0.11745438,0.24367227,-0.63391054,0.4231329,0.59263366,-0.024584994,-0.04614184,-0.41520107,-0.2751767,-0.0071732253,0.29601502,0.08668165,0.056036636\\n5.8422275,1.5598817,0.1605291,1.3095834,-1.6344019,-1.5515958,-3.7610302,-2.3919034,0.45917243,-2.1533709,-0.40264803,0.25656134,0.29236415,0.25682366,-0.29684955,-3.1054869,-2.2064633,2.8878229,-1.0607879,1.0084661,0.4942701,-1.2885702,-1.287349,-0.15027915,0.51704633,-0.7554381,-1.4115329,-0.040515408,-0.8957822,0.5466658,2.3958354,0.89632183,-0.124039754,1.4043474,-0.055274308,-1.0705888,0.83841336,-0.22118747,-1.2273196,-0.25017223,0.246568,0.16387415,-0.9788898,-0.1491376,-0.628589,0.38367307,0.7959636,-0.1003242,0.007070482,-0.29249242,-0.49016252,-1.6608183,0.8429514,0.2340031,1.4355094,-0.44884688,-0.30338946,-0.29963508,-0.8395605,-0.7760916,-0.30093527,-0.47413802,0.061191462,-0.51923174,-0.7386476,0.44455725,0.24093235,0.9321018,0.97801816,-0.56692344,0.15575388,-0.19518825,-0.68822426,-0.14816171,0.11518854,0.08598286,0.36271608,0.37611198,-0.828912,0.2855301,-0.64341474,-0.24427381,0.46203613,0.16103196,-0.20893931,0.38667494,0.10184011,0.47971284,0.6353637,0.19814044,0.30958915,0.44740057,-0.24069397,0.07644689,0.12099602,-0.36083683,-0.72867054,-0.17173994,-0.08823405,-0.44279438\\n4.164136,-2.3427615,5.193068,-0.37807274,-0.46759337,1.7352381,-1.621114,-0.9975356,0.7324836,5.5948143,1.2446492,1.3612738,3.3809996,-1.0579302,-0.25425115,0.17890635,-0.29859787,0.8286212,0.41481525,-0.8209209,1.2978214,-0.196067,-0.6769891,-1.8112241,-1.7764356,1.5359651,-0.7045845,1.7029855,-0.86568534,0.8458278,-1.2240627,1.5200348,-1.212084,-0.4462402,0.17597193,-1.5218627,-0.4130596,0.21374603,-0.46426544,-2.3065753,-0.85711443,1.0245678,-1.3285284,-0.100822516,1.6242898,-0.7141293,0.11861953,-0.01746422,1.3818676,0.4683584,0.32893583,0.88920677,0.10187645,1.2209415,0.13305198,-0.018152311,0.5156385,0.08516431,-0.470256,0.38207155,-0.122005045,-0.6854809,-1.0014365,-0.24876773,0.062012378,0.35454097,0.35284206,-0.6554929,-0.47231737,-0.3418596,0.44277304,0.2966136,0.29569107,-0.5826175,0.06075859,0.20418423,0.61426854,0.3318436,0.28205034,0.021543965,-0.9028943,0.1173612,-0.3170464,0.071811505,-0.27208233,0.002124317,-0.035553694,0.19286488,0.3205018,0.17430681,-0.06926033,-0.018020838,0.10457885,-0.09202588,-0.13258511,0.13130873,-0.015534073,-0.11895197,0.3386675,0.19106634\\n5.5384655,-2.6302884,-1.6906803,0.49478927,4.9881268,-0.90550655,-0.525544,-1.3823684,-0.4809559,-0.3127804,-0.0655639,1.556009,3.3382719,1.4042679,-0.98979366,-0.6402645,-0.7042573,-2.8790712,0.08930805,0.0044635534,-0.09838801,0.04143835,-0.60860336,-0.8939338,0.4987616,-0.47802076,-1.0159094,-0.6595022,-2.0132487,0.3184315,0.080304384,0.26331508,-0.313828,-0.50297254,-1.5629194,0.12925032,-0.62042904,0.93079245,0.76115656,-1.0440786,-0.31283695,0.39932528,0.06355013,-1.8456545,-1.3262812,0.3381759,-1.1255974,-1.1927875,-1.0955843,0.882245,0.62721467,0.5850792,0.1972618,-0.12352091,-1.0550185,0.28947365,0.73991716,-0.857862,-0.5313123,0.6550081,-0.050056994,0.6697712,0.34804717,0.071674496,0.13296174,0.66967696,0.2475072,0.34872377,0.4674048,0.709025,0.45980912,0.49606317,0.06226197,0.69593275,-0.26000795,0.28204626,0.9041728,-0.2612652,-0.9250625,-0.7316986,0.5265493,-0.4869789,0.76141304,-0.53686696,0.3072003,-0.41308635,0.31901592,0.025680408,0.77651566,0.3703426,-0.13562861,0.38357502,0.39861104,0.038509797,0.4918515,0.01771526,0.41164312,0.11077542,-0.2771845,-0.03746084\\n6.33333,-0.2194558,-0.9000592,0.47128314,2.3922148,-0.65194,-0.35931712,-3.2245326,2.476188,0.6992104,-2.806252,0.4519878,-1.1877477,-0.08917149,2.1795452,0.69668436,1.1678041,1.7505713,-0.91136837,-1.2548184,0.36394006,-1.2296352,0.30322254,1.3987373,0.8528413,-0.3963002,-2.45287,-1.090459,-0.12080835,-0.45298448,-1.3864526,-0.37060902,-2.0160985,-0.7667236,0.7047792,0.5287534,-0.14781898,-0.7779025,0.84718394,-0.010409117,0.5032433,0.42478302,-0.08530481,0.39833152,-1.0685421,-0.4848156,0.53924465,0.12222928,-0.6930125,-0.5297675,0.9142628,1.1287805,0.19832246,1.5448601,-0.3508458,-0.48305547,-0.9388069,-1.0038867,-0.48596653,-0.734859,-0.7963871,-0.8857217,-0.102956794,0.18522522,-0.19110763,-0.7275382,0.5044097,-0.76057833,0.27561265,-0.0097536445,0.03756898,0.38675708,-0.8892275,0.1217316,0.88487136,0.42797983,-0.32701793,-0.021533553,0.1395817,1.576987,0.71398294,0.09896235,-0.35484368,-0.29794154,0.20188591,-0.2572155,-0.15908727,-0.122615606,-0.24287805,0.43965062,0.23686461,0.5041123,0.73030436,-0.37933385,-0.123422295,0.021731019,0.23334037,0.108146325,-0.14038959,0.10126592\\n4.956873,4.9919753,2.467883,-3.5183434,0.99449825,1.4260948,0.5868169,-1.3178749,-0.1938658,-2.2833447,-0.5476405,-0.049414948,-1.9038719,-0.4234072,-0.6148944,0.15614904,-0.8304771,-0.8961104,-0.8790896,-0.16535747,0.14856474,-0.319654,1.1259675,1.5589918,1.0030125,-0.024127327,-0.47057652,0.1947528,0.48447067,-1.0843606,-0.37433964,-1.8109336,-0.6472451,0.3911958,1.2574412,1.3402718,0.50103986,-0.0474474,1.2970593,-0.24754155,-0.36923665,-0.9646178,0.34964684,0.0070240498,0.054468334,-0.7736224,-0.05988449,-1.4459774,0.17348874,1.740145,0.8122708,-0.16278577,-0.90345097,0.329763,-0.91280615,1.2466106,0.10368621,-0.32378352,-0.69153035,-0.01307264,-0.78237617,-0.2326957,-0.81404245,-1.1177119,0.11583843,2.1880355,0.8724211,0.78159785,-0.699369,-0.5209363,0.13348192,-0.4137267,-0.2795061,-0.9981818,0.092619546,0.0065404773,-0.26825938,-0.42972445,-0.07089187,-0.4905243,-0.8597207,-0.16210769,-0.4907216,-0.15399346,-0.46104303,-0.535764,-0.25563622,-0.09261176,0.3969353,-0.016753942,0.1628546,0.03680329,-0.03492321,0.4409178,-0.04542013,0.1787014,-0.051332466,0.11259151,0.46533656,-0.14658135\\n6.694131,-2.4020846,-0.4217632,-1.3250608,-1.3012105,3.4609838,-1.6817985,0.19550364,0.8096859,-0.65534556,-0.3513976,0.914453,0.7324384,0.9704472,2.3995647,-0.12520026,0.23236199,-0.98513174,1.5743092,-0.022450536,0.21399267,0.72898144,1.3857173,1.8664057,-0.19568014,0.044600338,-0.58637476,0.62208164,-1.47977,-1.7287315,-0.07751871,-0.118531525,-0.20101367,-0.52052945,0.21692611,0.32939732,-1.4424194,0.9317148,-0.7464186,-0.46271044,1.3235276,-1.2282778,0.5304146,0.07864906,-0.5032728,-0.99155295,-1.0925661,-0.366611,0.047093283,0.7018628,-0.46914148,0.032796293,0.31560004,-0.7495277,0.8155625,-0.20029412,0.06010294,0.09770484,0.8193108,0.21257654,0.047781788,-0.2892534,-0.8635156,0.5470237,-0.43746412,-0.022653326,-0.8583445,2.527707,0.58808625,0.29513043,0.5834013,0.22921565,0.08557734,0.16462892,0.1306949,0.4181936,0.92886823,-0.20856506,0.6750716,0.9758984,-0.104474604,0.067405224,-0.9349974,-0.22110005,-0.37598836,0.4908456,0.5632373,-0.44165468,0.048066508,-0.004239917,0.022053853,-0.07794078,-0.6755254,-0.34830427,-0.13106008,-0.27561718,-0.06561524,-0.15438539,-0.03034868,0.60118884\\n7.912844,-1.7982575,-2.1879525,-1.0524257,0.2565185,1.8039572,1.0250928,-1.4824393,-0.41656536,0.3491423,-0.73805344,-1.3542416,-1.6346756,0.6435145,0.39100057,0.6114305,-0.29936823,-1.3559015,-0.51104367,0.038696676,0.1298994,-0.63399315,0.9712498,-0.6471461,-0.62152946,-1.6756921,0.21967104,0.6715273,0.87227625,1.8585267,-0.21506818,-0.06917848,0.12859166,0.4321148,0.059722234,0.5579489,0.7837362,-0.47614115,0.11809732,0.33583605,-0.1478369,-0.18123993,-0.018856592,-0.74967015,0.32141587,-1.0977641,0.098935395,-0.76857936,1.0971109,-0.84263265,-0.6775332,-0.35443538,1.3902276,-0.25390476,-0.024281144,-1.0160573,1.0619915,0.18082714,-0.5199653,0.1913593,0.18931004,-0.6676053,0.6172538,-1.1613309,0.43054664,0.44221872,-0.30641383,0.17701796,0.24044563,-0.6704467,0.19570562,0.15065068,-0.6209438,-0.28597245,-0.3338759,-0.54050386,-0.022337288,-0.21890776,1.0754542,-0.21525833,-0.13231546,-1.3538386,0.15108734,-0.4133801,0.37562466,-0.021983072,0.21437532,1.1555762,-0.70631945,0.10934867,-0.38940302,0.07663298,0.3253947,-0.6873219,0.73161525,0.41751456,-0.4006046,0.3975233,-0.20829992,0.95294416\\n6.405548,-3.3062096,-1.2520552,-2.9878411,-0.2533316,3.647637,-0.025750637,0.62670124,1.8026386,0.0069331303,0.095943585,-2.5576506,-0.4492565,0.69390196,0.49081528,-2.0453212,-2.3745518,-2.3038776,1.0969356,-0.5237178,-1.9883118,0.6631198,0.81141984,0.06912655,-1.0367734,1.5433829,-0.3570766,-1.867426,1.291524,0.57090056,1.569191,-0.15687421,-0.7012353,0.012381524,0.28117397,-0.26110548,0.036551565,0.016683504,0.092319205,0.7120312,1.6088387,-0.78691936,-1.1949632,0.40531164,0.80556566,0.59161294,0.77844465,-0.85542,0.24336639,0.0387813,0.5834297,1.4504728,-1.268707,0.6619146,0.7684109,0.19691736,0.38803297,0.053915914,-0.7961763,0.5937283,1.2992828,0.27597106,0.93585,-1.0493321,-0.5779519,0.13775174,1.4187388,-0.15845257,0.54024005,0.40419227,-0.9936155,0.60787207,0.29778963,-0.34612605,-0.49710965,0.5103745,0.0077958107,0.7542782,-0.07811284,0.2949832,0.12569983,0.344113,0.5453595,-0.017601617,-0.3085558,0.4206779,-0.47216648,-0.24389058,-0.2708537,0.31568906,-0.077393204,0.08117449,-0.099552825,0.1887383,-0.39528644,-0.08102095,-0.025234014,-0.16447957,-0.4168668,0.18024504\\n4.750377,6.203161,0.41043967,-0.7675109,2.3033128,0.5080626,1.7559285,-0.13745725,0.4769446,0.5965187,-0.87428194,-2.4731174,0.23622009,4.8606586,-0.18369578,-0.08028788,0.7436366,-0.100307435,0.40769938,-1.3642051,-0.13210383,0.7308929,-0.94893414,-0.49686933,-1.1459235,-0.16630098,0.43364853,0.184115,-1.3841039,-0.690519,-0.4735782,-0.8316072,0.9074184,0.590868,0.6793742,-0.7035096,-1.7973056,-0.33898473,-0.5831074,-0.013487734,-0.012946911,0.9613465,-0.32732913,0.39753917,-0.47862533,-0.040394023,0.7027049,0.30415148,1.029581,0.087847196,-1.1274447,-0.90304995,0.25696832,1.2064023,0.61002964,0.5634557,0.021143384,2.0986462,0.30633694,-0.15686636,0.2799179,-0.64828944,-0.19775718,-0.22837171,0.077325955,0.5672453,-0.3701016,0.0805074,-0.14950234,-0.1504237,-0.27402157,0.20787191,-0.40528858,0.03994764,-0.3664081,-0.12646136,-0.4041306,0.16750394,-0.5111705,-0.07111469,0.43518174,0.7452872,-0.0016784817,-0.8094161,0.32674596,-0.13717523,-0.26278847,-0.40612602,0.7267155,-0.075067595,-0.60872173,0.48609215,-0.24193655,-0.8609847,-0.1298132,0.50293225,0.42240465,0.10175337,-0.57786006,-0.08681665\\n6.5282793,-0.17079177,-0.6271545,-4.2914305,0.32799238,0.8523634,-2.0167882,-2.8805516,0.95994234,0.110364415,0.5337399,2.7746778,-2.5208635,-2.3508062,0.23839167,-0.3291648,-0.8088367,-1.266833,1.6907282,-0.97445726,-0.19432229,1.2713239,-0.20324397,1.2694691,-0.3404721,1.5529187,-0.62816083,0.36599854,0.08392268,1.3010551,-0.33776462,-0.4528463,2.1042356,-1.3381152,0.74570465,0.23003489,-1.6235999,0.21164262,-1.1134601,0.99439,-0.5029957,1.1798654,2.1728413,0.5021384,-0.23110935,-0.584988,0.042950645,0.8616491,-1.2113718,-0.8153877,-1.3927538,-0.060349226,-0.07921673,1.8829895,0.6371493,-0.31583518,0.43550715,0.05754149,-0.45562404,0.74317604,-1.247483,-0.26683196,0.023066714,-0.6622064,0.43969274,-0.51303035,-0.5542586,-0.02884622,0.2799974,0.018118337,-0.10272105,0.15702224,-0.22511238,0.7664398,-0.87522364,0.0038218573,0.3688222,-0.41480026,-0.14862674,-0.6596631,-0.49049878,0.2741148,0.439594,0.57132864,-0.05747354,-0.36365968,-0.25394806,0.18973923,0.04169759,-0.68089986,0.21445367,0.09558296,0.3184131,0.37618256,-0.18602096,-0.25108948,0.0051371157,0.08106275,-0.08310847,-0.117642105\\n5.304706,0.1373387,-0.5833748,-0.17381059,-3.2865543,0.31431186,1.1448437,-0.3222511,1.5726919,-0.37136567,0.30174387,-0.91335547,2.003624,-1.1200105,1.6686244,1.2612143,0.1584485,-1.2766926,0.0273441,0.27540395,0.5113588,0.6671822,0.717404,-1.6623116,0.28258944,-2.124437,-1.078208,-0.13913856,-0.7420899,2.734113,-0.52026653,-1.3682196,0.8351381,-1.0605954,-0.31690985,0.8452018,0.81838596,1.9613879,0.83609766,-0.23654898,0.59611875,0.4069603,-1.7582532,0.9988483,-0.03936197,0.059403613,-0.41192803,0.86404735,0.0011719093,0.36510977,-1.0837786,-0.24232219,-0.023398861,0.062498122,-0.3526555,0.7533034,-1.3284774,-0.7969609,0.096621946,-0.017017782,0.59141886,0.31541106,0.6275185,-0.079241216,0.09570455,0.4319665,-0.59287715,-0.6480868,-0.73463476,-0.15086819,-0.26490164,-0.3159372,-0.19667864,0.6107422,0.589416,-0.51985395,0.12620094,0.043567806,-0.3657939,0.2713253,0.114035875,0.19949737,-0.15555248,-0.33590737,-0.8314114,-0.56034064,-0.8118215,-0.010107607,0.2569078,-0.86268085,0.056649707,0.9604814,-0.6787609,0.2012381,0.26750064,-0.46539742,-0.33146775,-0.38033015,0.020023927,0.52848864\\n4.6539106,1.7600143,0.7993241,2.1767201,-0.508894,-0.12193757,3.9460638,-0.4415123,-1.5808057,-1.5167236,0.30523992,-1.4290235,1.9369085,-1.6271893,-0.054649472,1.4420766,-2.0553632,0.6292408,-0.8711479,-0.14121673,1.1990057,1.2561487,-0.5545565,0.3510141,-1.1595018,1.7618785,-1.1339366,-2.1027708,0.91792727,-1.0757806,0.14594665,0.6143704,0.31404072,-2.3115294,0.0072600543,0.27318448,0.31009197,0.009721458,-0.73609734,0.14900829,-1.0531846,-1.2320831,0.46331987,0.51460785,-0.76976746,-1.1841888,0.2513333,-0.8158671,2.1213331,-1.4913772,0.7807583,-0.007549301,0.3287999,-0.038118325,-1.6584847,-1.1310866,-0.55148613,0.32954788,-0.40355158,-0.35585976,-0.187051,-0.5524061,1.0148056,-0.41011283,-0.36363858,-0.9697232,-0.046109855,0.11139268,0.29049325,0.32003725,0.2759749,-0.1123101,0.13569559,0.6210488,-0.14391963,-0.2538559,0.5200449,-0.008816481,-0.93741477,-0.510695,-0.7098216,-0.112914085,-0.59475154,-0.6607532,0.14386323,0.11816272,0.26400813,-0.3120635,0.22020704,0.01228673,-0.2777911,0.16130477,-0.32926086,0.3517855,-0.65905726,-0.0927947,-0.19693583,0.31833312,-0.08370109,0.26711994\\n5.572526,0.973169,-2.747139,-0.19770558,1.1751759,-0.4650691,-1.083794,3.4047737,3.0410268,0.7135,1.5552528,1.3643668,-1.6687274,0.08665168,-1.0401411,-1.2645191,0.42184675,0.85858655,-0.90508676,-0.52745354,0.24088773,1.2043154,-0.2480816,0.24109486,-1.767987,0.8461032,-0.62517023,0.7364619,-0.61735237,0.40896022,0.70861566,1.4180548,-2.2342205,-1.310859,0.15080383,1.3418396,0.53758436,-0.9878943,0.6704962,0.27665004,0.081407785,0.091416344,-0.4806477,-0.6760817,-0.47543702,0.35519344,1.2498121,-0.8354914,0.87465835,0.05782341,-0.21227421,0.31878835,0.35757092,-0.18043649,-0.262503,-0.7597119,-1.1593374,-0.4086601,0.26566032,-0.58741415,0.36689886,0.8825134,-1.082899,-0.76882493,1.1429453,1.1539361,-1.2538791,0.031456232,1.1083603,0.9088015,0.008295685,-0.52038676,-0.014615148,-0.028026745,-0.15329601,-0.7394105,0.12994763,-0.17646298,0.033568442,-0.5581695,1.1372943,0.38072354,-0.49956405,0.41094923,-0.032450408,0.38564193,-0.12885192,0.67301595,0.117212966,-0.60345733,0.28572944,0.09380748,-0.044560492,0.28261155,-0.53039306,0.47267145,0.15730736,-0.22654127,0.015953436,0.064647265\\n5.4510136,3.5123155,-0.53923255,1.7425382,0.8785696,2.946177,0.46593827,1.8323836,1.7980237,-1.0970922,-2.765869,1.7003691,-0.24957898,-0.49807864,1.3092325,-0.461886,-0.27702212,-1.5626496,1.333586,-0.18335252,-0.24739005,-0.21360579,-0.96495044,0.9367243,0.7087096,0.6187745,-2.2434273,-0.0838989,-0.028555527,0.45656577,1.0100124,0.4669134,-0.72518235,0.3692115,0.6038089,0.46471286,1.0683882,-1.4826834,1.8240279,0.19987145,-0.60736734,0.80472064,-0.8486705,-1.5645366,1.6120679,0.48197848,-0.48094365,1.24069,0.6247753,-0.83854324,0.17344293,0.20442297,0.61745405,0.029324673,-1.5739791,1.2145448,-0.13288632,1.3264866,0.38080692,0.65740764,1.061002,-0.58302623,0.77159584,1.7399219,0.12453328,-0.6733183,-0.515521,0.8943125,-0.3246488,0.007176526,0.24137014,0.045144886,-0.16547477,-0.0837543,-0.9018099,0.29287118,-0.35197434,0.3244961,0.34141994,-0.24694365,-0.9511827,-0.028908074,0.08332351,0.35611755,0.24884962,0.11626176,0.08438845,0.26090968,0.16716452,-0.029544033,0.71461755,0.41326135,0.23740989,-0.03724934,0.15773033,-0.19104826,0.08330864,-0.3382547,0.057740286,-0.14955558\\n6.2686553,-0.26948974,1.0021756,-2.7348223,-2.4166942,2.3676171,0.29770744,1.565138,3.4086807,-1.9541087,2.3461483,-1.1492919,-0.17537399,0.19543499,0.6487264,0.50200737,-0.8206689,-2.0063357,3.533218,0.48982513,-2.1882224,-0.45508146,-1.087196,-2.5751536,1.5866187,-1.0683905,0.19223508,-0.44151077,-1.163989,-0.47750503,-0.4531105,1.2405881,0.17071971,1.9719806,1.0478258,-0.7177217,0.6182363,0.15510553,-0.78744614,0.36986938,0.8106444,0.54853046,0.24073754,0.549245,0.6596895,-0.389735,0.013083845,0.13481945,0.3360632,-0.50532997,0.8230439,0.7551048,1.042602,-0.2922176,-1.1747124,-0.9296351,0.25009567,-0.90080714,-1.3499436,-1.602799,-0.8179227,0.13359156,-0.62689346,0.34547365,0.63513136,-0.36953643,-0.6583732,0.03787232,-0.65948516,-0.8649725,-0.56347203,-0.28654945,-0.2623938,-0.033203818,-0.0005365312,-0.28571147,-0.22160569,-0.52160007,-0.785851,0.25228935,0.24043858,-0.25053298,-0.08470546,0.21652353,0.14412248,-0.07787219,0.71653485,-0.2942508,0.31864533,0.07180102,-0.14444347,-0.3402843,0.059228256,0.13621596,-0.27684742,0.20730974,0.3652942,0.067966044,-0.006674297,-0.16396296\\n5.3873262,-3.00808,2.8102968,0.9612317,-1.2405126,2.0591192,-1.6213452,-0.8308222,3.016095,0.44952083,-1.6160862,0.25321147,-0.14409967,-0.19616958,-2.470742,1.2353642,0.3414901,0.5158752,1.3650625,1.0226607,-1.5197736,1.4099028,-0.97566116,0.42520538,0.10702813,-1.2438297,1.1988492,-1.26988,2.297867,-1.47889,-0.45044094,-1.5388854,-0.88623106,-0.9405636,-0.07377712,-0.61356807,1.4188491,-1.0780528,0.033996597,-0.1838004,0.72148585,1.5898653,0.6176168,-0.7913222,-0.4203026,-0.0956404,-0.9547117,-0.04170814,-0.22693627,2.225424,-0.27443653,0.1743474,0.2776787,-0.98232734,0.82944596,0.918324,-0.72760355,1.0378009,0.2796917,-0.6044221,-0.425731,0.100932464,-0.13792995,-0.7122207,0.35614508,-0.91018796,-0.9836881,-0.39033097,0.59912896,0.32142344,-0.13620499,-0.8793826,0.5239212,-0.37037808,0.39303726,0.029000863,0.5787858,0.38995358,-0.65842414,-0.121632524,-0.776928,0.07049224,0.32359776,-0.51474154,0.8798142,-0.21250148,-0.38237473,0.27938637,-0.05819519,0.24750206,-0.010002166,0.34818536,0.1675807,-0.0485105,-0.16294059,0.005470775,-0.29094702,0.30602145,-0.037189543,0.23552066\\n5.4722548,-0.64629596,2.7780948,-0.10610959,-2.816658,-2.41883,3.4611154,-0.18781006,-0.40372312,-1.4890285,0.28605705,-2.1650012,1.2756374,-1.9598582,-1.4611721,3.8731513,-0.8692051,-0.61993283,0.25173417,1.1500231,0.3508485,1.1174,0.5342685,-0.1278639,-0.40249532,0.20420809,-2.0114892,0.22924264,0.04725326,-1.4424766,1.5498211,-0.45172662,-1.0199755,0.6070579,-0.7615007,1.105155,-1.5571005,-0.083013386,1.3625419,-1.7626681,-0.049532853,0.6646303,-0.993115,0.29886553,-0.91618764,0.13681546,-0.23828804,-1.0442308,-0.43062466,-1.0225226,-1.2177703,0.255434,0.6308973,0.7170291,0.12582603,0.52705,1.4349988,0.36377382,0.47216392,-0.5379867,-0.3653522,-0.153009,-0.7178725,-0.44176844,-0.19785172,-0.28439736,-0.2828951,0.4916768,-0.101017624,0.82543665,-0.65653646,-0.45519406,-0.17011648,-0.16636457,0.1541127,0.4797635,-0.44654492,0.029714793,0.3312809,0.59944284,0.23774797,0.5977762,1.1084459,1.0022708,-0.16699417,0.42335963,0.29971442,0.61327785,-0.19597952,-0.27822113,-0.22118476,0.0047735274,0.014234394,0.111584455,0.33367258,0.16367981,0.12180376,0.28676715,0.06814098,-0.2399078\\n3.4868057,-2.2063413,2.651404,0.048539225,2.1658747,-0.77573854,3.1225386,-1.0758597,4.031324,3.1861167,-1.1865661,-0.2580134,-2.6411133,-1.820251,-1.7531599,-3.676287,0.99037457,-2.9676678,-2.0794077,-0.63323426,0.4140486,-0.11191517,-1.0335494,-0.19264808,-0.8864242,-0.24145654,-2.1747408,0.21638972,1.1697354,-0.38078463,-0.19487935,0.06233239,-0.28475672,-0.27447844,0.10209274,-0.32560083,0.6604134,2.4420934,0.056429803,0.3620848,-0.42930096,-0.77352786,-0.24983755,1.052971,0.38423845,0.52567464,0.007861435,0.5661603,-0.062469304,-0.9476926,-0.53095204,-0.036108196,0.20237878,-1.4442085,1.0385092,1.116982,-0.27884644,0.43274862,0.38361832,-1.0227987,-0.9462727,-0.57097983,0.7841162,-0.11735954,-0.54052675,0.7847262,0.1074416,0.173776,-0.45661741,0.03900595,0.49038476,-0.40343547,0.42805198,0.9217814,0.09178378,0.00014847517,-0.30098045,-0.28183642,0.15217286,0.10183236,0.12230739,-0.16765818,-0.036827862,-0.14412767,0.44925973,0.25040895,0.69275916,-0.13823709,0.31295133,0.061267465,-0.23742098,-0.5773395,-0.21509281,0.08102462,0.19540796,-0.0039349496,0.22966316,-0.02204173,-0.061065927,-0.24617809\\n6.046468,-0.35977352,-0.42138654,-0.28987947,-2.0568392,-0.55999136,2.1803713,2.4446778,-0.66783166,-0.46394333,-0.7582387,0.5544542,-0.08195978,-1.2970991,1.3202729,1.1872522,1.261821,-1.2019548,-1.6442758,-1.5902973,-1.2997255,-0.3104282,-0.9206004,0.16609433,1.0827761,-0.5007827,-0.39885202,0.75575817,-1.8343463,-0.07914126,-1.2849603,0.7374382,2.240591,-1.4733357,-0.1002649,0.53066653,0.94747514,-0.75055194,-1.4379239,-1.049135,1.7616848,-0.23245141,-0.40755183,0.7245858,-1.4975562,1.884047,-0.26001343,0.3552719,0.52892756,0.15931934,0.5884509,0.23683828,-1.3850873,-0.6461383,0.5542802,-0.70260787,-0.7429261,0.15870628,-0.46913645,-0.18636766,-0.5779439,-1.038372,-0.24026684,-0.8360139,0.49207693,0.0065624714,-0.7997662,0.4818362,-0.29339507,0.65014285,0.41465938,0.64119124,-0.00012865663,-0.25849822,-0.3339481,0.14445004,-0.28911722,1.535253,0.58959866,-0.41030154,-0.49294385,-0.49352437,0.39647186,0.085380316,-0.38835248,0.10830337,-0.4137676,0.07520187,0.14294748,0.77397525,-0.11918396,0.039100915,0.4057955,0.17583272,0.24487427,0.44719058,0.10970441,0.01336091,0.032995418,-0.46231496\\n6.40234,-0.62684566,0.5551827,0.2785929,-1.839587,0.88103896,0.19368127,-0.8268215,0.01918596,-0.04214164,-0.09289268,0.48879275,1.7706535,0.01241684,2.3536353,-0.4170865,-0.058324777,0.07972913,-1.9257755,-2.2143183,-1.2920351,0.6545049,0.07797599,0.925619,1.2197168,-2.2855299,-0.269352,1.6120821,0.74460125,0.4930942,0.0068056956,1.375359,-0.8353888,-0.3089518,-1.4711003,0.6823959,-0.25524092,1.6822381,1.5136579,-0.004264444,-0.9002761,-1.0628976,1.4078993,0.4721883,1.0643336,0.6742999,1.3702462,0.34240034,0.4673181,0.8175637,-0.32339182,-0.51969755,0.47668216,-0.38448176,-0.042122774,-1.3201944,1.0522418,-0.22950909,0.48576698,1.3140986,-0.34055758,-0.17912027,0.16401568,-0.20698991,-0.47100213,-0.48878446,-0.022354558,0.63187975,0.20224544,-0.2370649,-0.8670076,0.1753672,0.49140406,-0.87919366,0.748127,-0.8498767,-0.14789931,-0.24128613,-0.5530737,0.12854159,-0.35434663,0.16656019,0.5827998,0.39099586,1.320793,0.07934123,-0.64447856,-0.5315889,0.14151922,-0.17092547,0.16576692,0.3026299,-0.07084645,-0.042033955,-0.4395324,0.5027508,0.41084492,-0.093084335,0.030279532,-0.24443382\\n6.4297833,0.28411794,-0.20912507,3.550617,1.6951227,3.8956795,1.3239288,-1.2799764,-1.1072106,0.38875479,1.9302814,0.7168006,-1.431768,0.602318,0.034117423,0.0700666,1.7438571,-0.09098393,0.7917653,0.56786585,0.20065719,-0.2888645,-0.5143142,-0.56275034,-0.51134074,-0.5316882,-1.3817875,0.8562088,-0.27832982,-1.4830676,0.5496262,0.1997472,1.104909,-0.332023,-0.38531286,0.060247034,0.9897759,-0.5377438,0.21484865,-0.18424599,-0.3692431,0.094787255,-0.5273231,-1.2399913,1.1931984,-0.12484163,1.9374151,-0.79136753,-0.06677685,0.009437822,0.29569006,0.1933487,-0.53202856,-1.3836672,0.37840456,-1.0415654,-0.12326091,-0.46546203,0.15725237,-0.38394654,-0.6580231,-0.46013004,-0.28852737,-0.84376407,-0.86413777,-0.76362944,0.19648024,0.35143372,-0.123160645,-0.6222249,-0.7104626,-0.77593327,-0.047139436,0.47152704,-0.31780046,0.7979748,0.4636322,0.12121917,0.062243827,-0.951552,0.6360709,1.1033702,0.41842532,-0.095461756,-0.81821364,-0.72609264,-0.317936,-0.77766603,-0.45854142,-0.36824322,0.5498738,0.0790103,0.08652138,-0.7703854,0.5937104,-0.32729253,0.06619719,0.29197502,0.42945254,0.05799064\\n6.333577,2.7039952,-0.2396656,2.467382,0.13250443,0.19350776,2.5363657,-0.8400422,-0.1522596,1.5556524,-1.5581598,-0.5773198,1.3466591,0.43833587,2.227022,-0.80572927,-2.0087461,-0.20186816,-0.7350505,2.424736,-1.4288113,-0.91967916,-0.100795425,-0.9933749,1.7679485,1.9399425,0.29300776,-0.7855948,2.16421,1.4980888,-0.4077576,0.2593847,0.5901991,-0.26856816,-1.014225,-0.12645365,-0.22786734,1.0931485,-0.9143521,-0.28491884,1.0222151,0.12487775,-0.854568,-0.49078742,-1.5790596,-0.43229282,0.19984077,0.6992485,-0.35001254,1.4940742,0.8758694,0.57470727,-0.6055237,1.1217647,0.25177836,-0.91757095,-0.09683119,0.665271,-0.12924926,0.1962149,-0.61376756,0.061540976,-0.4241354,0.26489067,0.269995,0.73559487,-0.31083864,0.29120842,-0.58227086,-0.17372766,0.13220683,-0.939536,0.7668381,-0.05220487,-0.64562255,0.7514123,0.062108807,-0.5396497,-0.07396773,-0.18138233,0.58462965,-0.1486017,-0.8377657,0.73867494,0.8705641,0.6677509,0.12250855,0.12062289,-0.7264185,-0.64147294,0.31858423,0.2380562,-0.1838578,-0.4158431,0.34814364,0.06836988,-0.21089432,0.17924976,0.084631555,-0.33715194\\n5.795959,4.046726,-1.8923471,2.1858704,-0.38820237,1.8766968,2.8054266,0.9856241,-1.1238022,2.6532645,-0.25826618,-0.4229825,-0.071924135,0.3731018,0.8790866,0.7766819,-1.4761248,-1.6921109,0.2675022,0.44327265,-1.8328923,-1.4002837,-0.3163644,0.08813551,0.13447103,-0.27094224,0.24135442,-0.63952976,-0.9078402,0.23004204,0.2739471,-0.67620206,-0.89379376,-0.11701417,0.6769217,0.025589988,0.64454746,-0.62745637,-1.1574486,0.73599195,-0.27172187,0.6634719,0.68481946,0.17214398,-0.75967467,-0.5921608,0.4276659,0.0710455,-0.49653503,-1.4318407,0.060149908,-0.50523925,0.3588393,0.17478068,0.35450357,0.7285498,0.19819134,-0.60145354,0.8720436,0.41423112,-1.3268818,0.52491456,-0.5432137,-0.5014905,0.6699109,-0.55299246,0.8851589,-0.23296738,0.277326,0.47750348,-0.03368307,0.5201344,0.26380163,-0.6598318,0.7796197,-0.019760445,0.6313403,-0.038839564,0.12314503,-0.15807113,0.11887529,0.24248666,0.40778095,-0.7637768,0.50826746,0.53022546,-0.32614988,0.63360476,0.47442174,0.24642515,-0.014044285,-0.6148608,-0.55844414,-0.011940375,0.2726699,-0.53652716,0.22159113,-1.0606239,0.9951792,0.22036505\\n5.573616,-2.26308,-0.3305104,0.22379094,0.370851,-0.023361411,1.7852993,-2.9033327,-2.926033,0.6783475,0.82464874,-0.39557758,-1.7056884,-1.637011,-1.2814896,-1.8932079,-1.0507493,0.0062969327,-1.9338874,-1.4848784,0.25429183,4.42348,-0.36413094,1.0052018,-0.40661964,-0.80668783,-0.5408549,-0.0065966398,-0.6793052,1.563754,-0.6714092,0.9167098,0.69125223,2.517409,-0.30376,1.3774222,0.5960529,-0.42957604,-0.15246893,-0.063847505,0.8539369,1.6178169,1.3828499,1.0045375,-0.33977184,-0.3022527,0.58086467,-0.41934937,0.22371277,0.45301098,0.5284771,-0.2078551,1.2516282,0.063382775,-0.33676025,0.811794,-0.1458743,-0.45859906,-0.43716237,-0.35599017,0.7720281,1.2054223,-0.38702872,0.9337772,0.8619417,-0.5981542,0.09325051,-0.04032764,-0.10312105,-0.27436712,0.6891701,-0.3457179,0.24038962,-0.92598593,-0.24626015,1.0611138,-0.16348745,0.76404107,-0.23130184,0.04999259,-0.076328635,0.35996017,-0.42097026,-0.33747458,-0.20234829,0.55244327,0.14776969,-0.49170843,-0.34736735,-0.006115645,-0.03814915,0.26989216,-0.3132891,-0.14732206,0.3382718,0.05945967,0.239553,0.007378489,0.0023193099,0.06362036\\n5.8400517,0.3686806,-0.29587322,1.5139931,0.27219492,0.6627115,0.62829155,4.113679,3.3280313,1.7403057,3.488717,-0.36869323,-2.452044,-0.14699885,0.82257915,0.20005403,-1.1636064,1.8380933,0.021484531,-0.4594312,1.1655722,-0.17281672,1.2438458,-1.0821943,0.8821701,0.3259196,0.31386632,0.28053918,-0.30040652,1.7577429,0.5137072,1.4124421,0.52463174,-0.8159398,0.95554805,0.2566858,-1.241524,-1.2533911,0.6680237,0.255831,-0.27972907,-1.5689893,1.2775757,-0.069730334,-1.5930741,-1.0316303,-0.6443994,0.42057902,0.67932266,1.0623262,-0.33332443,0.09688271,-0.094982505,-0.26269487,0.06491524,-0.34721616,0.6671529,0.9770647,-0.1980327,-0.54751766,-0.32051736,1.0414411,0.7374233,0.4017886,-0.34035212,0.071060926,1.0626774,0.078529134,-0.11694385,0.659117,0.6865913,-0.6207422,0.31665337,-0.11798643,0.8101984,0.10553055,-0.2897623,0.04640598,-0.55909574,0.49683562,-0.86246455,0.5109286,0.421667,0.3109203,-0.26446438,-0.73277014,-0.06211017,0.10430534,0.09391247,0.33489347,0.06501238,-0.012038626,0.17875858,-0.3555647,0.99575627,-0.284426,0.22436331,0.031205922,-0.3794276,0.046098866\\n6.268976,-1.1728425,2.3342273,2.9921603,-0.9477322,-1.219786,-0.7314724,0.5509864,-2.2613955,0.28790206,-1.5390655,-0.87047267,-1.4747825,-0.35782254,-1.0369618,-2.041344,1.0101912,-0.23159096,1.3085341,-0.24703571,0.8588799,0.0829294,-1.3236419,-1.6695812,1.7490042,0.8428213,0.60021853,-1.2576613,-0.7167027,0.05268137,1.5773665,0.6065135,-1.1812732,-0.3817789,0.3773792,1.1781621,-1.4208624,0.89042413,0.805213,0.053289063,-0.45155588,0.38841453,-0.95892084,0.2631019,0.13049352,-0.29016745,-1.0002381,-1.4241253,-0.67393893,0.5395986,-1.0981067,-0.06455553,-0.5811184,0.5812762,0.8255328,-0.5057765,-1.1217331,0.1901935,-0.54168946,-0.5415564,-1.044307,0.061593875,0.6682171,0.6316958,0.26837653,-1.1525044,-0.071151555,1.0356172,0.09824443,-0.8930888,-0.30499458,1.2033204,0.9195698,-0.58348584,-0.03892784,-0.86162233,-0.94949985,-0.63117594,0.008003712,-0.76932013,-0.021458063,0.07262464,-0.68660617,-0.3016228,-0.5618783,0.26163733,-0.7125642,0.21220319,-0.26444817,0.24866292,-0.16755423,0.05139011,0.35537434,0.16563496,0.21312726,0.14572376,0.38204867,-0.036536478,0.05804628,0.36048412\\n4.346213,4.61898,0.69121885,-3.0727403,2.0526874,-0.58392966,-0.77130026,1.6824179,-1.6724811,0.28005373,1.9311944,-1.8209523,-0.15083522,-1.0877917,-0.29853028,-0.14824918,-1.2317309,-0.62620485,0.50756395,-0.729851,0.69252425,0.5008382,-0.1478219,0.80022633,-0.35612926,-1.044522,0.66257405,-0.2292785,-0.5733117,-0.91085255,-0.5139648,0.6167599,-0.1069562,-1.0899905,-0.092135236,1.3210721,0.65875095,0.36825398,0.9044849,1.5634738,0.2760269,0.8179504,0.11483665,0.15681665,0.73121667,1.3088827,-0.21217674,-0.7094935,-0.00869403,1.3972905,-0.43763095,0.13709903,-0.41036287,-0.29760146,0.6391875,-1.06654,-0.3933587,-0.83006734,0.5426365,-0.5608487,0.52855605,-0.8099396,-0.19040334,0.43241674,-0.5921509,-0.40561765,0.55351293,-0.8528486,-0.5463563,-0.032140955,0.29228124,-0.17283691,0.5448987,0.16532347,-0.61651367,0.011080772,0.4909043,-0.5324956,0.28849697,0.40305725,-0.26103884,-0.30270562,0.041501284,0.59673905,0.23452777,0.7210259,0.44556996,0.5893909,0.53130996,0.040353984,-1.0302196,0.7495036,0.62047976,-0.88300765,-0.2111311,-1.0554194,-0.08652598,0.025211677,0.2531337,-0.17096436\\n7.2781334,0.13961782,0.40512896,-0.82848835,-1.8069596,0.7627778,-0.99956465,2.2432384,-1.1438735,0.2711624,-0.26424494,1.2013675,-0.13800833,1.8361279,-1.3877728,0.8518636,0.43175915,1.2710006,-0.93104756,-1.5431271,-0.14846729,0.18559045,1.8983636,0.48524395,-1.0569174,-0.7296116,-1.2457445,1.9043273,-0.18014172,-0.7750122,1.2901733,-0.12989701,-0.44212592,-0.09718472,-0.9577558,-0.6055313,0.8058258,0.51784074,-0.12802029,0.19142938,0.51200163,0.47535822,1.0227842,-0.07802065,0.38661778,0.55847204,-0.52798474,0.39165434,1.0346458,-0.32586348,2.102677,0.55496657,-1.3793731,1.9878463,0.0150159,0.92373884,1.0084616,-0.22993581,-0.38056955,-1.0739293,-0.58374035,0.9104507,1.613514,0.12151076,0.014568746,-0.21633174,-1.1638237,0.521971,0.21241963,-0.92907465,-0.41694763,0.10549267,0.41440338,0.5034735,0.55703974,0.20342529,-0.000970006,-0.3617623,0.32721406,-0.44345725,0.41878188,0.30183733,-0.39783928,-0.20007455,0.4304034,-0.39852625,0.11552529,0.3491953,-0.3399227,0.09421721,-0.8990609,0.16836959,-0.19895956,0.10207425,0.38326135,-0.40932465,-0.52577114,-0.28188634,-0.07525651,-0.43234223\\n3.852847,0.15243004,1.0648043,2.4504752,5.1951137,-1.9526376,0.16385761,2.8871474,1.0755767,0.39224333,-1.3993688,-0.30050564,1.1793125,0.33849263,-0.14867866,2.4767334,2.063177,0.77637136,-1.045849,0.40521476,0.06235158,-0.3503466,-0.66004324,-1.5430958,-0.22557177,-1.3887627,-0.4065411,-0.9628075,0.9816288,0.053105503,2.396905,-1.4213734,0.14327848,-0.16294768,2.1893017,0.37800044,0.8676131,3.0362253,-1.6607394,0.7021916,1.6305039,-0.9046007,2.2220967,-0.3552589,0.7785357,-0.17574064,-0.054551035,-0.6296613,-0.059387892,0.32914934,0.3248236,-0.013940632,0.9714831,0.71988475,-0.11425275,-0.17903723,0.8844366,-0.47523382,-0.74426085,0.46435916,0.7782188,-0.35231963,-0.9678016,-0.07919687,-0.100768134,-0.098859146,-0.44561365,-0.51279837,0.3133901,-0.47070324,1.0350564,0.37347233,0.35584566,-0.11966181,-0.45904136,-0.13481738,-0.26817122,0.21407971,0.35455555,0.07527107,-0.44409472,0.8680568,0.37707257,0.0746719,-0.48263404,0.37587923,0.03214395,0.0041482747,-0.035984278,-0.20357023,0.45719147,0.16110304,0.11277482,0.14751223,-0.0076336414,0.030890636,0.046743304,-0.08214767,-0.094309166,-0.06212315\\n4.3314443,-0.4241308,1.7958585,-3.4602795,-0.26830527,-0.99469143,-0.6863589,0.6080577,-1.7922683,-1.9488189,0.9050906,2.9326868,-0.9315718,0.85515535,-2.8838768,1.6779212,1.1763327,-0.91181284,-3.4910188,4.2734504,-1.1749426,1.1186177,-0.92134964,-0.3044212,-0.14083911,-0.9148874,-1.9485662,-1.350073,-0.45196313,1.5380816,-1.3598642,0.39611027,0.36873505,1.4539614,1.434917,0.05302486,-1.008812,-1.4469322,-0.6129768,-0.4125949,0.77645534,-2.092113,-1.0871247,0.07922369,-0.034752786,0.02683501,0.22097775,0.6513195,0.5171796,0.046581864,0.6023561,1.1621784,0.7809694,0.25901446,0.7947024,-0.32518148,-0.3676897,0.29957977,0.8196576,0.5580808,-0.47667027,-0.21368587,0.7655456,0.8042862,-0.663744,0.0024596155,-0.0047421902,-0.2020697,0.18388367,-0.25210825,-0.096109614,0.037794717,0.665568,-0.41469538,0.058382407,-0.060069118,0.42603058,-0.8357481,0.22623742,-0.22311518,0.058899984,0.24535328,0.19431137,-0.0055066943,0.10559643,-0.32248068,-0.37228483,0.21470225,0.26359805,0.033994272,0.057893515,-0.08564993,0.08503634,-0.32521635,-0.57230085,-0.22268519,0.21246542,-0.13738728,-0.095921546,0.23482296\\n5.9829273,-2.904212,1.1483344,-0.97571725,-0.43650287,-1.1724796,-0.14189477,0.4712929,0.90317833,0.764344,2.7742922,-1.4177418,-2.4095654,1.297246,0.0794268,-0.6959733,-0.6136162,-0.8211471,-2.5014555,0.39362866,-0.25330624,-0.91507435,-2.0754356,-0.031616837,0.1575881,-0.40214264,1.2194297,-0.3299529,-0.9335127,-0.18940142,0.0011876747,-1.3807826,-1.0193709,-0.6817161,-1.0670896,1.0423427,-0.56956685,-1.0750315,-1.7582817,-1.0259094,-0.031112507,0.30089748,0.9535162,-1.9626247,1.8651822,-1.3565768,0.2485328,1.0815413,-1.5613987,-0.630718,0.52565396,-0.41921788,-1.7903078,0.35145864,-1.5212989,0.0003335327,-0.043412883,-0.26558924,0.28665036,0.50536203,-0.13250297,-0.32194796,0.13376752,0.48269174,-0.6728195,-0.41092092,0.06356475,0.60637426,-0.14069803,-0.067068905,0.4181186,-0.60719764,0.35694262,0.28338587,0.33177775,0.010357648,-0.8010221,0.6582576,-0.2446511,0.49893373,0.1383721,-0.35929483,0.19396326,0.010976672,-0.41807073,0.502051,-0.2329003,0.54323745,0.44346738,-0.50456846,-0.3931048,0.42891383,-0.54629034,-0.115214616,-0.3105154,0.37313825,-0.15145664,0.46424544,0.118201494,0.12878942\\n4.7425227,-1.3763105,2.6392198,3.9087267,0.56566703,-3.5214143,-3.904036,1.8833778,-2.1306295,0.09136109,-0.4365369,-0.88099885,-1.8613131,1.849697,1.0922196,0.27558213,-0.26524764,-0.74974144,1.090146,-0.9376583,-0.5127176,-0.57962024,2.6321752,-1.8322265,-0.2940644,-0.35825366,-0.5562861,-0.11793478,2.7749734,0.2261909,-0.6382963,2.267593,0.93298495,-0.4828933,-0.7991553,2.6295023,-0.021649271,-0.88992226,-1.0844529,0.32280472,-0.3622106,-0.32738048,-0.3048039,0.31602794,0.6738833,1.1521841,0.00813067,0.124469355,-0.1770137,-0.6764961,-0.1439907,-0.23447068,0.6451402,0.18834504,-0.5109788,1.7945702,-0.5939383,0.3552463,-1.3533909,0.7120218,-1.2488896,-0.19874123,-1.2178392,0.3458213,-0.7758827,0.40691936,-0.266608,-0.16145849,0.6290276,0.382475,-0.6505466,-0.6351068,-0.14702266,-0.21129343,-0.2755888,0.30920953,0.63648766,0.0153543055,0.23951286,0.2849137,-0.022186987,-0.4352039,0.011398651,-0.24686384,-0.03340909,-0.27892026,0.030098438,-0.27210408,0.24529703,-0.06234768,-0.36640936,0.12513682,-0.21420243,0.04454902,-0.1923365,-0.22750624,0.3205772,0.04181996,-0.06621398,0.102106005\\n4.618675,0.061580986,4.087873,3.4641116,-0.95892215,-1.5227175,-2.0268035,1.1798515,-2.1466775,-1.6033897,0.04286477,0.041009285,-0.6021303,-0.062370315,3.2107997,-2.1091805,2.85812,-0.1779367,1.6170018,2.230127,-1.845492,1.8722411,-0.14607286,-0.56477433,-2.1303651,-0.9568229,-0.013220623,-0.14370525,-0.6674768,3.2851925,-0.6426252,-2.0868497,-1.6185174,-1.4542044,-0.0002629906,0.68132585,0.6894325,-0.42171988,0.1724946,-0.11457079,-1.0829027,0.11111742,1.0855749,0.7097368,-0.49881548,-1.0727975,0.35222763,-0.6348463,0.49815124,-0.36607754,0.7927767,0.07062078,-1.1686211,-0.13103096,1.262065,0.08234078,0.5579906,0.38559678,0.21317665,-0.33998373,0.9760939,-0.1680675,0.06633109,0.016672313,0.122203976,0.25759926,-0.024020672,0.20862284,-0.83128774,0.3398736,-0.43194753,0.5790322,-0.84797144,0.11320888,0.33991507,0.37311795,-0.012173004,-0.05463539,-0.47936928,-0.1224529,0.0055197924,-0.018704772,0.15363997,0.094466075,0.16847897,0.1567456,0.9544315,-0.02069667,0.23177594,-0.026517887,0.16094436,-0.23972203,0.42295545,-0.0034285635,-0.15334061,0.004932463,-0.060327187,0.26643926,0.14030012,-0.21315628\\n5.030587,2.9934187,0.24526063,1.7304597,-3.324305,-1.2932997,0.7243761,-1.0109944,0.4868276,-0.97617954,0.54118204,-0.40635586,1.0246384,0.23403865,-2.7112367,-2.8755221,-2.3828077,1.2865789,2.1735067,-0.8828831,-0.79815775,-2.2958503,1.0424986,0.430152,-2.069566,-0.91979176,-1.3820934,-0.9148756,-0.7806334,0.90877116,-2.3982887,0.9720617,0.5656511,0.09195843,-0.8403109,0.25234222,-0.3255145,0.06839034,0.10056799,1.2011724,0.3173401,-1.9719167,0.04711464,-0.8216855,0.21739422,-1.0490775,-0.61012316,-0.62422186,-0.922272,1.0800235,0.18603629,-0.27554464,0.6053082,0.11777264,-0.39869404,0.4759843,0.5644958,0.023816787,0.5163289,-0.36360076,0.4376496,0.008579314,-0.40628228,-0.5385845,-1.0758185,-0.46245536,-1.4228815,-0.4632252,-0.49389762,-0.12096059,0.84777844,0.63650376,0.1847856,0.43574834,0.02097068,0.666565,-0.88045,0.5491647,0.4035259,-0.12679434,0.30816916,0.36391658,0.20073119,0.016792685,0.29062265,0.07757753,-0.70825094,-0.051422656,0.05370988,-0.19576065,-0.007766543,-0.5638344,0.60871226,0.26437652,-0.21113583,0.17566031,-0.12446529,-0.088303894,0.22358379,0.22542244\\n6.921569,1.6149708,-0.66937715,-0.5144461,-0.4247193,1.3458873,0.50884056,-0.5673192,-0.36536443,0.5279734,0.89702356,-0.1990662,1.5029496,2.4183228,0.29369062,-1.1073178,-1.0489095,2.1264524,-1.248651,-0.44851896,0.18969442,0.8232001,0.19256371,-0.53352463,0.6225333,-1.1129055,0.05561325,0.8152412,1.5787009,-0.17826977,0.33535314,0.22979623,-1.207011,0.8553635,1.2629685,0.98148745,0.80431205,0.46696794,-0.4232896,-0.1385041,-0.37217063,0.85754406,0.064025834,0.10356427,-1.0357875,-0.103991196,-0.99976367,1.6803262,-1.0633335,-1.3549745,-0.35452354,1.3286235,-0.4546097,-1.1293949,-0.32812333,-0.3309768,-0.25630394,-0.47977567,0.7346723,-0.60356116,-0.24829769,0.42451483,-0.5588081,0.025330761,-0.071277514,0.03783703,0.19536841,-0.39405942,0.123166315,0.8518938,-1.0032732,1.2122285,0.51873344,-0.13319197,-0.48730677,0.7765024,-0.26370865,-0.75141346,0.8430978,-0.61179864,-0.73497224,0.2591036,-0.073548555,0.17363492,-0.2369164,-0.018451296,0.04864724,-0.6356268,1.0811343,-0.16331588,0.013306081,-0.09011984,0.34194183,0.13900653,0.20430012,0.44924003,-0.8837144,0.44592315,-0.39167798,0.38225847\\n6.595997,0.28207892,-0.33063537,0.548509,-1.8372889,-1.9415926,-0.4745641,-0.94976467,-0.5779277,0.006619841,-2.9807246,-0.52863824,-1.2628796,-2.7924736,1.0648458,0.58967996,1.1272246,-1.1022083,0.08506693,-0.51129925,1.1048973,-0.8236251,0.66154486,-2.5843182,0.19934177,-1.6008449,-2.1058419,0.38296807,-1.0739212,-0.88763905,-0.4918255,0.439798,-0.041808635,1.6963643,-0.1653478,-0.8868134,-1.0858114,-0.92828876,1.3107,0.028390862,2.4341106,-0.33814096,1.2443862,-1.6072363,0.72773933,-0.75639564,-0.18236297,0.35618445,0.19886886,0.5680406,0.03017608,-0.47301358,-1.3730772,0.2870202,0.03636436,-0.9191519,-0.8179903,1.200761,0.51852924,0.4479691,0.68716574,0.48861447,-0.3381951,-0.39668977,0.16633129,-0.04125163,0.93788147,-1.2854319,1.3430853,0.25382194,-0.5240022,-0.1226002,-0.4061104,0.47538894,-0.24042365,-0.26433828,0.25077352,-0.19859008,-0.15266286,-0.45851606,-0.39867344,0.07009071,-0.56804085,0.094207495,0.28936148,0.54297817,0.30196363,-0.35690165,0.35882002,-0.26499462,-0.46761635,-0.51965606,-0.34120047,0.41944817,0.33939296,-0.023685668,-0.06627898,0.17219159,0.12873134,-0.013459936\\n7.164449,-4.0128984,-0.76412433,-0.365838,1.8628191,0.32232875,3.176597,-0.50053406,-1.1881511,-0.40784118,-0.4279781,0.5039282,-0.23218447,-0.2007405,0.952091,-0.89852595,1.0315354,-0.18655255,0.7133554,-1.2173688,-0.37076157,-0.010121584,0.25952908,0.48548055,1.5392478,-0.77681535,1.9208372,-0.22263871,0.5751325,-0.23141903,-0.15479127,0.12465286,-1.8068993,0.4742445,-1.0960443,0.7037732,-1.6003516,-0.673467,-0.37908226,1.1700348,-0.08485794,0.46820572,-0.7396574,-0.779413,-0.7722925,2.3146772,-0.7657146,0.24684866,0.6670208,-0.3952527,0.1946377,0.035974097,-0.49306807,0.03527972,-0.078115314,-0.8856913,0.9220344,1.227937,0.11055623,-1.0754002,-0.18858588,-0.82618284,0.16004187,0.30150598,-0.79429173,0.46890926,-0.25391924,-0.95609224,-0.34201163,-0.9095548,1.6760368,-0.13058528,-1.0435911,-0.7802495,0.43179536,0.39626837,0.7337371,-0.38010943,-0.35757828,-0.3821178,-0.05384609,0.73330617,0.39871413,0.10122442,-0.48922738,-0.079251096,0.004001081,0.06514859,0.04810387,-0.68254685,0.05933422,-0.3172203,-0.24652576,0.5781495,-0.41603726,-0.043476626,-0.28337148,-0.41302952,-0.02081798,0.35542896\\n6.05701,-2.2799067,0.8474121,-1.4083612,-1.2857859,1.1496613,0.73085237,2.1126754,1.2257769,-0.8856819,0.8383193,-1.3451494,0.6973133,0.26808244,0.69115734,0.5067878,-2.1677382,2.5132887,-0.94197744,1.3981636,3.1317153,-0.030037194,3.4560905,-0.07935994,-1.1208055,0.85953283,0.34908324,0.6017434,-1.7198713,1.1584487,-1.221625,-1.8485879,-0.55538106,0.61598915,-0.22474809,0.36759496,1.0890948,1.6697673,-0.32812044,1.0701119,0.45104334,0.5201731,0.18524358,-0.957268,-0.05532992,0.51591325,-0.28478974,-0.20745736,-0.7895319,-0.13208285,-0.78032535,0.9200864,0.4079651,-0.34137872,0.21359694,-0.0014574528,-1.001014,1.2003322,0.2411037,0.95792633,-1.0837997,-0.77505124,0.43044293,0.19680132,0.12906048,-0.88537765,0.7884436,0.17588505,0.3570149,-0.9202727,-0.04175651,-0.7808573,-0.28877378,-0.611333,-0.27789253,-0.013178632,-0.04159808,0.52223176,0.13873643,-0.8082004,0.7671676,-0.15246284,0.15925342,-0.40823585,0.1836834,-0.04422719,0.71791947,-0.23578756,0.23168834,0.19815293,0.25080654,0.090607814,0.42999712,0.31171614,-0.28288406,0.26839912,0.30273905,-0.2179636,0.11327824,-0.39862415\\n6.922722,0.71221906,1.7626934,-3.5916421,1.3005929,-1.208585,0.51128876,-0.4608805,1.1283995,0.8237084,-0.52783275,2.172659,-0.39195788,-1.6966078,-0.22917707,-0.21953887,1.3047631,0.80229276,1.1656349,2.2808142,-2.748827,-1.448148,1.913258,0.49802002,0.9101881,0.46733153,0.5829356,-0.3602516,-1.3575938,0.19616112,1.4359286,0.71476674,0.21068358,-0.012883231,-1.3420372,0.07279406,0.53602135,0.8590871,0.008932054,0.9218379,-1.58234,-0.5363569,-0.847183,1.6761519,0.15183342,0.4620657,0.35267383,0.1869319,-0.30989257,-0.2418862,-0.24064688,0.40514627,-0.5598882,0.8782751,-0.9960268,0.22910711,0.042544216,-0.4839494,1.7658857,0.24697694,0.49989575,0.11532644,-0.651211,-0.51968193,-0.8268104,-0.69767684,-0.6297336,-0.6884243,1.2927278,0.3348519,0.37247762,-0.25573117,0.021276586,-1.1012135,-0.30658653,-0.18928404,-0.55493593,0.40492937,-0.6587875,-0.41575372,-0.39699274,-0.17150387,-0.5010067,-0.71042746,-0.4187796,-0.12894206,0.7190113,-0.12479222,-0.102800675,0.16370627,-0.22279416,0.04575582,-0.32115364,-0.61759704,0.63403934,0.23403469,-0.040494263,0.30812055,-0.2003353,-0.05396767\\n5.350316,0.69648683,2.5269942,0.13662261,-0.8988963,-0.9303599,3.1496649,-0.35744148,1.7863475,-1.0332608,-0.33392715,-2.2752495,0.5781264,0.20026207,0.63446224,-1.8196427,-0.3362309,2.407962,0.008804366,1.09939,-2.7703,0.48476663,-1.2362221,-0.72363025,0.36956072,-0.4751765,0.72335804,2.8963194,1.3051375,-0.3725335,-2.3504972,-0.29350007,0.85143304,0.3491936,1.0589457,-0.7621367,-0.17901528,-0.6530195,1.02033,-0.06787443,-0.8453478,0.1666362,1.2770424,-1.20252,0.3347879,2.3100317,-0.69683975,-1.3418899,-0.09412978,-1.0120903,0.6284272,0.9278715,1.0660775,1.3531551,0.6143799,0.1463793,-1.0458488,-0.58292997,0.5009693,0.7136263,0.5108597,0.5737598,-0.31743276,-0.107988015,-0.49644494,-0.30181825,0.868522,0.95503545,0.13561314,0.4020946,0.6514688,0.07799569,0.15919793,0.96193445,-0.049427867,-0.72336507,0.56737995,-0.17869397,-0.007970482,0.04798743,-0.06456675,-0.13360927,-0.21098195,-0.20373341,-0.7599714,-0.09665316,-0.19704404,0.27286485,-0.4745737,-0.11744517,-0.14285633,0.021182775,-0.115506016,0.1637295,0.191441,0.033246864,0.11744651,0.013417929,-0.09849297,-0.059027463\\n5.43011,-1.9268618,0.45208874,0.21273884,-1.1068041,-1.3677843,1.0091165,-3.0815194,-2.5473046,-0.26715934,0.83598995,0.60223824,1.5637836,-0.21274573,2.2058284,1.2272824,-1.9408956,-0.2936642,0.33671626,1.787036,-0.8947013,-0.235877,-0.7077193,1.8491122,-2.5150456,0.68321824,0.4593372,1.1267616,0.05975622,-1.6753991,-0.097205296,2.2562976,-1.883834,-1.7496401,3.3117967,0.7678043,-0.5601709,0.85206074,-0.13980083,-0.15661994,1.155586,-0.77066135,0.62854457,-0.7519978,-0.10533202,0.5996776,-0.021582454,2.1969314,-1.0152069,0.023631692,-0.2843462,-0.54489005,-0.14590949,-0.555622,-0.0022023097,1.0052685,-0.2965237,0.30829683,-0.47422358,-0.87794363,0.9499792,0.68077016,0.1322367,-0.15797895,-0.22235365,0.6302546,-0.03718599,-0.43571448,0.021350827,-1.0946085,-0.37232447,-0.19727314,-0.2803284,-0.06061293,-0.080663085,-0.6127376,-0.43031758,0.25508165,-0.58652854,-0.532557,0.14778584,-0.21719912,0.014176056,-0.025252782,-0.15953094,-0.07792827,0.036278933,0.22471397,-0.33207732,0.2667293,0.006990496,-0.04418555,0.22340491,-0.44437367,0.36923677,-0.05594045,0.4473368,-0.18334106,-0.08059952,0.019698948\\n7.497179,-1.7263358,-2.1085892,-0.48282567,1.4731522,-3.0301762,0.9135711,-0.36622626,0.47797158,-1.1999183,-0.36777756,2.0111725,-0.13213578,0.6999343,0.2469778,0.52071214,-0.8493719,-0.30797887,1.4777288,0.9166854,-0.33614004,0.4014507,-0.48054424,-0.392465,-0.5155184,1.1791227,0.5591552,0.9143151,1.5749174,0.26290944,0.103794515,0.6475185,0.950083,0.42274106,-1.1169252,0.85700715,1.2500799,1.0992615,1.2026651,-0.0947395,0.7160994,0.437079,0.28796768,-0.33439475,0.26072854,-0.9002532,0.18050425,0.31716505,0.14412767,0.4440421,-0.61656666,-0.92055976,-0.21274534,0.9953558,0.49670368,-0.83396244,0.011454489,0.48716384,0.02261842,-0.97651523,0.065908246,0.97519445,0.9125267,0.40508658,-0.55940753,-0.21743146,0.17793378,-0.26218095,-0.48887283,0.7011074,0.24350935,-0.16512007,-0.34495723,0.17098276,-0.43823153,-0.1557008,0.11808018,-0.51694894,0.8533122,0.48194274,0.036227867,0.32155824,0.17454775,-0.4175127,-0.5447082,-0.49538505,-0.005876705,0.020092487,0.5449371,1.4605732,0.16533326,0.15876067,-0.57233846,-0.2834518,-0.69867754,0.89742184,-0.1838538,-0.024797663,1.1225666,-0.18357009\\n6.3091555,2.0783854,-1.9384096,2.9323335,-3.0632935,-1.6511054,-1.7040209,-1.928768,1.328984,-0.16972703,0.3608922,0.19627175,0.67919445,-1.9242244,-0.5228052,-1.3734158,-0.4844424,-0.2627496,-0.61492074,-0.047027804,0.43281266,0.036808684,0.10693856,-0.074114,-1.1236944,-1.3312261,0.9331008,0.5530752,0.0032563657,-0.9513329,-0.2161004,-1.784404,-0.5931243,0.21026519,-1.89329,-0.29845512,-0.22264366,-1.677253,-0.5039112,0.12254286,0.18795493,-1.0923657,0.34156454,-0.4431634,-0.68980336,0.32672602,-0.5813896,-0.049681008,0.09192753,-1.2037758,-0.5527787,0.13000014,-1.0029657,-0.18872389,-0.019929677,-0.2043094,0.98600525,-0.37830353,-0.65682065,0.09846589,0.4430316,-0.9645558,-0.40946862,-0.36370325,0.5774395,0.028349057,-0.25610536,-0.7792248,-0.5540147,-0.31009635,-0.401883,-0.33727574,1.7163804,-0.30426013,-1.0376544,-0.03785765,-0.1195896,-0.91408986,0.1671894,0.38960195,-0.25464797,0.26358426,-0.34610948,-0.35821852,-0.4033596,-0.6134666,0.57853794,0.18075916,-0.17093766,0.6935712,0.72300494,0.52879035,-0.43232995,-0.12832783,-0.05964069,0.013761241,0.73806643,-0.65367913,-0.5491805,-0.039610103\\n7.221201,-2.295785,-1.9795125,0.004660994,1.9388028,0.024921939,-0.52468956,0.026563317,0.5082507,1.1679058,-1.2152809,-1.9696391,-0.9280956,-0.7441103,-1.0904887,1.8124872,-0.26199663,1.7386262,0.93331003,-1.2327912,0.70561063,-0.44324923,-0.18356393,-0.60079575,-0.67607415,-0.65194756,0.89822555,0.39951342,-0.8148533,1.3245368,-0.972353,-0.7920306,-0.24561624,-0.23691718,1.2373819,0.2825793,0.94767517,-0.03546068,1.0544069,-0.13006091,-0.5377578,-0.8101209,-0.62930405,-0.1759054,-0.25815243,-0.49261504,-0.59179485,-0.4661317,-0.35545295,-0.8226298,0.59070337,-1.0197403,-0.3227289,0.9532498,-0.34833908,0.011304304,0.007155344,-0.33475116,1.9399055,-0.9132879,-0.81797194,-0.12645641,-0.09394481,0.94857615,0.25052154,1.2722659,-0.6691842,0.07895483,0.20483807,-0.53936476,-0.5831646,0.25373864,0.430983,0.052035347,-0.6733727,0.2971803,0.6857294,0.10984185,-0.68221974,-0.33992508,-0.33204675,-0.8185322,0.91511434,0.72456,-0.11210576,0.70803285,-0.5947784,-0.95050246,-0.7011819,0.7199889,0.22796242,-0.2664801,-0.67487514,-0.36407536,-0.48373154,-0.3398582,0.098446846,0.20093133,-0.23655179,-0.13229991\\n7.098492,0.04341702,-2.5872905,-0.5470475,1.9911959,-2.0703712,1.8872907,0.53156286,0.8503996,-0.07277995,0.26998425,0.5999669,0.43985718,0.029993951,-0.78005344,-0.74316806,-0.34615958,0.45451343,1.1716261,1.2419802,0.4104025,1.820727,-0.94526565,-0.99912214,-0.9811933,0.54107845,1.2895808,-0.5140492,-0.07705557,-0.59590584,0.44971192,-0.78397214,-1.3024344,0.6975499,-0.15450017,0.097805604,0.11617195,0.89582145,0.24862722,0.10619578,0.25854862,-0.39872763,-0.0392662,1.0815475,0.11051141,0.45104995,-0.46595016,1.0202407,2.2205179,-0.31518793,0.07389113,-1.5334125,-0.86686575,-0.19496909,0.075101286,-0.5376697,-0.464251,-0.7081672,0.50489867,1.6349727,-0.056967944,0.0596238,-0.9950859,0.21060032,-0.21825,-0.3025589,-0.12724423,0.4891826,0.46702653,-0.93143165,-0.64047486,-0.62908536,-0.37426454,0.62047523,0.061520692,1.8742741,0.053523213,-0.07710702,-0.040027946,0.709462,-0.28496832,-0.6877577,-0.2938042,-0.024286866,0.1584347,-0.74964553,-0.9486145,0.5038439,0.062023655,-0.0127990395,-0.37465376,-0.43856332,0.8015058,0.49458793,0.4095702,0.12322923,0.38985807,-0.042001925,0.062885076,-0.008320391\\n5.8965406,-0.20299654,-1.1775208,-0.077435255,-0.3553118,3.2967706,-2.3794112,0.6185547,-1.7048147,-0.31248945,-1.2044767,-1.5903897,1.0706301,1.3429549,-0.79667056,0.5237377,-1.4877644,-0.4360383,-1.9560777,-0.025886714,-0.48303586,-0.40054396,-1.9663569,0.6172572,1.1599336,0.02264893,-0.3610227,0.54216576,1.3830416,1.7509506,0.15751094,-0.7253595,-0.61620736,0.1282638,0.20082396,0.038726017,0.4685774,-0.736958,1.3645546,-1.3116643,-1.3739567,-0.30924514,0.7964212,1.4907078,0.43416473,0.37436366,-2.1180599,0.6450846,0.6555685,1.5897144,-1.5090497,0.037297495,-0.15263663,0.15936546,-0.6483314,-0.59913296,0.1972206,0.11655499,-0.83423096,-0.30889037,-0.18665817,-0.40459672,-0.23862529,-0.7185302,-0.08839826,-0.54342276,-0.1464343,-0.60845816,1.2610792,-0.0015111268,0.28646275,0.07592386,-0.1957632,0.9680586,0.16781299,0.510204,-0.6650925,0.51120114,0.11365041,-0.24531966,0.7342883,-0.22469527,-0.17135127,-0.051753804,-0.76185906,-0.12372151,0.6018736,-0.044591993,0.0106573105,-0.30719668,0.17580935,-0.9594748,-0.36751053,-0.61778766,-0.414829,-0.33640033,0.3529531,-0.2665887,0.14406373,-0.376472\\n4.622308,-0.6998348,2.2290223,4.6869483,2.4693253,0.2022093,0.3722895,3.1233373,0.88363004,-1.6853524,4.106667,1.4828933,0.27580446,-0.46731788,-1.4514099,0.08600311,0.041369513,0.22085257,0.19332395,-3.4314716,-1.4648929,-0.081293955,0.11166364,2.856553,0.3246594,-0.090368,-0.90098435,-1.6306958,0.2788301,0.5892901,-0.78996825,-1.1909814,-0.46403277,1.3683847,0.7994324,-0.5871371,-0.9641938,0.88307846,0.63338166,-1.7527894,1.3086555,0.14250964,-0.8829935,-0.046212636,0.1949826,0.5859151,-0.42932707,0.39494228,-0.27331623,-0.8694183,0.045060232,-1.1388435,-0.023932487,-0.115921214,0.573529,-0.54619056,0.3026697,0.51145375,0.35082775,0.99596566,-0.96233076,1.2072911,-0.7377468,-0.67990696,-0.42967772,-0.35545868,0.43100706,-0.5809595,-0.5855904,-0.029701859,-0.23134446,0.4439088,-0.45624655,-0.0015510339,-0.7391634,-0.51936305,-0.2761277,0.15036972,-0.41702193,-0.1988703,0.20314597,-0.6613218,-0.85761565,0.0930385,0.14558443,-0.38247836,0.49553007,0.20029092,-0.3882198,0.15899168,0.103921905,0.3719371,-0.25374,-0.25300676,-0.10238497,-0.22074348,-0.43121186,0.062431104,0.061528027,0.14122646\\n6.368187,3.6448722,-1.1396543,-2.6444793,1.4430785,-0.8070332,-1.5659041,0.5419707,-0.9724419,-0.4544102,2.5931745,-0.7617885,-0.3746196,-0.3343323,0.7880868,0.012360126,-0.2559097,-0.09644997,-0.96470785,1.0997125,1.191669,-1.2063645,-0.0088404715,0.89300734,0.08345517,-1.2880191,0.6741237,-0.8831378,0.66832757,-1.0027208,-0.0033420026,-0.11012481,0.12270953,-0.7933425,-0.035052076,0.4230438,-0.42536375,-0.14796598,0.92976975,0.023388103,-0.33555076,0.7461982,-0.50513095,0.82994837,1.3822601,-0.8486978,0.55269814,0.3584293,0.41072226,1.298507,1.109864,0.3000508,0.68475556,-0.1117082,1.2338853,0.7299869,0.39982152,0.39942724,0.046181172,-0.31413293,-0.8339797,-0.22177824,-0.18704541,0.50233525,-0.5535775,-0.9714227,-0.17885193,-0.68803513,-0.29005706,0.23044746,-0.20232928,0.7720877,-0.2068958,1.0901548,0.1956603,0.22702047,1.104516,0.26333892,-0.29201335,-0.4000703,0.044383496,-0.4635638,-0.08914152,0.30804747,-0.33997786,0.6167978,0.25331488,0.13140425,-0.43964222,0.20857206,0.48829365,0.16615546,-0.5189241,0.76164246,0.7767056,1.2633097,0.19788106,-0.5826716,-0.5177361,0.14448489\\n4.7960186,0.0010358095,1.9490756,-0.12258318,-2.9951072,0.6508946,5.1454263,0.89548075,1.8861252,-3.1197069,-0.61530745,1.5334713,-2.0903552,-1.2144767,-0.6905933,0.06815049,1.8493553,1.4312484,-1.2540472,-0.07900514,0.81685376,0.3923422,2.0659642,-0.4878857,-0.22317858,0.44730043,0.36579746,-2.0093439,0.44962078,0.04241196,-0.099476375,1.3340614,-1.0350558,-0.823214,-0.15003404,-0.53811574,0.13086647,-0.23015988,-1.5954278,0.15482844,-0.9551468,3.1139088,0.14108455,-0.9367827,-0.7791718,0.037252523,0.44926417,0.3057848,-0.30431595,1.7105045,-0.052282393,-0.60704815,0.59855545,-0.01810848,-0.13768397,-0.1420507,0.91890883,-0.6070271,-0.4607138,0.66104996,1.0685765,-0.60206646,-0.22566956,0.36646754,-0.6142582,0.8038237,0.25387135,0.042618424,0.37434372,-0.34876287,-0.71080554,1.2975984,0.38104534,0.8168588,-0.22040051,-0.16054513,-0.08933172,0.054323196,0.23430711,0.105681345,0.18030077,-0.55248666,-0.0057161152,0.26811945,-0.10877628,-0.4177935,-0.12658694,-0.24198559,0.18199205,0.21106634,-0.06227559,-0.49606937,-0.64588106,-0.41298676,-0.005504608,-0.23385009,0.26291934,-0.1553684,0.11747566,-0.007352911\\n5.771792,0.2973321,0.22682089,0.3574612,-0.8743572,-3.0167785,-2.7666936,0.007956207,0.06124997,1.485326,1.304302,-0.7584532,2.2950678,0.7849316,-0.031329036,-0.04705727,3.2842746,-0.6066418,-2.2630267,0.89422065,-1.1417043,0.12374124,1.1107186,1.0677857,-0.13850413,3.486766,-0.43523413,-0.23950656,1.0715501,0.615721,-0.4196131,0.8716612,-0.37608698,1.4752905,1.2564557,-1.0575426,0.8084855,-1.023628,1.4144745,3.0172942,0.9490811,0.45964846,-0.62051356,-1.2183499,-0.6452152,-0.082291916,-0.17367554,-0.45053637,-0.107917145,0.11422692,-1.5146756,0.1035285,-0.61133283,-0.6916703,-0.6380768,-0.5955544,1.2904009,-0.69994015,0.21635771,0.0454973,-0.9013273,0.11859388,-0.07292959,-0.2789497,0.51363945,-0.20543858,-0.435907,0.35325518,-0.82580614,-0.52876717,-0.031755045,0.23409742,-0.41853252,0.77861035,0.39890346,0.077791035,0.11529741,0.45299622,0.03662462,0.24789697,-0.799466,-0.06259039,0.1650132,-0.6748248,-0.18972509,0.45413378,-0.117163144,-0.327493,-0.044328347,-0.3079939,-0.4030446,0.39860696,-0.3984933,0.20935994,0.07688071,-0.0005848445,0.36264834,0.17249206,0.044762135,-0.19260085\\n5.7108173,1.1074069,-1.8079722,0.9820957,-1.9546366,-1.2685235,1.2304367,-0.050246507,-0.6334474,1.763144,0.86438364,0.7980102,0.8577148,0.6142374,-2.0879498,1.7960179,-0.4728233,1.1916583,-0.06946975,-1.4456509,-1.2480662,1.2991915,-0.17048271,-2.175285,-1.9401323,-0.238838,-0.0012152083,-2.7115986,-0.071343996,-0.88460636,0.11364228,-0.13348758,-0.12710235,1.5423777,-1.2489588,-0.75906944,-0.275137,0.36801723,0.95859253,0.8156417,-2.0183475,-0.8320046,1.285637,0.96561396,0.81861573,-0.08398567,0.4828589,1.8123025,-1.4529468,0.44444436,0.39603308,1.9911755,-0.91025794,-0.6818101,0.5697714,-0.26359075,-0.45319057,0.8967884,-0.49559242,-0.53150654,0.072027005,-0.532084,-0.29757178,0.025762618,0.5704452,0.74711424,0.14835182,1.1553683,0.41877228,0.2082004,0.709812,0.37866557,-1.3456492,-0.1818999,-0.4628879,-0.6213333,0.24279365,-0.1081405,0.15393516,0.37302274,-0.048495565,-0.6584536,0.15178266,0.010457639,-0.23973352,0.027183056,-0.17225337,-0.026789427,-0.43963894,-0.118119046,0.24615958,0.5467292,-0.03851886,0.015350655,0.15539587,-0.29054382,0.07812175,-0.12347661,0.30805835,-0.06257859\\n7.800599,-1.3678443,0.027833939,-0.24086702,0.5000063,0.06756538,2.716525,-0.767755,-2.6639075,1.4465275,0.9536804,0.15384354,-0.2901672,0.30597928,-0.19613285,-0.80149907,-1.7436662,-0.18562794,-0.7612613,-0.3960467,-0.3526311,-1.387512,0.41448325,0.20592298,-0.3001657,-0.61903393,0.4851021,1.2667878,0.56539327,0.56954515,2.0260844,-0.3166712,0.2690838,1.6828889,1.1653097,0.54915464,-1.6520422,0.54363394,-1.6829447,0.3396036,0.13283177,0.6367265,-0.20658238,-1.7940806,0.67872417,-0.4104636,0.4205328,-1.2210958,1.2128675,0.86586237,-0.54374367,0.9441504,-0.28089905,-0.542436,0.1530934,0.59461117,-0.4462333,-0.2955892,0.8468344,0.5363465,-0.026195467,-1.1674683,0.49102348,0.22346525,0.76322263,-0.18786854,-1.4919041,-0.62499285,-0.27758515,1.7373652,-0.4900092,-0.014227942,-0.8094888,0.24415366,0.47810256,-0.40163767,-0.40963483,-0.46264344,-0.74983513,0.71853375,-0.14940745,-0.48252112,-0.56430113,0.057446614,-0.24148473,-0.44781357,-0.10910991,-0.33129507,-0.3139075,0.5773825,0.37495315,-0.15367565,0.3426912,0.18854085,-0.13947406,-0.5171821,-0.084894,-0.020989388,0.042089485,-0.4956935\\n5.090495,-0.76782537,-0.6530186,4.041829,2.2623239,2.872748,-0.72401536,-2.532868,-0.45260835,0.8129828,2.409319,-0.48597297,-0.11704846,-0.3039946,0.39250478,2.1760352,1.2090907,-0.085631266,0.43567652,0.993594,1.2440124,0.6731215,0.07322681,-1.0810826,1.1711891,-0.4013259,-1.3936279,1.3328362,0.38517088,-1.2874937,-0.8926964,-0.12474725,0.8308869,0.14704008,-0.75632834,0.9180194,0.7295599,0.15226859,-0.98731005,1.5613151,-0.7009666,-0.5884484,-0.53833604,-0.13436483,0.046151847,0.3194246,0.27811605,0.5119254,-0.23346055,1.4139469,-0.42217195,0.20834625,0.045812212,0.729237,0.19042587,-0.018442363,0.5151913,-0.54408646,1.1898456,-0.88470846,0.25395006,0.52858514,0.3014057,0.1818998,0.07589866,0.00010386109,0.8142683,0.61365676,-0.48525006,0.1504242,-0.39718997,0.7335403,-0.44417095,-0.39985803,-1.0165131,-0.097478375,-0.3847131,0.989542,-0.33296782,0.36013103,0.10766734,-0.02885425,-0.71297574,-0.23282352,0.3776936,-0.32752514,-0.124967285,1.4244033,0.32152402,-0.05253283,0.15545776,-0.78692377,-0.25878102,0.567671,-0.6276778,-0.18336457,0.052484468,0.111170515,-0.7072892,-0.18622255\\n5.1472483,-0.7456172,1.2729902,-2.4373398,-1.1990521,0.08835113,0.1463074,-1.2249428,-0.76231074,0.6629878,-2.0878475,-2.1460009,-1.2373859,0.78817034,0.65037894,-0.061542094,1.6035132,1.4190207,1.7212682,-0.06405437,1.1342387,-1.1386731,-2.8109052,-0.07812485,0.8099611,0.10793395,-0.26893592,-0.8513199,-1.1642108,-0.8444948,-2.7510326,0.061486274,-1.8829775,0.32457793,1.0546637,0.30123466,0.0016169026,0.59178555,-1.2149866,0.04718204,-1.3253555,-0.7728331,-0.14886242,0.33633673,-0.79547167,-0.18686742,1.002877,-0.4238547,1.1745648,0.632905,-0.59868824,0.2901464,-0.38940287,-1.0519052,-0.08454502,-0.04110104,1.2583623,-0.25967985,-0.66770184,1.2049454,-0.49868327,2.0247245,0.50223464,0.6164657,-0.53618777,-0.13107835,-0.50644886,-0.42165372,0.34367013,0.80965984,-0.048020437,-0.66692364,-0.20310777,-0.02335751,-1.0051994,-0.15363489,-0.3776457,0.08594659,0.8723882,-0.13090192,0.11714631,-0.037739575,0.43678683,-0.082384765,0.052914508,-0.20235093,0.2169938,-0.038699165,-0.3272529,-0.02288599,-0.03041552,0.7634636,-0.32820997,0.41709128,0.11747816,-0.304156,-0.41102022,-0.411708,-0.010733485,-0.38193333\\n6.231495,1.0299437,3.7714553,-1.6322625,2.5512352,-1.8268962,1.04232,0.48130488,-1.8964847,-0.21877408,-0.014116079,-2.559629,1.8327396,-2.470976,-2.1125638,-1.9422845,-0.23179792,-0.3353176,3.4476972,0.05562052,1.2466397,0.8392325,-0.7833246,1.7726614,0.31852156,0.07113231,-0.6146162,0.5467573,0.5741872,0.57918406,0.8234057,-1.0926597,1.5961015,-1.1513913,0.3850863,-0.68022615,0.8348892,-1.121165,-0.1819055,0.41976207,0.48330778,-0.68763053,0.18932873,-0.82107866,0.60525113,0.3970906,0.36065692,1.303412,-0.5822545,-0.19085021,-0.15111311,0.6915491,0.34390748,-0.17556381,-0.1281218,-1.7264107,0.595857,0.3261702,-0.17468497,-0.038969368,-0.3980242,-0.27877393,-0.31018883,1.5673114,0.40258196,1.4335332,-0.059594437,-0.092798226,1.070681,0.1508537,-0.66970026,0.54163516,0.4245329,-0.53255665,1.3820606,-0.062141664,-0.058798403,0.68370473,0.38531652,0.30813345,0.69110554,-0.06705055,-0.224347,-0.4487036,0.20939413,-0.6665892,0.05003187,0.03869729,6.7055225e-05,-0.077649176,0.16300312,0.21915963,-0.32422444,0.1628739,0.3223798,0.09854768,-0.1296311,0.05691325,0.1120953,0.007019639\\n6.992232,-1.2327806,-1.5463002,0.338648,-0.46469703,0.5815447,-0.9308388,-0.17388958,-1.6976032,-0.61547387,0.4927392,1.5022359,-0.45854133,-1.3870611,-0.4559942,0.03542491,-0.47518423,0.21587355,1.0710083,-2.1694932,-0.69640684,-0.9752952,-0.4935248,0.081093475,-0.09599769,-0.5711864,0.54678464,-2.2384007,0.556036,-0.61606246,-0.30585647,0.9459704,-0.73987675,1.5914588,0.63634163,-0.584105,0.18600623,1.1141077,-0.9183235,0.15886648,-0.9781391,-0.3909582,0.23723811,0.23543116,-0.6350461,-0.1945062,-0.83589065,-0.94442666,-0.037036933,0.06628663,0.051240876,-0.6256288,-0.22684672,0.9157043,-0.64185816,-0.15113065,-1.2825639,0.26969168,0.7393163,0.42733437,0.35344347,-0.103209965,0.97893494,0.16745682,0.23540223,0.6694584,0.13990122,0.02108292,-0.96604514,0.037691146,-1.2033534,-0.5775312,0.55848163,0.2052522,1.087156,-0.4772188,1.3797829,0.981459,1.1511784,0.16616136,-0.19321427,0.51940113,0.15550578,-0.39775753,-0.40779954,0.09244273,0.573292,0.5042062,0.22191663,-0.88704115,0.42028362,-0.14613551,0.37548956,-0.5933682,0.16591717,0.54600185,0.18010338,0.15366253,-0.32266456,-0.5909221\\n5.9336777,1.7424781,1.1446702,-0.49161085,2.7974758,1.2656417,-2.1046252,-0.9342515,-0.6860519,0.37441188,0.15545149,-1.7061613,-0.790238,-3.1915827,3.029049,-0.21230084,0.50205505,1.888254,-1.5451081,1.6879828,-0.1099526,0.2569832,0.27258134,1.3225448,1.2642274,-0.39189717,1.4363987,-0.776034,-0.9935502,-0.01749134,0.6299694,0.3439865,-0.46378225,1.1736779,-1.3557148,-1.0392523,-0.83552706,1.8982898,1.6017271,0.39848736,0.08121686,0.047627233,-0.41473573,-0.6742937,0.18278201,-0.66237897,0.83041024,0.59677935,-0.22352701,-1.0196855,1.1260242,0.19476718,0.80391717,-0.4050628,-0.18396485,0.22223644,-0.1780937,1.7961016,-1.2754387,-0.27452826,0.14468402,0.6393111,-0.75674725,-0.6066281,0.6032231,0.014407355,-0.9748534,0.21615657,-0.48846263,0.7283681,-2.6911497e-05,0.12709516,0.94036055,0.38847792,0.011334289,0.040215462,0.18857193,0.34130296,0.54033244,-0.038519092,0.23553813,-0.2960255,0.48710367,-0.25123987,-0.45139575,-0.71246904,-0.64023787,0.21821809,0.23948969,0.19814308,-0.60713893,-0.5920224,0.07984375,-0.1379206,-0.5863768,-0.60922027,0.01922967,0.14498915,-0.13053495,-0.013003789\\n5.8138413,-1.2936323,-2.0334702,1.0698156,-0.05081302,2.136268,-1.2036293,2.7271407,1.0188322,0.5607836,-2.0363734,-0.5316434,0.0792439,-0.94079703,-2.9872885,1.2021865,-0.26404688,-0.46147847,-0.028492011,1.2384949,-1.6060075,0.642264,2.3275213,1.7376686,0.6632695,-1.2098051,1.7532718,0.99841434,-1.3430833,-0.13293943,-0.1861764,1.2814293,0.21564677,0.38650325,1.1586708,0.060476348,-0.5851581,0.65854543,0.059336692,-1.862358,-1.7548802,-1.1723449,-0.021174878,-0.54341656,-0.6137496,0.6487496,2.2236757,-0.11138748,-0.5050284,-0.016773432,-1.1041343,-0.33063295,-0.71149707,0.6750016,0.43739867,-0.21039477,0.023881942,-0.0936183,-1.3927763,-0.6028892,0.62186795,-0.7478769,-0.41135505,1.2125185,0.036091,-0.21250983,0.5770729,-0.490984,-0.65761596,0.13703144,-0.19628534,-0.20950788,-0.11624473,1.1464231,0.041966915,0.6561725,-0.29868913,-0.1870501,0.12619501,-0.25070673,-0.25275692,-0.034750514,-0.26474273,-1.0922728,0.6035052,0.62747604,-0.12782595,0.10072021,0.046195984,-0.1357522,0.36192602,0.14902921,-0.053784586,0.5560356,-0.013128787,-0.06738922,-0.2456384,0.31562647,0.13103855,0.13032472\\n3.1882577,1.0253766,3.8014247,1.7126583,-2.5215514,-0.46437627,-0.8101188,0.1405165,3.3149657,-2.5820336,-3.2898145,1.0194334,1.4404228,-0.51712257,2.9674127,-0.012441695,-0.6099039,-2.6156638,-2.6225624,-2.4293022,1.5829214,1.8551632,-1.0688776,0.5961772,-2.0942852,-0.4526706,2.8098361,0.06076753,-0.32683843,-1.0259397,1.4481891,1.1686476,2.031769,1.2178059,1.262436,0.26766533,1.2845684,-0.34433165,-0.69502735,0.6150387,-1.7336735,-0.79488647,-1.5381204,-0.43651384,0.37252682,-1.0142813,-0.5731318,-0.24520671,-0.5736789,0.55846894,0.5624698,0.4689047,-0.39104527,0.6144513,0.4648109,-0.5085962,0.39107153,0.099854514,0.83210784,0.21654256,-0.78186524,1.0108896,-0.4538352,0.30256873,-0.080273286,-0.10283718,0.10865526,-0.62484384,0.16531007,0.13397615,0.24551424,-0.09375264,-0.37741506,-0.13274005,0.16159342,0.44251707,-0.09965883,-0.22140786,-0.13583362,-0.051555455,0.70034826,-0.0510073,0.3094121,-0.23054345,-0.20476085,-0.10552056,0.07341546,0.30302748,-0.250328,-0.089607276,-0.13079077,-0.04952976,0.31749988,0.01464878,-0.023510933,-0.15922967,-0.010496318,0.043142527,-0.08901781,0.13908653\\n6.2778554,-0.52726644,-0.9989466,-1.057791,-0.86819917,2.9038858,-2.2650394,2.3725772,-3.0710554,0.35915142,-0.2514335,3.015782,-0.29520044,-1.31996,0.40428215,-0.35054368,1.4196231,1.9197466,-0.22299358,-0.9427724,-1.8345761,0.50842476,-2.6905813,-0.5004475,-1.9874609,-0.54283786,0.5582361,-0.4653621,0.37356654,-0.29752782,0.24130645,-0.47949332,0.41229895,-1.6786907,-0.016277708,-0.06280348,-0.94111025,0.21439959,0.47836185,1.0228329,-0.14609937,-0.35644788,-1.0153172,-0.7965539,-0.35181385,0.028736271,-0.5129704,0.05140166,-0.5453646,0.52572817,-0.4170124,0.27650484,2.1250997,0.59135485,-1.0915551,-0.28154334,-0.3904773,0.07060455,0.20267871,0.46332213,-0.11262782,-0.90395784,0.0016765222,-0.64330596,0.37204048,0.21987458,0.9896366,0.12471987,-0.7072422,-0.27637807,-0.30459964,-1.0754607,-0.094022706,-0.045431785,-0.33203298,0.37323254,-0.9344236,-0.21046944,0.05103741,0.580822,0.6720608,0.18899697,0.13655901,0.007840157,0.20289645,0.2438733,0.14021063,-0.4917825,0.24639826,0.7577082,-0.62592757,-0.20986675,-0.6065659,0.7951762,0.7039727,0.0004534982,-0.4763196,-0.025076866,-0.11681536,-0.0021331757\\n7.1939135,-1.8561034,-0.6851996,-0.744127,1.499075,0.13049948,0.49040443,-0.18900721,0.0107322335,-0.5617089,0.34755832,-2.5394397,1.245081,0.021270968,0.68171006,0.7818262,0.94829285,0.35527372,-0.2648297,0.4822738,-1.4598055,1.5545708,0.6720749,-0.050650686,0.099021964,-0.9772938,0.0976516,-0.795912,0.17746575,-0.10783237,0.66931176,2.3852463,0.8305187,-1.6442695,0.14336193,-2.6784194,-0.3933919,-0.8990107,0.74545,-0.4076331,-0.15908383,-0.52171147,0.6743053,-0.7557057,0.19850785,-0.95247424,0.7395419,-1.1601076,0.21067242,-0.09990506,-0.99661016,-1.0171957,-0.8411395,-0.5653137,-0.16979235,1.6956366,-1.3497773,-0.29135954,0.5779431,0.13136059,-1.0204232,-0.15408376,0.49654916,0.08327048,0.68023163,-0.106434256,0.23307821,-0.37371767,0.16533324,-0.7533919,0.8135325,1.1096594,0.47418082,-0.7850897,-0.790288,0.5941546,-0.19514817,-0.28969508,0.16891347,0.81791055,0.5376537,-0.30129027,0.07535572,0.55583745,-0.032006107,-0.813933,0.5594058,-0.004633099,0.08796997,-0.679863,0.01360577,0.073028445,0.13103996,0.056219466,-0.12771651,0.40605056,-0.60153365,-0.4766847,0.08993037,-0.3911849\\n3.8631434,1.2610109,6.3943424,-2.5045938,-0.20170763,3.2536006,-0.5072695,-0.74363595,0.7506589,1.9054999,-0.93365645,3.755756,1.9876204,0.5239138,-0.96038544,1.5161686,-0.6571513,-0.048404694,-0.88855106,0.6103854,-1.0066915,-1.1286455,0.87415105,-1.5936055,1.1040225,0.72917056,0.011092924,0.31246978,0.78385484,-0.73903346,-0.10236192,-0.4976253,0.21053976,1.0116037,-0.0494861,2.162169,-0.29093832,-0.74779826,0.6978433,0.925708,-0.6287931,0.0750933,1.5195847,0.43194896,-0.094531775,-0.6341076,-0.105576724,-1.3377094,-0.30491763,-1.6674237,-0.4455612,-1.836628,-0.57310045,-1.2403197,0.3001541,-1.0459362,-0.65304756,0.48232263,-0.6221706,0.14727864,0.708081,0.2024411,0.45201313,0.5991091,-0.029068679,0.6599387,-0.17653647,-0.34271678,-0.34901112,-0.073175855,0.13546653,0.3914638,0.28619605,0.24621272,-0.093885586,0.3551054,0.27635962,1.0708711,-0.479607,0.24392141,1.1864347,0.081952006,-0.34630105,0.60431045,0.026813507,0.10422627,-0.23110677,-0.0019240454,-0.087228045,0.44938397,-0.15717506,0.27301043,0.14273717,0.18168049,0.1437746,-0.012381326,-0.2394574,-0.4192562,-0.2579935,0.11713546\\n6.114565,-2.6089113,-2.2140305,-1.5520071,2.1096582,-0.00034264475,0.8513603,-1.9643803,-0.0012029186,1.7161016,1.107468,-0.15559168,0.36032164,0.3461019,0.65151227,0.82134104,1.1516912,-1.109255,-0.13671516,-0.061591268,1.3929517,-2.1420968,0.74856305,1.2088542,-1.4606974,-1.6149436,1.8736024,-1.210454,1.3241754,0.8599042,-0.58802414,-0.0018592197,0.2109625,0.46346176,0.10012001,-0.88965094,3.0378547,-1.869077,-0.44433248,-1.7609727,0.02429711,-0.38513726,-0.30391675,1.0378433,-0.4081648,0.18427151,0.60480714,-0.7055252,-0.98613644,-0.18535411,-0.7709626,0.24188195,0.5931642,0.37198815,-0.66680384,-0.4771773,-0.23838295,1.610168,-0.13321295,0.46306473,0.6797404,0.5446886,-0.2764714,-0.1028955,-0.84318805,-0.15255007,-0.5715349,1.0910549,-0.07323712,-0.21133497,-0.20651364,0.68606985,0.1850366,0.13612682,0.08050239,-0.3174274,-0.20775466,-0.66391766,-0.5494585,0.05442494,-0.014534906,0.83662647,-0.78921586,0.6519486,-0.17142883,0.16558781,-0.0031089336,0.07152909,0.3229365,0.19231042,-0.57006705,0.11153428,0.33454713,0.7166374,0.39019012,-0.42903858,0.26379097,-0.0004587397,0.2755962,-0.4503709\\n4.216024,5.5707464,4.497011,-1.8023925,1.9089856,-0.32305348,-2.4432292,2.125649,-1.357023,1.9033285,0.03210731,-0.88527626,-0.21289316,-1.960572,-1.340285,0.22650124,-0.7603699,-1.0358627,-0.097388566,-1.9630784,-0.26824775,2.0541303,0.18290669,-1.3450624,0.40701902,0.49527168,0.5691566,1.8307407,0.87958694,-0.4963925,-1.2291766,-0.43837062,-1.5900488,0.27322102,-0.510064,-0.67457604,1.2609276,0.31689966,-1.432967,-0.4109862,1.364437,-0.67695856,-1.3980215,-0.20513517,-1.6564535,-0.20420486,1.3522669,0.3477756,-1.4924389,0.4389013,-0.21632293,-0.9017966,-0.27668357,0.07270853,-1.1483504,0.18458192,-0.38058463,-0.08734085,-0.2487414,0.36394113,0.98647296,0.0129348375,1.1878796,-0.31244552,-0.25888497,-1.3500427,-0.21678525,0.6801954,0.34213334,-0.008977175,0.46793032,0.22947556,-0.9782762,0.02546835,0.23627457,-0.1147151,0.38537866,-0.9262954,-0.04646285,0.19720137,0.08154163,-0.24343485,0.51243323,0.2590379,-0.18738855,-0.2903159,0.033980876,-0.18662384,-0.34558597,-0.027196802,0.49537048,-0.6313199,-0.029605955,-0.24564087,0.067324385,0.1992052,0.043458365,-0.13670173,-0.23084964,0.15985653\\n7.0397463,-0.82776725,-1.5126996,-0.20577505,1.5765967,-3.8133497,1.5440767,-0.1892093,1.1183661,-1.2584808,-0.60053277,1.8543593,-1.4094425,-0.2697717,-0.22522745,-0.09826851,-0.5492351,-0.039383322,1.5028688,0.7185161,-0.3001768,-0.040461287,-0.5987021,-0.5485101,-0.7519837,1.7620271,1.2083837,2.497768,0.8268084,-0.05317682,0.5296488,-1.1872323,0.50056803,1.4075376,-0.465181,-0.90923405,0.20225474,-0.035058692,0.985689,-1.0513783,-0.9614581,-0.9085992,0.49286792,-0.5947603,-1.3849641,-0.50813115,0.60520124,1.0786684,1.2842214,1.3051081,0.6993525,-0.41044652,0.04949045,-0.52276057,-0.5195024,0.88676333,-0.4215089,-0.53282934,-0.54962915,0.18898845,-0.96631,-0.5789811,0.103161596,-0.49807584,-0.38983905,-0.8394403,-0.032957762,-0.33505285,-0.6103529,-0.21434909,-0.36439702,1.0498474,-0.0018408,-0.77144814,0.20404565,-0.73048866,0.13874885,0.84029996,0.64838225,-0.10391703,0.804981,0.19691205,-0.014798343,0.53426015,-0.018243432,0.93757653,0.288879,-0.2890134,0.59018344,-0.21234414,-0.13423324,0.40340853,-0.024655655,0.16564646,-0.0048065484,-0.8652054,0.11483386,0.1419279,-0.47516394,0.5785638\\n5.96325,-1.2774485,0.09566566,1.2841048,3.5930872,-2.5700724,0.90983725,0.9968829,0.8107272,-1.1617299,-0.3369937,2.3894987,1.8312927,3.1048932,-0.5773904,-1.6600225,-0.5932831,-2.258696,-0.57361,0.8224634,1.6970819,1.3981156,-0.37946764,-0.40129274,0.9691348,-0.9254602,0.20491087,0.74068624,-2.5267706,-0.32795906,-0.054657906,-0.7219093,-0.2040709,-1.0662861,0.45283112,-0.83362937,-0.3531795,-0.6185117,0.08073725,1.3808435,-0.9455027,-0.21036491,0.273156,0.30227265,-0.7886623,-0.2073224,0.1448391,-0.697361,-1.1848195,-0.3914164,-0.4368115,0.82879484,0.6411134,0.1720078,-0.4428261,0.27987158,0.10899256,0.7121619,-0.89836425,-0.76054025,0.55423856,0.052209266,0.047451854,-0.860273,-0.5972367,-0.7263125,0.13098755,-0.6260089,-0.30128038,0.0516284,-1.0903774,-0.6700464,0.07124783,-0.44726616,0.12787122,-0.23201023,0.43601584,0.6353024,0.61994374,0.40519935,-0.8546542,-0.7932029,-0.8419176,0.8838538,0.119493455,-0.059763163,-0.5856373,-0.39274463,-0.73864955,-0.34754965,-0.27015302,-0.43383154,-0.39479256,-0.18182516,-0.0765647,0.095145635,-0.3656247,-0.2875961,0.26477394,-0.35022008\\n5.7663207,-2.670782,1.4156722,0.7219043,-3.158143,-0.55421984,-1.1765952,0.5014667,0.16617462,-0.9308373,-0.77053255,-1.1359092,-2.6895638,1.190676,-1.8017011,1.2267815,-1.0341604,-0.5161706,-3.1477668,-0.70920706,0.09127686,-2.3272455,-1.7245446,1.4487987,0.949978,2.085184,0.14233756,0.41686982,-0.51634777,0.1917609,-0.7489326,-1.6592572,0.6968948,-1.3786268,-1.4258497,-0.74904394,-0.27598298,1.3429446,-0.20438845,1.4798801,-0.23749155,-0.7672014,-0.18544152,-0.5718695,0.4866262,0.4827331,0.32512468,0.43618184,1.2146285,-0.07947628,-0.7877923,0.04421766,0.39190048,0.29890275,-0.5135922,0.10437808,-0.7499229,0.10138964,-0.25655764,-0.8945614,1.2769583,0.8889421,-1.1978009,0.6374253,0.31450784,0.025010765,-0.045860007,0.049730398,-0.28545126,0.020325236,-0.8301077,1.1937151,-0.25489473,-0.6625221,-0.46972317,0.2913804,1.178153,-0.3712715,-0.6273997,0.49577123,-0.09827338,0.46731618,0.2821571,0.05314438,0.14334977,-0.31695664,0.45884955,-0.17730236,-0.09122701,-0.1632811,-0.018699452,-0.15888631,0.55804217,-0.029661626,0.6351922,0.12221159,-0.05693072,0.042112976,0.4400036,0.24399057\\n6.1495686,-2.1345024,-1.4551882,-0.062181503,0.70902276,3.7129438,-2.5685651,1.3461446,-0.35284537,0.36027026,-3.6196928,-1.598376,0.9875862,0.4304525,-1.2741582,0.109926656,-0.77376103,0.1952332,-0.3547997,1.1468384,-1.0810901,1.9188046,1.0729145,0.54509234,-1.0130274,0.68564975,0.77466106,-0.29351667,-0.24257945,-1.6084855,-1.0156624,-0.5229228,-0.18641174,-0.39239085,-2.2667036,0.50361574,0.2365734,-0.41145593,-0.5970658,0.2605627,0.7246219,0.08352576,-0.68593335,-0.37449968,0.0986124,-0.9122001,-0.29732573,0.6058128,0.3796403,-0.8717879,1.2861698,-1.0611882,1.4775085,-0.11856687,1.1195855,-0.36293933,0.7342078,-0.6379926,0.1324466,-0.05378016,-0.9301379,0.24097192,0.7087035,0.3578006,-0.44256923,0.5806756,0.23646976,-0.792505,-0.16028383,0.66057235,0.17506635,0.22448145,-0.28304556,0.013523966,-0.21219593,-1.3566309,-0.8298903,0.13803783,-0.23864992,0.18122372,-0.57742536,-0.044022173,-0.6191791,0.5040695,-0.7666229,0.039371848,-0.2693913,-0.4144603,0.45980275,-0.83664,0.1696682,-0.071627766,0.56796354,-0.15309608,0.6346092,-0.04835917,0.45955354,0.07959283,0.26164362,-0.42195028\\n6.1952453,-1.6759813,0.3455876,-0.042982686,2.2297134,3.567625,1.7914479,4.033071,-1.3653613,-2.4765568,-1.290331,-0.02919954,0.16539142,-1.1560652,0.90487325,-2.350075,0.7257625,0.9806801,-0.29498369,2.0186238,2.8548527,-1.7544382,-0.2931081,-0.41409385,-1.6433727,0.30791265,-1.1256149,-0.42094362,1.3284638,-0.45960942,-1.3969139,0.35550365,0.89618087,1.3790226,0.64753544,0.10922888,-0.6108763,-0.46404243,0.278655,-0.6840869,-0.7470908,-0.24276942,-0.20138462,0.94896936,0.41105807,0.8514488,-0.06581779,1.003468,-1.2183492,0.04349406,-0.36876693,-0.9572962,-1.2569772,0.30974376,-0.15158322,0.6130105,1.6618443,-0.85308456,-0.14099509,-0.47160006,0.36784244,-0.06613071,0.13255787,-0.7701185,1.7088923,-0.700145,-0.3161708,0.1903777,0.10432412,0.28439525,0.39174455,-0.40231496,0.3893472,-0.42457187,-0.20664263,-0.6536389,1.0300021,-0.14592399,-0.672395,0.82540846,0.319657,0.056556255,-0.09540351,-0.22616668,0.0919776,0.24051166,-0.4615919,-0.32520306,0.1780478,-0.07484505,-0.20151739,0.076804176,0.5072813,-0.16977802,0.059434175,0.30082744,-0.27475476,0.021339968,0.09150785,0.12261461\\n6.560068,1.9935021,-0.4955037,-0.88678753,0.047242135,-0.4814309,-1.135846,-3.2001243,1.1060343,-2.3007162,1.1021056,0.91395336,-0.7329737,0.6757719,-1.8051625,-0.85957336,0.39015836,0.4503407,0.029737536,0.8418801,0.18363541,0.9616929,2.0109763,-0.3191038,0.17966563,-1.7319479,0.24709016,-0.5798013,1.5111213,0.26559556,-0.84098804,-0.22462806,0.88906074,-2.3041587,0.54375863,-1.0041869,-0.37606117,1.6090229,-0.24632984,-0.8785733,-0.6205863,0.14309394,-1.5696952,-1.1160297,0.9992087,-0.3793319,-1.4280075,0.09018323,0.5997415,-1.1005695,-0.012535557,-0.18833461,-1.1260998,-0.94784397,-0.6462221,-0.55457467,-0.047992386,-0.41168272,-1.0709743,0.4341931,-0.13764516,0.47204578,-0.4159642,0.70607483,1.0311571,-0.4268011,0.41341516,0.1694942,0.031926244,0.61783063,0.517158,-0.11479291,-1.2907157,-0.693604,0.25554115,-0.19538422,-0.0024077594,0.09411298,0.2367068,-0.17328298,-0.071180835,1.155155,-0.048505165,0.18126898,0.29645687,0.9539566,-0.44499627,0.13627332,-0.3258431,0.40676263,-0.48050278,-0.44501752,-0.22257885,-0.54352295,0.09829602,-0.1033742,0.22217055,-0.25472233,-0.3071642,-0.5361019\\n6.473035,-0.3459408,0.068983346,-2.9988904,-1.3234934,-1.0175536,0.627333,1.6060083,-1.6062486,-1.554315,-0.21430898,1.5407616,-0.987143,1.4661295,1.4065647,2.9524317,-0.0959371,2.7858975,2.018489,-2.0934818,0.3462537,-0.040237725,-2.1787734,0.42232698,0.38533518,0.53616834,-1.4522787,0.18862133,-0.52570146,0.5290042,0.6119761,-0.32218048,1.0926282,0.08273773,-0.82504636,-0.59653324,2.0865672,0.5292555,0.7671334,-0.16716981,-0.26313028,0.4589786,-0.31031194,-1.3696669,-0.06464178,-0.18198684,0.66485596,-0.15230596,-0.8245848,-0.925758,-0.95347655,0.61221087,-0.36982393,-1.1275384,1.142397,0.7331925,0.3594981,-0.14017129,-0.87824917,0.57423484,0.05023572,0.18760568,0.623962,-0.37688512,-0.77592254,0.6954508,-0.03899701,-0.7419812,-0.27284494,0.2539961,0.72273684,-0.11405721,0.70808166,-0.30640888,0.36180273,0.8051736,0.08538942,-0.7081064,-0.69664276,0.3671916,-0.28747112,-0.27148107,-0.9386884,-0.48991847,0.026285827,0.82186115,-0.33712387,0.34487283,-0.1758633,-0.44317043,0.030130625,-0.6822486,0.0536862,-0.15605767,-0.16577843,0.19430295,0.639361,0.15401737,-0.34382483,0.038231805\\n'"
      ]
     },
     "execution_count": 116,
     "metadata": {},
     "output_type": "execute_result"
    }
   ],
   "source": [
    "# 입력 데이터를 CSV 형식으로 변환\n",
    "input_data = pd.DataFrame(test_lsa_sentence_vectors).astype('float32').to_csv(header=False, index=False)"
   ]
  },
  {
   "cell_type": "code",
   "execution_count": 138,
   "id": "a9c71e83",
   "metadata": {},
   "outputs": [
    {
     "ename": "ValidationError",
     "evalue": "An error occurred (ValidationError) when calling the InvokeEndpoint operation: Endpoint kmeans-test-1 of account 118709199903 not found.",
     "output_type": "error",
     "traceback": [
      "\u001b[0;31m---------------------------------------------------------------------------\u001b[0m",
      "\u001b[0;31mValidationError\u001b[0m                           Traceback (most recent call last)",
      "Cell \u001b[0;32mIn[138], line 3\u001b[0m\n\u001b[1;32m      1\u001b[0m \u001b[38;5;66;03m# 추론 요청\u001b[39;00m\n\u001b[1;32m      2\u001b[0m runtime_client \u001b[38;5;241m=\u001b[39m boto3\u001b[38;5;241m.\u001b[39mclient(\u001b[38;5;124m'\u001b[39m\u001b[38;5;124msagemaker-runtime\u001b[39m\u001b[38;5;124m'\u001b[39m)\n\u001b[0;32m----> 3\u001b[0m response \u001b[38;5;241m=\u001b[39m \u001b[43mruntime_client\u001b[49m\u001b[38;5;241;43m.\u001b[39;49m\u001b[43minvoke_endpoint\u001b[49m\u001b[43m(\u001b[49m\u001b[43mEndpointName\u001b[49m\u001b[38;5;241;43m=\u001b[39;49m\u001b[43mendpoint_name\u001b[49m\u001b[43m,\u001b[49m\u001b[43m \u001b[49m\u001b[43mContentType\u001b[49m\u001b[38;5;241;43m=\u001b[39;49m\u001b[38;5;124;43m'\u001b[39;49m\u001b[38;5;124;43mtext/csv\u001b[39;49m\u001b[38;5;124;43m'\u001b[39;49m\u001b[43m,\u001b[49m\u001b[43m \u001b[49m\u001b[43mBody\u001b[49m\u001b[38;5;241;43m=\u001b[39;49m\u001b[43minput_data\u001b[49m\u001b[43m)\u001b[49m\n",
      "File \u001b[0;32m~/anaconda3/envs/python3/lib/python3.10/site-packages/botocore/client.py:530\u001b[0m, in \u001b[0;36mClientCreator._create_api_method.<locals>._api_call\u001b[0;34m(self, *args, **kwargs)\u001b[0m\n\u001b[1;32m    526\u001b[0m     \u001b[38;5;28;01mraise\u001b[39;00m \u001b[38;5;167;01mTypeError\u001b[39;00m(\n\u001b[1;32m    527\u001b[0m         \u001b[38;5;124mf\u001b[39m\u001b[38;5;124m\"\u001b[39m\u001b[38;5;132;01m{\u001b[39;00mpy_operation_name\u001b[38;5;132;01m}\u001b[39;00m\u001b[38;5;124m() only accepts keyword arguments.\u001b[39m\u001b[38;5;124m\"\u001b[39m\n\u001b[1;32m    528\u001b[0m     )\n\u001b[1;32m    529\u001b[0m \u001b[38;5;66;03m# The \"self\" in this scope is referring to the BaseClient.\u001b[39;00m\n\u001b[0;32m--> 530\u001b[0m \u001b[38;5;28;01mreturn\u001b[39;00m \u001b[38;5;28;43mself\u001b[39;49m\u001b[38;5;241;43m.\u001b[39;49m\u001b[43m_make_api_call\u001b[49m\u001b[43m(\u001b[49m\u001b[43moperation_name\u001b[49m\u001b[43m,\u001b[49m\u001b[43m \u001b[49m\u001b[43mkwargs\u001b[49m\u001b[43m)\u001b[49m\n",
      "File \u001b[0;32m~/anaconda3/envs/python3/lib/python3.10/site-packages/botocore/client.py:960\u001b[0m, in \u001b[0;36mBaseClient._make_api_call\u001b[0;34m(self, operation_name, api_params)\u001b[0m\n\u001b[1;32m    958\u001b[0m     error_code \u001b[38;5;241m=\u001b[39m parsed_response\u001b[38;5;241m.\u001b[39mget(\u001b[38;5;124m\"\u001b[39m\u001b[38;5;124mError\u001b[39m\u001b[38;5;124m\"\u001b[39m, {})\u001b[38;5;241m.\u001b[39mget(\u001b[38;5;124m\"\u001b[39m\u001b[38;5;124mCode\u001b[39m\u001b[38;5;124m\"\u001b[39m)\n\u001b[1;32m    959\u001b[0m     error_class \u001b[38;5;241m=\u001b[39m \u001b[38;5;28mself\u001b[39m\u001b[38;5;241m.\u001b[39mexceptions\u001b[38;5;241m.\u001b[39mfrom_code(error_code)\n\u001b[0;32m--> 960\u001b[0m     \u001b[38;5;28;01mraise\u001b[39;00m error_class(parsed_response, operation_name)\n\u001b[1;32m    961\u001b[0m \u001b[38;5;28;01melse\u001b[39;00m:\n\u001b[1;32m    962\u001b[0m     \u001b[38;5;28;01mreturn\u001b[39;00m parsed_response\n",
      "\u001b[0;31mValidationError\u001b[0m: An error occurred (ValidationError) when calling the InvokeEndpoint operation: Endpoint kmeans-test-1 of account 118709199903 not found."
     ]
    }
   ],
   "source": [
    "# 추론 요청\n",
    "runtime_client = boto3.client('sagemaker-runtime')\n",
    "response = runtime_client.invoke_endpoint(EndpointName=endpoint_name, ContentType='text/csv', Body=input_data)\n"
   ]
  },
  {
   "cell_type": "code",
   "execution_count": 137,
   "id": "9497219e",
   "metadata": {},
   "outputs": [
    {
     "ename": "SyntaxError",
     "evalue": "invalid syntax (<unknown>, line 0)",
     "output_type": "error",
     "traceback": [
      "Traceback \u001b[0;36m(most recent call last)\u001b[0m:\n",
      "\u001b[0m  File \u001b[1;32m~/anaconda3/envs/python3/lib/python3.10/site-packages/IPython/core/interactiveshell.py:3442\u001b[0m in \u001b[1;35mrun_code\u001b[0m\n    exec(code_obj, self.user_global_ns, self.user_ns)\u001b[0m\n",
      "\u001b[0m  Cell \u001b[1;32mIn[137], line 8\u001b[0m\n    dictionary = ast.literal_eval(result)\u001b[0m\n",
      "\u001b[0m  File \u001b[1;32m~/anaconda3/envs/python3/lib/python3.10/ast.py:64\u001b[0m in \u001b[1;35mliteral_eval\u001b[0m\n    node_or_string = parse(node_or_string.lstrip(\" \\t\"), mode='eval')\u001b[0m\n",
      "\u001b[0;36m  File \u001b[0;32m~/anaconda3/envs/python3/lib/python3.10/ast.py:50\u001b[0;36m in \u001b[0;35mparse\u001b[0;36m\n\u001b[0;31m    return compile(source, filename, mode, flags,\u001b[0;36m\n",
      "\u001b[0;36m  File \u001b[0;32m<unknown>\u001b[0;36m\u001b[0m\n\u001b[0;31m    \u001b[0m\n\u001b[0m    ^\u001b[0m\n\u001b[0;31mSyntaxError\u001b[0m\u001b[0;31m:\u001b[0m invalid syntax\n"
     ]
    }
   ],
   "source": [
    "# 추론 결과 파싱\n",
    "import ast\n",
    "\n",
    "\n",
    "result = response['Body'].read().decode('utf-8')\n",
    "\n",
    "# 문자열을 딕셔너리로 변환\n",
    "dictionary = ast.literal_eval(result)\n",
    "result = dictionary[\"predictions\"]\n",
    "\n",
    "# 클러스터링 결과 출력\n",
    "print(f'Input data: {data}')\n",
    "print(f'Cluster labels: {result}')\n"
   ]
  },
  {
   "cell_type": "code",
   "execution_count": 136,
   "id": "323039bd",
   "metadata": {},
   "outputs": [
    {
     "data": {
      "text/plain": [
       "{'ResponseMetadata': {'RequestId': '62535589-ef4f-45f5-8bca-6be091c6d711',\n",
       "  'HTTPStatusCode': 200,\n",
       "  'HTTPHeaders': {'x-amzn-requestid': '62535589-ef4f-45f5-8bca-6be091c6d711',\n",
       "   'content-type': 'application/x-amz-json-1.1',\n",
       "   'content-length': '0',\n",
       "   'date': 'Thu, 15 Jun 2023 08:21:02 GMT'},\n",
       "  'RetryAttempts': 0}}"
      ]
     },
     "execution_count": 136,
     "metadata": {},
     "output_type": "execute_result"
    }
   ],
   "source": [
    "# SageMaker 클라이언트 생성\n",
    "sagemaker_client = boto3.client('sagemaker')\n",
    "\n",
    "# 엔드포인트 삭제 요청\n",
    "sagemaker_client.delete_endpoint(EndpointName=endpoint_name)"
   ]
  },
  {
   "cell_type": "code",
   "execution_count": null,
   "id": "1d4638ee",
   "metadata": {},
   "outputs": [],
   "source": []
  },
  {
   "cell_type": "code",
   "execution_count": null,
   "id": "16556dd2",
   "metadata": {},
   "outputs": [],
   "source": []
  },
  {
   "cell_type": "code",
   "execution_count": null,
   "id": "5850d3f5",
   "metadata": {},
   "outputs": [],
   "source": []
  },
  {
   "cell_type": "code",
   "execution_count": null,
   "id": "aabac1a6",
   "metadata": {},
   "outputs": [],
   "source": []
  }
 ],
 "metadata": {
  "kernelspec": {
   "display_name": "conda_python3",
   "language": "python",
   "name": "conda_python3"
  },
  "language_info": {
   "codemirror_mode": {
    "name": "ipython",
    "version": 3
   },
   "file_extension": ".py",
   "mimetype": "text/x-python",
   "name": "python",
   "nbconvert_exporter": "python",
   "pygments_lexer": "ipython3",
   "version": "3.10.8"
  }
 },
 "nbformat": 4,
 "nbformat_minor": 5
}
