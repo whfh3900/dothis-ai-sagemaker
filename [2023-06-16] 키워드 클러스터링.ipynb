{
 "cells": [
  {
   "cell_type": "code",
   "execution_count": 6,
   "metadata": {},
   "outputs": [],
   "source": [
    "import pandas as pd\n",
    "import boto3\n",
    "import io"
   ]
  },
  {
   "cell_type": "code",
   "execution_count": 7,
   "metadata": {},
   "outputs": [
    {
     "data": {
      "text/html": [
       "<div>\n",
       "<style scoped>\n",
       "    .dataframe tbody tr th:only-of-type {\n",
       "        vertical-align: middle;\n",
       "    }\n",
       "\n",
       "    .dataframe tbody tr th {\n",
       "        vertical-align: top;\n",
       "    }\n",
       "\n",
       "    .dataframe thead th {\n",
       "        text-align: right;\n",
       "    }\n",
       "</style>\n",
       "<table border=\"1\" class=\"dataframe\">\n",
       "  <thead>\n",
       "    <tr style=\"text-align: right;\">\n",
       "      <th></th>\n",
       "      <th>channel_name</th>\n",
       "      <th>tf-idf-keywords</th>\n",
       "    </tr>\n",
       "  </thead>\n",
       "  <tbody>\n",
       "    <tr>\n",
       "      <th>0</th>\n",
       "      <td>G마켓 옥션 판매자 교육센터 TV</td>\n",
       "      <td>마켓,옥션,창업,오픈,광고,tv,판매,상품,ft,esm</td>\n",
       "    </tr>\n",
       "    <tr>\n",
       "      <th>1</th>\n",
       "      <td>여의도 세력개미</td>\n",
       "      <td>전망,주가,세력,긴급,목표,속보,매집,분석,공개,리튬</td>\n",
       "    </tr>\n",
       "    <tr>\n",
       "      <th>2</th>\n",
       "      <td>정수TV</td>\n",
       "      <td>학년,초등,학교,차시,설명,학기,영어,대교,수학,사회</td>\n",
       "    </tr>\n",
       "    <tr>\n",
       "      <th>3</th>\n",
       "      <td>주식25</td>\n",
       "      <td>주가,전망,주주,대박,매수,호재,상한가,축하,당장,필수</td>\n",
       "    </tr>\n",
       "    <tr>\n",
       "      <th>4</th>\n",
       "      <td>나인트롯</td>\n",
       "      <td>트롯,tv,조선,미스터,시청,홍지윤,방송,화요일,확정,프로그램</td>\n",
       "    </tr>\n",
       "    <tr>\n",
       "      <th>...</th>\n",
       "      <td>...</td>\n",
       "      <td>...</td>\n",
       "    </tr>\n",
       "    <tr>\n",
       "      <th>6384</th>\n",
       "      <td>무쏘TV-김희천 대표</td>\n",
       "      <td>가치주,금리,트윗,테마,중국,주식,종목,인상,육계,원전</td>\n",
       "    </tr>\n",
       "    <tr>\n",
       "      <th>6385</th>\n",
       "      <td>심심한 회사원</td>\n",
       "      <td>리얼돌,엄마</td>\n",
       "    </tr>\n",
       "    <tr>\n",
       "      <th>6386</th>\n",
       "      <td>미정살롱</td>\n",
       "      <td>교육,드라이,볼륨,사모님,인턴</td>\n",
       "    </tr>\n",
       "    <tr>\n",
       "      <th>6387</th>\n",
       "      <td>내맘대로2</td>\n",
       "      <td>shorts,결혼,권해,스킨,아내,윤지민</td>\n",
       "    </tr>\n",
       "    <tr>\n",
       "      <th>6388</th>\n",
       "      <td>개똥이</td>\n",
       "      <td>논란,라이브,영상,이스,종결</td>\n",
       "    </tr>\n",
       "  </tbody>\n",
       "</table>\n",
       "<p>6389 rows × 2 columns</p>\n",
       "</div>"
      ],
      "text/plain": [
       "            channel_name                     tf-idf-keywords\n",
       "0     G마켓 옥션 판매자 교육센터 TV      마켓,옥션,창업,오픈,광고,tv,판매,상품,ft,esm\n",
       "1               여의도 세력개미       전망,주가,세력,긴급,목표,속보,매집,분석,공개,리튬\n",
       "2                   정수TV       학년,초등,학교,차시,설명,학기,영어,대교,수학,사회\n",
       "3                   주식25      주가,전망,주주,대박,매수,호재,상한가,축하,당장,필수\n",
       "4                   나인트롯  트롯,tv,조선,미스터,시청,홍지윤,방송,화요일,확정,프로그램\n",
       "...                  ...                                 ...\n",
       "6384         무쏘TV-김희천 대표      가치주,금리,트윗,테마,중국,주식,종목,인상,육계,원전\n",
       "6385             심심한 회사원                              리얼돌,엄마\n",
       "6386                미정살롱                    교육,드라이,볼륨,사모님,인턴\n",
       "6387               내맘대로2              shorts,결혼,권해,스킨,아내,윤지민\n",
       "6388                 개똥이                     논란,라이브,영상,이스,종결\n",
       "\n",
       "[6389 rows x 2 columns]"
      ]
     },
     "execution_count": 7,
     "metadata": {},
     "output_type": "execute_result"
    }
   ],
   "source": [
    "# S3에 액세스할 수 있는 클라이언트 생성\n",
    "s3 = boto3.client('s3')\n",
    "\n",
    "# S3에서 파일 가져오기\n",
    "response = s3.get_object(Bucket='dothis-ai-test', Key='data/channel_keyword_data_20230616.csv')\n",
    "\n",
    "df = pd.read_csv(io.BytesIO(response[\"Body\"].read()))\n",
    "\n",
    "df"
   ]
  },
  {
   "cell_type": "code",
   "execution_count": 13,
   "metadata": {},
   "outputs": [
    {
     "data": {
      "text/plain": [
       "14141"
      ]
     },
     "execution_count": 13,
     "metadata": {},
     "output_type": "execute_result"
    }
   ],
   "source": [
    "data = list(set(\",\".join(df[\"tf-idf-keywords\"].tolist()).split(\",\")))\n",
    "len(data)"
   ]
  },
  {
   "cell_type": "code",
   "execution_count": null,
   "metadata": {},
   "outputs": [],
   "source": []
  },
  {
   "cell_type": "code",
   "execution_count": null,
   "metadata": {},
   "outputs": [],
   "source": []
  },
  {
   "cell_type": "code",
   "execution_count": null,
   "metadata": {},
   "outputs": [],
   "source": []
  }
 ],
 "metadata": {
  "kernelspec": {
   "display_name": "Python 3",
   "language": "python",
   "name": "python3"
  },
  "language_info": {
   "codemirror_mode": {
    "name": "ipython",
    "version": 3
   },
   "file_extension": ".py",
   "mimetype": "text/x-python",
   "name": "python",
   "nbconvert_exporter": "python",
   "pygments_lexer": "ipython3",
   "version": "3.11.2"
  },
  "orig_nbformat": 4
 },
 "nbformat": 4,
 "nbformat_minor": 2
}
