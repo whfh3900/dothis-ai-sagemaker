{
 "cells": [
  {
   "cell_type": "code",
   "execution_count": null,
   "id": "f2fc1d40",
   "metadata": {},
   "outputs": [],
   "source": [
    "!pip install sentence-transformers"
   ]
  },
  {
   "cell_type": "code",
   "execution_count": 8,
   "id": "559e4e9b",
   "metadata": {
    "tags": []
   },
   "outputs": [],
   "source": [
    "import boto3\n",
    "import sagemaker\n",
    "from sagemaker import get_execution_role\n",
    "from sagemaker import KMeans\n",
    "from sagemaker.predictor import Predictor\n",
    "from sagemaker.model import Model\n",
    "from sagemaker import image_uris\n",
    "from sentence_transformers import SentenceTransformer\n",
    "import numpy as np\n",
    "from sklearn.decomposition import TruncatedSVD\n",
    "import pandas as pd"
   ]
  },
  {
   "cell_type": "code",
   "execution_count": 2,
   "id": "77e1a3bb",
   "metadata": {},
   "outputs": [
    {
     "name": "stdout",
     "output_type": "stream",
     "text": [
      "s3://dothis-ai-test/models/kmeans-test-1-2023-06-23-02-51-53-846/output/model.tar.gz\n"
     ]
    }
   ],
   "source": [
    "# SageMaker 클라이언트 및 세션 설정\n",
    "sagemaker_session = sagemaker.Session()\n",
    "role = get_execution_role()\n",
    "s3_bucket = 'dothis-ai-test'  # 모델 아카이브가 저장된 S3 버킷 이름\n",
    "s3_prefix = 'models/kmeans-test-1-2023-06-23-02-51-53-846'  # 모델 아카이브가 저장된 S3 경로 접두사\n",
    "# 모델 아카이브의 S3 경로\n",
    "model_s3_path = f's3://{s3_bucket}/{s3_prefix}/output/model.tar.gz'\n",
    "\n",
    "print(model_s3_path)"
   ]
  },
  {
   "cell_type": "code",
   "execution_count": 12,
   "id": "8581c646",
   "metadata": {},
   "outputs": [],
   "source": [
    "# SageMaker 엔드포인트 생성을 위한 설정\n",
    "endpoint_name = 'kmeans-test-1'  # 엔드포인트에 할당할 모델 이름\n",
    "endpoint_config_name = 'kmeans-test-1-config'\n",
    "instance_type = 'ml.m5.xlarge'  # 엔드포인트 인스턴스 유형\n",
    "initial_instance_count = 1  # 엔드포인트 인스턴스 수"
   ]
  },
  {
   "cell_type": "code",
   "execution_count": 4,
   "id": "7ca04e66",
   "metadata": {},
   "outputs": [],
   "source": [
    "# K-Means 모델 로드\n",
    "model_uri = image_uris.retrieve('kmeans', sagemaker_session.boto_region_name)\n",
    "kmeans_model = Model(model_data=model_s3_path, role=role, image_uri=model_uri)"
   ]
  },
  {
   "cell_type": "code",
   "execution_count": 13,
   "id": "95079f16",
   "metadata": {},
   "outputs": [
    {
     "name": "stdout",
     "output_type": "stream",
     "text": [
      "EndpointName = kmeans-test-1-2023-06-23-0445\n"
     ]
    }
   ],
   "source": [
    "from datetime import datetime\n",
    "\n",
    "endpoint_name = f\"{endpoint_name}-{datetime.utcnow():%Y-%m-%d-%H%M}\"\n",
    "print(\"EndpointName =\", endpoint_name)"
   ]
  },
  {
   "cell_type": "code",
   "execution_count": 15,
   "id": "137820ec",
   "metadata": {},
   "outputs": [
    {
     "name": "stdout",
     "output_type": "stream",
     "text": [
      "-----!"
     ]
    }
   ],
   "source": [
    "# 모델 배포하기\n",
    "kmeans_model.deploy(\n",
    "                    initial_instance_count=initial_instance_count,\n",
    "                    instance_type=instance_type,\n",
    "                    endpoint_name=endpoint_name\n",
    ")"
   ]
  },
  {
   "cell_type": "code",
   "execution_count": null,
   "id": "ea4e2b83",
   "metadata": {},
   "outputs": [],
   "source": []
  },
  {
   "cell_type": "code",
   "execution_count": null,
   "id": "4f94896d",
   "metadata": {},
   "outputs": [],
   "source": []
  },
  {
   "cell_type": "code",
   "execution_count": 2,
   "id": "2e7b187c",
   "metadata": {
    "tags": []
   },
   "outputs": [],
   "source": [
    "# S3에 액세스할 수 있는 클라이언트 생성\n",
    "s3 = boto3.client('s3')\n",
    "bucket = 'dothis-ai-test'\n",
    "data_key = 'data/video_data_20230414.txt'\n",
    "\n",
    "# S3에서 파일 가져오기\n",
    "response = s3.get_object(Bucket=bucket, Key=data_key)\n",
    "\n",
    "# 파일 내용 읽기\n",
    "file_content = response['Body'].read().decode('utf-8')\n",
    "\n",
    "# 파일 내용 출력\n",
    "train_data = file_content[1:].split(\"\\r\\n\")[:200]\n",
    "test_data = file_content[1:].split(\"\\r\\n\")[200:300]"
   ]
  },
  {
   "cell_type": "code",
   "execution_count": 3,
   "id": "30743bf9",
   "metadata": {
    "tags": []
   },
   "outputs": [
    {
     "data": {
      "application/vnd.jupyter.widget-view+json": {
       "model_id": "",
       "version_major": 2,
       "version_minor": 0
      },
      "text/plain": [
       "Downloading (…)f4419/.gitattributes: 0.00B [00:00, ?B/s]"
      ]
     },
     "metadata": {},
     "output_type": "display_data"
    },
    {
     "data": {
      "application/vnd.jupyter.widget-view+json": {
       "model_id": "",
       "version_major": 2,
       "version_minor": 0
      },
      "text/plain": [
       "Downloading (…)_Pooling/config.json:   0%|          | 0.00/190 [00:00<?, ?B/s]"
      ]
     },
     "metadata": {},
     "output_type": "display_data"
    },
    {
     "data": {
      "application/vnd.jupyter.widget-view+json": {
       "model_id": "",
       "version_major": 2,
       "version_minor": 0
      },
      "text/plain": [
       "Downloading (…)9cf1bf4419/README.md: 0.00B [00:00, ?B/s]"
      ]
     },
     "metadata": {},
     "output_type": "display_data"
    },
    {
     "data": {
      "application/vnd.jupyter.widget-view+json": {
       "model_id": "",
       "version_major": 2,
       "version_minor": 0
      },
      "text/plain": [
       "Downloading (…)f1bf4419/config.json:   0%|          | 0.00/744 [00:00<?, ?B/s]"
      ]
     },
     "metadata": {},
     "output_type": "display_data"
    },
    {
     "data": {
      "application/vnd.jupyter.widget-view+json": {
       "model_id": "",
       "version_major": 2,
       "version_minor": 0
      },
      "text/plain": [
       "Downloading (…)ce_transformers.json:   0%|          | 0.00/123 [00:00<?, ?B/s]"
      ]
     },
     "metadata": {},
     "output_type": "display_data"
    },
    {
     "data": {
      "application/vnd.jupyter.widget-view+json": {
       "model_id": "",
       "version_major": 2,
       "version_minor": 0
      },
      "text/plain": [
       "Downloading (…)_sts-dev_results.csv:   0%|          | 0.00/931 [00:00<?, ?B/s]"
      ]
     },
     "metadata": {},
     "output_type": "display_data"
    },
    {
     "data": {
      "application/vnd.jupyter.widget-view+json": {
       "model_id": "",
       "version_major": 2,
       "version_minor": 0
      },
      "text/plain": [
       "Downloading pytorch_model.bin:   0%|          | 0.00/443M [00:00<?, ?B/s]"
      ]
     },
     "metadata": {},
     "output_type": "display_data"
    },
    {
     "data": {
      "application/vnd.jupyter.widget-view+json": {
       "model_id": "",
       "version_major": 2,
       "version_minor": 0
      },
      "text/plain": [
       "Downloading (…)nce_bert_config.json:   0%|          | 0.00/53.0 [00:00<?, ?B/s]"
      ]
     },
     "metadata": {},
     "output_type": "display_data"
    },
    {
     "data": {
      "application/vnd.jupyter.widget-view+json": {
       "model_id": "",
       "version_major": 2,
       "version_minor": 0
      },
      "text/plain": [
       "Downloading (…)sts-test_results.csv:   0%|          | 0.00/302 [00:00<?, ?B/s]"
      ]
     },
     "metadata": {},
     "output_type": "display_data"
    },
    {
     "data": {
      "application/vnd.jupyter.widget-view+json": {
       "model_id": "",
       "version_major": 2,
       "version_minor": 0
      },
      "text/plain": [
       "Downloading (…)cial_tokens_map.json:   0%|          | 0.00/156 [00:00<?, ?B/s]"
      ]
     },
     "metadata": {},
     "output_type": "display_data"
    },
    {
     "data": {
      "application/vnd.jupyter.widget-view+json": {
       "model_id": "",
       "version_major": 2,
       "version_minor": 0
      },
      "text/plain": [
       "Downloading (…)f4419/tokenizer.json: 0.00B [00:00, ?B/s]"
      ]
     },
     "metadata": {},
     "output_type": "display_data"
    },
    {
     "data": {
      "application/vnd.jupyter.widget-view+json": {
       "model_id": "",
       "version_major": 2,
       "version_minor": 0
      },
      "text/plain": [
       "Downloading (…)okenizer_config.json:   0%|          | 0.00/585 [00:00<?, ?B/s]"
      ]
     },
     "metadata": {},
     "output_type": "display_data"
    },
    {
     "data": {
      "application/vnd.jupyter.widget-view+json": {
       "model_id": "",
       "version_major": 2,
       "version_minor": 0
      },
      "text/plain": [
       "Downloading (…)9cf1bf4419/vocab.txt: 0.00B [00:00, ?B/s]"
      ]
     },
     "metadata": {},
     "output_type": "display_data"
    },
    {
     "data": {
      "application/vnd.jupyter.widget-view+json": {
       "model_id": "",
       "version_major": 2,
       "version_minor": 0
      },
      "text/plain": [
       "Downloading (…)1bf4419/modules.json:   0%|          | 0.00/229 [00:00<?, ?B/s]"
      ]
     },
     "metadata": {},
     "output_type": "display_data"
    }
   ],
   "source": [
    "# SentenceTransformer을 사용한 문장 임베딩\n",
    "embedding_name = \"jhgan\"\n",
    "sentence_model = SentenceTransformer('jhgan/ko-sroberta-multitask')"
   ]
  },
  {
   "cell_type": "code",
   "execution_count": 4,
   "id": "c9b3b84d",
   "metadata": {},
   "outputs": [],
   "source": [
    "# vectors = [sentence_model.encode(vector) for vector in tqdm(train_data)]\n",
    "vectors = [sentence_model.encode(vector) for vector in test_data]\n",
    "sentence_vectors = np.vstack(vectors)"
   ]
  },
  {
   "cell_type": "code",
   "execution_count": 6,
   "id": "0f622c83",
   "metadata": {},
   "outputs": [
    {
     "data": {
      "text/plain": [
       "(100, 100)"
      ]
     },
     "execution_count": 6,
     "metadata": {},
     "output_type": "execute_result"
    }
   ],
   "source": [
    "n_components = 100\n",
    "svd = TruncatedSVD(n_components=n_components)\n",
    "test_lsa_sentence_vectors = svd.fit_transform(sentence_vectors)\n",
    "test_lsa_sentence_vectors.shape"
   ]
  },
  {
   "cell_type": "code",
   "execution_count": 9,
   "id": "99f42d39",
   "metadata": {},
   "outputs": [],
   "source": [
    "# 입력 데이터를 CSV 형식으로 변환\n",
    "input_data = pd.DataFrame(test_lsa_sentence_vectors).astype('float32').to_csv(header=False, index=False)"
   ]
  },
  {
   "cell_type": "code",
   "execution_count": 16,
   "id": "ef1f8ad4",
   "metadata": {},
   "outputs": [
    {
     "data": {
      "text/plain": [
       "{'ResponseMetadata': {'RequestId': '8d7cb1a7-514a-4041-b3ec-980060eb83e8',\n",
       "  'HTTPStatusCode': 200,\n",
       "  'HTTPHeaders': {'x-amzn-requestid': '8d7cb1a7-514a-4041-b3ec-980060eb83e8',\n",
       "   'x-amzn-invoked-production-variant': 'AllTraffic',\n",
       "   'date': 'Fri, 23 Jun 2023 05:33:27 GMT',\n",
       "   'content-type': 'application/json',\n",
       "   'content-length': '6824'},\n",
       "  'RetryAttempts': 0},\n",
       " 'ContentType': 'application/json',\n",
       " 'InvokedProductionVariant': 'AllTraffic',\n",
       " 'Body': <botocore.response.StreamingBody at 0x7f1c84f5da50>}"
      ]
     },
     "execution_count": 16,
     "metadata": {},
     "output_type": "execute_result"
    }
   ],
   "source": [
    "# 추론 요청\n",
    "endpoint_name = \"kmeans-test-1-2023-06-23-0445\"\n",
    "runtime_client = boto3.client('sagemaker-runtime')\n",
    "response = runtime_client.invoke_endpoint(EndpointName=endpoint_name, ContentType='text/csv', Body=input_data)\n",
    "response"
   ]
  },
  {
   "cell_type": "code",
   "execution_count": 18,
   "id": "3b3a54bd",
   "metadata": {},
   "outputs": [
    {
     "name": "stdout",
     "output_type": "stream",
     "text": [
      "Cluster labels: [{'closest_cluster': 0.0, 'distance_to_cluster': 7.626099586486816}, {'closest_cluster': 0.0, 'distance_to_cluster': 7.662365436553955}, {'closest_cluster': 8.0, 'distance_to_cluster': 7.857890605926514}, {'closest_cluster': 7.0, 'distance_to_cluster': 9.355652809143066}, {'closest_cluster': 4.0, 'distance_to_cluster': 10.251152992248535}, {'closest_cluster': 0.0, 'distance_to_cluster': 10.641250610351562}, {'closest_cluster': 4.0, 'distance_to_cluster': 10.139921188354492}, {'closest_cluster': 1.0, 'distance_to_cluster': 9.41203498840332}, {'closest_cluster': 8.0, 'distance_to_cluster': 9.751779556274414}, {'closest_cluster': 0.0, 'distance_to_cluster': 10.151679039001465}, {'closest_cluster': 8.0, 'distance_to_cluster': 8.920455932617188}, {'closest_cluster': 8.0, 'distance_to_cluster': 8.406658172607422}, {'closest_cluster': 4.0, 'distance_to_cluster': 9.492510795593262}, {'closest_cluster': 8.0, 'distance_to_cluster': 7.850658416748047}, {'closest_cluster': 0.0, 'distance_to_cluster': 7.600740432739258}, {'closest_cluster': 0.0, 'distance_to_cluster': 10.621532440185547}, {'closest_cluster': 0.0, 'distance_to_cluster': 10.530914306640625}, {'closest_cluster': 3.0, 'distance_to_cluster': 9.211273193359375}, {'closest_cluster': 0.0, 'distance_to_cluster': 9.270172119140625}, {'closest_cluster': 4.0, 'distance_to_cluster': 9.508432388305664}, {'closest_cluster': 0.0, 'distance_to_cluster': 10.489510536193848}, {'closest_cluster': 4.0, 'distance_to_cluster': 8.355749130249023}, {'closest_cluster': 4.0, 'distance_to_cluster': 8.545417785644531}, {'closest_cluster': 7.0, 'distance_to_cluster': 9.508790969848633}, {'closest_cluster': 4.0, 'distance_to_cluster': 9.575647354125977}, {'closest_cluster': 5.0, 'distance_to_cluster': 9.345715522766113}, {'closest_cluster': 0.0, 'distance_to_cluster': 8.885421752929688}, {'closest_cluster': 0.0, 'distance_to_cluster': 9.116508483886719}, {'closest_cluster': 7.0, 'distance_to_cluster': 7.939908027648926}, {'closest_cluster': 4.0, 'distance_to_cluster': 9.983162879943848}, {'closest_cluster': 0.0, 'distance_to_cluster': 11.579339027404785}, {'closest_cluster': 5.0, 'distance_to_cluster': 9.403246879577637}, {'closest_cluster': 7.0, 'distance_to_cluster': 9.579237937927246}, {'closest_cluster': 1.0, 'distance_to_cluster': 9.80231761932373}, {'closest_cluster': 0.0, 'distance_to_cluster': 8.750757217407227}, {'closest_cluster': 0.0, 'distance_to_cluster': 7.926861763000488}, {'closest_cluster': 7.0, 'distance_to_cluster': 10.048836708068848}, {'closest_cluster': 4.0, 'distance_to_cluster': 9.89918041229248}, {'closest_cluster': 7.0, 'distance_to_cluster': 9.903607368469238}, {'closest_cluster': 1.0, 'distance_to_cluster': 8.408185005187988}, {'closest_cluster': 1.0, 'distance_to_cluster': 9.881158828735352}, {'closest_cluster': 5.0, 'distance_to_cluster': 8.976101875305176}, {'closest_cluster': 4.0, 'distance_to_cluster': 9.29555892944336}, {'closest_cluster': 0.0, 'distance_to_cluster': 10.301254272460938}, {'closest_cluster': 0.0, 'distance_to_cluster': 9.450645446777344}, {'closest_cluster': 1.0, 'distance_to_cluster': 9.925893783569336}, {'closest_cluster': 7.0, 'distance_to_cluster': 10.953995704650879}, {'closest_cluster': 0.0, 'distance_to_cluster': 8.881555557250977}, {'closest_cluster': 0.0, 'distance_to_cluster': 8.548863410949707}, {'closest_cluster': 4.0, 'distance_to_cluster': 8.751725196838379}, {'closest_cluster': 1.0, 'distance_to_cluster': 9.427959442138672}, {'closest_cluster': 4.0, 'distance_to_cluster': 8.454648971557617}, {'closest_cluster': 7.0, 'distance_to_cluster': 9.634010314941406}, {'closest_cluster': 0.0, 'distance_to_cluster': 9.815829277038574}, {'closest_cluster': 0.0, 'distance_to_cluster': 8.779706001281738}, {'closest_cluster': 5.0, 'distance_to_cluster': 8.987635612487793}, {'closest_cluster': 0.0, 'distance_to_cluster': 8.337471008300781}, {'closest_cluster': 0.0, 'distance_to_cluster': 10.821709632873535}, {'closest_cluster': 0.0, 'distance_to_cluster': 11.04533576965332}, {'closest_cluster': 0.0, 'distance_to_cluster': 9.012782096862793}, {'closest_cluster': 0.0, 'distance_to_cluster': 10.894682884216309}, {'closest_cluster': 0.0, 'distance_to_cluster': 11.004867553710938}, {'closest_cluster': 1.0, 'distance_to_cluster': 10.072274208068848}, {'closest_cluster': 7.0, 'distance_to_cluster': 7.766786098480225}, {'closest_cluster': 0.0, 'distance_to_cluster': 9.340957641601562}, {'closest_cluster': 7.0, 'distance_to_cluster': 8.639304161071777}, {'closest_cluster': 0.0, 'distance_to_cluster': 9.339009284973145}, {'closest_cluster': 0.0, 'distance_to_cluster': 9.24252700805664}, {'closest_cluster': 1.0, 'distance_to_cluster': 9.627570152282715}, {'closest_cluster': 1.0, 'distance_to_cluster': 10.092192649841309}, {'closest_cluster': 0.0, 'distance_to_cluster': 8.055143356323242}, {'closest_cluster': 4.0, 'distance_to_cluster': 8.67467975616455}, {'closest_cluster': 0.0, 'distance_to_cluster': 8.06188678741455}, {'closest_cluster': 5.0, 'distance_to_cluster': 8.17883586883545}, {'closest_cluster': 0.0, 'distance_to_cluster': 9.012422561645508}, {'closest_cluster': 0.0, 'distance_to_cluster': 11.054340362548828}, {'closest_cluster': 5.0, 'distance_to_cluster': 8.000513076782227}, {'closest_cluster': 1.0, 'distance_to_cluster': 9.87342357635498}, {'closest_cluster': 0.0, 'distance_to_cluster': 9.902566909790039}, {'closest_cluster': 8.0, 'distance_to_cluster': 9.090177536010742}, {'closest_cluster': 7.0, 'distance_to_cluster': 8.304686546325684}, {'closest_cluster': 4.0, 'distance_to_cluster': 8.867408752441406}, {'closest_cluster': 7.0, 'distance_to_cluster': 9.137259483337402}, {'closest_cluster': 0.0, 'distance_to_cluster': 10.065323829650879}, {'closest_cluster': 0.0, 'distance_to_cluster': 7.753314018249512}, {'closest_cluster': 4.0, 'distance_to_cluster': 9.090835571289062}, {'closest_cluster': 0.0, 'distance_to_cluster': 9.449666023254395}, {'closest_cluster': 1.0, 'distance_to_cluster': 11.245184898376465}, {'closest_cluster': 0.0, 'distance_to_cluster': 9.6331205368042}, {'closest_cluster': 0.0, 'distance_to_cluster': 8.02246379852295}, {'closest_cluster': 1.0, 'distance_to_cluster': 10.5088472366333}, {'closest_cluster': 7.0, 'distance_to_cluster': 8.656922340393066}, {'closest_cluster': 4.0, 'distance_to_cluster': 10.54626750946045}, {'closest_cluster': 0.0, 'distance_to_cluster': 8.854700088500977}, {'closest_cluster': 0.0, 'distance_to_cluster': 9.551067352294922}, {'closest_cluster': 0.0, 'distance_to_cluster': 9.425873756408691}, {'closest_cluster': 0.0, 'distance_to_cluster': 9.312066078186035}, {'closest_cluster': 0.0, 'distance_to_cluster': 10.357513427734375}, {'closest_cluster': 5.0, 'distance_to_cluster': 8.665336608886719}, {'closest_cluster': 0.0, 'distance_to_cluster': 9.446725845336914}]\n"
     ]
    }
   ],
   "source": [
    "# 추론 결과 파싱\n",
    "import ast\n",
    "\n",
    "result = response['Body'].read().decode('utf-8')\n",
    "\n",
    "# 문자열을 딕셔너리로 변환\n",
    "dictionary = ast.literal_eval(result)\n",
    "result = dictionary[\"predictions\"]\n",
    "\n"
   ]
  },
  {
   "cell_type": "code",
   "execution_count": 24,
   "id": "f8884b01",
   "metadata": {},
   "outputs": [
    {
     "name": "stdout",
     "output_type": "stream",
     "text": [
      "당혹 예고 귀신 헬리콥터 매입 도시 곳곳 메시지 비밀 SBS SBS시사교양 달리 달리보라 SBS달리 스브스 교양프로그램 당신이혹하는사이 당혹사 음모론 음모론토크쇼 토크쇼 솔깃한식탁 윤종신 장진 봉태규 변영주 송은이 곽재식 완벽한타인 꼬꼬무 꼬리에꼬리를무는이야기 혹하는이야기 도시괴담 이야기꾼 스토리텔링 시나리오 장기밀매 장기매매 귀신헬리콥터 0\n",
      "정도 수라상 광주 EP OLIFE 채널 일요일 skyTV 스카이티비 오라이프채널 OLIFE OLIFE채널 오라이프 낭만비박 집단가출 집단가출 낭만비박 티비조선 TV조선 허영만 신현준 류시원 ENA 여행예능 여행 낭만 HCN 충북방송 MGTV 다문화TV 버킷리스트 낭만비박 허영만 신현준 류시원 배기성 광주 0\n",
      "경제 전쟁 거래 토큰 증권 생태 자본  돌풍  찻잔 태풍 곽수종 인호 정상호 김세희 한국경제TV 경제 증권 방송 투자전략 종목상담 한경TV 와우넷 주식창 TMI특공대 돈립만세 글로벌마켓 부동산 월스트리트 경제전쟁꾼 꾼 경제전쟁꾼시즌3 생방송 곽수종 인호 정상호 김세희 토큰 토큰증권 증권 STO ST NFT 조각투자 금융자산 블록체인 증권사 수혜주 투자 증시 증권시장 한국경제TV 와우넷 와우파 주식창 한경KVINA 파트너 경제 증권 와우 WOWTV 8\n",
      "구글 검색 클라우드 게임 XBOX XBOX클라우드게이밍 클라우드게이밍 구글 지포스 지포스나우 아마존 루나 구글 스태디아 google amazon luna google stadia geforce  헤일로인피니트 halo infinite 유정군 XBOX게임패스 XBOX게임패스얼티밋 Xboxgamepass XBOX게임패스얼티밋 클라우드게이밍 구글서비스 7\n",
      "여자  욕실 줄눈 셀프 시공  시공  변기 백시멘트 변기 바닥 보수 욕실 줄눈 보수 더러운 변기 백시멘트 셀프 시공 욕실줄눈 시공 욕실 줄눈 변기 교체 줄눈 셀프 시공 백시멘트 화장실 줄눈 화장실 줄눈 셀프 4\n",
      "다이어트 VLOG 야근 다이어트 kg 안녕 다이어트  아가히어터 복부지방흡입 복부지흡 지방흡입 지방흡입브이로그 다이어터 다이어트브이로그 아가리어터 운동하는여자 0\n",
      "보브 단발 단발머리 헤어 스타일 Graduated Bob 보브단발 자르는법 How  cut bobbed hair 단발머리스타일 4\n",
      "광양 광양 광양 옥기 구축 도시 재생 사업 Hanok 김광현교수님 건축강의 건축모두의미래를짓다 북토크 건축 renovation hanok 도시재생 광양 한옥 1\n",
      "지어 소프트 주가 전망 오아시스 지분 세력 매집  소프트 주식 소프트 목표 소프트 전지 소프트 지분 지어소프트 지어소프트 주가 전망 지어소프트 주가 지어소프트 주식 지어소프트 목표가 지어소프트 오아시스 오아시스 상장 오아시스 관련주 지어소프트 투자 지어소프트 지분 김정환 지어소프트 지어소프트 분석 단타 종목  세력매집주 급등주  스윙 종목  단기스윙 종목 지어소프트 지어소프트주가 지어소프트주가전망 8\n",
      "수목장 공주 경주마 경마 서울경마 델피니 다프네 달리샤 벨베티 레츠런파크 과천경마장 경주마 경마 달려라델피니 델피니 racehorse 0\n",
      "마켓 모바일 상단 상품 노출  모바일 플러스 광고 지마켓 G마켓 옥션 오픈마켓 이베이 이베이코리아 G마켓 상품등록 지마켓 상품등록 옥션 상품등록 옥션 판매 G마켓 판매 지마켓 판매 G마켓 판매등록 지마켓 판매등록 옥션 판매등록 지마켓상품등록 옥션상품등록 G마켓상품등록 지마켓판매 G마켓판매 G마켓광고 지마켓광고 옥션 광고 지마켓 판매자 G마켓 판매자 지마켓 판매자 등록 지마켓 판매자 가입 지마켓 판매자전환 g마켓 판매자 가입 g마켓 판매자 전환 g마켓 판매자 수수료 지마켓 창업 G마켓 창업 옥션 창업 온라인 창업 오픈마켓 창업 온라인 판매 온라인 창업준비 온라인 판매  온라인판매방법 ESM PLUS상품등록 ESM PLUS 지마켓 광고 g마켓 판매 g마켓 광고 판매자센터 esm 판매 esm 광고 esm  광고 지마켓 판매자센터 g마켓 판매자센터 옥션 판매자센터 ESMPLUS 상위노출 상품관리 8\n",
      "테슬라  플랜 봉박 머스크 계획 월가 미국주식 주식 해외주식 미국투자 미국주식공부 미국주식유튜브 미국주식방법 주식공부 주식유튜브 주식투자 주린이 미국제테크 뉴욕아파트 뉴욕 아파트 머니네버슬립 미국주식개념 뉴욕거래소 나스닥 미국장 미주 미장 미주공부 해외주식투자 해외주식상식 미국주식상식 미국개미 주식기초 해외차트 뉴욕주민 미국경제 월스트리트 미주투자방법 미국주식투자 Mu0026A 인수합병 인수 유튜브 제테크 미국주식기초 서학개미 인수기업 투자방법 해외주식방법 펜데믹주가 미국뉴스 미장뉴스 미국장뉴스 미국주식뉴스레터 뉴스레터 해외뉴스 주가 강력매수 애널리스트 투자 뉴스 주식개념 주식상식 해외주식개념 달러 소수점거래 환율거래 일론머스크 테슬라 머스크 자율주행 인공지능 모델Y 모델S 모델X 마스터플랜 스페이스X 전기차 테슬라 머스크 일론머스크 마스터플랜 인공지능 자율주행 8\n",
      " 레트 할인 게임  간결  플스4 게임추천 플스5 플스4 플스4 게임 플스5 게임 플스5 게임추천 플스 게임  플스 게임 플스 할인 플스 게임 할인 플스 게임순위 플스 할인게임 플스 할인  플스 할인2021 플스 세일 플스 5월 세일 PS4 게임 PS4 게임  PS4 할인 PS5 게임 PS5 게임  PS5 할만한 게임 PS5 할인 PS4 할인  PS4 할인 이벤트 PS스토어 할인 PS 스토어 할인 PS 스토어 할인 게임  할인 게임 5월 할인 게임 플스4 게임 할인 5월 할인 플스 5월 할인 ps 5월 할인 ps5 5월 할인 플레이스테이션5 플레이스테이션4 플레이스테이션5 게임추천 플레이스테이션4 게임추천 완다와 거상 귀무자 갓오브워3 리마스터 라쳇앤클랭크 괴혼 모던워페어 라스트 오브 어스1 리마스터 쉔무 플스겜  4\n",
      "AI  주자 매수 클립 목요일 오후 한국 경제 TV 유튜브 LIVE 와우넷실시간 와우넷 와우tv 주식 증권 급등 단타 금융 투자 재테크 단타매매 주식기초 주식초보 경제 주식전문가 한국경제 생방송 삼성전자 투자강의 주식강의 종목분석 종목 분석 종목전망 전망 주가전망 주가분석 코스피 코스닥실시간 시청자종목분석 주식교육 종목추천 장기 종목추천 주식투자 주식방송 주식투자방송 추천주 주도주 한국경제TV 한국경제티비 와우넷티비 와우넷TV 와우넷파트너 한경와우넷 주식라이브 라이브주식 라이브방송 경제방송 경제상식 미국증시 나스닥 다우 나스닥지수 다우지수 해외주식투자 해외주식 미국주식 증시 증시전략 증시전망 국내증시 해외증시 투자전략 주식투자전략 주식전략 와우넷투자 와우넷전략 한국경제TV전략 주식종목 추천종목 단기투자 장기투자 주식기법 투자기법 주린이 주식초보자 초보투자 초보투자자 주식투자교육 증권교육 와우파 한경주식교육 한국경제주식교육 주식매매 주식투자성공하는법 부자되는법 주식부자 주식부자되는법 주식투자성공 투자성공 투자철학 종목진단 종목전략 정윤성 박우신 박우경 8\n",
      "악보 Sheet 리코더 중주 Recorder Duet cover 리코더쌤 악보 계이름 score sheet 학예회 발표회 소프라노 알토 soprano alto 리코더 케이팝 melon recorder KPOP  guitar 4중주 율다우 ost 애니메이션 영화 드라마 멜론 장인 고인물 테너 베이스 bass 애니 animation OST kpop 석유 썩은물 동요 가사 인싸 아싸 커버 cover 오카리나 바이올린 플룻 플루트 클라리넷 교과서 음악 6학년 5학년 학년 3학년 출판사 교육 초등학교 금성 지학사 천재 비상 미래엔 미래앤 동아 2중주 하모니카 듀엣 duet classic 플로우 flow 4학년 violin flute ocarina hamonica clarinet notes 음이름 note 그런날이온다면 그런날이 온다면  날이 통일 0\n",
      "초능력 고등학교 시즌 0\n",
      "대상 관계 페어 직간접 억압 리비도 저항 0\n",
      "여자 집중 여자를 사로잡는 기술 인기있는 남자 여자의 마음을 사로잡는 여자들이 좋아하는 남자 여자들이 원하는 남자 여자들이 좋아하는 남자행동 평범해도 평범해도 인기 평범해도 괜찮아 평범해도 인기있는 여자가좋아하는남자 여자가좋아하는남자행동 인기있는남자 3\n",
      " WR 기본 무기 최고 난이도 스피드  임파서블 난이도 Plasma Cutter Only Impossible Restricted 천제누구 ingne135 0\n",
      " TT 인테리어디자인 인테리어디자이너 일산인테리어 인테리어창업 인테리어공부 인테리어설계 인테리어영업 디자인에이드 인테리어회사 인테리어업체 슬럼프 열정 자기계발 열정 4\n",
      "사명 생축 꽃길  초대 삼겹살 파티  VLLO 0\n",
      "전기 기능사 필기  예상 문제 전기 설비 전기기능사필기 전기기능사 전기기능사기출문제 전기기능사예상문제 전기이론 전기기기 전기설비 회로이론 전기자격증 다산에듀 전병칠 다산전기학원 전기기능사출제문제 전기기능사과년도 CBT복원문제 전기기능사핵심 전기기능사요점정리 전기기능사 전기기능사필기 다산에듀 4\n",
      "아침 샤워 비밀  정신 집중 김효석 스피치 김효석 김효석박사 설득스피치 설득 스피치 화술 쇼호스트 화술학원 스피치학원 소통 설득의심리학 설득의비밀 세일즈교육 설득의기술 설득심리 영업관리 영업교육 영업노하우 설득노하우 영업대화 스피치교육 즉문즉설 세일즈맨 세일즈강의 4\n",
      "복음 전함 기도회 How great   God 레비스 예배 실황 LEVISTANCE 레비스탕스 levistance 더크로스처치 한국기도의집 khop  cross church 위대하신 복음의 전함  great   god 레비스탕스 위대하신주 howgreatisourgod 7\n",
      " 중고컴퓨터 중고노트북 천안조립컴퓨터 중고컴퓨터 중고모니터 중고노트북 4\n",
      "압도 꼴찌  영어 이영수 대성마 이맥 대성마이맥 수능 영어 이영수 썰강 5\n",
      "학예회 꽃다발  판매 순위 Top 가격 평점   학예회 꽃다발  로코코 킨더조이 모리앤 킨더조이꽃다발 조화 해피365 안산 사탕부케 아침향기 아침향기 0\n",
      "하루 연속 재생 가사 Lyrics 신곡 가사 신곡 가사 멜론차트 멜론 차트 멜론 차트 신곡 듣기 신곡 가사 있는 1시간 듣기 1시간 재생  노래 노래 듣기 신곡 노래 노래  1시간 반복 CodeDailyPlaylist code playlist code daily 코드데일리플레이리스트 CDP cdp channel cdp채널 가사 폴킴 폴킴 하루에 하나씩 하루에 하나씩 하루에 하나씩 노래 하루에 하나씩 가사 폴킴 가사 폴킴 한시간 폴킴노래 듣기 폴킴 하루에 하나씩 1시간 폴킴 하루에 하나씩 가사 가사 채널 가사 알려주는 신곡 가사 알려주는 CDP 0\n",
      "근본 근본 HK 타르 코프 EFT 헤드죠스 headjaws 이스케이프 프롬 타르코프 타르코프 EFT escape  tarkov Escape From Tarkov 타르코프 뉴비 tarkov 타르코프 고인물 타르코프 커스텀 타르코프 리저브 타르코프 인터체인지 타르코프 타르코프 우드 타르코프 쇼어라인 타르코프 리조트 타르코프 기숙사 타르코프 d2 타르코프 교전 타르코프 교전  이스케이프 Escape 탈콥 고인물 타르코프 팩토리 하드코어fps fps 타르코프 보스 타르코프 패치 타르코프 가이드 타르코프 eft Tarkov eft head jaws tarkov head jaws 타르코프 헤드죠스 hardcore fps survive survival 타르코프 가성비 타르코프 이벤트 타르코프 초기화 타르코프 시즌 타르코프 초보 타르코프 hk 타르코프 hk416 타르코프 hk416 모딩 타르코프 이스케이프프롬타르코프 tarkov escapefromtarkov eft fps 탈콥 7\n",
      "마케팅 관리 클라 EP 마케팅 프레젠테이션 마케팅 마케팅프레젠테이션 프레젠테이션 마케팅발표 마케팅보고서 마케팅프레젠테이션 마케팅보고서 마케팅발표 4\n",
      "예수세대 0\n",
      "엘든 빌드 주요 보스 마술 죽음 영혼 엘든링 eldenring 엘든링빌드 말레니아 엘든링1 08 엘든링마술 옛죽음의영혼 엘든링 eldenring 엘든링빌드 말레니아 엘든링1 엘든링마술 옛죽음의영혼 5\n",
      "최고 무기 외국인 한국 충격  해외반응 외국반응 한국 미국반응 일본 일본반응 중국 한국반응 해외네티즌반응 7\n",
      "민성원 국어 직강 국어 현장   관세 민성원 연구소 수능국어 국어공부 국어만점 1\n",
      "Special Clip 케이윌  설날 인사 New Year Greetings Kpop 1theK Starshiptv starship loen 로엔 뮤비 티져 MV Teaser 신곡  song 한류 hallyu  kwill 케이윌 무드인디고 mood indigo 그땐 그댄 2020 설날 새해인사 2021 NEW YEAR GREETINGS 0\n",
      "일생일세 메이 핑크 남자 출처 에디터 마음 생진 아시아N 아시아앤 중화드라마 중화권 중국 홍콩  다시보기 중국드라마 중드  UHD asian 클립영상 명장면 역사 AsiaN asiaN china drama asia 하이라이트 chinesedrama drama OST 중드추천 고장극 현대물 일생일세 메이킹 임가륜 백록 로맨스물 로맨스드라마 0\n",
      "김현식 사랑  TV Painful love YouCut 7\n",
      "끝장 문제 전기 이론 전기기능사 전기이론 문제풀이 4\n",
      "인기 연예인 대통령 나라 TOP 랭킹스쿨  랭킹 7\n",
      "형편 무인점포 분할 송금 전주 MBC 방송 전주MBC MBC MBC뉴스 전라북도NEWS 전북NEWS 전북소식 뉴스룸 뉴스데스크 뉴스투데이 8시 뉴스 아침뉴스 저녁뉴스 네이버 뉴스 구글 뉴스 카카오 뉴스 카드뉴스 전라북도 뉴스 전북 소식 최신뉴스 속보 긴급속보 JTBC뉴스룸 MBC 뉴스데스크 NEWS MBC NEWS DESK 전주 뉴스데스크 전주 뉴스 전북 뉴스 전북권 소식 뉴스 전북뉴스 전라북도 전북권뉴스 특보 시사 이슈 지역 정오뉴스 생방송 아나운서 황인찬 대출사기 사건사고 보이스피싱 1\n",
      "고속버스 행시 기어 변속  클러치 브레이크 악셀 조작  운행  운전  경부고속버스터미널 버스주차장 도로포장 버스 구덩이 보수공사 아스팔트 포장 호남선터미널 고속버스 고속도로주행 기어변속방법 클러치 조작법 1\n",
      "여름 피파 온라인 현질 유튜버하만 하만 하고싶은것만하며사는하만 피파온라인4 빠칭코 현질 도박 피파온라인4 빠칭코 현질 참교육 5\n",
      "네이버  종료  스마트 보드 종료 키보드 스마트보드 키보드어플 번역어플 똘똘한키보드 번역할때최강임 4\n",
      "헬로 TV 뉴스 경인 헬로TV뉴스 경인 0\n",
      "고개 공감 미소 행복 동행 VLLO 작은인기척 소중한사람 사랑공동체로 0\n",
      "광주 선운 한국은행 광주 무역 회관 주행 VLLO 선운14 삼아교통 광주버스 1\n",
      "폴란드 남자 유산 한국 의외  7\n",
      "루프트한자 어택 수하물 추적 금지 세계 캐나다 캐나다뉴스 캐나다 뉴스 밴쿠버 캘거리 캐나다 자막뉴스 토론토 캐나다밴쿠버 캐나다토론토 캐나다 캘거리 캐나다 온타리오 캐나다소식 캐나다자막뉴스 캐나다 토론토 캐나다 벤쿠버 캐나다 밴쿠버 BC주 브리티시컬럼비아 토론토 캐나다 토론토 밴쿠버 캐나다 도시 캐나다도시 에어택 수하물추적 에어택수하물추적 루프트한자 루프트한자수하물추적 루프트한자수하물추적에어택금지 세계 에어택 캐나다뉴스 0\n",
      "명절 여파 마스크 해제 백신 필요 마포 MAPO 마포구 마포구청 홍대 상암동 한강 합정동 MAPOGU hongdae 마포뉴스 마포소식 뉴스 핫뉴스 마포구뉴스 서울뉴스 서울시 서울 마포구청장 마포아나운서 마포투데이 최장호아나운서 박강수마포구청장 박강수구청장 가은혜아나운서 명절 코로나19 코로나 covid19 오미크론 설연휴 설명절 설날 계묘년 2023년 2023 실내마스크 실내마스크해제 마스크해제 마스크 노마스크 감염 코로나감염 2가백신 백신 동절기2가백신 백신추가접종 추가접종 접종 겨울 안전 위중증 위중증환자 사망자 사망자비율 입원 후유증 코로나후유증 화이자 모더나 mRNA 노바백스 스카이코비원 정종일 기초접종 어르신 노인 12세 12세이상 명절 코로나19 코로나 covid19 오미크론 설연휴 설 설명절 설날 계묘년 2023년 2023 실내마스크 실내마스크해제 마스크해제 마스크 노마스크 감염 코로나감염 2가백신 백신 동절기2가백신 백신추가접종 추가접종 접종 겨울 안전 위중증 위중증환자 사망자 사망자비율 입원 후유증 코로나후유증 화이자 모더나 mRNA 노바백스 스카이코비원 정종일 기초접종 어르신 노인 12세 12세이상 0\n",
      "새치 염색 흰머리 염색 튜토리얼  How  Cover Grey Hair Tutorial  KOREA 남자새치염색 남자흰머리염색 남자새치염색 바르는법 셀프새치염색 셀프흰머리염색 염색바르는법 greyhair cover asian greyhair cover GreyHair cover Technique 새치커버 남자새치커버 남자새치커버하는법 남편 염색 아빠 염색 4\n",
      "NVMe SSD PCIe Crucial  PCIe Crucial Plus Benchmark SSD NVMe micron 마이크론 PCIe Benchmark M2 1\n",
      "TV 모니터 수리 콘덴서 화면 먹통 증상 중고장터 중고제품 노트북 조립컴퓨터 중고컴퓨터 사용후기 리뷰 레트로 골동품 희귀 컴퓨터부품 컴퓨터수리 노트북수리  중고장터 리뷰 사용후기 4\n",
      "프랑스 귀족 향수 집착  파리 조승연 조승연작가 조승연의탐구생활 조승연의 탐구생활 파리 프랑스 파리 역사 향수 프랑스 향수 파리 향수 파리 향수 역사 루이 14세 베르사유 궁전 베르사유 귀족 프랑스 귀족 생미첼 다리 영화 향수 향수리뷰 영화 향수 리뷰 향수  남자 향수  여자 향수  개선문 파리 여행 프랑스 여행 파리 여행  조승연 파리 조승연 프랑스 프랑스 역사 메모 파리 메모파리 메모파리  파리 향수 메모파리 조향사 7\n",
      "BJ 수치 서새봄 새봄추 종합게임 비디오게임 스팀 PS4 게임플레이 게임방송 0\n",
      "화분 좌대 포도당초 문양 양각 기법 화분 좌대 포도당초 문양 양각 조각 도자기 조각 춘란 화분 양란 경구 화분 한란 울산 스토리 마을 기업 토성 예술 VLLO 0\n",
      "고등 수학 수학 방정식 박성채 서울학원 수능불패 EBS 수학인강 현장강의 무료인강 수능수학 타조  수학 메가스터디 강남구청 개념 수학1 수학2 미적분1 미적분2 기하와벡터 자이스토리 고등수학 고1수학 5\n",
      "  출국 하림 ezguitar net 황선생기타교실 통기타독학 통기타초보 통기타레슨 통기타강좌 통기타배우기 기타강좌 악보 0\n",
      " 왼손  오른손 슬라임 대결 왼손 엉망진창 주의 0\n",
      "아일랜드 시국 어학연수 Ep 에메랄드어학원 아일랜드 더블린 어학연수 0\n",
      "자연 숯불 아르헨티나 바베큐 구이 자연인 레전드 나는 자연인이다 MBN 이승윤 윤택 전설의 눈빛 먹방 비박 캠핑 차박 Man  Wild 나는자연인이다 자연인 레전드 MBN 이승윤 윤택 먹방 전설의눈빛 0\n",
      "다육 꽃 다육이 0\n",
      "병아리 부화 진행 병아리  진행 과정 관찰  농업 계란 부화 병아리 VLLO 0\n",
      "Data Service Engineering Chapter 이마트 이마트DT 디지털트랜스포메이션 1\n",
      "음향 엔지니어 선택 울트라 모델 할인 행사 예고  프리 비젼 음향 컨설팅 오디오 프리비젼스 previsions 김도헌 대림대 리뷰 Earphone headphone review 음향엔지니어가  리뷰 헤드폰  이어폰  헤드폰  이어폰  대림대 김도헌 교수 프리비젼스 김도헌 대표 음향강의 음향강좌 음향교육 음향이론 무료교육 소리이론 음향컨설팅 음향 컨설팅 음향이란 sound review product review 오디오 오디오 장비 오디오 세팅 오디오  코로나를 극복하는 취미생활 음악을 즐기는  트랜드에 맞는 취미 pop에 어울리는 오디오 출퇴근길에 어울리는 이어폰 최신 오디오 오디오 매니아 울트라손 울트라손 리미티드 울트라손 에디션 울트라손 퍼포먼스 Ultrasone edition ultrasone performance 880 6월의 할인행사 6월의 공동구매 공동구매 할인행사 이어폰샵 이어폰샵 울트라손 우주 최강 할인 울트라손 프리비젼스 간접적인 7\n",
      "종이 공동 경제 구역  하루 글로벌 일본 반응 종이의 공동경제구역 종이의 한국판 일본반응 종이의 한국판 해외반응 종이의 해외반응 종이의 일본반응 도쿄 종이의 도쿄 종이의 글로벌 순위 3위 한국판 종이의 순위 박해수 유지태 김윤진 0\n",
      "코보 매그니 홀로라이브 코보 카나에루 레기스 레지스 알테어 홀로스타즈 이엔 홀로en 홀로라이브en holoen 홀로라이브 코보 레지스알테어 7\n",
      "진스 NewJeans OMG 뮤직 뱅크 출근길 Spinel fancam 직캠 0\n",
      "교육청 설립 립니 상호 괴물 단체 스타크래프트 스타 대학 김민교 민교 교튜브 이상호 상호 이경민 김성대 상교육청 0\n",
      "전파 분야 규제 완화  궤도 심채경 이독실 정의훈 5G 반도체 전파 1\n",
      "그랜저 기아 프리미어 승기 Kia Premiere GDi 기아 K7 Kia K7 Premiere 2021 K7 K7 1\n",
      "DRX 월드 챔피언 진출 DRX DragonX Doran Pyosik Chovy Deft Keria Quad cvMax Museong League  Legends LoL Game Esports T1 Gen Dwg 담원 설해원 APK KT KT롤스터 다이나믹스 LCK LPL 쵸비 표식 데프트 도란 케리아 쿼드 씨맥 김대호 무성 그리핀 GRF 드래곤 어드벤처 드래곤다이어리 거침없이 DRX 매드무비 에피 EP 쏠랭 솔랭 울한울 울어 한없이울어 킹겐 kingen 솔카 solka 제트 jett 태윤 taeyoon jun 바오 bao 베카 becca 디알엑스 리그오브레전드 DRX worlds2022 0\n",
      "유통 혁명 재고 자산 관리 계명 가격 인하 최선 유통 유통9단 김영호 마케팅 김앤커머스 창업아이템 유통트렌드 핫스팟 세계여행 가격조사 시장조사 경쟁사조사 소량발주 일일발주 가격인하 매입실수 초보상인 트렌드변화 최저가격보상제 재고관리대장 재고관리시스템 엑셀재고관리 제조원가 소비자가격 적정이윤 가격결정 구매원가 구매고객 포트폴리오  분산 위험분산 재고관리 재고자산 시장조사 4\n",
      "양아치 남주 모범 여주 조합 하렌 하이라이트 Aniplus 애니플러스 ANIPLUS 졸잼 핵잼 일본 한국 Japan Korea 덕후 애니 뱅드림 진격의거인 칠대죄 주술회전 스파패 0\n",
      "레조 이터 초보  Yu Gi Oh Duel Links 유희왕 듀얼 링크스 Resonator 게임 즐겜 던파 던전앤파이터 리그오브레전드 리그오브래전드 LOL 지옥파티 헬파밍 파밍 에픽장비 에픽장비파밍 보물을찾아서 유희왕 듀얼링크스 승급전 유희왕듀얼링크스 듀얼 신규덱 유희왕신규덱  듀얼킹 듀얼킹 초보자추천덱 추천덱 초보자 초보자 초심자 초심자 초심자추천덱 초심자 추천덱 5\n",
      "편안 엄마 기분 관리 인생 관리 에세이  오디오북 ASMR 라디오 책읽어주는 오디오북 ASMR 소설읽어주는 라디오 잠잘때듣는 읽어주는소설 에세이추천 북튜브 오디오북라디오 책읽어주는여자 에세이추천책소개 0\n",
      "바버   손질 VLLO 0\n",
      "투스 영어 영역 그레이스 선생 학년도 학년 학력 평가 해설  이투스 ETOOS 수능인강 이투스원패스 이투스무한패스 EBS 수능특강 전과목 국어영역 수학영역 영어영역 사회탐구영역 과학탐구영역 한국사 모의고사 학력평가 모의평가 기출분석 고등인강 고1 고2 내신 학생부종합 입시정보 해설강의 입시설명회 1타강사 정승제 이지영 박상현 김민정 강원우 올공플랜 올공PLAN 이투스오리지날 이투스 ETOOS 수능인강 11월학력평가 주요문항 해설강의 심층분석 이투스패스 풀서비스 5\n",
      " 베트남 호치민 코이티비 베트남동생 코이티비 직원 1\n",
      "청약 에스피 머티 리얼 예상 수익  청약  수요 예측 결과 심정리 맴버쉽 돈식구 돈버방식구 0\n",
      "AU 테크 전동 스쿠터 에코 동네 마트 최고 속도 AU테크 전동스쿠터 에코로S500 전기스쿠터 AU테크전동스쿠터 전동스쿠터추천 다용도전동스쿠터 배달용전동스쿠터 전동스쿠터신제품 전동스쿠터 autech ecoroS500 AU테크 전동스쿠터 전동스쿠터추천 다용도전동스쿠터 배달용전동스쿠터 전동스쿠터신제품 8\n",
      "훈석 프리미어 오래  색상  Premiere Pro Vintage Video Solid Composite Strobe Light 프리미어  강좌 오래된  빈티지  Premiere  Vintage film Strobe light Solid composite 7\n",
      "남녀 헤어 스타일  가일스타일 가르마펌 가르마펌스타일 가일펌 댄디컷 댄디스타일 애즈펌 애즈스타일 가운데가르마 울프컷 남자단발머리 모히칸 모히칸스타일 투블럭스타일 뱅헤어 뱅웨이브 여신머리 여신헤어 굵은웨이브 보브컷 보브스타일 숏컷 숏컷웨이브 숏컷펌 히피펌 씨컬펌 씨컬웨이브 4\n",
      " 화성 한국어 더빙  What If Korea 상상 흥미진진 가설 질문 과학 이론 최신 연구 바탕 대답 궁금증   What If What If Korea 왓이프 한국어 더빙 한글 자막 화성 화성인 지구 태어나다 외계인 피부 주황색 미래  인구 건강한 아기 행성 번식 인류 인간 태양계 진화 돌연변이 정착 유전 질소 산소 대기 방사선 중력  화성 우주 7\n",
      "강남 러셀 심화 개념 적응 삼각함수 방부 등식 0\n",
      "브레드 이발소 콜라 모음 매니저 콜라 활약 애니메이션 만화 디저트 animation cartoon dessert 브레드이발소 브레드 윌크 초코 소시지 투니버스 재능TV 디저트 dessert 컵케이크 cupcake 뽀로로 타요 슈퍼윙즈 엄마까투리 로보카폴리 콩순이 안녕자두야 헬로카봇 또봇 또봇V 공룡메카드 요괴메카드 신비아파트 고고다이노 폴리 핑크퐁 아기상어 호빵맨 스폰지밥 spongebob 짱구는 못말려 명탐정코난 마샤와 위베어베어스 라바 검정고무신 애니메이션 꿀잼 밍꼬발랄 꾹TV 흔한남매 브레드이발소 애니메이션 만화 디저트 breadbarbershop animation cartoon dessert 0\n",
      "수능 연기  시선 수능 논술 연세대 학교 미미미누 미미미누  미미미누 발표 미미미누 성대모사 감스트 오킹 미미미누 리뷰 미미미누 미미미누 모의고사 진자림 보겸 현역 재수 삼수 오수 사수 4\n",
      "아지 애인 양아지 아지 스팀게임 트위치 스트리머 유튜버 애인을 내려주세요 애인 커버곡 양아지 커버곡 애인을 내려주세요 노래 노래 양아지 노래 cover cover song utaite 우타이테 0\n",
      "폭설 배달  목표 배달 대행 폭설 조기 마감 1\n",
      "여름 특집 여름 더위 여름 인기 동요 상어 가족 인기 동요 모음 루루 핑크 아기 상어 올리 babyshark kids song nurseryrhyme pinkfong sharkweek 가족 교육 교육동영상 교육비디오 교육애니메이션 교육앱 교육영상 까꿍 노란상어 노래 동생돌보기  동요 동요 모음 동화 뚜뚜루루 뚜루뚜루 뚜루루뚜루 뚜루루루 미취학아동 베이비샤크 보들북 상어 상어가족 상어가족노래 상어가족모음 상어가족송 상어송 샤크 샤크위크 아기 동요 아기노래 아기상어 아기상어 리믹스 아기상어 반복 아기상어올리 아동 아동교육 아동동영상 아동애니메이션 아이교육 아이돌보기 애니메이션 어린이 어린이 교육 동요 어린이 동요 어린이교육 어린이노래 어린이동영상 어린이동요 어린이비디오 어린이애니메이션 어린이영상 유아 유아 동요 유아교육 유아동영상 유아애니메이션 유아앱 유치원 유치원교육 인기동요 자녀교육 재밌는노래 재밌는동요 체조 키즈 키즈앱 핑크퐁 핑크퐁 체조 핑크퐁동요 핑크퐁동화 핑크퐁상어 홈스쿨링 0\n",
      "엔딩 사랑 상처 심소 이제훈 복수 칼날 모범택시 taxidriver SBSdrama sbs 20230217 심소영 이제훈 모범택시2 모범택시2첫방송 모범택시21회 모범택시2하이라이트 모범택시2출연진 모범택시21회하이라이트 모범택시2 심소영 이제훈 0\n",
      "기도 학교 기도 자리 하나님 1\n",
      "배우  거부 매력 남자 배우 톰하디 인셉션 레전드 매드 맥스 레버 영화소개 배우소개 배우이력 톰하디 브론슨의 고백 블랙 호크 다운 리들리스콧 인셉션 레오나르도 디카프리오 크리스토퍼 놀란 다크나이트 라이즈 크리스찬 베일 매드맥스 레전드 레버넌트 영화리뷰 Tom Hardy Bronson Black Hawk  Inception 톰하디 영화소개 Tomhardy 7\n",
      "수학 수분 4\n",
      "보고  기적 경량급 황금 리그 오브 레전드 lol league  legends 롤토체스 TFT 전략적팀전투 TeamfightTactics 1등 우승  전쓰트 롤토체스 롤체 TFT 1티어 메타덱 가이드 공략  조합  사기 시너지 1등 우승 0\n",
      "엘든 전회 할복 위치 전회 엘든링 위치 안내 가이드 게임 엘든링 전회 전투기술 0\n",
      "캠핑 VLOG 연말 여자 가성 카라반 캠핑 브이 임진 평화 누리 공원 대중교통 캠핑 캠핑 카라반캠핑 캠핑브이로그 바베큐 여행 여행브이로그 파주 파주캠핑장 파주캠핑 0\n",
      "AKMU 이별 사랑 사랑 가사 Lyrics AKMU 악뮤 어떻게이별까지사랑하겠어널사랑하는거지 0\n",
      "boylife dio 가사 해석 번역 자막 0\n",
      "경영지 도사 인사 관리 OT 경영지 도사 합격 이인호 교수 경영지도사 경영지도사1차 경영지도사2차 경영지도사시험 경영지도사시험일정 경영지도사학원 해커스경영지도사 해커스구갑성 구갑성 경영지도사현실 경영지도사자격증 경영지도사전망 경영지도사재무관리 경영지도사2차마케팅 경영지도사인적자원관리 경영지도사300 경영지도사양성과정 경영지도사생산관리 경영지도사취업 경영지도사마케팅 경영지도사 경영지도사2차 경영지도사시험 5\n",
      "슈퍼 윙스 시즌 UFO 호주 슈퍼윙스 출동슈퍼윙스 출동 슈퍼윙스 superwing 슈퍼윙스호기 슈퍼윙스동영상 슈퍼윙스전체 superwingsjett superwings super wings superwings3  kids cartoon 영어배우기 super wings harika kanatlar 슈퍼윙스 superwings super wings  super wing 슈퍼윙스4 슈퍼윙스 슈퍼윙스 시즌4 ufo 슈퍼윙스 ufo 슈퍼윙스 슈퍼윙스시즌4 ufo 0\n"
     ]
    }
   ],
   "source": [
    "# 클러스터링 결과 출력\n",
    "\n",
    "for i in range(len(test_data)):\n",
    "    print(test_data[i], int(result[i][\"closest_cluster\"]))"
   ]
  },
  {
   "cell_type": "code",
   "execution_count": 25,
   "id": "39550fdd",
   "metadata": {},
   "outputs": [
    {
     "data": {
      "text/plain": [
       "{'ResponseMetadata': {'RequestId': 'b597179b-2169-4d36-a5d9-634baf1074d4',\n",
       "  'HTTPStatusCode': 200,\n",
       "  'HTTPHeaders': {'x-amzn-requestid': 'b597179b-2169-4d36-a5d9-634baf1074d4',\n",
       "   'content-type': 'application/x-amz-json-1.1',\n",
       "   'content-length': '0',\n",
       "   'date': 'Fri, 23 Jun 2023 05:36:52 GMT'},\n",
       "  'RetryAttempts': 0}}"
      ]
     },
     "execution_count": 25,
     "metadata": {},
     "output_type": "execute_result"
    }
   ],
   "source": [
    "# SageMaker 클라이언트 생성\n",
    "sagemaker_client = boto3.client('sagemaker')\n",
    "\n",
    "# 엔드포인트 삭제 요청\n",
    "sagemaker_client.delete_endpoint(EndpointName=endpoint_name)"
   ]
  }
 ],
 "metadata": {
  "kernelspec": {
   "display_name": "conda_python3",
   "language": "python",
   "name": "conda_python3"
  },
  "language_info": {
   "codemirror_mode": {
    "name": "ipython",
    "version": 3
   },
   "file_extension": ".py",
   "mimetype": "text/x-python",
   "name": "python",
   "nbconvert_exporter": "python",
   "pygments_lexer": "ipython3",
   "version": "3.10.10"
  }
 },
 "nbformat": 4,
 "nbformat_minor": 5
}
